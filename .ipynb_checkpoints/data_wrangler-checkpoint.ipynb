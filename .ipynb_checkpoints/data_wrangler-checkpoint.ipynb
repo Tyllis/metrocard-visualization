{
 "cells": [
  {
   "cell_type": "code",
   "execution_count": 4,
   "metadata": {},
   "outputs": [],
   "source": [
    "import os\n",
    "import pandas as pd\n",
    "import utilities as util\n",
    "import plotly.express as px\n",
    "from datetime import timedelta, datetime\n",
    "from tqdm.notebook import tqdm"
   ]
  },
  {
   "cell_type": "code",
   "execution_count": 5,
   "metadata": {},
   "outputs": [
    {
     "name": "stderr",
     "output_type": "stream",
     "text": [
      "14it [00:00, 138.68it/s]"
     ]
    },
    {
     "name": "stdout",
     "output_type": "stream",
     "text": [
      "Downloading Week 1/1...\n"
     ]
    },
    {
     "name": "stderr",
     "output_type": "stream",
     "text": [
      "115it [00:02, 52.42it/s]\n"
     ]
    },
    {
     "name": "stdout",
     "output_type": "stream",
     "text": [
      "Saving main data frame as main.csv.\n"
     ]
    }
   ],
   "source": [
    "report_date = '210320'\n",
    "util.download_files(report_date, 1, 'fare data')\n",
    "df = util.read_data()"
   ]
  },
  {
   "cell_type": "code",
   "execution_count": 6,
   "metadata": {},
   "outputs": [
    {
     "data": {
      "text/html": [
       "<div>\n",
       "<style scoped>\n",
       "    .dataframe tbody tr th:only-of-type {\n",
       "        vertical-align: middle;\n",
       "    }\n",
       "\n",
       "    .dataframe tbody tr th {\n",
       "        vertical-align: top;\n",
       "    }\n",
       "\n",
       "    .dataframe thead th {\n",
       "        text-align: right;\n",
       "    }\n",
       "</style>\n",
       "<table border=\"1\" class=\"dataframe\">\n",
       "  <thead>\n",
       "    <tr style=\"text-align: right;\">\n",
       "      <th></th>\n",
       "      <th>WEEK</th>\n",
       "      <th>REMOTE</th>\n",
       "      <th>STATION</th>\n",
       "      <th>FF</th>\n",
       "      <th>SEN/DIS</th>\n",
       "      <th>7-D AFAS UNL</th>\n",
       "      <th>30-D AFAS/RMF UNL</th>\n",
       "      <th>JOINT RR TKT</th>\n",
       "      <th>7-D UNL</th>\n",
       "      <th>30-D UNL</th>\n",
       "      <th>...</th>\n",
       "      <th>AIRTRAIN 30-D</th>\n",
       "      <th>AIRTRAIN 10-T</th>\n",
       "      <th>AIRTRAIN MTHLY</th>\n",
       "      <th>STUDENTS</th>\n",
       "      <th>NICE 2-T</th>\n",
       "      <th>CUNY-120</th>\n",
       "      <th>CUNY-60</th>\n",
       "      <th>FF VALUE</th>\n",
       "      <th>FF 7-DAY</th>\n",
       "      <th>FF 30-DAY</th>\n",
       "    </tr>\n",
       "  </thead>\n",
       "  <tbody>\n",
       "    <tr>\n",
       "      <th>0</th>\n",
       "      <td>2019-01-05</td>\n",
       "      <td>R001</td>\n",
       "      <td>WHITEHALL STREET</td>\n",
       "      <td>70771</td>\n",
       "      <td>2408</td>\n",
       "      <td>411</td>\n",
       "      <td>934</td>\n",
       "      <td>198</td>\n",
       "      <td>41443</td>\n",
       "      <td>24743</td>\n",
       "      <td>...</td>\n",
       "      <td>0</td>\n",
       "      <td>0</td>\n",
       "      <td>0</td>\n",
       "      <td>2092</td>\n",
       "      <td>0</td>\n",
       "      <td>31</td>\n",
       "      <td>0</td>\n",
       "      <td>NaN</td>\n",
       "      <td>NaN</td>\n",
       "      <td>NaN</td>\n",
       "    </tr>\n",
       "    <tr>\n",
       "      <th>1</th>\n",
       "      <td>2019-01-05</td>\n",
       "      <td>R003</td>\n",
       "      <td>CYPRESS HILLS</td>\n",
       "      <td>2463</td>\n",
       "      <td>167</td>\n",
       "      <td>9</td>\n",
       "      <td>44</td>\n",
       "      <td>0</td>\n",
       "      <td>1864</td>\n",
       "      <td>874</td>\n",
       "      <td>...</td>\n",
       "      <td>0</td>\n",
       "      <td>0</td>\n",
       "      <td>0</td>\n",
       "      <td>467</td>\n",
       "      <td>0</td>\n",
       "      <td>1</td>\n",
       "      <td>0</td>\n",
       "      <td>NaN</td>\n",
       "      <td>NaN</td>\n",
       "      <td>NaN</td>\n",
       "    </tr>\n",
       "    <tr>\n",
       "      <th>2</th>\n",
       "      <td>2019-01-05</td>\n",
       "      <td>R004</td>\n",
       "      <td>75TH STREET &amp; ELDERTS LANE</td>\n",
       "      <td>6121</td>\n",
       "      <td>353</td>\n",
       "      <td>46</td>\n",
       "      <td>131</td>\n",
       "      <td>1</td>\n",
       "      <td>3991</td>\n",
       "      <td>2845</td>\n",
       "      <td>...</td>\n",
       "      <td>0</td>\n",
       "      <td>0</td>\n",
       "      <td>0</td>\n",
       "      <td>1687</td>\n",
       "      <td>0</td>\n",
       "      <td>11</td>\n",
       "      <td>0</td>\n",
       "      <td>NaN</td>\n",
       "      <td>NaN</td>\n",
       "      <td>NaN</td>\n",
       "    </tr>\n",
       "    <tr>\n",
       "      <th>3</th>\n",
       "      <td>2019-01-05</td>\n",
       "      <td>R005</td>\n",
       "      <td>85TH STREET &amp; FOREST PKWAY</td>\n",
       "      <td>6927</td>\n",
       "      <td>488</td>\n",
       "      <td>57</td>\n",
       "      <td>190</td>\n",
       "      <td>0</td>\n",
       "      <td>3567</td>\n",
       "      <td>3244</td>\n",
       "      <td>...</td>\n",
       "      <td>0</td>\n",
       "      <td>0</td>\n",
       "      <td>0</td>\n",
       "      <td>900</td>\n",
       "      <td>0</td>\n",
       "      <td>14</td>\n",
       "      <td>0</td>\n",
       "      <td>NaN</td>\n",
       "      <td>NaN</td>\n",
       "      <td>NaN</td>\n",
       "    </tr>\n",
       "    <tr>\n",
       "      <th>4</th>\n",
       "      <td>2019-01-05</td>\n",
       "      <td>R006</td>\n",
       "      <td>WOODHAVEN BOULEVARD</td>\n",
       "      <td>6652</td>\n",
       "      <td>421</td>\n",
       "      <td>74</td>\n",
       "      <td>153</td>\n",
       "      <td>0</td>\n",
       "      <td>5431</td>\n",
       "      <td>3696</td>\n",
       "      <td>...</td>\n",
       "      <td>0</td>\n",
       "      <td>0</td>\n",
       "      <td>0</td>\n",
       "      <td>1182</td>\n",
       "      <td>0</td>\n",
       "      <td>13</td>\n",
       "      <td>0</td>\n",
       "      <td>NaN</td>\n",
       "      <td>NaN</td>\n",
       "      <td>NaN</td>\n",
       "    </tr>\n",
       "    <tr>\n",
       "      <th>...</th>\n",
       "      <td>...</td>\n",
       "      <td>...</td>\n",
       "      <td>...</td>\n",
       "      <td>...</td>\n",
       "      <td>...</td>\n",
       "      <td>...</td>\n",
       "      <td>...</td>\n",
       "      <td>...</td>\n",
       "      <td>...</td>\n",
       "      <td>...</td>\n",
       "      <td>...</td>\n",
       "      <td>...</td>\n",
       "      <td>...</td>\n",
       "      <td>...</td>\n",
       "      <td>...</td>\n",
       "      <td>...</td>\n",
       "      <td>...</td>\n",
       "      <td>...</td>\n",
       "      <td>...</td>\n",
       "      <td>...</td>\n",
       "      <td>...</td>\n",
       "    </tr>\n",
       "    <tr>\n",
       "      <th>55410</th>\n",
       "      <td>2021-03-13</td>\n",
       "      <td>R571</td>\n",
       "      <td>86TH STREET - 2 AVENUE</td>\n",
       "      <td>21432</td>\n",
       "      <td>2214</td>\n",
       "      <td>117</td>\n",
       "      <td>273</td>\n",
       "      <td>5</td>\n",
       "      <td>5469</td>\n",
       "      <td>7824</td>\n",
       "      <td>...</td>\n",
       "      <td>0</td>\n",
       "      <td>0</td>\n",
       "      <td>0</td>\n",
       "      <td>573</td>\n",
       "      <td>0</td>\n",
       "      <td>0</td>\n",
       "      <td>45</td>\n",
       "      <td>449.0</td>\n",
       "      <td>162.0</td>\n",
       "      <td>244.0</td>\n",
       "    </tr>\n",
       "    <tr>\n",
       "      <th>55411</th>\n",
       "      <td>2021-03-13</td>\n",
       "      <td>R572</td>\n",
       "      <td>96TH STREET - 2 AVENUE</td>\n",
       "      <td>15199</td>\n",
       "      <td>1774</td>\n",
       "      <td>124</td>\n",
       "      <td>249</td>\n",
       "      <td>6</td>\n",
       "      <td>4851</td>\n",
       "      <td>6158</td>\n",
       "      <td>...</td>\n",
       "      <td>0</td>\n",
       "      <td>0</td>\n",
       "      <td>0</td>\n",
       "      <td>556</td>\n",
       "      <td>0</td>\n",
       "      <td>0</td>\n",
       "      <td>83</td>\n",
       "      <td>895.0</td>\n",
       "      <td>272.0</td>\n",
       "      <td>314.0</td>\n",
       "    </tr>\n",
       "    <tr>\n",
       "      <th>55412</th>\n",
       "      <td>2021-03-13</td>\n",
       "      <td>R573</td>\n",
       "      <td>SBS-Q52/53 @ LIVINGSTON PLAZA</td>\n",
       "      <td>0</td>\n",
       "      <td>0</td>\n",
       "      <td>0</td>\n",
       "      <td>0</td>\n",
       "      <td>0</td>\n",
       "      <td>0</td>\n",
       "      <td>0</td>\n",
       "      <td>...</td>\n",
       "      <td>0</td>\n",
       "      <td>0</td>\n",
       "      <td>0</td>\n",
       "      <td>0</td>\n",
       "      <td>0</td>\n",
       "      <td>0</td>\n",
       "      <td>278</td>\n",
       "      <td>0.0</td>\n",
       "      <td>0.0</td>\n",
       "      <td>0.0</td>\n",
       "    </tr>\n",
       "    <tr>\n",
       "      <th>55413</th>\n",
       "      <td>2021-03-13</td>\n",
       "      <td>R574</td>\n",
       "      <td>SBS-B82 @ LIVINGSTON PLAZA</td>\n",
       "      <td>0</td>\n",
       "      <td>0</td>\n",
       "      <td>0</td>\n",
       "      <td>0</td>\n",
       "      <td>0</td>\n",
       "      <td>0</td>\n",
       "      <td>0</td>\n",
       "      <td>...</td>\n",
       "      <td>0</td>\n",
       "      <td>0</td>\n",
       "      <td>0</td>\n",
       "      <td>0</td>\n",
       "      <td>0</td>\n",
       "      <td>0</td>\n",
       "      <td>102</td>\n",
       "      <td>0.0</td>\n",
       "      <td>0.0</td>\n",
       "      <td>0.0</td>\n",
       "    </tr>\n",
       "    <tr>\n",
       "      <th>55414</th>\n",
       "      <td>2021-03-13</td>\n",
       "      <td>R575</td>\n",
       "      <td>SBS-M14 @ LIVINGSTON PLAZA</td>\n",
       "      <td>0</td>\n",
       "      <td>0</td>\n",
       "      <td>0</td>\n",
       "      <td>0</td>\n",
       "      <td>0</td>\n",
       "      <td>0</td>\n",
       "      <td>0</td>\n",
       "      <td>...</td>\n",
       "      <td>0</td>\n",
       "      <td>0</td>\n",
       "      <td>0</td>\n",
       "      <td>0</td>\n",
       "      <td>0</td>\n",
       "      <td>0</td>\n",
       "      <td>197</td>\n",
       "      <td>0.0</td>\n",
       "      <td>0.0</td>\n",
       "      <td>0.0</td>\n",
       "    </tr>\n",
       "  </tbody>\n",
       "</table>\n",
       "<p>55415 rows × 32 columns</p>\n",
       "</div>"
      ],
      "text/plain": [
       "             WEEK REMOTE                        STATION     FF  SEN/DIS  \\\n",
       "0      2019-01-05   R001               WHITEHALL STREET  70771     2408   \n",
       "1      2019-01-05   R003                  CYPRESS HILLS   2463      167   \n",
       "2      2019-01-05   R004     75TH STREET & ELDERTS LANE   6121      353   \n",
       "3      2019-01-05   R005     85TH STREET & FOREST PKWAY   6927      488   \n",
       "4      2019-01-05   R006            WOODHAVEN BOULEVARD   6652      421   \n",
       "...           ...    ...                            ...    ...      ...   \n",
       "55410  2021-03-13   R571         86TH STREET - 2 AVENUE  21432     2214   \n",
       "55411  2021-03-13   R572         96TH STREET - 2 AVENUE  15199     1774   \n",
       "55412  2021-03-13   R573  SBS-Q52/53 @ LIVINGSTON PLAZA      0        0   \n",
       "55413  2021-03-13   R574     SBS-B82 @ LIVINGSTON PLAZA      0        0   \n",
       "55414  2021-03-13   R575     SBS-M14 @ LIVINGSTON PLAZA      0        0   \n",
       "\n",
       "       7-D AFAS UNL  30-D AFAS/RMF UNL  JOINT RR TKT  7-D UNL  30-D UNL  ...  \\\n",
       "0               411                934           198    41443     24743  ...   \n",
       "1                 9                 44             0     1864       874  ...   \n",
       "2                46                131             1     3991      2845  ...   \n",
       "3                57                190             0     3567      3244  ...   \n",
       "4                74                153             0     5431      3696  ...   \n",
       "...             ...                ...           ...      ...       ...  ...   \n",
       "55410           117                273             5     5469      7824  ...   \n",
       "55411           124                249             6     4851      6158  ...   \n",
       "55412             0                  0             0        0         0  ...   \n",
       "55413             0                  0             0        0         0  ...   \n",
       "55414             0                  0             0        0         0  ...   \n",
       "\n",
       "       AIRTRAIN 30-D  AIRTRAIN 10-T  AIRTRAIN MTHLY  STUDENTS  NICE 2-T  \\\n",
       "0                  0              0               0      2092         0   \n",
       "1                  0              0               0       467         0   \n",
       "2                  0              0               0      1687         0   \n",
       "3                  0              0               0       900         0   \n",
       "4                  0              0               0      1182         0   \n",
       "...              ...            ...             ...       ...       ...   \n",
       "55410              0              0               0       573         0   \n",
       "55411              0              0               0       556         0   \n",
       "55412              0              0               0         0         0   \n",
       "55413              0              0               0         0         0   \n",
       "55414              0              0               0         0         0   \n",
       "\n",
       "       CUNY-120  CUNY-60  FF VALUE  FF 7-DAY  FF 30-DAY  \n",
       "0            31        0       NaN       NaN        NaN  \n",
       "1             1        0       NaN       NaN        NaN  \n",
       "2            11        0       NaN       NaN        NaN  \n",
       "3            14        0       NaN       NaN        NaN  \n",
       "4            13        0       NaN       NaN        NaN  \n",
       "...         ...      ...       ...       ...        ...  \n",
       "55410         0       45     449.0     162.0      244.0  \n",
       "55411         0       83     895.0     272.0      314.0  \n",
       "55412         0      278       0.0       0.0        0.0  \n",
       "55413         0      102       0.0       0.0        0.0  \n",
       "55414         0      197       0.0       0.0        0.0  \n",
       "\n",
       "[55415 rows x 32 columns]"
      ]
     },
     "execution_count": 6,
     "metadata": {},
     "output_type": "execute_result"
    }
   ],
   "source": [
    "df"
   ]
  },
  {
   "cell_type": "code",
   "execution_count": 7,
   "metadata": {},
   "outputs": [
    {
     "name": "stdout",
     "output_type": "stream",
     "text": [
      "              0             1\n",
      "0    190105.csv  7-D AFAS UNL\n",
      "1    190105.csv      FF VALUE\n",
      "2    190105.csv      FF 7-DAY\n",
      "3    190105.csv     FF 30-DAY\n",
      "4    190112.csv  7-D AFAS UNL\n",
      "..          ...           ...\n",
      "455  210306.csv      14-D UNL\n",
      "456  210313.csv  7-D AFAS UNL\n",
      "457  210313.csv  14-D RFM UNL\n",
      "458  210313.csv       1-D UNL\n",
      "459  210313.csv      14-D UNL\n",
      "\n",
      "[460 rows x 2 columns]\n",
      "['7-D AFAS UNL' 'FF VALUE' 'FF 7-DAY' 'FF 30-DAY' '14-D RFM UNL' '1-D UNL'\n",
      " '14-D UNL']\n"
     ]
    }
   ],
   "source": [
    "# See if any metro card types were added / removed during the period.\n",
    "dic = []\n",
    "for file in os.listdir('fare data'):\n",
    "    tmp = pd.read_csv(os.path.join('fare data', file))\n",
    "    for column in df.columns.drop(['WEEK', 'STATION', 'REMOTE']):\n",
    "        if column not in tmp.columns:\n",
    "            dic.append([file, column])\n",
    "            \n",
    "column = pd.DataFrame(dic)\n",
    "print(column)\n",
    "print(column.iloc[:, 1].unique())"
   ]
  },
  {
   "cell_type": "code",
   "execution_count": null,
   "metadata": {},
   "outputs": [],
   "source": []
  },
  {
   "cell_type": "markdown",
   "metadata": {},
   "source": [
    "## Create a map with ridership recovery ratio"
   ]
  },
  {
   "cell_type": "code",
   "execution_count": 8,
   "metadata": {},
   "outputs": [
    {
     "name": "stdout",
     "output_type": "stream",
     "text": [
      "Index(['FF', 'SEN/DIS', '7-D AFAS UNL', '30-D AFAS/RMF UNL', 'JOINT RR TKT',\n",
      "       '7-D UNL', '30-D UNL', '14-D RFM UNL', '1-D UNL', '14-D UNL',\n",
      "       '7D-XBUS PASS', 'TCMC', 'RF 2 TRIP', 'RR UNL NO TRADE',\n",
      "       'TCMC ANNUAL MC', 'MR EZPAY EXP', 'MR EZPAY UNL', 'PATH 2-T',\n",
      "       'AIRTRAIN FF', 'AIRTRAIN 30-D', 'AIRTRAIN 10-T', 'AIRTRAIN MTHLY',\n",
      "       'STUDENTS', 'NICE 2-T', 'CUNY-120', 'CUNY-60', 'FF VALUE', 'FF 7-DAY',\n",
      "       'FF 30-DAY'],\n",
      "      dtype='object')\n"
     ]
    },
    {
     "data": {
      "text/html": [
       "<div>\n",
       "<style scoped>\n",
       "    .dataframe tbody tr th:only-of-type {\n",
       "        vertical-align: middle;\n",
       "    }\n",
       "\n",
       "    .dataframe tbody tr th {\n",
       "        vertical-align: top;\n",
       "    }\n",
       "\n",
       "    .dataframe thead th {\n",
       "        text-align: right;\n",
       "    }\n",
       "</style>\n",
       "<table border=\"1\" class=\"dataframe\">\n",
       "  <thead>\n",
       "    <tr style=\"text-align: right;\">\n",
       "      <th></th>\n",
       "      <th>WEEK</th>\n",
       "      <th>REMOTE</th>\n",
       "      <th>STATION</th>\n",
       "      <th>FF</th>\n",
       "      <th>SEN/DIS</th>\n",
       "      <th>7-D AFAS UNL</th>\n",
       "      <th>30-D AFAS/RMF UNL</th>\n",
       "      <th>JOINT RR TKT</th>\n",
       "      <th>7-D UNL</th>\n",
       "      <th>30-D UNL</th>\n",
       "      <th>...</th>\n",
       "      <th>AIRTRAIN 30-D</th>\n",
       "      <th>AIRTRAIN 10-T</th>\n",
       "      <th>AIRTRAIN MTHLY</th>\n",
       "      <th>STUDENTS</th>\n",
       "      <th>NICE 2-T</th>\n",
       "      <th>CUNY-120</th>\n",
       "      <th>CUNY-60</th>\n",
       "      <th>FF VALUE</th>\n",
       "      <th>FF 7-DAY</th>\n",
       "      <th>FF 30-DAY</th>\n",
       "    </tr>\n",
       "  </thead>\n",
       "  <tbody>\n",
       "    <tr>\n",
       "      <th>0</th>\n",
       "      <td>2019-01-05</td>\n",
       "      <td>R001</td>\n",
       "      <td>WHITEHALL STREET</td>\n",
       "      <td>70771</td>\n",
       "      <td>2408</td>\n",
       "      <td>411</td>\n",
       "      <td>934</td>\n",
       "      <td>198</td>\n",
       "      <td>41443</td>\n",
       "      <td>24743</td>\n",
       "      <td>...</td>\n",
       "      <td>0</td>\n",
       "      <td>0</td>\n",
       "      <td>0</td>\n",
       "      <td>2092</td>\n",
       "      <td>0</td>\n",
       "      <td>31</td>\n",
       "      <td>0</td>\n",
       "      <td>NaN</td>\n",
       "      <td>NaN</td>\n",
       "      <td>NaN</td>\n",
       "    </tr>\n",
       "    <tr>\n",
       "      <th>1</th>\n",
       "      <td>2019-01-05</td>\n",
       "      <td>R003</td>\n",
       "      <td>CYPRESS HILLS</td>\n",
       "      <td>2463</td>\n",
       "      <td>167</td>\n",
       "      <td>9</td>\n",
       "      <td>44</td>\n",
       "      <td>0</td>\n",
       "      <td>1864</td>\n",
       "      <td>874</td>\n",
       "      <td>...</td>\n",
       "      <td>0</td>\n",
       "      <td>0</td>\n",
       "      <td>0</td>\n",
       "      <td>467</td>\n",
       "      <td>0</td>\n",
       "      <td>1</td>\n",
       "      <td>0</td>\n",
       "      <td>NaN</td>\n",
       "      <td>NaN</td>\n",
       "      <td>NaN</td>\n",
       "    </tr>\n",
       "    <tr>\n",
       "      <th>2</th>\n",
       "      <td>2019-01-05</td>\n",
       "      <td>R004</td>\n",
       "      <td>75TH STREET &amp; ELDERTS LANE</td>\n",
       "      <td>6121</td>\n",
       "      <td>353</td>\n",
       "      <td>46</td>\n",
       "      <td>131</td>\n",
       "      <td>1</td>\n",
       "      <td>3991</td>\n",
       "      <td>2845</td>\n",
       "      <td>...</td>\n",
       "      <td>0</td>\n",
       "      <td>0</td>\n",
       "      <td>0</td>\n",
       "      <td>1687</td>\n",
       "      <td>0</td>\n",
       "      <td>11</td>\n",
       "      <td>0</td>\n",
       "      <td>NaN</td>\n",
       "      <td>NaN</td>\n",
       "      <td>NaN</td>\n",
       "    </tr>\n",
       "    <tr>\n",
       "      <th>3</th>\n",
       "      <td>2019-01-05</td>\n",
       "      <td>R005</td>\n",
       "      <td>85TH STREET &amp; FOREST PKWAY</td>\n",
       "      <td>6927</td>\n",
       "      <td>488</td>\n",
       "      <td>57</td>\n",
       "      <td>190</td>\n",
       "      <td>0</td>\n",
       "      <td>3567</td>\n",
       "      <td>3244</td>\n",
       "      <td>...</td>\n",
       "      <td>0</td>\n",
       "      <td>0</td>\n",
       "      <td>0</td>\n",
       "      <td>900</td>\n",
       "      <td>0</td>\n",
       "      <td>14</td>\n",
       "      <td>0</td>\n",
       "      <td>NaN</td>\n",
       "      <td>NaN</td>\n",
       "      <td>NaN</td>\n",
       "    </tr>\n",
       "    <tr>\n",
       "      <th>4</th>\n",
       "      <td>2019-01-05</td>\n",
       "      <td>R006</td>\n",
       "      <td>WOODHAVEN BOULEVARD</td>\n",
       "      <td>6652</td>\n",
       "      <td>421</td>\n",
       "      <td>74</td>\n",
       "      <td>153</td>\n",
       "      <td>0</td>\n",
       "      <td>5431</td>\n",
       "      <td>3696</td>\n",
       "      <td>...</td>\n",
       "      <td>0</td>\n",
       "      <td>0</td>\n",
       "      <td>0</td>\n",
       "      <td>1182</td>\n",
       "      <td>0</td>\n",
       "      <td>13</td>\n",
       "      <td>0</td>\n",
       "      <td>NaN</td>\n",
       "      <td>NaN</td>\n",
       "      <td>NaN</td>\n",
       "    </tr>\n",
       "    <tr>\n",
       "      <th>...</th>\n",
       "      <td>...</td>\n",
       "      <td>...</td>\n",
       "      <td>...</td>\n",
       "      <td>...</td>\n",
       "      <td>...</td>\n",
       "      <td>...</td>\n",
       "      <td>...</td>\n",
       "      <td>...</td>\n",
       "      <td>...</td>\n",
       "      <td>...</td>\n",
       "      <td>...</td>\n",
       "      <td>...</td>\n",
       "      <td>...</td>\n",
       "      <td>...</td>\n",
       "      <td>...</td>\n",
       "      <td>...</td>\n",
       "      <td>...</td>\n",
       "      <td>...</td>\n",
       "      <td>...</td>\n",
       "      <td>...</td>\n",
       "      <td>...</td>\n",
       "    </tr>\n",
       "    <tr>\n",
       "      <th>55410</th>\n",
       "      <td>2021-03-13</td>\n",
       "      <td>R571</td>\n",
       "      <td>86TH STREET - 2 AVENUE</td>\n",
       "      <td>21432</td>\n",
       "      <td>2214</td>\n",
       "      <td>117</td>\n",
       "      <td>273</td>\n",
       "      <td>5</td>\n",
       "      <td>5469</td>\n",
       "      <td>7824</td>\n",
       "      <td>...</td>\n",
       "      <td>0</td>\n",
       "      <td>0</td>\n",
       "      <td>0</td>\n",
       "      <td>573</td>\n",
       "      <td>0</td>\n",
       "      <td>0</td>\n",
       "      <td>45</td>\n",
       "      <td>449.0</td>\n",
       "      <td>162.0</td>\n",
       "      <td>244.0</td>\n",
       "    </tr>\n",
       "    <tr>\n",
       "      <th>55411</th>\n",
       "      <td>2021-03-13</td>\n",
       "      <td>R572</td>\n",
       "      <td>96TH STREET - 2 AVENUE</td>\n",
       "      <td>15199</td>\n",
       "      <td>1774</td>\n",
       "      <td>124</td>\n",
       "      <td>249</td>\n",
       "      <td>6</td>\n",
       "      <td>4851</td>\n",
       "      <td>6158</td>\n",
       "      <td>...</td>\n",
       "      <td>0</td>\n",
       "      <td>0</td>\n",
       "      <td>0</td>\n",
       "      <td>556</td>\n",
       "      <td>0</td>\n",
       "      <td>0</td>\n",
       "      <td>83</td>\n",
       "      <td>895.0</td>\n",
       "      <td>272.0</td>\n",
       "      <td>314.0</td>\n",
       "    </tr>\n",
       "    <tr>\n",
       "      <th>55412</th>\n",
       "      <td>2021-03-13</td>\n",
       "      <td>R573</td>\n",
       "      <td>SBS-Q52/53 @ LIVINGSTON PLAZA</td>\n",
       "      <td>0</td>\n",
       "      <td>0</td>\n",
       "      <td>0</td>\n",
       "      <td>0</td>\n",
       "      <td>0</td>\n",
       "      <td>0</td>\n",
       "      <td>0</td>\n",
       "      <td>...</td>\n",
       "      <td>0</td>\n",
       "      <td>0</td>\n",
       "      <td>0</td>\n",
       "      <td>0</td>\n",
       "      <td>0</td>\n",
       "      <td>0</td>\n",
       "      <td>278</td>\n",
       "      <td>0.0</td>\n",
       "      <td>0.0</td>\n",
       "      <td>0.0</td>\n",
       "    </tr>\n",
       "    <tr>\n",
       "      <th>55413</th>\n",
       "      <td>2021-03-13</td>\n",
       "      <td>R574</td>\n",
       "      <td>SBS-B82 @ LIVINGSTON PLAZA</td>\n",
       "      <td>0</td>\n",
       "      <td>0</td>\n",
       "      <td>0</td>\n",
       "      <td>0</td>\n",
       "      <td>0</td>\n",
       "      <td>0</td>\n",
       "      <td>0</td>\n",
       "      <td>...</td>\n",
       "      <td>0</td>\n",
       "      <td>0</td>\n",
       "      <td>0</td>\n",
       "      <td>0</td>\n",
       "      <td>0</td>\n",
       "      <td>0</td>\n",
       "      <td>102</td>\n",
       "      <td>0.0</td>\n",
       "      <td>0.0</td>\n",
       "      <td>0.0</td>\n",
       "    </tr>\n",
       "    <tr>\n",
       "      <th>55414</th>\n",
       "      <td>2021-03-13</td>\n",
       "      <td>R575</td>\n",
       "      <td>SBS-M14 @ LIVINGSTON PLAZA</td>\n",
       "      <td>0</td>\n",
       "      <td>0</td>\n",
       "      <td>0</td>\n",
       "      <td>0</td>\n",
       "      <td>0</td>\n",
       "      <td>0</td>\n",
       "      <td>0</td>\n",
       "      <td>...</td>\n",
       "      <td>0</td>\n",
       "      <td>0</td>\n",
       "      <td>0</td>\n",
       "      <td>0</td>\n",
       "      <td>0</td>\n",
       "      <td>0</td>\n",
       "      <td>197</td>\n",
       "      <td>0.0</td>\n",
       "      <td>0.0</td>\n",
       "      <td>0.0</td>\n",
       "    </tr>\n",
       "  </tbody>\n",
       "</table>\n",
       "<p>55415 rows × 32 columns</p>\n",
       "</div>"
      ],
      "text/plain": [
       "            WEEK REMOTE                        STATION     FF  SEN/DIS  \\\n",
       "0     2019-01-05   R001               WHITEHALL STREET  70771     2408   \n",
       "1     2019-01-05   R003                  CYPRESS HILLS   2463      167   \n",
       "2     2019-01-05   R004     75TH STREET & ELDERTS LANE   6121      353   \n",
       "3     2019-01-05   R005     85TH STREET & FOREST PKWAY   6927      488   \n",
       "4     2019-01-05   R006            WOODHAVEN BOULEVARD   6652      421   \n",
       "...          ...    ...                            ...    ...      ...   \n",
       "55410 2021-03-13   R571         86TH STREET - 2 AVENUE  21432     2214   \n",
       "55411 2021-03-13   R572         96TH STREET - 2 AVENUE  15199     1774   \n",
       "55412 2021-03-13   R573  SBS-Q52/53 @ LIVINGSTON PLAZA      0        0   \n",
       "55413 2021-03-13   R574     SBS-B82 @ LIVINGSTON PLAZA      0        0   \n",
       "55414 2021-03-13   R575     SBS-M14 @ LIVINGSTON PLAZA      0        0   \n",
       "\n",
       "       7-D AFAS UNL  30-D AFAS/RMF UNL  JOINT RR TKT  7-D UNL  30-D UNL  ...  \\\n",
       "0               411                934           198    41443     24743  ...   \n",
       "1                 9                 44             0     1864       874  ...   \n",
       "2                46                131             1     3991      2845  ...   \n",
       "3                57                190             0     3567      3244  ...   \n",
       "4                74                153             0     5431      3696  ...   \n",
       "...             ...                ...           ...      ...       ...  ...   \n",
       "55410           117                273             5     5469      7824  ...   \n",
       "55411           124                249             6     4851      6158  ...   \n",
       "55412             0                  0             0        0         0  ...   \n",
       "55413             0                  0             0        0         0  ...   \n",
       "55414             0                  0             0        0         0  ...   \n",
       "\n",
       "       AIRTRAIN 30-D  AIRTRAIN 10-T  AIRTRAIN MTHLY  STUDENTS  NICE 2-T  \\\n",
       "0                  0              0               0      2092         0   \n",
       "1                  0              0               0       467         0   \n",
       "2                  0              0               0      1687         0   \n",
       "3                  0              0               0       900         0   \n",
       "4                  0              0               0      1182         0   \n",
       "...              ...            ...             ...       ...       ...   \n",
       "55410              0              0               0       573         0   \n",
       "55411              0              0               0       556         0   \n",
       "55412              0              0               0         0         0   \n",
       "55413              0              0               0         0         0   \n",
       "55414              0              0               0         0         0   \n",
       "\n",
       "       CUNY-120  CUNY-60  FF VALUE  FF 7-DAY  FF 30-DAY  \n",
       "0            31        0       NaN       NaN        NaN  \n",
       "1             1        0       NaN       NaN        NaN  \n",
       "2            11        0       NaN       NaN        NaN  \n",
       "3            14        0       NaN       NaN        NaN  \n",
       "4            13        0       NaN       NaN        NaN  \n",
       "...         ...      ...       ...       ...        ...  \n",
       "55410         0       45     449.0     162.0      244.0  \n",
       "55411         0       83     895.0     272.0      314.0  \n",
       "55412         0      278       0.0       0.0        0.0  \n",
       "55413         0      102       0.0       0.0        0.0  \n",
       "55414         0      197       0.0       0.0        0.0  \n",
       "\n",
       "[55415 rows x 32 columns]"
      ]
     },
     "execution_count": 8,
     "metadata": {},
     "output_type": "execute_result"
    }
   ],
   "source": [
    "geo_df = pd.read_csv('station_gis.csv')\n",
    "df = pd.read_csv('main.csv')\n",
    "df.WEEK = df.WEEK.apply(lambda x: datetime.strptime(x, '%Y-%m-%d'))\n",
    "card_types = df.columns.drop(['WEEK', 'REMOTE', 'STATION'])\n",
    "print(card_types)\n",
    "df"
   ]
  },
  {
   "cell_type": "code",
   "execution_count": 13,
   "metadata": {},
   "outputs": [],
   "source": [
    "week_ending_cur = df.WEEK.max()\n",
    "week_ending_old = week_ending_cur - timedelta(weeks= 2 * 52)\n",
    "# week_ending_cur = '{:%Y-%m-%d}'.format(week_ending_cur)\n",
    "# week_ending_old = '{:%Y-%m-%d}'.format(week_ending_old)"
   ]
  },
  {
   "cell_type": "code",
   "execution_count": 14,
   "metadata": {},
   "outputs": [
    {
     "data": {
      "text/plain": [
       "Timestamp('2021-03-13 00:00:00')"
      ]
     },
     "execution_count": 14,
     "metadata": {},
     "output_type": "execute_result"
    }
   ],
   "source": [
    "week_ending_cur"
   ]
  },
  {
   "cell_type": "code",
   "execution_count": 15,
   "metadata": {},
   "outputs": [
    {
     "data": {
      "text/plain": [
       "Timestamp('2019-03-16 00:00:00')"
      ]
     },
     "execution_count": 15,
     "metadata": {},
     "output_type": "execute_result"
    }
   ],
   "source": [
    "week_ending_old"
   ]
  },
  {
   "cell_type": "code",
   "execution_count": 16,
   "metadata": {},
   "outputs": [
    {
     "data": {
      "text/plain": [
       "0       2019-01-05\n",
       "1       2019-01-05\n",
       "2       2019-01-05\n",
       "3       2019-01-05\n",
       "4       2019-01-05\n",
       "           ...    \n",
       "55410   2021-03-13\n",
       "55411   2021-03-13\n",
       "55412   2021-03-13\n",
       "55413   2021-03-13\n",
       "55414   2021-03-13\n",
       "Name: WEEK, Length: 55415, dtype: datetime64[ns]"
      ]
     },
     "execution_count": 16,
     "metadata": {},
     "output_type": "execute_result"
    }
   ],
   "source": [
    "df.WEEK"
   ]
  },
  {
   "cell_type": "code",
   "execution_count": 202,
   "metadata": {},
   "outputs": [
    {
     "data": {
      "text/html": [
       "<div>\n",
       "<style scoped>\n",
       "    .dataframe tbody tr th:only-of-type {\n",
       "        vertical-align: middle;\n",
       "    }\n",
       "\n",
       "    .dataframe tbody tr th {\n",
       "        vertical-align: top;\n",
       "    }\n",
       "\n",
       "    .dataframe thead th {\n",
       "        text-align: right;\n",
       "    }\n",
       "</style>\n",
       "<table border=\"1\" class=\"dataframe\">\n",
       "  <thead>\n",
       "    <tr style=\"text-align: right;\">\n",
       "      <th></th>\n",
       "      <th>WEEK</th>\n",
       "      <th>REMOTE</th>\n",
       "      <th>STATION</th>\n",
       "      <th>FF</th>\n",
       "      <th>SEN/DIS</th>\n",
       "      <th>7-D AFAS UNL</th>\n",
       "      <th>30-D AFAS/RMF UNL</th>\n",
       "      <th>JOINT RR TKT</th>\n",
       "      <th>7-D UNL</th>\n",
       "      <th>30-D UNL</th>\n",
       "      <th>...</th>\n",
       "      <th>AIRTRAIN 30-D</th>\n",
       "      <th>AIRTRAIN 10-T</th>\n",
       "      <th>AIRTRAIN MTHLY</th>\n",
       "      <th>STUDENTS</th>\n",
       "      <th>NICE 2-T</th>\n",
       "      <th>CUNY-120</th>\n",
       "      <th>CUNY-60</th>\n",
       "      <th>FF VALUE</th>\n",
       "      <th>FF 7-DAY</th>\n",
       "      <th>FF 30-DAY</th>\n",
       "    </tr>\n",
       "  </thead>\n",
       "  <tbody>\n",
       "    <tr>\n",
       "      <th>0</th>\n",
       "      <td>2019-01-05</td>\n",
       "      <td>R001</td>\n",
       "      <td>WHITEHALL STREET</td>\n",
       "      <td>70771</td>\n",
       "      <td>2408</td>\n",
       "      <td>411</td>\n",
       "      <td>934</td>\n",
       "      <td>198</td>\n",
       "      <td>41443</td>\n",
       "      <td>24743</td>\n",
       "      <td>...</td>\n",
       "      <td>0</td>\n",
       "      <td>0</td>\n",
       "      <td>0</td>\n",
       "      <td>2092</td>\n",
       "      <td>0</td>\n",
       "      <td>31</td>\n",
       "      <td>0</td>\n",
       "      <td>NaN</td>\n",
       "      <td>NaN</td>\n",
       "      <td>NaN</td>\n",
       "    </tr>\n",
       "    <tr>\n",
       "      <th>1</th>\n",
       "      <td>2019-01-05</td>\n",
       "      <td>R003</td>\n",
       "      <td>CYPRESS HILLS</td>\n",
       "      <td>2463</td>\n",
       "      <td>167</td>\n",
       "      <td>9</td>\n",
       "      <td>44</td>\n",
       "      <td>0</td>\n",
       "      <td>1864</td>\n",
       "      <td>874</td>\n",
       "      <td>...</td>\n",
       "      <td>0</td>\n",
       "      <td>0</td>\n",
       "      <td>0</td>\n",
       "      <td>467</td>\n",
       "      <td>0</td>\n",
       "      <td>1</td>\n",
       "      <td>0</td>\n",
       "      <td>NaN</td>\n",
       "      <td>NaN</td>\n",
       "      <td>NaN</td>\n",
       "    </tr>\n",
       "    <tr>\n",
       "      <th>2</th>\n",
       "      <td>2019-01-05</td>\n",
       "      <td>R004</td>\n",
       "      <td>75TH STREET &amp; ELDERTS LANE</td>\n",
       "      <td>6121</td>\n",
       "      <td>353</td>\n",
       "      <td>46</td>\n",
       "      <td>131</td>\n",
       "      <td>1</td>\n",
       "      <td>3991</td>\n",
       "      <td>2845</td>\n",
       "      <td>...</td>\n",
       "      <td>0</td>\n",
       "      <td>0</td>\n",
       "      <td>0</td>\n",
       "      <td>1687</td>\n",
       "      <td>0</td>\n",
       "      <td>11</td>\n",
       "      <td>0</td>\n",
       "      <td>NaN</td>\n",
       "      <td>NaN</td>\n",
       "      <td>NaN</td>\n",
       "    </tr>\n",
       "    <tr>\n",
       "      <th>3</th>\n",
       "      <td>2019-01-05</td>\n",
       "      <td>R005</td>\n",
       "      <td>85TH STREET &amp; FOREST PKWAY</td>\n",
       "      <td>6927</td>\n",
       "      <td>488</td>\n",
       "      <td>57</td>\n",
       "      <td>190</td>\n",
       "      <td>0</td>\n",
       "      <td>3567</td>\n",
       "      <td>3244</td>\n",
       "      <td>...</td>\n",
       "      <td>0</td>\n",
       "      <td>0</td>\n",
       "      <td>0</td>\n",
       "      <td>900</td>\n",
       "      <td>0</td>\n",
       "      <td>14</td>\n",
       "      <td>0</td>\n",
       "      <td>NaN</td>\n",
       "      <td>NaN</td>\n",
       "      <td>NaN</td>\n",
       "    </tr>\n",
       "    <tr>\n",
       "      <th>4</th>\n",
       "      <td>2019-01-05</td>\n",
       "      <td>R006</td>\n",
       "      <td>WOODHAVEN BOULEVARD</td>\n",
       "      <td>6652</td>\n",
       "      <td>421</td>\n",
       "      <td>74</td>\n",
       "      <td>153</td>\n",
       "      <td>0</td>\n",
       "      <td>5431</td>\n",
       "      <td>3696</td>\n",
       "      <td>...</td>\n",
       "      <td>0</td>\n",
       "      <td>0</td>\n",
       "      <td>0</td>\n",
       "      <td>1182</td>\n",
       "      <td>0</td>\n",
       "      <td>13</td>\n",
       "      <td>0</td>\n",
       "      <td>NaN</td>\n",
       "      <td>NaN</td>\n",
       "      <td>NaN</td>\n",
       "    </tr>\n",
       "    <tr>\n",
       "      <th>...</th>\n",
       "      <td>...</td>\n",
       "      <td>...</td>\n",
       "      <td>...</td>\n",
       "      <td>...</td>\n",
       "      <td>...</td>\n",
       "      <td>...</td>\n",
       "      <td>...</td>\n",
       "      <td>...</td>\n",
       "      <td>...</td>\n",
       "      <td>...</td>\n",
       "      <td>...</td>\n",
       "      <td>...</td>\n",
       "      <td>...</td>\n",
       "      <td>...</td>\n",
       "      <td>...</td>\n",
       "      <td>...</td>\n",
       "      <td>...</td>\n",
       "      <td>...</td>\n",
       "      <td>...</td>\n",
       "      <td>...</td>\n",
       "      <td>...</td>\n",
       "    </tr>\n",
       "    <tr>\n",
       "      <th>55410</th>\n",
       "      <td>2021-03-13</td>\n",
       "      <td>R571</td>\n",
       "      <td>86TH STREET - 2 AVENUE</td>\n",
       "      <td>21432</td>\n",
       "      <td>2214</td>\n",
       "      <td>117</td>\n",
       "      <td>273</td>\n",
       "      <td>5</td>\n",
       "      <td>5469</td>\n",
       "      <td>7824</td>\n",
       "      <td>...</td>\n",
       "      <td>0</td>\n",
       "      <td>0</td>\n",
       "      <td>0</td>\n",
       "      <td>573</td>\n",
       "      <td>0</td>\n",
       "      <td>0</td>\n",
       "      <td>45</td>\n",
       "      <td>449.0</td>\n",
       "      <td>162.0</td>\n",
       "      <td>244.0</td>\n",
       "    </tr>\n",
       "    <tr>\n",
       "      <th>55411</th>\n",
       "      <td>2021-03-13</td>\n",
       "      <td>R572</td>\n",
       "      <td>96TH STREET - 2 AVENUE</td>\n",
       "      <td>15199</td>\n",
       "      <td>1774</td>\n",
       "      <td>124</td>\n",
       "      <td>249</td>\n",
       "      <td>6</td>\n",
       "      <td>4851</td>\n",
       "      <td>6158</td>\n",
       "      <td>...</td>\n",
       "      <td>0</td>\n",
       "      <td>0</td>\n",
       "      <td>0</td>\n",
       "      <td>556</td>\n",
       "      <td>0</td>\n",
       "      <td>0</td>\n",
       "      <td>83</td>\n",
       "      <td>895.0</td>\n",
       "      <td>272.0</td>\n",
       "      <td>314.0</td>\n",
       "    </tr>\n",
       "    <tr>\n",
       "      <th>55412</th>\n",
       "      <td>2021-03-13</td>\n",
       "      <td>R573</td>\n",
       "      <td>SBS-Q52/53 @ LIVINGSTON PLAZA</td>\n",
       "      <td>0</td>\n",
       "      <td>0</td>\n",
       "      <td>0</td>\n",
       "      <td>0</td>\n",
       "      <td>0</td>\n",
       "      <td>0</td>\n",
       "      <td>0</td>\n",
       "      <td>...</td>\n",
       "      <td>0</td>\n",
       "      <td>0</td>\n",
       "      <td>0</td>\n",
       "      <td>0</td>\n",
       "      <td>0</td>\n",
       "      <td>0</td>\n",
       "      <td>278</td>\n",
       "      <td>0.0</td>\n",
       "      <td>0.0</td>\n",
       "      <td>0.0</td>\n",
       "    </tr>\n",
       "    <tr>\n",
       "      <th>55413</th>\n",
       "      <td>2021-03-13</td>\n",
       "      <td>R574</td>\n",
       "      <td>SBS-B82 @ LIVINGSTON PLAZA</td>\n",
       "      <td>0</td>\n",
       "      <td>0</td>\n",
       "      <td>0</td>\n",
       "      <td>0</td>\n",
       "      <td>0</td>\n",
       "      <td>0</td>\n",
       "      <td>0</td>\n",
       "      <td>...</td>\n",
       "      <td>0</td>\n",
       "      <td>0</td>\n",
       "      <td>0</td>\n",
       "      <td>0</td>\n",
       "      <td>0</td>\n",
       "      <td>0</td>\n",
       "      <td>102</td>\n",
       "      <td>0.0</td>\n",
       "      <td>0.0</td>\n",
       "      <td>0.0</td>\n",
       "    </tr>\n",
       "    <tr>\n",
       "      <th>55414</th>\n",
       "      <td>2021-03-13</td>\n",
       "      <td>R575</td>\n",
       "      <td>SBS-M14 @ LIVINGSTON PLAZA</td>\n",
       "      <td>0</td>\n",
       "      <td>0</td>\n",
       "      <td>0</td>\n",
       "      <td>0</td>\n",
       "      <td>0</td>\n",
       "      <td>0</td>\n",
       "      <td>0</td>\n",
       "      <td>...</td>\n",
       "      <td>0</td>\n",
       "      <td>0</td>\n",
       "      <td>0</td>\n",
       "      <td>0</td>\n",
       "      <td>0</td>\n",
       "      <td>0</td>\n",
       "      <td>197</td>\n",
       "      <td>0.0</td>\n",
       "      <td>0.0</td>\n",
       "      <td>0.0</td>\n",
       "    </tr>\n",
       "  </tbody>\n",
       "</table>\n",
       "<p>55415 rows × 32 columns</p>\n",
       "</div>"
      ],
      "text/plain": [
       "            WEEK REMOTE                        STATION     FF  SEN/DIS  \\\n",
       "0     2019-01-05   R001               WHITEHALL STREET  70771     2408   \n",
       "1     2019-01-05   R003                  CYPRESS HILLS   2463      167   \n",
       "2     2019-01-05   R004     75TH STREET & ELDERTS LANE   6121      353   \n",
       "3     2019-01-05   R005     85TH STREET & FOREST PKWAY   6927      488   \n",
       "4     2019-01-05   R006            WOODHAVEN BOULEVARD   6652      421   \n",
       "...          ...    ...                            ...    ...      ...   \n",
       "55410 2021-03-13   R571         86TH STREET - 2 AVENUE  21432     2214   \n",
       "55411 2021-03-13   R572         96TH STREET - 2 AVENUE  15199     1774   \n",
       "55412 2021-03-13   R573  SBS-Q52/53 @ LIVINGSTON PLAZA      0        0   \n",
       "55413 2021-03-13   R574     SBS-B82 @ LIVINGSTON PLAZA      0        0   \n",
       "55414 2021-03-13   R575     SBS-M14 @ LIVINGSTON PLAZA      0        0   \n",
       "\n",
       "       7-D AFAS UNL  30-D AFAS/RMF UNL  JOINT RR TKT  7-D UNL  30-D UNL  ...  \\\n",
       "0               411                934           198    41443     24743  ...   \n",
       "1                 9                 44             0     1864       874  ...   \n",
       "2                46                131             1     3991      2845  ...   \n",
       "3                57                190             0     3567      3244  ...   \n",
       "4                74                153             0     5431      3696  ...   \n",
       "...             ...                ...           ...      ...       ...  ...   \n",
       "55410           117                273             5     5469      7824  ...   \n",
       "55411           124                249             6     4851      6158  ...   \n",
       "55412             0                  0             0        0         0  ...   \n",
       "55413             0                  0             0        0         0  ...   \n",
       "55414             0                  0             0        0         0  ...   \n",
       "\n",
       "       AIRTRAIN 30-D  AIRTRAIN 10-T  AIRTRAIN MTHLY  STUDENTS  NICE 2-T  \\\n",
       "0                  0              0               0      2092         0   \n",
       "1                  0              0               0       467         0   \n",
       "2                  0              0               0      1687         0   \n",
       "3                  0              0               0       900         0   \n",
       "4                  0              0               0      1182         0   \n",
       "...              ...            ...             ...       ...       ...   \n",
       "55410              0              0               0       573         0   \n",
       "55411              0              0               0       556         0   \n",
       "55412              0              0               0         0         0   \n",
       "55413              0              0               0         0         0   \n",
       "55414              0              0               0         0         0   \n",
       "\n",
       "       CUNY-120  CUNY-60  FF VALUE  FF 7-DAY  FF 30-DAY  \n",
       "0            31        0       NaN       NaN        NaN  \n",
       "1             1        0       NaN       NaN        NaN  \n",
       "2            11        0       NaN       NaN        NaN  \n",
       "3            14        0       NaN       NaN        NaN  \n",
       "4            13        0       NaN       NaN        NaN  \n",
       "...         ...      ...       ...       ...        ...  \n",
       "55410         0       45     449.0     162.0      244.0  \n",
       "55411         0       83     895.0     272.0      314.0  \n",
       "55412         0      278       0.0       0.0        0.0  \n",
       "55413         0      102       0.0       0.0        0.0  \n",
       "55414         0      197       0.0       0.0        0.0  \n",
       "\n",
       "[55415 rows x 32 columns]"
      ]
     },
     "execution_count": 202,
     "metadata": {},
     "output_type": "execute_result"
    }
   ],
   "source": [
    "df"
   ]
  },
  {
   "cell_type": "code",
   "execution_count": 204,
   "metadata": {},
   "outputs": [],
   "source": [
    "selected_station = df.STATION.unique()\n",
    "selected_cards = ['FF', 'STUDENTS', 'SEN/DIS']\n",
    "#selected_cards = card_types\n",
    "\n",
    "df_sel = df.loc[df['STATION'].isin(selected_station)].copy()\n",
    "df_sel['row_sum'] = df_sel[selected_cards].sum(axis=1)\n",
    "df_cur = df_sel[df_sel['WEEK']==week_ending_cur][['STATION', 'row_sum']].groupby('STATION', as_index=False).sum() \n",
    "df_old = df_sel[df_sel['WEEK']==week_ending_old][['STATION', 'row_sum']].groupby('STATION', as_index=False).sum()\n",
    "\n",
    "df_meg = df_cur.merge(df_old, how='left', on='STATION')\n",
    "df_meg['ratio'] = round(df_meg.row_sum_x / df_meg.row_sum_y, 4)\n",
    "\n",
    "df_meg['Current Daily'] = (df_meg['row_sum_x'] / 7).apply(lambda x: '{:,}'.format(int(x) if x == x else 0 ))\n",
    "df_meg['Pre-pandemic Daily'] = (df_meg['row_sum_y'] / 7).apply(lambda x: '{:,}'.format(int(x) if x == x else 0))\n",
    "\n",
    "df_meg = df_meg.merge(geo_df, how='left', on='STATION')\n",
    "df_meg['size'] = df_meg['row_sum_x'].fillna(0) / 7\n",
    "df_meg['ratio'] = df_meg['ratio'].fillna(0)"
   ]
  },
  {
   "cell_type": "code",
   "execution_count": 205,
   "metadata": {},
   "outputs": [
    {
     "data": {
      "text/html": [
       "<div>\n",
       "<style scoped>\n",
       "    .dataframe tbody tr th:only-of-type {\n",
       "        vertical-align: middle;\n",
       "    }\n",
       "\n",
       "    .dataframe tbody tr th {\n",
       "        vertical-align: top;\n",
       "    }\n",
       "\n",
       "    .dataframe thead th {\n",
       "        text-align: right;\n",
       "    }\n",
       "</style>\n",
       "<table border=\"1\" class=\"dataframe\">\n",
       "  <thead>\n",
       "    <tr style=\"text-align: right;\">\n",
       "      <th></th>\n",
       "      <th>STATION</th>\n",
       "      <th>row_sum</th>\n",
       "    </tr>\n",
       "  </thead>\n",
       "  <tbody>\n",
       "    <tr>\n",
       "      <th>0</th>\n",
       "      <td>103RD ST-CENTRAL PARK WEST</td>\n",
       "      <td>4540</td>\n",
       "    </tr>\n",
       "    <tr>\n",
       "      <th>1</th>\n",
       "      <td>103RD ST-ROOSEVELT AVE</td>\n",
       "      <td>26409</td>\n",
       "    </tr>\n",
       "    <tr>\n",
       "      <th>2</th>\n",
       "      <td>103RD STREET-BROADWAY</td>\n",
       "      <td>12130</td>\n",
       "    </tr>\n",
       "    <tr>\n",
       "      <th>3</th>\n",
       "      <td>103RD STREET-LEXINGTON AVE</td>\n",
       "      <td>15160</td>\n",
       "    </tr>\n",
       "    <tr>\n",
       "      <th>4</th>\n",
       "      <td>104TH STREET</td>\n",
       "      <td>3763</td>\n",
       "    </tr>\n",
       "    <tr>\n",
       "      <th>...</th>\n",
       "      <td>...</td>\n",
       "      <td>...</td>\n",
       "    </tr>\n",
       "    <tr>\n",
       "      <th>467</th>\n",
       "      <td>WOODHAVEN BOULEVARD</td>\n",
       "      <td>5050</td>\n",
       "    </tr>\n",
       "    <tr>\n",
       "      <th>468</th>\n",
       "      <td>WOODLAWN ROAD</td>\n",
       "      <td>4305</td>\n",
       "    </tr>\n",
       "    <tr>\n",
       "      <th>469</th>\n",
       "      <td>WTC-CORTLANDT ST</td>\n",
       "      <td>7256</td>\n",
       "    </tr>\n",
       "    <tr>\n",
       "      <th>470</th>\n",
       "      <td>YORK STREET-JAY STREET</td>\n",
       "      <td>6648</td>\n",
       "    </tr>\n",
       "    <tr>\n",
       "      <th>471</th>\n",
       "      <td>ZEREGA AVE-WESTCHESTER AVE</td>\n",
       "      <td>3211</td>\n",
       "    </tr>\n",
       "  </tbody>\n",
       "</table>\n",
       "<p>472 rows × 2 columns</p>\n",
       "</div>"
      ],
      "text/plain": [
       "                        STATION  row_sum\n",
       "0    103RD ST-CENTRAL PARK WEST     4540\n",
       "1        103RD ST-ROOSEVELT AVE    26409\n",
       "2         103RD STREET-BROADWAY    12130\n",
       "3    103RD STREET-LEXINGTON AVE    15160\n",
       "4                  104TH STREET     3763\n",
       "..                          ...      ...\n",
       "467         WOODHAVEN BOULEVARD     5050\n",
       "468               WOODLAWN ROAD     4305\n",
       "469            WTC-CORTLANDT ST     7256\n",
       "470      YORK STREET-JAY STREET     6648\n",
       "471  ZEREGA AVE-WESTCHESTER AVE     3211\n",
       "\n",
       "[472 rows x 2 columns]"
      ]
     },
     "execution_count": 205,
     "metadata": {},
     "output_type": "execute_result"
    }
   ],
   "source": [
    "df_cur "
   ]
  },
  {
   "cell_type": "code",
   "execution_count": 206,
   "metadata": {},
   "outputs": [
    {
     "data": {
      "text/html": [
       "<div>\n",
       "<style scoped>\n",
       "    .dataframe tbody tr th:only-of-type {\n",
       "        vertical-align: middle;\n",
       "    }\n",
       "\n",
       "    .dataframe tbody tr th {\n",
       "        vertical-align: top;\n",
       "    }\n",
       "\n",
       "    .dataframe thead th {\n",
       "        text-align: right;\n",
       "    }\n",
       "</style>\n",
       "<table border=\"1\" class=\"dataframe\">\n",
       "  <thead>\n",
       "    <tr style=\"text-align: right;\">\n",
       "      <th></th>\n",
       "      <th>STATION</th>\n",
       "      <th>row_sum_x</th>\n",
       "      <th>row_sum_y</th>\n",
       "      <th>ratio</th>\n",
       "      <th>Current Daily</th>\n",
       "      <th>Pre-pandemic Daily</th>\n",
       "      <th>lat</th>\n",
       "      <th>lon</th>\n",
       "      <th>wiki</th>\n",
       "      <th>size</th>\n",
       "    </tr>\n",
       "  </thead>\n",
       "  <tbody>\n",
       "    <tr>\n",
       "      <th>0</th>\n",
       "      <td>103RD ST-CENTRAL PARK WEST</td>\n",
       "      <td>4540</td>\n",
       "      <td>10935.0</td>\n",
       "      <td>0.4152</td>\n",
       "      <td>648</td>\n",
       "      <td>1,562</td>\n",
       "      <td>40.796040</td>\n",
       "      <td>-73.961420</td>\n",
       "      <td>https://en.wikipedia.org/wiki/103rd_Street_(IN...</td>\n",
       "      <td>648.571429</td>\n",
       "    </tr>\n",
       "    <tr>\n",
       "      <th>1</th>\n",
       "      <td>103RD ST-ROOSEVELT AVE</td>\n",
       "      <td>26409</td>\n",
       "      <td>49824.0</td>\n",
       "      <td>0.5300</td>\n",
       "      <td>3,772</td>\n",
       "      <td>7,117</td>\n",
       "      <td>40.749825</td>\n",
       "      <td>-73.862733</td>\n",
       "      <td>https://en.wikipedia.org/wiki/103rd_Street%E2%...</td>\n",
       "      <td>3772.714286</td>\n",
       "    </tr>\n",
       "    <tr>\n",
       "      <th>2</th>\n",
       "      <td>103RD STREET-BROADWAY</td>\n",
       "      <td>12130</td>\n",
       "      <td>28892.0</td>\n",
       "      <td>0.4198</td>\n",
       "      <td>1,732</td>\n",
       "      <td>4,127</td>\n",
       "      <td>40.799419</td>\n",
       "      <td>-73.968158</td>\n",
       "      <td>https://en.wikipedia.org/wiki/103rd_Street_(IR...</td>\n",
       "      <td>1732.857143</td>\n",
       "    </tr>\n",
       "    <tr>\n",
       "      <th>3</th>\n",
       "      <td>103RD STREET-LEXINGTON AVE</td>\n",
       "      <td>15160</td>\n",
       "      <td>34572.0</td>\n",
       "      <td>0.4385</td>\n",
       "      <td>2,165</td>\n",
       "      <td>4,938</td>\n",
       "      <td>40.790290</td>\n",
       "      <td>-73.947687</td>\n",
       "      <td>https://en.wikipedia.org/wiki/103rd_Street_(IR...</td>\n",
       "      <td>2165.714286</td>\n",
       "    </tr>\n",
       "    <tr>\n",
       "      <th>4</th>\n",
       "      <td>104TH STREET</td>\n",
       "      <td>3763</td>\n",
       "      <td>8390.0</td>\n",
       "      <td>0.4485</td>\n",
       "      <td>537</td>\n",
       "      <td>1,198</td>\n",
       "      <td>40.695184</td>\n",
       "      <td>-73.843231</td>\n",
       "      <td>https://en.wikipedia.org/wiki/104th_Street_(BM...</td>\n",
       "      <td>537.571429</td>\n",
       "    </tr>\n",
       "    <tr>\n",
       "      <th>...</th>\n",
       "      <td>...</td>\n",
       "      <td>...</td>\n",
       "      <td>...</td>\n",
       "      <td>...</td>\n",
       "      <td>...</td>\n",
       "      <td>...</td>\n",
       "      <td>...</td>\n",
       "      <td>...</td>\n",
       "      <td>...</td>\n",
       "      <td>...</td>\n",
       "    </tr>\n",
       "    <tr>\n",
       "      <th>467</th>\n",
       "      <td>WOODHAVEN BOULEVARD</td>\n",
       "      <td>5050</td>\n",
       "      <td>9619.0</td>\n",
       "      <td>0.5250</td>\n",
       "      <td>721</td>\n",
       "      <td>1,374</td>\n",
       "      <td>40.693931</td>\n",
       "      <td>-73.851418</td>\n",
       "      <td>https://en.wikipedia.org/wiki/Woodhaven_Boulev...</td>\n",
       "      <td>721.428571</td>\n",
       "    </tr>\n",
       "    <tr>\n",
       "      <th>468</th>\n",
       "      <td>WOODLAWN ROAD</td>\n",
       "      <td>4305</td>\n",
       "      <td>9860.0</td>\n",
       "      <td>0.4366</td>\n",
       "      <td>615</td>\n",
       "      <td>1,408</td>\n",
       "      <td>40.886005</td>\n",
       "      <td>-73.878808</td>\n",
       "      <td>https://en.wikipedia.org/wiki/Woodlawn_(IRT_Je...</td>\n",
       "      <td>615.000000</td>\n",
       "    </tr>\n",
       "    <tr>\n",
       "      <th>469</th>\n",
       "      <td>WTC-CORTLANDT ST</td>\n",
       "      <td>7256</td>\n",
       "      <td>42322.0</td>\n",
       "      <td>0.1714</td>\n",
       "      <td>1,036</td>\n",
       "      <td>6,046</td>\n",
       "      <td>40.711500</td>\n",
       "      <td>-74.012000</td>\n",
       "      <td>https://en.wikipedia.org/wiki/WTC_Cortlandt_(I...</td>\n",
       "      <td>1036.571429</td>\n",
       "    </tr>\n",
       "    <tr>\n",
       "      <th>470</th>\n",
       "      <td>YORK STREET-JAY STREET</td>\n",
       "      <td>6648</td>\n",
       "      <td>29184.0</td>\n",
       "      <td>0.2278</td>\n",
       "      <td>949</td>\n",
       "      <td>4,169</td>\n",
       "      <td>40.701529</td>\n",
       "      <td>-73.986783</td>\n",
       "      <td>https://en.wikipedia.org/wiki/York_Street_(IND...</td>\n",
       "      <td>949.714286</td>\n",
       "    </tr>\n",
       "    <tr>\n",
       "      <th>471</th>\n",
       "      <td>ZEREGA AVE-WESTCHESTER AVE</td>\n",
       "      <td>3211</td>\n",
       "      <td>7755.0</td>\n",
       "      <td>0.4141</td>\n",
       "      <td>458</td>\n",
       "      <td>1,107</td>\n",
       "      <td>40.836769</td>\n",
       "      <td>-73.846793</td>\n",
       "      <td>https://en.wikipedia.org/wiki/Zerega_Avenue_(I...</td>\n",
       "      <td>458.714286</td>\n",
       "    </tr>\n",
       "  </tbody>\n",
       "</table>\n",
       "<p>472 rows × 10 columns</p>\n",
       "</div>"
      ],
      "text/plain": [
       "                        STATION  row_sum_x  row_sum_y   ratio Current Daily  \\\n",
       "0    103RD ST-CENTRAL PARK WEST       4540    10935.0  0.4152           648   \n",
       "1        103RD ST-ROOSEVELT AVE      26409    49824.0  0.5300         3,772   \n",
       "2         103RD STREET-BROADWAY      12130    28892.0  0.4198         1,732   \n",
       "3    103RD STREET-LEXINGTON AVE      15160    34572.0  0.4385         2,165   \n",
       "4                  104TH STREET       3763     8390.0  0.4485           537   \n",
       "..                          ...        ...        ...     ...           ...   \n",
       "467         WOODHAVEN BOULEVARD       5050     9619.0  0.5250           721   \n",
       "468               WOODLAWN ROAD       4305     9860.0  0.4366           615   \n",
       "469            WTC-CORTLANDT ST       7256    42322.0  0.1714         1,036   \n",
       "470      YORK STREET-JAY STREET       6648    29184.0  0.2278           949   \n",
       "471  ZEREGA AVE-WESTCHESTER AVE       3211     7755.0  0.4141           458   \n",
       "\n",
       "    Pre-pandemic Daily        lat        lon  \\\n",
       "0                1,562  40.796040 -73.961420   \n",
       "1                7,117  40.749825 -73.862733   \n",
       "2                4,127  40.799419 -73.968158   \n",
       "3                4,938  40.790290 -73.947687   \n",
       "4                1,198  40.695184 -73.843231   \n",
       "..                 ...        ...        ...   \n",
       "467              1,374  40.693931 -73.851418   \n",
       "468              1,408  40.886005 -73.878808   \n",
       "469              6,046  40.711500 -74.012000   \n",
       "470              4,169  40.701529 -73.986783   \n",
       "471              1,107  40.836769 -73.846793   \n",
       "\n",
       "                                                  wiki         size  \n",
       "0    https://en.wikipedia.org/wiki/103rd_Street_(IN...   648.571429  \n",
       "1    https://en.wikipedia.org/wiki/103rd_Street%E2%...  3772.714286  \n",
       "2    https://en.wikipedia.org/wiki/103rd_Street_(IR...  1732.857143  \n",
       "3    https://en.wikipedia.org/wiki/103rd_Street_(IR...  2165.714286  \n",
       "4    https://en.wikipedia.org/wiki/104th_Street_(BM...   537.571429  \n",
       "..                                                 ...          ...  \n",
       "467  https://en.wikipedia.org/wiki/Woodhaven_Boulev...   721.428571  \n",
       "468  https://en.wikipedia.org/wiki/Woodlawn_(IRT_Je...   615.000000  \n",
       "469  https://en.wikipedia.org/wiki/WTC_Cortlandt_(I...  1036.571429  \n",
       "470  https://en.wikipedia.org/wiki/York_Street_(IND...   949.714286  \n",
       "471  https://en.wikipedia.org/wiki/Zerega_Avenue_(I...   458.714286  \n",
       "\n",
       "[472 rows x 10 columns]"
      ]
     },
     "execution_count": 206,
     "metadata": {},
     "output_type": "execute_result"
    }
   ],
   "source": [
    "df_meg"
   ]
  },
  {
   "cell_type": "code",
   "execution_count": 207,
   "metadata": {},
   "outputs": [
    {
     "data": {
      "application/vnd.plotly.v1+json": {
       "config": {
        "plotlyServerURL": "https://plot.ly"
       },
       "data": [
        {
         "customdata": [
          [
           "103RD ST-CENTRAL PARK WEST",
           "1,562",
           "648",
           0.4152
          ],
          [
           "103RD ST-ROOSEVELT AVE",
           "7,117",
           "3,772",
           0.53
          ],
          [
           "103RD STREET-BROADWAY",
           "4,127",
           "1,732",
           0.4198
          ],
          [
           "103RD STREET-LEXINGTON AVE",
           "4,938",
           "2,165",
           0.4385
          ],
          [
           "104TH STREET",
           "1,198",
           "537",
           0.4485
          ],
          [
           "104TH STREET-LIBERTY AVENUE",
           "823",
           "361",
           0.4393
          ],
          [
           "109TH STREET-LIBERTY AVENUE",
           "1,046",
           "432",
           0.4129
          ],
          [
           "110TH STREET-8TH AVENUE",
           "2,218",
           "1,069",
           0.4823
          ],
          [
           "110TH STREET-BROADWAY",
           "4,552",
           "1,686",
           0.3704
          ],
          [
           "110TH STREET-LEXINGTON AVE",
           "3,799",
           "1,747",
           0.4599
          ],
          [
           "111TH STREET",
           "0",
           "438",
           0
          ],
          [
           "111TH STREET-LENOX AVENUE",
           "2,986",
           "989",
           0.3312
          ],
          [
           "111TH STREET-ROOSEVELT AVE",
           "4,295",
           "2,542",
           0.5919
          ],
          [
           "116TH STREET-8TH AVENUE",
           "2,024",
           "831",
           0.411
          ],
          [
           "116TH STREET-COLUMBIA",
           "6,622",
           "1,274",
           0.1924
          ],
          [
           "116TH STREET-LENOX AVENUE",
           "3,480",
           "1,278",
           0.3672
          ],
          [
           "116TH STREET-LEXINGTON AVE",
           "4,645",
           "2,104",
           0.4529
          ],
          [
           "121ST STREET",
           "760",
           "449",
           0.5903
          ],
          [
           "125TH STREET",
           "9,275",
           "3,698",
           0.3987
          ],
          [
           "125TH STREET & BROADWAY",
           "2,647",
           "1,037",
           0.3919
          ],
          [
           "125TH STREET-LENOX AVENUE",
           "4,648",
           "1,699",
           0.3655
          ],
          [
           "125TH STREET-LEXINGTON AVE",
           "8,872",
           "3,221",
           0.3631
          ],
          [
           "135TH STREET-LENOX AVENUE",
           "4,582",
           "1,874",
           0.4091
          ],
          [
           "135TH STREET-ST NICHOLAS AV",
           "1,962",
           "633",
           0.3228
          ],
          [
           "137TH STREET-BROADWAY",
           "3,925",
           "1,958",
           0.499
          ],
          [
           "138TH ST-GRAND CONCOURSE",
           "1,163",
           "655",
           0.5637
          ],
          [
           "138TH STREET-3RD AVE",
           "2,761",
           "1,305",
           0.4725
          ],
          [
           "145TH STREET",
           "6,772",
           "2,895",
           0.4276
          ],
          [
           "145TH STREET-BROADWAY",
           "2,874",
           "1,061",
           0.3692
          ],
          [
           "145TH STREET-LENOX AVENUE",
           "1,056",
           "507",
           0.4801
          ],
          [
           "148TH STREET-LENOX AVENUE",
           "1,328",
           "475",
           0.3577
          ],
          [
           "149TH ST-GRAND CONCOURSE",
           "4,469",
           "1,608",
           0.3599
          ],
          [
           "149TH STREET & 3RD AVENUE",
           "6,758",
           "2,682",
           0.397
          ],
          [
           "14TH STREET & 7TH AVENUE",
           "9,439",
           "2,637",
           0.2794
          ],
          [
           "14TH STREET-6TH AVENUE",
           "8,870",
           "2,580",
           0.2909
          ],
          [
           "14TH STREET-UNION SQUARE",
           "38,891",
           "10,817",
           0.2781
          ],
          [
           "155TH STREET-8TH AVENUE",
           "1,335",
           "578",
           0.4328
          ],
          [
           "155TH STREET-ST NICHOLAS AV",
           "811",
           "382",
           0.4709
          ],
          [
           "157TH STREET-BROADWAY",
           "3,705",
           "1,261",
           0.3404
          ],
          [
           "15TH ST-PROSPECT PARK WEST",
           "2,345",
           "788",
           0.3362
          ],
          [
           "161ST STREET-YANKEE STADIUM",
           "7,305",
           "3,159",
           0.4325
          ],
          [
           "163RD ST & AMSTERDAM AVE",
           "1,341",
           "643",
           0.4792
          ],
          [
           "167TH ST-GRAND CONCOURSE",
           "2,796",
           "1,409",
           0.504
          ],
          [
           "167TH STREET-RIVER AVENUE",
           "2,700",
           "1,531",
           0.567
          ],
          [
           "168TH STREET & BROADWAY",
           "7,391",
           "4,219",
           0.5709
          ],
          [
           "169TH STREET & HILLSIDE AVE",
           "3,082",
           "1,278",
           0.4148
          ],
          [
           "170TH STREET-GRAND CONC.",
           "2,423",
           "1,044",
           0.4311
          ],
          [
           "170TH STREET-JEROME AVENUE",
           "2,621",
           "1,077",
           0.4111
          ],
          [
           "174TH STREET-SOUTHERN BLVD",
           "2,311",
           "908",
           0.3929
          ],
          [
           "174TH-175TH ST-GRAND CONCOU",
           "1,712",
           "885",
           0.5174
          ],
          [
           "175TH STREET/FT WASHINGTON",
           "5,413",
           "2,064",
           0.3813
          ],
          [
           "176TH STREET-JEROME AVENUE",
           "1,972",
           "894",
           0.4532
          ],
          [
           "177TH STREET-PARKCHESTER",
           "5,525",
           "2,275",
           0.4118
          ],
          [
           "179TH STREET & HILLSIDE AVE",
           "5,089",
           "2,014",
           0.3959
          ],
          [
           "181ST STREET-FT WASH AVE",
           "3,699",
           "2,157",
           0.5832
          ],
          [
           "182ND STREET-183RD STREET",
           "1,911",
           "862",
           0.4511
          ],
          [
           "183RD STREET-JEROME AVENUE",
           "2,152",
           "1,118",
           0.5197
          ],
          [
           "18TH AVE-MCDONALD AVE",
           "1,386",
           "708",
           0.5105
          ],
          [
           "18TH AVENUE-62ND STREET",
           "1,125",
           "979",
           0.8706
          ],
          [
           "18TH AVENUE-86TH STREET",
           "2,094",
           "1,022",
           0.4883
          ],
          [
           "18TH STREET-7TH AVENUE",
           "3,915",
           "767",
           0.1959
          ],
          [
           "190TH STREET-OVERLOOK TERR",
           "1,487",
           "547",
           0.3681
          ],
          [
           "191ST STREET-ST NICHOLAS AV",
           "2,841",
           "1,208",
           0.4254
          ],
          [
           "1ST AVENUE-14TH STREET",
           "6,704",
           "3,538",
           0.5278
          ],
          [
           "205TH ST-BAINBRIDGE AVE",
           "2,868",
           "1,250",
           0.4359
          ],
          [
           "207TH STREET",
           "1,622",
           "599",
           0.3691
          ],
          [
           "207TH STREET-BROADWAY",
           "2,739",
           "1,521",
           0.5555
          ],
          [
           "20TH AVENUE-62ND STREET",
           "1,408",
           "670",
           0.476
          ],
          [
           "20TH AVENUE-86TH STREET",
           "1,979",
           "960",
           0.4851
          ],
          [
           "215TH STREET",
           "601",
           "209",
           0.3488
          ],
          [
           "219TH ST-WHITE PLAINS ROAD",
           "1,457",
           "543",
           0.3727
          ],
          [
           "21ST STREET-JACKSON AVENUE",
           "487",
           "270",
           0.555
          ],
          [
           "21ST STREET-QUEENSBRIDGE",
           "2,921",
           "1,074",
           0.3676
          ],
          [
           "225TH ST-WHITE PLAINS ROAD",
           "1,715",
           "690",
           0.4026
          ],
          [
           "225TH STREET",
           "2,038",
           "623",
           0.3057
          ],
          [
           "231ST STREET",
           "3,064",
           "1,053",
           0.3438
          ],
          [
           "233RD ST-WHITE PLAINS ROAD",
           "1,812",
           "851",
           0.4698
          ],
          [
           "238TH ST-WHITE PLAINS ROAD",
           "1,161",
           "490",
           0.4222
          ],
          [
           "238TH STREET-BROADWAY",
           "1,521",
           "546",
           0.3594
          ],
          [
           "23RD STREET & 5TH AVENUE",
           "7,522",
           "1,732",
           0.2303
          ],
          [
           "23RD STREET & 8TH AVENUE",
           "9,333",
           "2,426",
           0.2599
          ],
          [
           "23RD STREET-6TH AVENUE",
           "9,654",
           "2,732",
           0.2831
          ],
          [
           "23RD STREET-7TH AVENUE",
           "5,821",
           "1,449",
           0.249
          ],
          [
           "23RD STREET-PARK AVE SOUTH",
           "11,312",
           "2,349",
           0.2077
          ],
          [
           "241ST ST-WHITE PLAINS RD",
           "1,906",
           "837",
           0.4395
          ],
          [
           "242ND STREET & BROADWAY",
           "2,123",
           "652",
           0.3074
          ],
          [
           "25TH AVENUE-86TH STREET",
           "1,895",
           "648",
           0.3419
          ],
          [
           "25TH STREET-4TH AVENUE",
           "1,330",
           "687",
           0.5171
          ],
          [
           "28TH STREET & BROADWAY",
           "4,178",
           "1,109",
           0.2656
          ],
          [
           "28TH STREET-7TH AVENUE",
           "5,887",
           "1,162",
           0.1974
          ],
          [
           "28TH STREET-PARK AVE SOUTH",
           "7,179",
           "2,537",
           0.3535
          ],
          [
           "2ND AVENUE-HOUSTON STREET",
           "6,954",
           "1,740",
           0.2503
          ],
          [
           "30TH AVENUE & 31ST STREET",
           "3,957",
           "2,055",
           0.5195
          ],
          [
           "33RD STREET-PARK AVENUE",
           "10,543",
           "3,472",
           0.3293
          ],
          [
           "33RD STREET-QUEENS BLVD",
           "4,596",
           "1,002",
           0.2181
          ],
          [
           "34TH STREET & 6TH AVENUE",
           "49,801",
           "13,519",
           0.2715
          ],
          [
           "34TH STREET & 7TH AVENUE",
           "16,925",
           "2,712",
           0.1602
          ],
          [
           "34TH STREET & 8TH AVENUE",
           "39,456",
           "8,775",
           0.2224
          ],
          [
           "34TH STREET - HUDSON YARDS",
           "6,568",
           "2,561",
           0.3899
          ],
          [
           "34TH STREET - PENN STATION",
           "25,557",
           "5,538",
           0.2167
          ],
          [
           "36TH AVENUE & 31ST STREET",
           "2,159",
           "997",
           0.4619
          ],
          [
           "36TH STREET-4TH AVENUE",
           "4,624",
           "2,341",
           0.5063
          ],
          [
           "36TH STREET-NORTHERN BLVD",
           "1,727",
           "462",
           0.2677
          ],
          [
           "39TH AVENUE & 31ST STREET",
           "785",
           "410",
           0.5229
          ],
          [
           "3RD AVENUE-14TH STREET",
           "1,798",
           "873",
           0.486
          ],
          [
           "40TH STREET-LOWERY STREET",
           "3,682",
           "1,521",
           0.4131
          ],
          [
           "42ND STREET & 3RD AVENUE",
           "5,123",
           "1,116",
           0.218
          ],
          [
           "42ND STREET & 6TH AVENUE",
           "14,321",
           "3,483",
           0.2432
          ],
          [
           "42ND STREET & 8TH AVENUE",
           "51,658",
           "12,748",
           0.2468
          ],
          [
           "42ND STREET & GRAND CENTRAL",
           "62,109",
           "11,547",
           0.1859
          ],
          [
           "42ND STREET/TIMES SQUARE",
           "40,143",
           "8,296",
           0.2067
          ],
          [
           "45TH STREET-4TH AVENUE",
           "3,197",
           "1,536",
           0.4805
          ],
          [
           "46TH ST-BLISS ST",
           "4,137",
           "2,189",
           0.5291
          ],
          [
           "46TH STREET-BROADWAY",
           "3,065",
           "1,308",
           0.4268
          ],
          [
           "47-50 STREETS/ROCKEFELLER",
           "22,300",
           "5,579",
           0.2502
          ],
          [
           "49TH STREET & 7TH AVENUE",
           "8,511",
           "1,673",
           0.1967
          ],
          [
           "4TH AVENUE-9TH STREET",
           "4,499",
           "1,825",
           0.4057
          ],
          [
           "50TH STREET & 7TH AVENUE",
           "10,956",
           "1,455",
           0.1328
          ],
          [
           "50TH STREET-8TH AVENUE",
           "9,354",
           "1,773",
           0.1895
          ],
          [
           "50TH STREET-NEW UTRECHT AVE",
           "1,378",
           "856",
           0.621
          ],
          [
           "51ST STREET & LEXINGTON AVE",
           "7,789",
           "1,528",
           0.1962
          ],
          [
           "52ND STREET-ROOSEVELT AVE",
           "1,911",
           "1,027",
           0.5376
          ],
          [
           "53RD STREET-4TH AVENUE",
           "3,711",
           "1,839",
           0.4956
          ],
          [
           "55TH ST-NEW UTRECHT AVE",
           "1,019",
           "576",
           0.5658
          ],
          [
           "57TH STREET & 7TH AVENUE",
           "12,906",
           "3,015",
           0.2336
          ],
          [
           "57TH STREET-6TH AVENUE",
           "5,384",
           "1,327",
           0.2466
          ],
          [
           "59TH STREET & LEXINGTON AVE",
           "18,364",
           "6,122",
           0.3334
          ],
          [
           "59TH STREET-4TH AVENUE",
           "4,399",
           "2,434",
           0.5532
          ],
          [
           "59TH STREET/COLUMBUS CIRCLE",
           "29,908",
           "7,440",
           0.2488
          ],
          [
           "61ST STREET-ROOSEVELT AVE",
           "5,906",
           "2,836",
           0.4802
          ],
          [
           "63RD DRIVE-REGO PARK",
           "5,800",
           "2,613",
           0.4506
          ],
          [
           "63RD STREET-LEXINGTON AVE",
           "7,542",
           "2,583",
           0.3425
          ],
          [
           "65TH STREET-BROADWAY",
           "1,278",
           "586",
           0.4586
          ],
          [
           "66TH STREET-BROADWAY",
           "10,271",
           "1,749",
           0.1703
          ],
          [
           "67TH AVENUE-QUEENS BLVD",
           "3,767",
           "1,332",
           0.3536
          ],
          [
           "68TH STREET-HUNTER COLLEGE",
           "8,987",
           "2,764",
           0.3076
          ],
          [
           "69TH STREET-ROOSEVELT AVE",
           "1,541",
           "974",
           0.6319
          ],
          [
           "71ST AVE-CONTINENTAL AVE",
           "8,958",
           "3,246",
           0.3624
          ],
          [
           "71ST STREET-NEW UTRECHT AVE",
           "2,200",
           "874",
           0.3974
          ],
          [
           "72ND STREET & BROADWAY",
           "15,956",
           "4,943",
           0.3098
          ],
          [
           "72ND STREET - 2 AVENUE",
           "13,216",
           "5,143",
           0.3891
          ],
          [
           "72ND STREET-CENTRAL PK WEST",
           "2,816",
           "1,141",
           0.4053
          ],
          [
           "75TH AVENUE-QUEENS BLVD",
           "1,335",
           "529",
           0.3966
          ],
          [
           "75TH STREET & ELDERTS LANE",
           "1,391",
           "756",
           0.5438
          ],
          [
           "77TH STREET-4TH AVENUE",
           "2,269",
           "968",
           0.4265
          ],
          [
           "77TH STREET-LEXINGTON AVE",
           "10,522",
           "4,382",
           0.4165
          ],
          [
           "79TH STREET-17TH AVENUE",
           "2,371",
           "1,066",
           0.4497
          ],
          [
           "79TH STREET-BROADWAY",
           "6,170",
           "1,884",
           0.3054
          ],
          [
           "7TH AVENUE-9TH STREET",
           "4,893",
           "1,700",
           0.3474
          ],
          [
           "7TH AVENUE-PARK PLACE",
           "3,604",
           "1,248",
           0.3462
          ],
          [
           "81ST STREET-MUSEUM",
           "4,529",
           "1,322",
           0.292
          ],
          [
           "82ND STREET-JACKSON HEIGHTS",
           "5,152",
           "3,275",
           0.6357
          ],
          [
           "85TH STREET & FOREST PKWAY",
           "1,301",
           "788",
           0.6053
          ],
          [
           "86TH ST-CENTRAL PARK WEST",
           "3,351",
           "1,474",
           0.44
          ],
          [
           "86TH STREET - 2 AVENUE",
           "10,108",
           "3,459",
           0.3423
          ],
          [
           "86TH STREET-4TH AVENUE",
           "3,358",
           "1,272",
           0.3789
          ],
          [
           "86TH STREET-AVENUE V",
           "778",
           "426",
           0.5484
          ],
          [
           "86TH STREET-BROADWAY",
           "7,390",
           "2,375",
           0.3214
          ],
          [
           "86TH STREET-LEXINGTON AVE",
           "15,878",
           "5,965",
           0.3757
          ],
          [
           "8TH AVENUE-14TH STREET",
           "16,753",
           "4,334",
           0.2587
          ],
          [
           "8TH AVENUE-62ND STREET",
           "4,945",
           "1,959",
           0.3963
          ],
          [
           "8TH STREET & BROADWAY",
           "6,053",
           "1,462",
           0.2415
          ],
          [
           "90TH STREET/ELMHURST AVENUE",
           "6,141",
           "3,666",
           0.5971
          ],
          [
           "96TH ST-CENTRAL PARK WEST",
           "2,780",
           "1,178",
           0.4239
          ],
          [
           "96TH STREET - 2 AVENUE",
           "6,893",
           "2,504",
           0.3633
          ],
          [
           "96TH STREET-BROADWAY",
           "14,239",
           "4,861",
           0.3414
          ],
          [
           "96TH STREET-LEXINGTON AVE",
           "6,479",
           "2,755",
           0.4252
          ],
          [
           "9TH AVENUE-39TH STREET",
           "2,049",
           "959",
           0.4679
          ],
          [
           "AIRTRAIN @ HOWARD BEACH",
           "2,389",
           "337",
           0.1413
          ],
          [
           "AIRTRAIN JAMAICA CENTER 1",
           "5,462",
           "610",
           0.1117
          ],
          [
           "ALABAMA AVENUE-FULTON ST",
           "518",
           "231",
           0.4471
          ],
          [
           "ALLERTON AV-WHITE PLAINS RD",
           "1,983",
           "804",
           0.4054
          ],
          [
           "AQUEDUCT RACE TRACK",
           "833",
           "382",
           0.4586
          ],
          [
           "ASTOR PLACE-4 AVENUE",
           "7,474",
           "1,586",
           0.2122
          ],
          [
           "ASTORIA BLVD & 31ST STREET",
           "3,495",
           "1,401",
           0.4009
          ],
          [
           "ATLANTIC AV-VAN SINDEREN AV",
           "603",
           "269",
           0.4461
          ],
          [
           "AVENUE H-EAST 16TH STREET",
           "1,375",
           "458",
           0.3337
          ],
          [
           "AVENUE I-MCDONALD AVENUE",
           "715",
           "346",
           0.4843
          ],
          [
           "AVENUE J-EAST 16TH STREET",
           "2,032",
           "988",
           0.4865
          ],
          [
           "AVENUE M-EAST 16TH STREET",
           "2,466",
           "1,107",
           0.4492
          ],
          [
           "AVENUE N-MCDONALD AVENUE",
           "981",
           "545",
           0.5554
          ],
          [
           "AVENUE P-MCDONALD AVENUE",
           "903",
           "479",
           0.531
          ],
          [
           "AVENUE U-EAST 16TH STREET",
           "2,586",
           "1,112",
           0.4301
          ],
          [
           "AVENUE U-MCDONALD AVENUE",
           "588",
           "295",
           0.5012
          ],
          [
           "AVENUE U-WEST 7TH STREET",
           "1,022",
           "599",
           0.5859
          ],
          [
           "AVENUE X-MCDONALD AVENUE",
           "826",
           "387",
           0.4689
          ],
          [
           "BARCLAYS CENTER",
           "18,280",
           "5,782",
           0.3163
          ],
          [
           "BAY 50TH STREET-STILLWELL",
           "1,045",
           "416",
           0.3984
          ],
          [
           "BAY PARKWAY-66TH STREET",
           "2,462",
           "1,275",
           0.518
          ],
          [
           "BAY PARKWAY-86TH STREET",
           "2,502",
           "1,186",
           0.4742
          ],
          [
           "BAY RIDGE - 95TH STREET",
           "2,352",
           "981",
           0.4172
          ],
          [
           "BAY RIDGE AVE-4TH AVENUE",
           "2,865",
           "1,317",
           0.4598
          ],
          [
           "BAYCHESTER AVE-TILLOTSON",
           "1,760",
           "567",
           0.3226
          ],
          [
           "BEACH 25TH STREET-WAVECREST",
           "941",
           "247",
           0.2633
          ],
          [
           "BEDFORD AVE-NORTH 7TH ST",
           "7,967",
           "3,722",
           0.4672
          ],
          [
           "BEDFORD AVENUE-NOSTRAND AVE",
           "2,420",
           "1,162",
           0.4802
          ],
          [
           "BEDFORD PARK BLVD-203RD ST",
           "2,393",
           "959",
           0.4009
          ],
          [
           "BEDFORD PARK BLVD-JEROME AV",
           "2,123",
           "649",
           0.3059
          ],
          [
           "BERGEN STREET",
           "1,123",
           "460",
           0.4093
          ],
          [
           "BERGEN STREET-SMITH STREET",
           "4,472",
           "1,473",
           0.3295
          ],
          [
           "BEVERLEY ROAD -EAST 15TH ST",
           "1,270",
           "602",
           0.4744
          ],
          [
           "BEVERLY RD-NOSTRAND AVE",
           "1,673",
           "791",
           0.473
          ],
          [
           "BLEECKER ST-LAFAYETTE ST",
           "6,239",
           "1,647",
           0.2639
          ],
          [
           "BOROUGH HALL - COURT STREET",
           "13,432",
           "3,384",
           0.252
          ],
          [
           "BOTANIC GARDEN-FRANKLIN AVE",
           "716",
           "158",
           0.221
          ],
          [
           "BOWERY STREET-DELANCEY ST",
           "1,371",
           "461",
           0.3367
          ],
          [
           "BOWLING GREEN & BATTERY PL",
           "7,524",
           "1,458",
           0.1939
          ],
          [
           "BOWLING GREEN & BROADWAY",
           "1,341",
           "278",
           0.2076
          ],
          [
           "BOYD STREET-88TH STREET",
           "1,227",
           "552",
           0.4501
          ],
          [
           "BRIGHTON BEACH-CONEY ISLAND",
           "4,673",
           "2,248",
           0.4811
          ],
          [
           "BROAD CHANNEL-NOEL ROAD",
           "165",
           "53",
           0.3238
          ],
          [
           "BROAD STREET & WALL STREET",
           "2,517",
           "622",
           0.2472
          ],
          [
           "BROADWAY & 31ST STREET",
           "3,301",
           "1,905",
           0.5771
          ],
          [
           "BROADWAY - UNION AVENUE",
           "1,563",
           "867",
           0.5547
          ],
          [
           "BROADWAY LAFAYETTE-BLEECKER",
           "7,817",
           "2,191",
           0.2803
          ],
          [
           "BROADWAY-EAST NEW YORK",
           "2,929",
           "1,094",
           0.3738
          ],
          [
           "BRONX PARK EAST",
           "984",
           "369",
           0.3749
          ],
          [
           "BROOK AVENUE-138TH STREET",
           "2,295",
           "1,182",
           0.5152
          ],
          [
           "BROOKLYN BRIDGE",
           "11,958",
           "2,610",
           0.2183
          ],
          [
           "BUHRE AVE-WESTCHESTER AVE",
           "1,595",
           "647",
           0.4058
          ],
          [
           "BURKE AVE-WHITE PLAINS ROAD",
           "1,350",
           "595",
           0.4406
          ],
          [
           "BURNSIDE AVE-JEROME AVE",
           "3,209",
           "1,428",
           0.4449
          ],
          [
           "BUSHWICK AVENUE-ABERDEEN ST",
           "540",
           "384",
           0.7109
          ],
          [
           "CANAL ST-LAFAYETTE ST EAST",
           "8,049",
           "2,327",
           0.2891
          ],
          [
           "CANAL STREET",
           "3,908",
           "1,463",
           0.3745
          ],
          [
           "CANAL STREET-BROADWAY",
           "6,170",
           "1,721",
           0.279
          ],
          [
           "CANAL STREET-LISPENARD ST",
           "8,059",
           "1,884",
           0.2338
          ],
          [
           "CANAL STREET-VARICK STREET",
           "2,593",
           "472",
           0.182
          ],
          [
           "CARROLL ST-PRESIDENT ST",
           "4,525",
           "1,550",
           0.3426
          ],
          [
           "CASTLE HILL AVENUE",
           "2,196",
           "1,035",
           0.4717
          ],
          [
           "CENTRAL AVE-MYRTLE AVE",
           "1,550",
           "637",
           0.4109
          ],
          [
           "CHAMBERS STREET",
           "8,606",
           "1,423",
           0.1654
          ],
          [
           "CHAUNCEY STREET-ROCKAWAY AV",
           "1,093",
           "494",
           0.4524
          ],
          [
           "CHRISTOPHER ST-SHERIDAN SQ",
           "4,668",
           "1,161",
           0.2488
          ],
          [
           "CHURCH AVE-MCDONALD AVE",
           "4,057",
           "1,685",
           0.4153
          ],
          [
           "CHURCH AVENUE",
           "5,181",
           "2,387",
           0.4608
          ],
          [
           "CHURCH AVENUE & NOSTRAND AV",
           "3,352",
           "1,630",
           0.4863
          ],
          [
           "CITY HALL",
           "2,247",
           "533",
           0.2374
          ],
          [
           "CLARK STREET-HENRY STREET",
           "2,122",
           "709",
           0.3343
          ],
          [
           "CLASSON AVENUE-LAFAYETTE AV",
           "2,001",
           "778",
           0.3889
          ],
          [
           "CLEVELAND STREET-FULTON ST",
           "1,299",
           "492",
           0.3788
          ],
          [
           "CLINTON AVENUE-FULTON ST",
           "2,304",
           "749",
           0.3252
          ],
          [
           "CORTELYOU RD-EAST 16TH ST",
           "2,440",
           "1,116",
           0.4577
          ],
          [
           "CORTLANDT STREET",
           "7,983",
           "1,696",
           0.2124
          ],
          [
           "COURT SQ",
           "1,502",
           "584",
           0.3888
          ],
          [
           "COURT SQ-23 ST",
           "6,492",
           "1,511",
           0.2328
          ],
          [
           "CRESCENT STREET-FULTON ST",
           "1,942",
           "857",
           0.4417
          ],
          [
           "CYPRESS AVENUE-138TH STREET",
           "1,278",
           "563",
           0.4408
          ],
          [
           "CYPRESS HILLS",
           "517",
           "287",
           0.5558
          ],
          [
           "DEKALB AVE-WYCKOFF AVE",
           "3,024",
           "2,088",
           0.6904
          ],
          [
           "DEKALB AVENUE",
           "7,434",
           "2,437",
           0.3278
          ],
          [
           "DITMARS BLVD & 31ST STREET",
           "5,341",
           "2,385",
           0.4466
          ],
          [
           "DITMAS AVE-MCDONALD AVE",
           "1,459",
           "811",
           0.556
          ],
          [
           "DYCKMAN STREET",
           "2,540",
           "1,003",
           0.3951
          ],
          [
           "DYCKMAN STREET-BROADWAY",
           "2,358",
           "1,190",
           0.5046
          ],
          [
           "DYRE AVENUE-LIGHT STREET",
           "1,658",
           "709",
           0.4278
          ],
          [
           "EAST 105TH ST-FARRAGUT ROAD",
           "1,328",
           "563",
           0.4242
          ],
          [
           "EAST 143RD ST-SOUTHERN BLVD",
           "417",
           "195",
           0.4677
          ],
          [
           "EAST 149TH ST-SOUTHERN BLVD",
           "1,738",
           "813",
           0.468
          ],
          [
           "EAST 180TH ST-MORRIS PARK",
           "2,280",
           "1,027",
           0.4505
          ],
          [
           "EAST BROADWAY-MADISON ST",
           "5,847",
           "1,449",
           0.2479
          ],
          [
           "EAST TREMONT AVENUE-178 ST",
           "2,076",
           "782",
           0.3766
          ],
          [
           "EASTERN PARKWAY",
           "1,640",
           "627",
           0.3824
          ],
          [
           "EDGEMERE-BEACH 36TH STREET",
           "437",
           "119",
           0.2723
          ],
          [
           "ELDER AVE-WESTCHESTER AVE",
           "2,455",
           "1,404",
           0.572
          ],
          [
           "ELMHURST AVE-BROADWAY",
           "4,314",
           "2,131",
           0.4941
          ],
          [
           "ESSEX ST-DELANCEY ST",
           "10,717",
           "3,660",
           0.3415
          ],
          [
           "EUCLID AVE-PITKIN AVE",
           "3,844",
           "1,414",
           0.368
          ],
          [
           "FIFTH AVENUE",
           "11,324",
           "2,090",
           0.1846
          ],
          [
           "FIFTH AVENUE & 42ND STREET",
           "4,563",
           "1,389",
           0.3044
          ],
          [
           "FIFTH AVENUE & 60TH STREET",
           "6,019",
           "1,971",
           0.3275
          ],
          [
           "FLATBUSH AVE & NOSTRAND AV",
           "5,770",
           "1,938",
           0.336
          ],
          [
           "FLUSHING AVE-BROADWAY",
           "3,263",
           "1,416",
           0.4341
          ],
          [
           "FLUSHING AVENUE-MARCY AVE",
           "686",
           "672",
           0.9794
          ],
          [
           "FORDHAM RD/GRAND CONCOURSE",
           "3,963",
           "1,754",
           0.4427
          ],
          [
           "FORDHAM ROAD & JEROME AVE",
           "3,132",
           "1,665",
           0.5319
          ],
          [
           "FOREST AVENUE-PUTNAM AVENUE",
           "1,549",
           "780",
           0.5036
          ],
          [
           "FORT HAMILTON PARKWAY-62ND",
           "1,292",
           "1,068",
           0.8267
          ],
          [
           "FORT HAMILTON PKWY-45TH ST",
           "1,850",
           "975",
           0.5269
          ],
          [
           "FRANK AVENUE-BEACH 44TH ST",
           "331",
           "93",
           0.2836
          ],
          [
           "FRANKLIN AVE/EASTERN PKWY",
           "4,424",
           "1,813",
           0.4098
          ],
          [
           "FRANKLIN AVENUE-FULTON ST",
           "1,961",
           "771",
           0.3935
          ],
          [
           "FRANKLIN STREET-WEST BWAY",
           "2,465",
           "483",
           0.196
          ],
          [
           "FREEMAN ST-SOUTHERN BLVD",
           "1,750",
           "765",
           0.4374
          ],
          [
           "FRESH POND ROAD-68TH AVENUE",
           "2,164",
           "1,068",
           0.4934
          ],
          [
           "FT HAMILTON PKY-GREENWOOD",
           "2,266",
           "831",
           0.3669
          ],
          [
           "FULTON & WILLIAM STREETS",
           "10,231",
           "2,483",
           0.2427
          ],
          [
           "FULTON STREET",
           "25,375",
           "6,356",
           0.2505
          ],
          [
           "FULTON STREET-LAFAYETTE AV",
           "2,177",
           "724",
           0.3327
          ],
          [
           "GASTON AVENUE-BEACH 67TH ST",
           "1,014",
           "305",
           0.3007
          ],
          [
           "GATES AVENUE-BROADWAY",
           "2,369",
           "1,075",
           0.454
          ],
          [
           "GRAHAM AVE-METROPOLITAN AVE",
           "2,605",
           "1,326",
           0.509
          ],
          [
           "GRAND ARMY PLAZA",
           "2,545",
           "991",
           0.3894
          ],
          [
           "GRAND AVE-QUEENS BOULEVARD",
           "5,080",
           "2,252",
           0.4433
          ],
          [
           "GRAND ST-BUSHWICK AVE",
           "1,850",
           "816",
           0.441
          ],
          [
           "GRAND ST-CHRISTIE ST",
           "9,563",
           "3,766",
           0.3939
          ],
          [
           "GRANT AVENUE-PITKIN AVENUE",
           "2,609",
           "998",
           0.3828
          ],
          [
           "GREENPOINT AVE",
           "3,572",
           "1,755",
           0.4914
          ],
          [
           "GUN HILL ROAD-SEYMOUR",
           "1,973",
           "725",
           0.3678
          ],
          [
           "GUNHILL RD-WHITE PLAINS RD",
           "2,385",
           "866",
           0.3634
          ],
          [
           "HALSEY STREET-BROADWAY",
           "2,031",
           "866",
           0.4262
          ],
          [
           "HALSEY STREET-WYCKOFF AVE",
           "2,243",
           "1,294",
           0.577
          ],
          [
           "HEWES STREET-BROADWAY",
           "1,316",
           "653",
           0.4966
          ],
          [
           "HIGH ST-CADMAN PLAZA WEST",
           "3,747",
           "1,187",
           0.317
          ],
          [
           "HOLLAND-BEACH 90TH STREET",
           "326",
           "459",
           1.4074
          ],
          [
           "HOUSTON STREET-VARICK ST",
           "6,236",
           "1,276",
           0.2047
          ],
          [
           "HOWARD BEACH-159TH AVE",
           "809",
           "215",
           0.2663
          ],
          [
           "HOYT ST-SCHERMERHORN ST",
           "3,924",
           "1,555",
           0.3964
          ],
          [
           "HOYT STREET-FULTON STREET",
           "878",
           "255",
           0.2906
          ],
          [
           "HOYT STREET-HOYT STREET",
           "1,676",
           "624",
           0.3727
          ],
          [
           "HUDSON STREET-78TH STREET",
           "1,970",
           "749",
           0.3806
          ],
          [
           "HUNTERS PT AVE-49TH AVE",
           "2,500",
           "545",
           0.218
          ],
          [
           "HUNTS PT AVE-SOUTHERN BLVD",
           "2,990",
           "1,450",
           0.4851
          ],
          [
           "INTERVALE 163RD STREET",
           "1,187",
           "513",
           0.432
          ],
          [
           "JACKSON AVENUE-VERNON BLVD",
           "5,336",
           "2,026",
           0.3798
          ],
          [
           "JACKSON AVENUE-WESTCHESTER",
           "2,123",
           "787",
           0.3709
          ],
          [
           "JAMAICA CENTER-PARSONS BLVD",
           "7,738",
           "2,642",
           0.3415
          ],
          [
           "JAY ST-METROTECH",
           "15,838",
           "3,547",
           0.224
          ],
          [
           "JEFFERSON STREET-WYCKOFF AV",
           "1,970",
           "1,135",
           0.5761
          ],
          [
           "JUNCTION BLVD-ROOSEVELT AVE",
           "8,247",
           "4,913",
           0.5957
          ],
          [
           "JUNIUS STREET",
           "815",
           "281",
           0.3451
          ],
          [
           "KINGS HIGHWAY-EAST 16TH ST",
           "6,736",
           "3,046",
           0.4522
          ],
          [
           "KINGS HIGHWAY-MCDONALD AVE",
           "1,298",
           "536",
           0.4129
          ],
          [
           "KINGS HIGHWAY-WEST 7TH ST",
           "1,475",
           "920",
           0.6239
          ],
          [
           "KINGSBRIDGE RD-196TH ST",
           "2,764",
           "1,094",
           0.3958
          ],
          [
           "KINGSBRIDGE RD-JEROME AVE",
           "3,170",
           "1,346",
           0.4247
          ],
          [
           "KINGSTON AVE-THROOP AVE",
           "2,247",
           "840",
           0.3739
          ],
          [
           "KINGSTON AVE/EASTERN PKWY",
           "1,883",
           "909",
           0.4826
          ],
          [
           "KNICKERBOCKER AVE-MYRTLE AV",
           "1,898",
           "795",
           0.4188
          ],
          [
           "KOSCIUSZKO STREET-BROADWAY",
           "1,714",
           "803",
           0.469
          ],
          [
           "LAFAYETTE AV-WASHINGTON AV",
           "1,900",
           "798",
           0.4201
          ],
          [
           "LAFAYETTE AVENUE-FULTON ST",
           "1,957",
           "672",
           0.3434
          ],
          [
           "LEFFERTS BLVD-LIBERTY AVE",
           "2,736",
           "1,179",
           0.4309
          ],
          [
           "LEXINGTON AVENUE",
           "17,768",
           "3,927",
           0.221
          ],
          [
           "LIBERTY AVE-PENNSYLVANIA AV",
           "980",
           "412",
           0.4206
          ],
          [
           "LIVONIA AVE-VAN SINDEREN AV",
           "976",
           "351",
           0.3596
          ],
          [
           "LONGWOOD AVE-SOUTHERN BLVD",
           "1,192",
           "575",
           0.4828
          ],
          [
           "LORIMER STREET-BROADWAY",
           "1,821",
           "758",
           0.4163
          ],
          [
           "MAIN STREET",
           "14,803",
           "5,860",
           0.3959
          ],
          [
           "MARCY AVENUE-BROADWAY",
           "6,051",
           "2,111",
           0.3489
          ],
          [
           "MCDONALD AVE-22ND AVE",
           "184",
           "86",
           0.4667
          ],
          [
           "METROPOLITAN AVE-LORIMER ST",
           "4,833",
           "2,229",
           0.4612
          ],
          [
           "METROPOLITAN AVENUE",
           "1,168",
           "534",
           0.4571
          ],
          [
           "MIDDLETOWN ROAD-WESTCHESTER",
           "990",
           "333",
           0.3368
          ],
          [
           "MONTROSE AVENUE",
           "1,812",
           "1,016",
           0.561
          ],
          [
           "MORGAN AVENUE-HARRISON PL",
           "1,945",
           "1,003",
           0.5156
          ],
          [
           "MORRIS PARK-PAULDING AVENUE",
           "1,106",
           "460",
           0.4165
          ],
          [
           "MORRISON AVE & WESTCHESTER",
           "2,110",
           "1,098",
           0.5208
          ],
          [
           "MOSHOLU PARKWAY-JEROME AVE",
           "3,031",
           "1,476",
           0.4871
          ],
          [
           "MOTT AVENUE-BEACH 22ND ST",
           "1,872",
           "641",
           0.3424
          ],
          [
           "MT EDEN AVENUE-JEROME AVE",
           "1,857",
           "922",
           0.4969
          ],
          [
           "MTABC - EASTCHESTER 2",
           "0",
           "0",
           0
          ],
          [
           "MYRTLE AVE-GATES AVENUE",
           "5,871",
           "3,102",
           0.5284
          ],
          [
           "MYRTLE AVENUE-BROADWAY",
           "3,715",
           "1,490",
           0.4011
          ],
          [
           "MYRTLE AVENUE-MARCY AVENUE",
           "2,173",
           "895",
           0.4122
          ],
          [
           "NASSAU AVE-MANHATTAN AVE",
           "3,686",
           "1,565",
           0.4246
          ],
          [
           "NECK ROAD-EAST 16TH STREET",
           "1,898",
           "770",
           0.4056
          ],
          [
           "NEPTUNE AVE-MCDONALD AVENUE",
           "682",
           "270",
           0.3957
          ],
          [
           "NEVINS STREET",
           "3,600",
           "1,219",
           0.3386
          ],
          [
           "NEW LOTS AV-VAN SINDEREN AV",
           "1,358",
           "509",
           0.3752
          ],
          [
           "NEW LOTS AVENUE",
           "1,632",
           "757",
           0.4641
          ],
          [
           "NEW UTRECHT AVENUE-62ND ST",
           "1,588",
           "1,061",
           0.6683
          ],
          [
           "NEWKIRK AVE-NOSTRAND AVE",
           "2,666",
           "1,207",
           0.4529
          ],
          [
           "NEWKIRK PLAZA",
           "3,737",
           "1,659",
           0.4441
          ],
          [
           "NORTH CONDUIT AVE-COHANCEY",
           "470",
           "183",
           0.3888
          ],
          [
           "NORTHERN BLVD-BROADWAY",
           "1,995",
           "933",
           0.468
          ],
          [
           "NORWOOD AVENUE-FULTON ST",
           "1,358",
           "540",
           0.3981
          ],
          [
           "NOSTRAND AVE-FULTON ST",
           "5,157",
           "2,295",
           0.445
          ],
          [
           "NOSTRAND AVENUE",
           "1,329",
           "597",
           0.449
          ],
          [
           "OCEAN PKWAY-BRIGHTON BCH AV",
           "1,580",
           "737",
           0.4664
          ],
          [
           "PA-PATH 14TH STREET",
           "3,312",
           "1,228",
           0.3708
          ],
          [
           "PA-PATH 9TH STREET",
           "1,926",
           "600",
           0.3116
          ],
          [
           "PA-PATH CHRISTOPHER ST",
           "1,992",
           "643",
           0.3231
          ],
          [
           "PA-PATH EXCHANGE PLACE",
           "4,662",
           "1,428",
           0.3064
          ],
          [
           "PA-PATH GROVE ST",
           "5,766",
           "2,207",
           0.3828
          ],
          [
           "PA-PATH HARRISON",
           "2,234",
           "910",
           0.4076
          ],
          [
           "PA-PATH HOBOKEN",
           "9,286",
           "2,433",
           0.262
          ],
          [
           "PA-PATH JOURNAL SQUARE",
           "6,887",
           "3,546",
           0.5149
          ],
          [
           "PA-PATH NEWARK",
           "8,905",
           "3,894",
           0.4373
          ],
          [
           "PA-PATH PAVONIA/NEWPORT",
           "4,549",
           "1,302",
           0.2863
          ],
          [
           "PA-PATH THIRTY THIRD ST",
           "10,567",
           "3,495",
           0.3308
          ],
          [
           "PA-PATH TWENTY THIRD ST",
           "2,705",
           "814",
           0.3012
          ],
          [
           "PA-PATH WORLD TRADE CNTR",
           "16,056",
           "6,994",
           0.4356
          ],
          [
           "PARK PLACE",
           "19,731",
           "3,598",
           0.1824
          ],
          [
           "PARK PLACE-FRANKLIN AVENUE",
           "608",
           "280",
           0.4601
          ],
          [
           "PARKSIDE AVE-OCEAN AVE",
           "1,844",
           "1,098",
           0.5957
          ],
          [
           "PARSONS BLVD & HILLSIDE AV",
           "2,316",
           "963",
           0.4159
          ],
          [
           "PELHAM BAY PARK-BRUCKNER BL",
           "1,528",
           "631",
           0.4131
          ],
          [
           "PELHAM PKWY-ESPLANADE",
           "1,332",
           "469",
           0.3526
          ],
          [
           "PELHAM PKWY-WHITE PLAINS RD",
           "2,825",
           "1,167",
           0.413
          ],
          [
           "PENNSYLVANIA AVENUE",
           "1,670",
           "638",
           0.3824
          ],
          [
           "PLAYLAND-BEACH 98TH STREET",
           "215",
           "77",
           0.3607
          ],
          [
           "PRESIDENT ST-NOSTRAND AVE",
           "1,458",
           "661",
           0.4538
          ],
          [
           "PRINCE STREET & BROADWAY",
           "4,335",
           "1,298",
           0.2996
          ],
          [
           "PROSPECT AVENUE-4TH AVENUE",
           "2,128",
           "907",
           0.4264
          ],
          [
           "PROSPECT AVENUE-WESTCHESTER",
           "2,528",
           "1,072",
           0.4243
          ],
          [
           "PROSPECT PARK-EMPIRE BLVD",
           "3,101",
           "1,573",
           0.5075
          ],
          [
           "QUEENS PLAZA-JACKSON AVE",
           "4,355",
           "1,084",
           0.2491
          ],
          [
           "QUEENSBORO PLAZA",
           "4,684",
           "1,564",
           0.3339
          ],
          [
           "RALPH AVENUE-FULTON STREET",
           "2,029",
           "849",
           0.4187
          ],
          [
           "RECTOR STREET-CHURCH STREET",
           "2,174",
           "521",
           0.2396
          ],
          [
           "RECTOR STREET-GREENWICH ST",
           "3,269",
           "565",
           0.1729
          ],
          [
           "RI TRAMWAY (MANHATTAN)",
           "592",
           "738",
           1.2465
          ],
          [
           "RI TRAMWAY (ROOSEVELT)",
           "398",
           "911",
           2.2857
          ],
          [
           "ROCKAWAY AVE-HOPKINSON AVE",
           "2,022",
           "796",
           0.3938
          ],
          [
           "ROCKAWAY AVENUE",
           "1,778",
           "827",
           0.4655
          ],
          [
           "ROCKAWAY BLVD-LIBERTY AVE",
           "2,498",
           "1,002",
           0.4013
          ],
          [
           "ROCKAWAY PARK-BEACH 116TH",
           "252",
           "119",
           0.4756
          ],
          [
           "ROCKAWAY PKWY-GLENWOOD RD",
           "3,065",
           "1,029",
           0.3357
          ],
          [
           "ROOSEVELT AVE/JACKSON HTS",
           "14,866",
           "7,760",
           0.522
          ],
          [
           "ROOSEVELT ISLAND",
           "2,513",
           "1,031",
           0.4104
          ],
          [
           "SARATOGA AVENUE",
           "1,994",
           "913",
           0.458
          ],
          [
           "SBS-B44 @ LIVINGSTON PLAZA",
           "0",
           "0",
           0
          ],
          [
           "SBS-B46 @ LIVINGSTON PLAZA",
           "0",
           "0",
           0
          ],
          [
           "SBS-B82 @ LIVINGSTON PLAZA",
           "0",
           "0",
           0
          ],
          [
           "SBS-BX12 @ LIVINGSTON PLAZA",
           "0",
           "0",
           0
          ],
          [
           "SBS-BX41 @ LIVINGSTON PLAZA",
           "0",
           "0",
           0
          ],
          [
           "SBS-BX6 @ LIVINGSTON PLAZA",
           "0",
           "0",
           0
          ],
          [
           "SBS-M14 @ LIVINGSTON PLAZA",
           "0",
           "0",
           0
          ],
          [
           "SBS-M15 @ LIVINGSTON PLAZA",
           "0",
           "0",
           0
          ],
          [
           "SBS-M23 @ LIVINGSTON PLAZA",
           "0",
           "0",
           0
          ],
          [
           "SBS-M34 @ LIVINGSTON PLAZA",
           "0",
           "0",
           0
          ],
          [
           "SBS-M60 @ LIVINGSTON PLAZA",
           "0",
           "0",
           0
          ],
          [
           "SBS-M79 @ LIVINGSTON PLAZA",
           "0",
           "0",
           0
          ],
          [
           "SBS-M86 @ LIVINGSTON PLAZA",
           "0",
           "0",
           0
          ],
          [
           "SBS-Q44 @ LIVINGSTON PLAZA",
           "0",
           "0",
           0
          ],
          [
           "SBS-Q52/53 @ LIVINGSTON PLAZA",
           "0",
           "0",
           0
          ],
          [
           "SEASIDE BEACH-105TH STREET",
           "116",
           "36",
           0.3109
          ],
          [
           "SENECA AVENUE-PALMETTO ST",
           "1,252",
           "558",
           0.4458
          ],
          [
           "SEVENTH AVENUE & WEST 53RD",
           "7,286",
           "1,129",
           0.155
          ],
          [
           "SHEEPSHEAD BAY ROAD",
           "5,310",
           "2,170",
           0.4087
          ],
          [
           "SHEPHERD AVE-PITKIN AVE",
           "1,352",
           "521",
           0.3857
          ],
          [
           "SIMPSON ST-WESTCHESTER AVE",
           "2,441",
           "1,084",
           0.4442
          ],
          [
           "SMITH STREET-9TH STREET",
           "1,678",
           "629",
           0.3751
          ],
          [
           "SPRING STREET-6TH AVENUE",
           "5,904",
           "1,340",
           0.2271
          ],
          [
           "SPRING STREET-LAFAYETTE ST",
           "4,726",
           "1,122",
           0.2376
          ],
          [
           "ST GEORGE TERMINAL",
           "4,993",
           "919",
           0.1841
          ],
          [
           "ST LAWRENCE AVE-WEST AVE",
           "1,625",
           "815",
           0.5018
          ],
          [
           "STEINWAY ST-BROADWAY",
           "5,022",
           "2,011",
           0.4005
          ],
          [
           "STERLING ST-NOSTRAND AVE",
           "1,983",
           "1,011",
           0.5099
          ],
          [
           "STILLWELL AVE-CONEY ISLAND",
           "3,870",
           "1,848",
           0.4776
          ],
          [
           "STRAITON AVE-BEACH 60TH ST",
           "910",
           "253",
           0.2785
          ],
          [
           "SUTPHIN BLVD-HILLSIDE AVE",
           "1,622",
           "774",
           0.4772
          ],
          [
           "SUTPHIN BOULEVARD",
           "6,940",
           "2,934",
           0.4227
          ],
          [
           "SUTTER AVE-VAN SINDEREN AVE",
           "1,420",
           "525",
           0.3698
          ],
          [
           "SUTTER AVENUE",
           "2,359",
           "1,037",
           0.4399
          ],
          [
           "TOMPKINSVILLE",
           "383",
           "133",
           0.3484
          ],
          [
           "TREMONT AVE-179TH ST",
           "2,947",
           "1,298",
           0.4407
          ],
          [
           "UNION STREET-4TH AVENUE",
           "2,795",
           "1,068",
           0.3821
          ],
          [
           "UNION TURNPIKE-KEW GARDENS",
           "5,828",
           "2,146",
           0.3682
          ],
          [
           "UTICA AVE-STUYVESANT AVE",
           "4,812",
           "1,863",
           0.3872
          ],
          [
           "UTICA AVENUE",
           "8,052",
           "3,491",
           0.4336
          ],
          [
           "VAN SICLEN AVE-PITKIN AVE",
           "1,302",
           "501",
           0.3853
          ],
          [
           "VAN SICLEN AVENUE",
           "993",
           "442",
           0.4451
          ],
          [
           "VAN SICLEN AVENUE-FULTON ST",
           "1,064",
           "570",
           0.5363
          ],
          [
           "VAN WYCK BLVD-MAIN STREET",
           "2,113",
           "849",
           0.4018
          ],
          [
           "VAN WYCK BLVD-METROPOLITAN",
           "2,038",
           "959",
           0.4706
          ],
          [
           "WALL STREET",
           "16,360",
           "3,205",
           0.1959
          ],
          [
           "WEST 4TH ST-WASHINGTON SQ",
           "17,453",
           "4,521",
           0.2591
          ],
          [
           "WEST 6TH STREET-SURF AVENUE",
           "936",
           "426",
           0.455
          ],
          [
           "WESTCHESTER SQUARE",
           "1,883",
           "771",
           0.4098
          ],
          [
           "WHITEHALL STREET",
           "10,274",
           "1,904",
           0.1854
          ],
          [
           "WHITLOCK AVE-WESTCHESTER AV",
           "753",
           "345",
           0.4589
          ],
          [
           "WILLETS PT BLVD-ROOSEVELT",
           "1,078",
           "500",
           0.4646
          ],
          [
           "WILSON AVENUE-MOFFAT STREET",
           "1,149",
           "688",
           0.5987
          ],
          [
           "WINTHROP ST-NOSTRAND AVE",
           "2,416",
           "1,276",
           0.5282
          ],
          [
           "WOODHAVEN BLVD-QUEENS BLVD",
           "6,396",
           "2,929",
           0.458
          ],
          [
           "WOODHAVEN BOULEVARD",
           "1,374",
           "721",
           0.525
          ],
          [
           "WOODLAWN ROAD",
           "1,408",
           "615",
           0.4366
          ],
          [
           "WTC-CORTLANDT ST",
           "6,046",
           "1,036",
           0.1714
          ],
          [
           "YORK STREET-JAY STREET",
           "4,169",
           "949",
           0.2278
          ],
          [
           "ZEREGA AVE-WESTCHESTER AVE",
           "1,107",
           "458",
           0.4141
          ]
         ],
         "hovertemplate": "<b>Station: %{customdata[0]}</b> <br>Pre-pandemic Daily: %{customdata[1]} <br>Current Daily: %{customdata[2]} <br>% Recovery : %{customdata[3]:.2%}",
         "lat": [
          40.796040000000005,
          40.749825,
          40.799419,
          40.79029,
          40.695184000000005,
          40.682233000000004,
          40.684673,
          40.800523999999996,
          40.804,
          40.794773,
          40.697351,
          40.798,
          40.7517139,
          40.804389,
          40.808,
          40.802,
          40.798607000000004,
          40.700357000000004,
          40.8052,
          40.815796,
          40.806999999999995,
          40.804259,
          40.814,
          40.81709,
          40.821,
          40.81303,
          40.810963,
          40.824040000000004,
          40.826,
          40.82,
          40.824,
          40.8181,
          40.81605,
          40.738553,
          40.737328000000005,
          40.73472,
          40.830348,
          40.830859000000004,
          40.834,
          40.6605444,
          40.827937,
          40.836866,
          40.8345,
          40.835665000000006,
          40.841021999999995,
          40.710638,
          40.838814,
          40.840178,
          40.836999999999996,
          40.845892,
          40.846540999999995,
          40.848619,
          40.83333,
          40.712459,
          40.8517,
          40.856766,
          40.858323999999996,
          40.629625,
          40.620164,
          40.608667,
          40.741,
          40.858986,
          40.855,
          40.731324,
          40.874908000000005,
          40.867672,
          40.8644,
          40.61723,
          40.6047,
          40.869473,
          40.883,
          40.744591,
          40.753954,
          40.888000000000005,
          40.874,
          40.879,
          40.893,
          40.898,
          40.885097200000004,
          40.741274,
          40.745512,
          40.742933,
          40.744,
          40.740169,
          40.903,
          40.889222,
          40.598607,
          40.6605,
          40.745298,
          40.747,
          40.74329,
          40.723616,
          40.766859000000004,
          40.746390000000005,
          40.7446167,
          40.749786,
          40.751143,
          40.752164,
          40.75583889999999,
          40.751,
          40.756555,
          40.65445,
          40.752036,
          40.752686,
          40.733278000000006,
          40.7438111,
          40.750772999999995,
          40.754847999999996,
          40.75724,
          40.752126000000004,
          40.756,
          40.6494472,
          40.7431333,
          40.756685,
          40.758603,
          40.760422999999996,
          40.670955600000006,
          40.761095000000005,
          40.762276,
          40.636109999999995,
          40.757121999999995,
          40.7440361,
          40.643609999999995,
          40.631892,
          40.765461,
          40.764259,
          40.762226,
          40.6410778,
          40.767996999999994,
          40.7456083,
          40.73,
          40.764649,
          40.7494,
          40.774,
          40.726966,
          40.767834,
          40.7462583,
          40.721404,
          40.619165,
          40.7721,
          40.76889,
          40.776154,
          40.71864,
          40.691427000000004,
          40.6284972,
          40.773587,
          40.613514,
          40.784,
          40.666830600000004,
          40.679352,
          40.781971,
          40.7476306,
          40.7806,
          40.785286,
          40.777861,
          40.622694,
          40.592862,
          40.7883,
          40.779469,
          40.739779,
          40.6345583,
          40.730579999999996,
          40.748329999999996,
          40.791622,
          40.7841,
          40.7941,
          40.785773,
          40.646575,
          40.660432,
          40.699511,
          40.676829999999995,
          40.865,
          40.672086,
          40.72972,
          40.769890999999994,
          40.676053,
          40.630003,
          40.6259222,
          40.625276,
          40.618269,
          40.615044399999995,
          40.6087389,
          40.598875,
          40.59615,
          40.5964944,
          40.590141700000004,
          40.684461999999996,
          40.5889,
          40.612886100000004,
          40.602655,
          40.616167,
          40.6336778,
          40.878640000000004,
          40.600061100000005,
          40.71772,
          40.689587,
          40.872507,
          40.873545,
          40.680873999999996,
          40.687252799999996,
          40.6446265,
          40.645122,
          40.72583,
          40.693655,
          40.670694,
          40.720299,
          40.704593,
          40.704933000000004,
          40.679857,
          40.577597999999995,
          40.608618,
          40.705,
          40.761951,
          40.705433,
          40.725369,
          40.6789194,
          40.849000000000004,
          40.80754,
          40.71278,
          40.846995,
          40.871,
          40.853747999999996,
          40.682851,
          40.718441,
          40.718059999999994,
          40.719403,
          40.721703000000005,
          40.722,
          40.6802,
          40.834139,
          40.698015000000005,
          40.715466,
          40.682623,
          40.733000000000004,
          40.643684,
          40.649606,
          40.650775,
          40.71326,
          40.6974,
          40.688839,
          40.679629,
          40.683176,
          40.641597,
          40.710996,
          40.746865,
          40.7476,
          40.678182,
          40.805526,
          40.68972,
          40.704294,
          40.690253999999996,
          40.776137,
          40.636263899999996,
          40.861,
          40.865487,
          40.889055,
          40.651308,
          40.808125,
          40.812088,
          40.841,
          40.714216,
          40.84,
          40.671622,
          40.595413,
          40.828553,
          40.741795,
          40.718509999999995,
          40.6754,
          40.764779,
          40.753617,
          40.764909,
          40.632809,
          40.700683000000005,
          40.699801,
          40.862414,
          40.862761,
          40.704619,
          40.6321,
          40.6407,
          40.592928,
          40.670711,
          40.681126,
          40.719,
          40.83,
          40.705953,
          40.651455600000006,
          40.709576,
          40.7102056,
          40.686294000000004,
          40.590920000000004,
          40.68949,
          40.714509,
          40.674584,
          40.73695,
          40.711906,
          40.718119,
          40.676635,
          40.730153,
          40.87017,
          40.876999999999995,
          40.685682,
          40.696095,
          40.706669,
          40.698890000000006,
          40.588095,
          40.728592,
          40.660445,
          40.689022200000004,
          40.690531,
          40.690046,
          40.67941,
          40.742380600000004,
          40.820565,
          40.821999999999996,
          40.74264,
          40.8163,
          40.702407,
          40.69368060000001,
          40.706994,
          40.749175,
          40.663615,
          40.609229,
          40.6031861,
          40.6031472,
          40.866146,
          40.867444,
          40.679857,
          40.669376,
          40.698731,
          40.6933,
          40.68812,
          40.686268,
          40.686203000000006,
          40.75773,
          40.674357,
          40.663745,
          40.816278000000004,
          40.704099,
          40.7595222,
          40.708361,
          40.620861,
          40.714223,
          40.712752,
          40.843424,
          40.707612,
          40.706278999999995,
          40.854428999999996,
          40.829495,
          40.879711,
          40.603983,
          40.844268,
          null,
          40.699678000000006,
          40.696940000000005,
          40.695454999999995,
          40.723811,
          40.595124,
          40.5803972,
          40.688709,
          40.658840000000005,
          40.666382,
          40.626086,
          40.639912,
          40.6357,
          40.668325,
          40.753239,
          40.681582,
          40.680345,
          40.67845,
          40.576252000000004,
          40.737393,
          40.73421,
          40.733602000000005,
          40.7162,
          40.719671000000005,
          40.739187,
          40.7349,
          40.732141,
          40.73472,
          40.726676,
          40.749111,
          40.742893,
          40.7115,
          40.713291999999996,
          40.674357,
          40.65535,
          40.70771,
          40.852871,
          40.858129999999996,
          40.857,
          40.664722,
          40.585440999999996,
          40.668009000000005,
          40.724202000000005,
          40.666789,
          40.819,
          40.661507,
          40.748915000000004,
          40.7506528,
          40.678815,
          40.707733000000005,
          40.708,
          40.761234,
          40.756782,
          40.662569,
          40.67823,
          40.680459,
          40.580725,
          40.645382,
          40.74667,
          40.759188,
          40.661531,
          null,
          null,
          null,
          null,
          null,
          null,
          null,
          null,
          null,
          null,
          null,
          null,
          null,
          null,
          null,
          40.583217,
          40.702765,
          40.762979,
          40.587168,
          40.674064,
          40.824,
          40.674440000000004,
          40.725503,
          40.72222,
          40.64333,
          40.831573,
          40.758668,
          40.663061,
          40.5773417,
          40.592395,
          40.705726,
          40.700488,
          40.668366999999996,
          40.664884,
          40.6368,
          40.849463,
          40.678108,
          40.714151,
          40.679239,
          40.669343,
          40.672697,
          40.665535,
          40.678047,
          40.70969,
          40.701905,
          40.706311,
          40.731682,
          40.576177799999996,
          40.840567,
          40.7025,
          40.827514,
          40.7545583,
          40.6885,
          40.657039000000005,
          40.733470000000004,
          40.693931,
          40.886005,
          40.7115,
          40.701529,
          40.836769
         ],
         "legendgroup": "",
         "lon": [
          -73.96141999999999,
          -73.8627333,
          -73.968158,
          -73.947687,
          -73.843231,
          -73.837352,
          -73.831129,
          -73.958244,
          -73.967,
          -73.944426,
          -73.836348,
          -73.953,
          -73.8556361,
          -73.955412,
          -73.964,
          -73.95,
          -73.942022,
          -73.82894,
          -73.939,
          -73.958384,
          -73.945,
          -73.937473,
          -73.941,
          -73.94803,
          -73.954,
          -73.929963,
          -73.927217,
          -73.944769,
          -73.95,
          -73.936,
          -73.937,
          -73.9275,
          -73.917947,
          -73.99968199999999,
          -73.996796,
          -73.99028,
          -73.93672600000001,
          -73.9414,
          -73.944,
          -73.9799833,
          -73.925886,
          -73.940134,
          -73.9177,
          -73.921337,
          -73.939791,
          -73.793063,
          -73.913741,
          -73.917732,
          -73.888,
          -73.910179,
          -73.94009100000001,
          -73.911767,
          -73.860972,
          -73.78448,
          -73.938,
          -73.900309,
          -73.903999,
          -73.9769639,
          -73.989455,
          -74.002115,
          -73.998,
          -73.93404,
          -73.929,
          -73.982577,
          -73.879452,
          -73.921165,
          -73.9189,
          -73.984605,
          -73.9985,
          -73.915074,
          -73.863,
          -73.948674,
          -73.942451,
          -73.86,
          -73.91,
          -73.905,
          -73.857,
          -73.854,
          -73.9006083,
          -73.989052,
          -73.998634,
          -73.99287700000001,
          -73.99600000000001,
          -73.98644,
          -73.85,
          -73.898583,
          -73.987352,
          -73.998,
          -73.988772,
          -73.993,
          -73.984165,
          -73.991117,
          -73.921423,
          -73.98194000000001,
          -73.931306,
          -73.987753,
          -73.990695,
          -73.993672,
          -74.00196109999999,
          -73.991,
          -73.92979100000001,
          -74.00455,
          -73.927903,
          -73.932924,
          -73.98722,
          -73.9241778,
          -73.974464,
          -73.9841,
          -73.9898,
          -73.977675,
          -73.987,
          -74.0093806,
          -73.9184028,
          -73.91425600000001,
          -73.981376,
          -73.983779,
          -73.99139720000001,
          -73.983261,
          -73.986139,
          -73.99498,
          -73.971906,
          -73.9128639,
          -74.0155167,
          -73.99570899999999,
          -73.980088,
          -73.977213,
          -73.968181,
          -74.0181806,
          -73.981934,
          -73.90296670000001,
          -73.862,
          -73.966398,
          -73.8973,
          -73.982,
          -73.853703,
          -73.964124,
          -73.89685,
          -73.844004,
          -73.998992,
          -73.9662,
          -73.95833,
          -73.976011,
          -73.837738,
          -73.86657199999999,
          -74.0259361,
          -73.959875,
          -74.000546,
          -73.98,
          -73.9816,
          -73.973694,
          -73.971763,
          -73.88382779999999,
          -73.9604,
          -73.969316,
          -73.95175,
          -74.0283833,
          -73.978235,
          -73.9764,
          -73.955626,
          -74.002533,
          -74.010694,
          -73.992418,
          -73.87639,
          -73.964725,
          -73.9472,
          -73.972,
          -73.950949,
          -73.994674,
          -73.83115,
          -73.808727,
          -73.900008,
          -73.867,
          -73.835914,
          -73.99167,
          -73.91826800000001,
          -73.905925,
          -73.962016,
          -73.9762194,
          -73.961372,
          -73.95961,
          -73.9742194,
          -73.97301390000001,
          -73.955841,
          -73.97331940000001,
          -73.9789667,
          -73.974125,
          -73.978758,
          -73.98376999999999,
          -73.9819917,
          -73.994293,
          -74.031222,
          -74.0238528,
          -73.838369,
          -73.76142220000001,
          -73.95756,
          -73.953567,
          -73.887906,
          -73.889837,
          -73.975196,
          -73.9900056,
          -73.964472,
          -73.94906,
          -73.99472,
          -73.990216,
          -73.959071,
          -73.994079,
          -74.014229,
          -74.013675,
          -73.85096800000001,
          -73.96156500000001,
          -73.816,
          -74.0116,
          -73.925414,
          -73.95021899999999,
          -73.995636,
          -73.9034528,
          -73.868,
          -73.91932,
          -74.00471999999999,
          -73.83233100000001,
          -73.867,
          -73.90739,
          -73.905158,
          -74.00054399999999,
          -74,
          -74.00188,
          -74.005134,
          -74.006,
          -73.9948,
          -73.851686,
          -73.9252,
          -74.0092,
          -73.910136,
          -74.003,
          -73.979613,
          -73.963308,
          -73.949574,
          -74.00671,
          -73.9931,
          -73.960047,
          -73.885589,
          -73.96588299999999,
          -73.9643,
          -74.01075300000001,
          -73.945257,
          -73.9451,
          -73.870685,
          -73.914514,
          -73.87306,
          -73.91927700000001,
          -73.982277,
          -73.910709,
          -73.9781722,
          -73.925,
          -73.92727099999999,
          -73.830614,
          -73.89902099999999,
          -73.907862,
          -73.90417099999999,
          -73.874,
          -73.990259,
          -73.88,
          -73.96275,
          -73.76807600000001,
          -73.879194,
          -73.88104,
          -73.988199,
          -73.8719,
          -73.97262099999999,
          -73.98092700000001,
          -73.972554,
          -73.947652,
          -73.941979,
          -73.950051,
          -73.897133,
          -73.901053,
          -73.90198199999999,
          -74.006525,
          -73.9944,
          -73.775986,
          -73.958545,
          -73.955712,
          -74.007,
          -73.892,
          -73.896704,
          -73.9758556,
          -74.006463,
          -74.0077444,
          -73.9745,
          -73.79681,
          -73.922067,
          -73.944426,
          -73.970518,
          -73.877521,
          -73.940735,
          -73.993864,
          -73.86559,
          -73.954296,
          -73.84580600000001,
          -73.867,
          -73.915458,
          -73.905029,
          -73.953009,
          -73.98971999999999,
          -73.813499,
          -74.00532199999999,
          -73.830316,
          -73.9861417,
          -73.985109,
          -73.985431,
          -73.85903499999999,
          -73.9492583,
          -73.89164,
          -73.89699999999999,
          -73.95391,
          -73.908,
          -73.799973,
          -73.9872333,
          -73.923569,
          -73.86909720000001,
          -73.90151,
          -73.95884000000001,
          -73.9723444,
          -73.9802306,
          -73.894343,
          -73.89743299999999,
          -73.940606,
          -73.942151,
          -73.918376,
          -73.9287,
          -73.96758299999999,
          -73.974466,
          -73.82422,
          -73.969082,
          -73.896489,
          -73.90048,
          -73.896232,
          -73.947902,
          -73.8303167,
          -73.957944,
          -73.9752306,
          -73.94929,
          -73.951464,
          -73.836751,
          -73.939877,
          -73.93198000000001,
          -73.86039699999999,
          -73.87447399999999,
          -73.884687,
          -73.755426,
          -73.914814,
          null,
          -73.911776,
          -73.93528,
          -73.949149,
          -73.95082,
          -73.95528,
          -73.9745667,
          -73.98090400000001,
          -73.89919,
          -73.88258499999999,
          -73.997887,
          -73.94846,
          -73.96300000000001,
          -73.834034,
          -73.906918,
          -73.87915100000001,
          -73.949575,
          -73.9494,
          -73.968587,
          -73.996862,
          -73.998944,
          -74.006821,
          -74.032981,
          -74.04311700000001,
          -74.155425,
          -74.0278,
          -74.063114,
          -74.16417,
          -74.034757,
          -73.98824,
          -73.99286500000001,
          -74.0114,
          -74.009293,
          -73.957858,
          -73.961651,
          -73.802762,
          -73.827138,
          -73.856063,
          -73.868,
          -73.894129,
          -73.82018599999999,
          -73.950691,
          -73.997812,
          -73.994079,
          -73.90100000000001,
          -73.962461,
          -73.937387,
          -73.9403444,
          -73.92168000000001,
          -74.012971,
          -74.013,
          -73.963881,
          -73.954346,
          -73.908939,
          -73.910823,
          -73.843703,
          -73.83618,
          -73.902626,
          -73.89111,
          -73.953438,
          -73.915586,
          null,
          null,
          null,
          null,
          null,
          null,
          null,
          null,
          null,
          null,
          null,
          null,
          null,
          null,
          null,
          -73.82759399999999,
          -73.907733,
          -73.981888,
          -73.953266,
          -73.880825,
          -73.893,
          -73.99722,
          -74.004035,
          -73.99722,
          -74.07417,
          -73.867307,
          -73.918934,
          -73.950863,
          -73.981139,
          -73.788536,
          -73.809714,
          -73.80774,
          -73.901768,
          -73.922882,
          -74.0748,
          -73.905973,
          -73.98391,
          -73.830786,
          -73.929062,
          -73.93191999999999,
          -73.890266,
          -73.888593,
          -73.891724,
          -73.8196,
          -73.81656,
          -74.009528,
          -74.000945,
          -73.9758,
          -73.842072,
          -74.0128,
          -73.886147,
          -73.8455806,
          -73.9044,
          -73.950262,
          -73.870397,
          -73.85141800000001,
          -73.87880799999999,
          -74.012,
          -73.986783,
          -73.846793
         ],
         "marker": {
          "color": [
           0.4152,
           0.53,
           0.4198,
           0.4385,
           0.4485,
           0.4393,
           0.4129,
           0.4823,
           0.3704,
           0.4599,
           0,
           0.3312,
           0.5919,
           0.411,
           0.1924,
           0.3672,
           0.4529,
           0.5903,
           0.3987,
           0.3919,
           0.3655,
           0.3631,
           0.4091,
           0.3228,
           0.499,
           0.5637,
           0.4725,
           0.4276,
           0.3692,
           0.4801,
           0.3577,
           0.3599,
           0.397,
           0.2794,
           0.2909,
           0.2781,
           0.4328,
           0.4709,
           0.3404,
           0.3362,
           0.4325,
           0.4792,
           0.504,
           0.567,
           0.5709,
           0.4148,
           0.4311,
           0.4111,
           0.3929,
           0.5174,
           0.3813,
           0.4532,
           0.4118,
           0.3959,
           0.5832,
           0.4511,
           0.5197,
           0.5105,
           0.8706,
           0.4883,
           0.1959,
           0.3681,
           0.4254,
           0.5278,
           0.4359,
           0.3691,
           0.5555,
           0.476,
           0.4851,
           0.3488,
           0.3727,
           0.555,
           0.3676,
           0.4026,
           0.3057,
           0.3438,
           0.4698,
           0.4222,
           0.3594,
           0.2303,
           0.2599,
           0.2831,
           0.249,
           0.2077,
           0.4395,
           0.3074,
           0.3419,
           0.5171,
           0.2656,
           0.1974,
           0.3535,
           0.2503,
           0.5195,
           0.3293,
           0.2181,
           0.2715,
           0.1602,
           0.2224,
           0.3899,
           0.2167,
           0.4619,
           0.5063,
           0.2677,
           0.5229,
           0.486,
           0.4131,
           0.218,
           0.2432,
           0.2468,
           0.1859,
           0.2067,
           0.4805,
           0.5291,
           0.4268,
           0.2502,
           0.1967,
           0.4057,
           0.1328,
           0.1895,
           0.621,
           0.1962,
           0.5376,
           0.4956,
           0.5658,
           0.2336,
           0.2466,
           0.3334,
           0.5532,
           0.2488,
           0.4802,
           0.4506,
           0.3425,
           0.4586,
           0.1703,
           0.3536,
           0.3076,
           0.6319,
           0.3624,
           0.3974,
           0.3098,
           0.3891,
           0.4053,
           0.3966,
           0.5438,
           0.4265,
           0.4165,
           0.4497,
           0.3054,
           0.3474,
           0.3462,
           0.292,
           0.6357,
           0.6053,
           0.44,
           0.3423,
           0.3789,
           0.5484,
           0.3214,
           0.3757,
           0.2587,
           0.3963,
           0.2415,
           0.5971,
           0.4239,
           0.3633,
           0.3414,
           0.4252,
           0.4679,
           0.1413,
           0.1117,
           0.4471,
           0.4054,
           0.4586,
           0.2122,
           0.4009,
           0.4461,
           0.3337,
           0.4843,
           0.4865,
           0.4492,
           0.5554,
           0.531,
           0.4301,
           0.5012,
           0.5859,
           0.4689,
           0.3163,
           0.3984,
           0.518,
           0.4742,
           0.4172,
           0.4598,
           0.3226,
           0.2633,
           0.4672,
           0.4802,
           0.4009,
           0.3059,
           0.4093,
           0.3295,
           0.4744,
           0.473,
           0.2639,
           0.252,
           0.221,
           0.3367,
           0.1939,
           0.2076,
           0.4501,
           0.4811,
           0.3238,
           0.2472,
           0.5771,
           0.5547,
           0.2803,
           0.3738,
           0.3749,
           0.5152,
           0.2183,
           0.4058,
           0.4406,
           0.4449,
           0.7109,
           0.2891,
           0.3745,
           0.279,
           0.2338,
           0.182,
           0.3426,
           0.4717,
           0.4109,
           0.1654,
           0.4524,
           0.2488,
           0.4153,
           0.4608,
           0.4863,
           0.2374,
           0.3343,
           0.3889,
           0.3788,
           0.3252,
           0.4577,
           0.2124,
           0.3888,
           0.2328,
           0.4417,
           0.4408,
           0.5558,
           0.6904,
           0.3278,
           0.4466,
           0.556,
           0.3951,
           0.5046,
           0.4278,
           0.4242,
           0.4677,
           0.468,
           0.4505,
           0.2479,
           0.3766,
           0.3824,
           0.2723,
           0.572,
           0.4941,
           0.3415,
           0.368,
           0.1846,
           0.3044,
           0.3275,
           0.336,
           0.4341,
           0.9794,
           0.4427,
           0.5319,
           0.5036,
           0.8267,
           0.5269,
           0.2836,
           0.4098,
           0.3935,
           0.196,
           0.4374,
           0.4934,
           0.3669,
           0.2427,
           0.2505,
           0.3327,
           0.3007,
           0.454,
           0.509,
           0.3894,
           0.4433,
           0.441,
           0.3939,
           0.3828,
           0.4914,
           0.3678,
           0.3634,
           0.4262,
           0.577,
           0.4966,
           0.317,
           1.4074,
           0.2047,
           0.2663,
           0.3964,
           0.2906,
           0.3727,
           0.3806,
           0.218,
           0.4851,
           0.432,
           0.3798,
           0.3709,
           0.3415,
           0.224,
           0.5761,
           0.5957,
           0.3451,
           0.4522,
           0.4129,
           0.6239,
           0.3958,
           0.4247,
           0.3739,
           0.4826,
           0.4188,
           0.469,
           0.4201,
           0.3434,
           0.4309,
           0.221,
           0.4206,
           0.3596,
           0.4828,
           0.4163,
           0.3959,
           0.3489,
           0.4667,
           0.4612,
           0.4571,
           0.3368,
           0.561,
           0.5156,
           0.4165,
           0.5208,
           0.4871,
           0.3424,
           0.4969,
           0,
           0.5284,
           0.4011,
           0.4122,
           0.4246,
           0.4056,
           0.3957,
           0.3386,
           0.3752,
           0.4641,
           0.6683,
           0.4529,
           0.4441,
           0.3888,
           0.468,
           0.3981,
           0.445,
           0.449,
           0.4664,
           0.3708,
           0.3116,
           0.3231,
           0.3064,
           0.3828,
           0.4076,
           0.262,
           0.5149,
           0.4373,
           0.2863,
           0.3308,
           0.3012,
           0.4356,
           0.1824,
           0.4601,
           0.5957,
           0.4159,
           0.4131,
           0.3526,
           0.413,
           0.3824,
           0.3607,
           0.4538,
           0.2996,
           0.4264,
           0.4243,
           0.5075,
           0.2491,
           0.3339,
           0.4187,
           0.2396,
           0.1729,
           1.2465,
           2.2857,
           0.3938,
           0.4655,
           0.4013,
           0.4756,
           0.3357,
           0.522,
           0.4104,
           0.458,
           0,
           0,
           0,
           0,
           0,
           0,
           0,
           0,
           0,
           0,
           0,
           0,
           0,
           0,
           0,
           0.3109,
           0.4458,
           0.155,
           0.4087,
           0.3857,
           0.4442,
           0.3751,
           0.2271,
           0.2376,
           0.1841,
           0.5018,
           0.4005,
           0.5099,
           0.4776,
           0.2785,
           0.4772,
           0.4227,
           0.3698,
           0.4399,
           0.3484,
           0.4407,
           0.3821,
           0.3682,
           0.3872,
           0.4336,
           0.3853,
           0.4451,
           0.5363,
           0.4018,
           0.4706,
           0.1959,
           0.2591,
           0.455,
           0.4098,
           0.1854,
           0.4589,
           0.4646,
           0.5987,
           0.5282,
           0.458,
           0.525,
           0.4366,
           0.1714,
           0.2278,
           0.4141
          ],
          "coloraxis": "coloraxis",
          "size": [
           648.5714285714286,
           3772.714285714286,
           1732.857142857143,
           2165.714285714286,
           537.5714285714286,
           361.57142857142856,
           432,
           1069.857142857143,
           1686.4285714285713,
           1747.5714285714287,
           438.85714285714283,
           989,
           2542.4285714285716,
           831.8571428571429,
           1274.142857142857,
           1278.142857142857,
           2104,
           449.14285714285717,
           3698.1428571428573,
           1037.4285714285713,
           1699.2857142857142,
           3221.714285714286,
           1874.857142857143,
           633.4285714285714,
           1958.7142857142858,
           655.8571428571429,
           1305,
           2895.714285714286,
           1061.4285714285713,
           507.14285714285717,
           475.14285714285717,
           1608.5714285714287,
           2682.8571428571427,
           2637,
           2580.8571428571427,
           10817,
           578,
           382.2857142857143,
           1261.2857142857142,
           788.2857142857143,
           3159.4285714285716,
           643,
           1409.4285714285713,
           1531,
           4219.714285714285,
           1278.5714285714287,
           1044.7142857142858,
           1077.5714285714287,
           908,
           885.7142857142857,
           2064.285714285714,
           894,
           2275.5714285714284,
           2014.7142857142858,
           2157.4285714285716,
           862.1428571428571,
           1118.7142857142858,
           708,
           979.4285714285714,
           1022.5714285714286,
           767.1428571428571,
           547.5714285714286,
           1208.7142857142858,
           3538.714285714286,
           1250.142857142857,
           599,
           1521.857142857143,
           670.1428571428571,
           960.2857142857143,
           209.71428571428572,
           543,
           270.2857142857143,
           1074,
           690.7142857142857,
           623.2857142857143,
           1053.4285714285713,
           851.2857142857143,
           490.2857142857143,
           546.8571428571429,
           1732.4285714285713,
           2426.1428571428573,
           2732.714285714286,
           1449.7142857142858,
           2349.8571428571427,
           837.7142857142857,
           652.7142857142857,
           648,
           687.8571428571429,
           1109.857142857143,
           1162.142857142857,
           2537.5714285714284,
           1740.7142857142858,
           2055.8571428571427,
           3472.1428571428573,
           1002.2857142857143,
           13519,
           2712,
           8775.142857142857,
           2561.4285714285716,
           5538.428571428572,
           997.7142857142857,
           2341.4285714285716,
           462.42857142857144,
           410.85714285714283,
           873.8571428571429,
           1521.2857142857142,
           1116.857142857143,
           3483.285714285714,
           12748.714285714286,
           11547.142857142857,
           8296,
           1536.4285714285713,
           2189,
           1308.4285714285713,
           5579.857142857143,
           1673.857142857143,
           1825.4285714285713,
           1455.2857142857142,
           1773.142857142857,
           856.2857142857143,
           1528.5714285714287,
           1027.857142857143,
           1839.2857142857142,
           576.7142857142857,
           3015,
           1327.7142857142858,
           6122.142857142857,
           2434.1428571428573,
           7440.428571428572,
           2836.5714285714284,
           2613.714285714286,
           2583,
           586.4285714285714,
           1749,
           1332,
           2764.4285714285716,
           974.2857142857143,
           3246.8571428571427,
           874.4285714285714,
           4943.571428571428,
           5143.142857142857,
           1141.2857142857142,
           529.5714285714286,
           756.7142857142857,
           968,
           4382.428571428572,
           1066.142857142857,
           1884.7142857142858,
           1700,
           1248.142857142857,
           1322.2857142857142,
           3275.714285714286,
           788,
           1474.4285714285713,
           3459.8571428571427,
           1272.5714285714287,
           426.7142857142857,
           2375,
           5965.285714285715,
           4334.285714285715,
           1959.857142857143,
           1462,
           3666.5714285714284,
           1178.5714285714287,
           2504.1428571428573,
           4861.714285714285,
           2755.285714285714,
           959,
           337.57142857142856,
           610.1428571428571,
           231.85714285714286,
           804.1428571428571,
           382.14285714285717,
           1586.2857142857142,
           1401,
           269,
           458.85714285714283,
           346.42857142857144,
           988.7142857142857,
           1107.857142857143,
           545.1428571428571,
           479.85714285714283,
           1112.4285714285713,
           295,
           599.2857142857143,
           387.57142857142856,
           5782.714285714285,
           416.42857142857144,
           1275.7142857142858,
           1186.4285714285713,
           981.5714285714286,
           1317.7142857142858,
           567.7142857142857,
           247.85714285714286,
           3722.285714285714,
           1162.2857142857142,
           959.5714285714286,
           649.7142857142857,
           460,
           1473.5714285714287,
           602.5714285714286,
           791.5714285714286,
           1647,
           3384.714285714286,
           158.42857142857142,
           461.85714285714283,
           1458.7142857142858,
           278.42857142857144,
           552.2857142857143,
           2248.4285714285716,
           53.42857142857143,
           622.2857142857143,
           1905.5714285714287,
           867.4285714285714,
           2191.4285714285716,
           1094.857142857143,
           369,
           1182.5714285714287,
           2610.5714285714284,
           647.2857142857143,
           595.1428571428571,
           1428,
           384.2857142857143,
           2327.5714285714284,
           1463.4285714285713,
           1721.142857142857,
           1884.2857142857142,
           472,
           1550.2857142857142,
           1035.857142857143,
           637.2857142857143,
           1423.5714285714287,
           494.85714285714283,
           1161.4285714285713,
           1685.142857142857,
           2387.5714285714284,
           1630.142857142857,
           533.4285714285714,
           709.4285714285714,
           778.2857142857143,
           492.14285714285717,
           749.4285714285714,
           1116.857142857143,
           1696,
           584.2857142857143,
           1511.2857142857142,
           857.8571428571429,
           563.5714285714286,
           287.42857142857144,
           2088.285714285714,
           2437,
           2385.285714285714,
           811.4285714285714,
           1003.8571428571429,
           1190.142857142857,
           709.7142857142857,
           563.5714285714286,
           195.28571428571428,
           813.7142857142857,
           1027.5714285714287,
           1449.5714285714287,
           782,
           627.4285714285714,
           119.14285714285714,
           1404.857142857143,
           2131.8571428571427,
           3660,
           1414.857142857143,
           2090.285714285714,
           1389.142857142857,
           1971.4285714285713,
           1938.5714285714287,
           1416.5714285714287,
           672.1428571428571,
           1754.7142857142858,
           1665.857142857143,
           780.2857142857143,
           1068.7142857142858,
           975.1428571428571,
           93.85714285714286,
           1813.2857142857142,
           771.8571428571429,
           483.14285714285717,
           765.7142857142857,
           1068,
           831.7142857142857,
           2483.285714285714,
           6356.142857142857,
           724.5714285714286,
           305.14285714285717,
           1075.7142857142858,
           1326.142857142857,
           991.1428571428571,
           2252.285714285714,
           816.1428571428571,
           3766.8571428571427,
           998.7142857142857,
           1755.2857142857142,
           725.8571428571429,
           866.7142857142857,
           866,
           1294.4285714285713,
           653.8571428571429,
           1187.857142857143,
           459.42857142857144,
           1276.4285714285713,
           215.57142857142858,
           1555.857142857143,
           255.28571428571428,
           624.8571428571429,
           749.7142857142857,
           545.1428571428571,
           1450.5714285714287,
           513.1428571428571,
           2026.857142857143,
           787.7142857142857,
           2642.714285714286,
           3547.1428571428573,
           1135.2857142857142,
           4913.428571428572,
           281.42857142857144,
           3046.1428571428573,
           536,
           920.7142857142857,
           1094.2857142857142,
           1346.7142857142858,
           840.2857142857143,
           909,
           795,
           803.8571428571429,
           798.4285714285714,
           672,
           1179,
           3927.285714285714,
           412.57142857142856,
           351.14285714285717,
           575.8571428571429,
           758.2857142857143,
           5860,
           2111.285714285714,
           86.14285714285714,
           2229.5714285714284,
           534,
           333.57142857142856,
           1016.5714285714286,
           1003,
           460.85714285714283,
           1098.857142857143,
           1476.7142857142858,
           641.2857142857143,
           922.7142857142857,
           0,
           3102.4285714285716,
           1490.142857142857,
           895.8571428571429,
           1565.142857142857,
           770,
           270,
           1219.142857142857,
           509.57142857142856,
           757.5714285714286,
           1061.2857142857142,
           1207.4285714285713,
           1659.7142857142858,
           183,
           933.8571428571429,
           540.7142857142857,
           2295.4285714285716,
           597,
           737.1428571428571,
           1228,
           600.2857142857143,
           643.5714285714286,
           1428.2857142857142,
           2207,
           910.5714285714286,
           2433.285714285714,
           3546.4285714285716,
           3894.5714285714284,
           1302.4285714285713,
           3495.4285714285716,
           814.8571428571429,
           6994.428571428572,
           3598.1428571428573,
           280,
           1098.7142857142858,
           963.5714285714286,
           631.2857142857143,
           469.85714285714283,
           1167.142857142857,
           638.8571428571429,
           77.85714285714286,
           661.7142857142857,
           1298.857142857143,
           907.4285714285714,
           1072.857142857143,
           1573.857142857143,
           1084.857142857143,
           1564.142857142857,
           849.7142857142857,
           521.1428571428571,
           565.2857142857143,
           738.2857142857143,
           911,
           796.4285714285714,
           827.8571428571429,
           1002.7142857142857,
           119.85714285714286,
           1029.142857142857,
           7760.142857142857,
           1031.5714285714287,
           913.5714285714286,
           0,
           0,
           0,
           0,
           0,
           0,
           0,
           0,
           0,
           0,
           0,
           0,
           0,
           0,
           0,
           36.285714285714285,
           558.4285714285714,
           1129.142857142857,
           2170.1428571428573,
           521.5714285714286,
           1084.7142857142858,
           629.7142857142857,
           1340.7142857142858,
           1122.7142857142858,
           919.1428571428571,
           815.8571428571429,
           2011.4285714285713,
           1011.2857142857143,
           1848.2857142857142,
           253.42857142857142,
           774.1428571428571,
           2934.1428571428573,
           525.4285714285714,
           1037.857142857143,
           133.57142857142858,
           1298.857142857143,
           1068.2857142857142,
           2146,
           1863.4285714285713,
           3491.8571428571427,
           501.7142857142857,
           442.14285714285717,
           570.8571428571429,
           849,
           959.4285714285714,
           3205.5714285714284,
           4521.285714285715,
           426.14285714285717,
           771.8571428571429,
           1904.7142857142858,
           345.7142857142857,
           500.85714285714283,
           688,
           1276.2857142857142,
           2929.4285714285716,
           721.4285714285714,
           615,
           1036.5714285714287,
           949.7142857142857,
           458.7142857142857
          ],
          "sizemode": "area",
          "sizeref": 33.7975
         },
         "mode": "markers",
         "name": "",
         "showlegend": false,
         "subplot": "mapbox",
         "type": "scattermapbox"
        }
       ],
       "layout": {
        "coloraxis": {
         "cmax": 0.46482500000000004,
         "cmin": 0,
         "colorbar": {
          "title": {
           "text": "Recovery Ratio"
          }
         },
         "colorscale": [
          [
           0,
           "rgb(247,251,255)"
          ],
          [
           0.125,
           "rgb(222,235,247)"
          ],
          [
           0.25,
           "rgb(198,219,239)"
          ],
          [
           0.375,
           "rgb(158,202,225)"
          ],
          [
           0.5,
           "rgb(107,174,214)"
          ],
          [
           0.625,
           "rgb(66,146,198)"
          ],
          [
           0.75,
           "rgb(33,113,181)"
          ],
          [
           0.875,
           "rgb(8,81,156)"
          ],
          [
           1,
           "rgb(8,48,107)"
          ]
         ]
        },
        "legend": {
         "itemsizing": "constant",
         "tracegroupgap": 0
        },
        "mapbox": {
         "center": {
          "lat": 40.729564639473686,
          "lon": -73.93784501776312
         },
         "domain": {
          "x": [
           0,
           1
          ],
          "y": [
           0,
           1
          ]
         },
         "style": "carto-positron",
         "zoom": 10
        },
        "margin": {
         "b": 0,
         "l": 0,
         "r": 0,
         "t": 0
        },
        "template": {
         "data": {
          "bar": [
           {
            "error_x": {
             "color": "#2a3f5f"
            },
            "error_y": {
             "color": "#2a3f5f"
            },
            "marker": {
             "line": {
              "color": "#E5ECF6",
              "width": 0.5
             }
            },
            "type": "bar"
           }
          ],
          "barpolar": [
           {
            "marker": {
             "line": {
              "color": "#E5ECF6",
              "width": 0.5
             }
            },
            "type": "barpolar"
           }
          ],
          "carpet": [
           {
            "aaxis": {
             "endlinecolor": "#2a3f5f",
             "gridcolor": "white",
             "linecolor": "white",
             "minorgridcolor": "white",
             "startlinecolor": "#2a3f5f"
            },
            "baxis": {
             "endlinecolor": "#2a3f5f",
             "gridcolor": "white",
             "linecolor": "white",
             "minorgridcolor": "white",
             "startlinecolor": "#2a3f5f"
            },
            "type": "carpet"
           }
          ],
          "choropleth": [
           {
            "colorbar": {
             "outlinewidth": 0,
             "ticks": ""
            },
            "type": "choropleth"
           }
          ],
          "contour": [
           {
            "colorbar": {
             "outlinewidth": 0,
             "ticks": ""
            },
            "colorscale": [
             [
              0,
              "#0d0887"
             ],
             [
              0.1111111111111111,
              "#46039f"
             ],
             [
              0.2222222222222222,
              "#7201a8"
             ],
             [
              0.3333333333333333,
              "#9c179e"
             ],
             [
              0.4444444444444444,
              "#bd3786"
             ],
             [
              0.5555555555555556,
              "#d8576b"
             ],
             [
              0.6666666666666666,
              "#ed7953"
             ],
             [
              0.7777777777777778,
              "#fb9f3a"
             ],
             [
              0.8888888888888888,
              "#fdca26"
             ],
             [
              1,
              "#f0f921"
             ]
            ],
            "type": "contour"
           }
          ],
          "contourcarpet": [
           {
            "colorbar": {
             "outlinewidth": 0,
             "ticks": ""
            },
            "type": "contourcarpet"
           }
          ],
          "heatmap": [
           {
            "colorbar": {
             "outlinewidth": 0,
             "ticks": ""
            },
            "colorscale": [
             [
              0,
              "#0d0887"
             ],
             [
              0.1111111111111111,
              "#46039f"
             ],
             [
              0.2222222222222222,
              "#7201a8"
             ],
             [
              0.3333333333333333,
              "#9c179e"
             ],
             [
              0.4444444444444444,
              "#bd3786"
             ],
             [
              0.5555555555555556,
              "#d8576b"
             ],
             [
              0.6666666666666666,
              "#ed7953"
             ],
             [
              0.7777777777777778,
              "#fb9f3a"
             ],
             [
              0.8888888888888888,
              "#fdca26"
             ],
             [
              1,
              "#f0f921"
             ]
            ],
            "type": "heatmap"
           }
          ],
          "heatmapgl": [
           {
            "colorbar": {
             "outlinewidth": 0,
             "ticks": ""
            },
            "colorscale": [
             [
              0,
              "#0d0887"
             ],
             [
              0.1111111111111111,
              "#46039f"
             ],
             [
              0.2222222222222222,
              "#7201a8"
             ],
             [
              0.3333333333333333,
              "#9c179e"
             ],
             [
              0.4444444444444444,
              "#bd3786"
             ],
             [
              0.5555555555555556,
              "#d8576b"
             ],
             [
              0.6666666666666666,
              "#ed7953"
             ],
             [
              0.7777777777777778,
              "#fb9f3a"
             ],
             [
              0.8888888888888888,
              "#fdca26"
             ],
             [
              1,
              "#f0f921"
             ]
            ],
            "type": "heatmapgl"
           }
          ],
          "histogram": [
           {
            "marker": {
             "colorbar": {
              "outlinewidth": 0,
              "ticks": ""
             }
            },
            "type": "histogram"
           }
          ],
          "histogram2d": [
           {
            "colorbar": {
             "outlinewidth": 0,
             "ticks": ""
            },
            "colorscale": [
             [
              0,
              "#0d0887"
             ],
             [
              0.1111111111111111,
              "#46039f"
             ],
             [
              0.2222222222222222,
              "#7201a8"
             ],
             [
              0.3333333333333333,
              "#9c179e"
             ],
             [
              0.4444444444444444,
              "#bd3786"
             ],
             [
              0.5555555555555556,
              "#d8576b"
             ],
             [
              0.6666666666666666,
              "#ed7953"
             ],
             [
              0.7777777777777778,
              "#fb9f3a"
             ],
             [
              0.8888888888888888,
              "#fdca26"
             ],
             [
              1,
              "#f0f921"
             ]
            ],
            "type": "histogram2d"
           }
          ],
          "histogram2dcontour": [
           {
            "colorbar": {
             "outlinewidth": 0,
             "ticks": ""
            },
            "colorscale": [
             [
              0,
              "#0d0887"
             ],
             [
              0.1111111111111111,
              "#46039f"
             ],
             [
              0.2222222222222222,
              "#7201a8"
             ],
             [
              0.3333333333333333,
              "#9c179e"
             ],
             [
              0.4444444444444444,
              "#bd3786"
             ],
             [
              0.5555555555555556,
              "#d8576b"
             ],
             [
              0.6666666666666666,
              "#ed7953"
             ],
             [
              0.7777777777777778,
              "#fb9f3a"
             ],
             [
              0.8888888888888888,
              "#fdca26"
             ],
             [
              1,
              "#f0f921"
             ]
            ],
            "type": "histogram2dcontour"
           }
          ],
          "mesh3d": [
           {
            "colorbar": {
             "outlinewidth": 0,
             "ticks": ""
            },
            "type": "mesh3d"
           }
          ],
          "parcoords": [
           {
            "line": {
             "colorbar": {
              "outlinewidth": 0,
              "ticks": ""
             }
            },
            "type": "parcoords"
           }
          ],
          "pie": [
           {
            "automargin": true,
            "type": "pie"
           }
          ],
          "scatter": [
           {
            "marker": {
             "colorbar": {
              "outlinewidth": 0,
              "ticks": ""
             }
            },
            "type": "scatter"
           }
          ],
          "scatter3d": [
           {
            "line": {
             "colorbar": {
              "outlinewidth": 0,
              "ticks": ""
             }
            },
            "marker": {
             "colorbar": {
              "outlinewidth": 0,
              "ticks": ""
             }
            },
            "type": "scatter3d"
           }
          ],
          "scattercarpet": [
           {
            "marker": {
             "colorbar": {
              "outlinewidth": 0,
              "ticks": ""
             }
            },
            "type": "scattercarpet"
           }
          ],
          "scattergeo": [
           {
            "marker": {
             "colorbar": {
              "outlinewidth": 0,
              "ticks": ""
             }
            },
            "type": "scattergeo"
           }
          ],
          "scattergl": [
           {
            "marker": {
             "colorbar": {
              "outlinewidth": 0,
              "ticks": ""
             }
            },
            "type": "scattergl"
           }
          ],
          "scattermapbox": [
           {
            "marker": {
             "colorbar": {
              "outlinewidth": 0,
              "ticks": ""
             }
            },
            "type": "scattermapbox"
           }
          ],
          "scatterpolar": [
           {
            "marker": {
             "colorbar": {
              "outlinewidth": 0,
              "ticks": ""
             }
            },
            "type": "scatterpolar"
           }
          ],
          "scatterpolargl": [
           {
            "marker": {
             "colorbar": {
              "outlinewidth": 0,
              "ticks": ""
             }
            },
            "type": "scatterpolargl"
           }
          ],
          "scatterternary": [
           {
            "marker": {
             "colorbar": {
              "outlinewidth": 0,
              "ticks": ""
             }
            },
            "type": "scatterternary"
           }
          ],
          "surface": [
           {
            "colorbar": {
             "outlinewidth": 0,
             "ticks": ""
            },
            "colorscale": [
             [
              0,
              "#0d0887"
             ],
             [
              0.1111111111111111,
              "#46039f"
             ],
             [
              0.2222222222222222,
              "#7201a8"
             ],
             [
              0.3333333333333333,
              "#9c179e"
             ],
             [
              0.4444444444444444,
              "#bd3786"
             ],
             [
              0.5555555555555556,
              "#d8576b"
             ],
             [
              0.6666666666666666,
              "#ed7953"
             ],
             [
              0.7777777777777778,
              "#fb9f3a"
             ],
             [
              0.8888888888888888,
              "#fdca26"
             ],
             [
              1,
              "#f0f921"
             ]
            ],
            "type": "surface"
           }
          ],
          "table": [
           {
            "cells": {
             "fill": {
              "color": "#EBF0F8"
             },
             "line": {
              "color": "white"
             }
            },
            "header": {
             "fill": {
              "color": "#C8D4E3"
             },
             "line": {
              "color": "white"
             }
            },
            "type": "table"
           }
          ]
         },
         "layout": {
          "annotationdefaults": {
           "arrowcolor": "#2a3f5f",
           "arrowhead": 0,
           "arrowwidth": 1
          },
          "coloraxis": {
           "colorbar": {
            "outlinewidth": 0,
            "ticks": ""
           }
          },
          "colorscale": {
           "diverging": [
            [
             0,
             "#8e0152"
            ],
            [
             0.1,
             "#c51b7d"
            ],
            [
             0.2,
             "#de77ae"
            ],
            [
             0.3,
             "#f1b6da"
            ],
            [
             0.4,
             "#fde0ef"
            ],
            [
             0.5,
             "#f7f7f7"
            ],
            [
             0.6,
             "#e6f5d0"
            ],
            [
             0.7,
             "#b8e186"
            ],
            [
             0.8,
             "#7fbc41"
            ],
            [
             0.9,
             "#4d9221"
            ],
            [
             1,
             "#276419"
            ]
           ],
           "sequential": [
            [
             0,
             "#0d0887"
            ],
            [
             0.1111111111111111,
             "#46039f"
            ],
            [
             0.2222222222222222,
             "#7201a8"
            ],
            [
             0.3333333333333333,
             "#9c179e"
            ],
            [
             0.4444444444444444,
             "#bd3786"
            ],
            [
             0.5555555555555556,
             "#d8576b"
            ],
            [
             0.6666666666666666,
             "#ed7953"
            ],
            [
             0.7777777777777778,
             "#fb9f3a"
            ],
            [
             0.8888888888888888,
             "#fdca26"
            ],
            [
             1,
             "#f0f921"
            ]
           ],
           "sequentialminus": [
            [
             0,
             "#0d0887"
            ],
            [
             0.1111111111111111,
             "#46039f"
            ],
            [
             0.2222222222222222,
             "#7201a8"
            ],
            [
             0.3333333333333333,
             "#9c179e"
            ],
            [
             0.4444444444444444,
             "#bd3786"
            ],
            [
             0.5555555555555556,
             "#d8576b"
            ],
            [
             0.6666666666666666,
             "#ed7953"
            ],
            [
             0.7777777777777778,
             "#fb9f3a"
            ],
            [
             0.8888888888888888,
             "#fdca26"
            ],
            [
             1,
             "#f0f921"
            ]
           ]
          },
          "colorway": [
           "#636efa",
           "#EF553B",
           "#00cc96",
           "#ab63fa",
           "#FFA15A",
           "#19d3f3",
           "#FF6692",
           "#B6E880",
           "#FF97FF",
           "#FECB52"
          ],
          "font": {
           "color": "#2a3f5f"
          },
          "geo": {
           "bgcolor": "white",
           "lakecolor": "white",
           "landcolor": "#E5ECF6",
           "showlakes": true,
           "showland": true,
           "subunitcolor": "white"
          },
          "hoverlabel": {
           "align": "left"
          },
          "hovermode": "closest",
          "mapbox": {
           "style": "light"
          },
          "paper_bgcolor": "white",
          "plot_bgcolor": "#E5ECF6",
          "polar": {
           "angularaxis": {
            "gridcolor": "white",
            "linecolor": "white",
            "ticks": ""
           },
           "bgcolor": "#E5ECF6",
           "radialaxis": {
            "gridcolor": "white",
            "linecolor": "white",
            "ticks": ""
           }
          },
          "scene": {
           "xaxis": {
            "backgroundcolor": "#E5ECF6",
            "gridcolor": "white",
            "gridwidth": 2,
            "linecolor": "white",
            "showbackground": true,
            "ticks": "",
            "zerolinecolor": "white"
           },
           "yaxis": {
            "backgroundcolor": "#E5ECF6",
            "gridcolor": "white",
            "gridwidth": 2,
            "linecolor": "white",
            "showbackground": true,
            "ticks": "",
            "zerolinecolor": "white"
           },
           "zaxis": {
            "backgroundcolor": "#E5ECF6",
            "gridcolor": "white",
            "gridwidth": 2,
            "linecolor": "white",
            "showbackground": true,
            "ticks": "",
            "zerolinecolor": "white"
           }
          },
          "shapedefaults": {
           "line": {
            "color": "#2a3f5f"
           }
          },
          "ternary": {
           "aaxis": {
            "gridcolor": "white",
            "linecolor": "white",
            "ticks": ""
           },
           "baxis": {
            "gridcolor": "white",
            "linecolor": "white",
            "ticks": ""
           },
           "bgcolor": "#E5ECF6",
           "caxis": {
            "gridcolor": "white",
            "linecolor": "white",
            "ticks": ""
           }
          },
          "title": {
           "x": 0.05
          },
          "xaxis": {
           "automargin": true,
           "gridcolor": "white",
           "linecolor": "white",
           "ticks": "",
           "title": {
            "standoff": 15
           },
           "zerolinecolor": "white",
           "zerolinewidth": 2
          },
          "yaxis": {
           "automargin": true,
           "gridcolor": "white",
           "linecolor": "white",
           "ticks": "",
           "title": {
            "standoff": 15
           },
           "zerolinecolor": "white",
           "zerolinewidth": 2
          }
         }
        }
       }
      },
      "text/html": [
       "<div>\n",
       "        \n",
       "        \n",
       "            <div id=\"4ff326c1-934b-402c-b036-ebcccbae3252\" class=\"plotly-graph-div\" style=\"height:525px; width:100%;\"></div>\n",
       "            <script type=\"text/javascript\">\n",
       "                require([\"plotly\"], function(Plotly) {\n",
       "                    window.PLOTLYENV=window.PLOTLYENV || {};\n",
       "                    \n",
       "                if (document.getElementById(\"4ff326c1-934b-402c-b036-ebcccbae3252\")) {\n",
       "                    Plotly.newPlot(\n",
       "                        '4ff326c1-934b-402c-b036-ebcccbae3252',\n",
       "                        [{\"customdata\": [[\"103RD ST-CENTRAL PARK WEST\", \"1,562\", \"648\", 0.4152], [\"103RD ST-ROOSEVELT AVE\", \"7,117\", \"3,772\", 0.53], [\"103RD STREET-BROADWAY\", \"4,127\", \"1,732\", 0.4198], [\"103RD STREET-LEXINGTON AVE\", \"4,938\", \"2,165\", 0.4385], [\"104TH STREET\", \"1,198\", \"537\", 0.4485], [\"104TH STREET-LIBERTY AVENUE\", \"823\", \"361\", 0.4393], [\"109TH STREET-LIBERTY AVENUE\", \"1,046\", \"432\", 0.4129], [\"110TH STREET-8TH AVENUE\", \"2,218\", \"1,069\", 0.4823], [\"110TH STREET-BROADWAY\", \"4,552\", \"1,686\", 0.3704], [\"110TH STREET-LEXINGTON AVE\", \"3,799\", \"1,747\", 0.4599], [\"111TH STREET\", \"0\", \"438\", 0.0], [\"111TH STREET-LENOX AVENUE\", \"2,986\", \"989\", 0.3312], [\"111TH STREET-ROOSEVELT AVE\", \"4,295\", \"2,542\", 0.5919], [\"116TH STREET-8TH AVENUE\", \"2,024\", \"831\", 0.411], [\"116TH STREET-COLUMBIA\", \"6,622\", \"1,274\", 0.1924], [\"116TH STREET-LENOX AVENUE\", \"3,480\", \"1,278\", 0.3672], [\"116TH STREET-LEXINGTON AVE\", \"4,645\", \"2,104\", 0.4529], [\"121ST STREET\", \"760\", \"449\", 0.5903], [\"125TH STREET\", \"9,275\", \"3,698\", 0.3987], [\"125TH STREET & BROADWAY\", \"2,647\", \"1,037\", 0.3919], [\"125TH STREET-LENOX AVENUE\", \"4,648\", \"1,699\", 0.3655], [\"125TH STREET-LEXINGTON AVE\", \"8,872\", \"3,221\", 0.3631], [\"135TH STREET-LENOX AVENUE\", \"4,582\", \"1,874\", 0.4091], [\"135TH STREET-ST NICHOLAS AV\", \"1,962\", \"633\", 0.3228], [\"137TH STREET-BROADWAY\", \"3,925\", \"1,958\", 0.499], [\"138TH ST-GRAND CONCOURSE\", \"1,163\", \"655\", 0.5637], [\"138TH STREET-3RD AVE\", \"2,761\", \"1,305\", 0.4725], [\"145TH STREET\", \"6,772\", \"2,895\", 0.4276], [\"145TH STREET-BROADWAY\", \"2,874\", \"1,061\", 0.3692], [\"145TH STREET-LENOX AVENUE\", \"1,056\", \"507\", 0.4801], [\"148TH STREET-LENOX AVENUE\", \"1,328\", \"475\", 0.3577], [\"149TH ST-GRAND CONCOURSE\", \"4,469\", \"1,608\", 0.3599], [\"149TH STREET & 3RD AVENUE\", \"6,758\", \"2,682\", 0.397], [\"14TH STREET & 7TH AVENUE\", \"9,439\", \"2,637\", 0.2794], [\"14TH STREET-6TH AVENUE\", \"8,870\", \"2,580\", 0.2909], [\"14TH STREET-UNION SQUARE\", \"38,891\", \"10,817\", 0.2781], [\"155TH STREET-8TH AVENUE\", \"1,335\", \"578\", 0.4328], [\"155TH STREET-ST NICHOLAS AV\", \"811\", \"382\", 0.4709], [\"157TH STREET-BROADWAY\", \"3,705\", \"1,261\", 0.3404], [\"15TH ST-PROSPECT PARK WEST\", \"2,345\", \"788\", 0.3362], [\"161ST STREET-YANKEE STADIUM\", \"7,305\", \"3,159\", 0.4325], [\"163RD ST & AMSTERDAM AVE\", \"1,341\", \"643\", 0.4792], [\"167TH ST-GRAND CONCOURSE\", \"2,796\", \"1,409\", 0.504], [\"167TH STREET-RIVER AVENUE\", \"2,700\", \"1,531\", 0.567], [\"168TH STREET & BROADWAY\", \"7,391\", \"4,219\", 0.5709], [\"169TH STREET & HILLSIDE AVE\", \"3,082\", \"1,278\", 0.4148], [\"170TH STREET-GRAND CONC.\", \"2,423\", \"1,044\", 0.4311], [\"170TH STREET-JEROME AVENUE\", \"2,621\", \"1,077\", 0.4111], [\"174TH STREET-SOUTHERN BLVD\", \"2,311\", \"908\", 0.3929], [\"174TH-175TH ST-GRAND CONCOU\", \"1,712\", \"885\", 0.5174], [\"175TH STREET/FT WASHINGTON\", \"5,413\", \"2,064\", 0.3813], [\"176TH STREET-JEROME AVENUE\", \"1,972\", \"894\", 0.4532], [\"177TH STREET-PARKCHESTER\", \"5,525\", \"2,275\", 0.4118], [\"179TH STREET & HILLSIDE AVE\", \"5,089\", \"2,014\", 0.3959], [\"181ST STREET-FT WASH AVE\", \"3,699\", \"2,157\", 0.5832], [\"182ND STREET-183RD STREET\", \"1,911\", \"862\", 0.4511], [\"183RD STREET-JEROME AVENUE\", \"2,152\", \"1,118\", 0.5197], [\"18TH AVE-MCDONALD AVE\", \"1,386\", \"708\", 0.5105], [\"18TH AVENUE-62ND STREET\", \"1,125\", \"979\", 0.8706], [\"18TH AVENUE-86TH STREET\", \"2,094\", \"1,022\", 0.4883], [\"18TH STREET-7TH AVENUE\", \"3,915\", \"767\", 0.1959], [\"190TH STREET-OVERLOOK TERR\", \"1,487\", \"547\", 0.3681], [\"191ST STREET-ST NICHOLAS AV\", \"2,841\", \"1,208\", 0.4254], [\"1ST AVENUE-14TH STREET\", \"6,704\", \"3,538\", 0.5278], [\"205TH ST-BAINBRIDGE AVE\", \"2,868\", \"1,250\", 0.4359], [\"207TH STREET\", \"1,622\", \"599\", 0.3691], [\"207TH STREET-BROADWAY\", \"2,739\", \"1,521\", 0.5555], [\"20TH AVENUE-62ND STREET\", \"1,408\", \"670\", 0.476], [\"20TH AVENUE-86TH STREET\", \"1,979\", \"960\", 0.4851], [\"215TH STREET\", \"601\", \"209\", 0.3488], [\"219TH ST-WHITE PLAINS ROAD\", \"1,457\", \"543\", 0.3727], [\"21ST STREET-JACKSON AVENUE\", \"487\", \"270\", 0.555], [\"21ST STREET-QUEENSBRIDGE\", \"2,921\", \"1,074\", 0.3676], [\"225TH ST-WHITE PLAINS ROAD\", \"1,715\", \"690\", 0.4026], [\"225TH STREET\", \"2,038\", \"623\", 0.3057], [\"231ST STREET\", \"3,064\", \"1,053\", 0.3438], [\"233RD ST-WHITE PLAINS ROAD\", \"1,812\", \"851\", 0.4698], [\"238TH ST-WHITE PLAINS ROAD\", \"1,161\", \"490\", 0.4222], [\"238TH STREET-BROADWAY\", \"1,521\", \"546\", 0.3594], [\"23RD STREET & 5TH AVENUE\", \"7,522\", \"1,732\", 0.2303], [\"23RD STREET & 8TH AVENUE\", \"9,333\", \"2,426\", 0.2599], [\"23RD STREET-6TH AVENUE\", \"9,654\", \"2,732\", 0.2831], [\"23RD STREET-7TH AVENUE\", \"5,821\", \"1,449\", 0.249], [\"23RD STREET-PARK AVE SOUTH\", \"11,312\", \"2,349\", 0.2077], [\"241ST ST-WHITE PLAINS RD\", \"1,906\", \"837\", 0.4395], [\"242ND STREET & BROADWAY\", \"2,123\", \"652\", 0.3074], [\"25TH AVENUE-86TH STREET\", \"1,895\", \"648\", 0.3419], [\"25TH STREET-4TH AVENUE\", \"1,330\", \"687\", 0.5171], [\"28TH STREET & BROADWAY\", \"4,178\", \"1,109\", 0.2656], [\"28TH STREET-7TH AVENUE\", \"5,887\", \"1,162\", 0.1974], [\"28TH STREET-PARK AVE SOUTH\", \"7,179\", \"2,537\", 0.3535], [\"2ND AVENUE-HOUSTON STREET\", \"6,954\", \"1,740\", 0.2503], [\"30TH AVENUE & 31ST STREET\", \"3,957\", \"2,055\", 0.5195], [\"33RD STREET-PARK AVENUE\", \"10,543\", \"3,472\", 0.3293], [\"33RD STREET-QUEENS BLVD\", \"4,596\", \"1,002\", 0.2181], [\"34TH STREET & 6TH AVENUE\", \"49,801\", \"13,519\", 0.2715], [\"34TH STREET & 7TH AVENUE\", \"16,925\", \"2,712\", 0.1602], [\"34TH STREET & 8TH AVENUE\", \"39,456\", \"8,775\", 0.2224], [\"34TH STREET - HUDSON YARDS\", \"6,568\", \"2,561\", 0.3899], [\"34TH STREET - PENN STATION\", \"25,557\", \"5,538\", 0.2167], [\"36TH AVENUE & 31ST STREET\", \"2,159\", \"997\", 0.4619], [\"36TH STREET-4TH AVENUE\", \"4,624\", \"2,341\", 0.5063], [\"36TH STREET-NORTHERN BLVD\", \"1,727\", \"462\", 0.2677], [\"39TH AVENUE & 31ST STREET\", \"785\", \"410\", 0.5229], [\"3RD AVENUE-14TH STREET\", \"1,798\", \"873\", 0.486], [\"40TH STREET-LOWERY STREET\", \"3,682\", \"1,521\", 0.4131], [\"42ND STREET & 3RD AVENUE\", \"5,123\", \"1,116\", 0.218], [\"42ND STREET & 6TH AVENUE\", \"14,321\", \"3,483\", 0.2432], [\"42ND STREET & 8TH AVENUE\", \"51,658\", \"12,748\", 0.2468], [\"42ND STREET & GRAND CENTRAL\", \"62,109\", \"11,547\", 0.1859], [\"42ND STREET/TIMES SQUARE\", \"40,143\", \"8,296\", 0.2067], [\"45TH STREET-4TH AVENUE\", \"3,197\", \"1,536\", 0.4805], [\"46TH ST-BLISS ST\", \"4,137\", \"2,189\", 0.5291], [\"46TH STREET-BROADWAY\", \"3,065\", \"1,308\", 0.4268], [\"47-50 STREETS/ROCKEFELLER\", \"22,300\", \"5,579\", 0.2502], [\"49TH STREET & 7TH AVENUE\", \"8,511\", \"1,673\", 0.1967], [\"4TH AVENUE-9TH STREET\", \"4,499\", \"1,825\", 0.4057], [\"50TH STREET & 7TH AVENUE\", \"10,956\", \"1,455\", 0.1328], [\"50TH STREET-8TH AVENUE\", \"9,354\", \"1,773\", 0.1895], [\"50TH STREET-NEW UTRECHT AVE\", \"1,378\", \"856\", 0.621], [\"51ST STREET & LEXINGTON AVE\", \"7,789\", \"1,528\", 0.1962], [\"52ND STREET-ROOSEVELT AVE\", \"1,911\", \"1,027\", 0.5376], [\"53RD STREET-4TH AVENUE\", \"3,711\", \"1,839\", 0.4956], [\"55TH ST-NEW UTRECHT AVE\", \"1,019\", \"576\", 0.5658], [\"57TH STREET & 7TH AVENUE\", \"12,906\", \"3,015\", 0.2336], [\"57TH STREET-6TH AVENUE\", \"5,384\", \"1,327\", 0.2466], [\"59TH STREET & LEXINGTON AVE\", \"18,364\", \"6,122\", 0.3334], [\"59TH STREET-4TH AVENUE\", \"4,399\", \"2,434\", 0.5532], [\"59TH STREET/COLUMBUS CIRCLE\", \"29,908\", \"7,440\", 0.2488], [\"61ST STREET-ROOSEVELT AVE\", \"5,906\", \"2,836\", 0.4802], [\"63RD DRIVE-REGO PARK\", \"5,800\", \"2,613\", 0.4506], [\"63RD STREET-LEXINGTON AVE\", \"7,542\", \"2,583\", 0.3425], [\"65TH STREET-BROADWAY\", \"1,278\", \"586\", 0.4586], [\"66TH STREET-BROADWAY\", \"10,271\", \"1,749\", 0.1703], [\"67TH AVENUE-QUEENS BLVD\", \"3,767\", \"1,332\", 0.3536], [\"68TH STREET-HUNTER COLLEGE\", \"8,987\", \"2,764\", 0.3076], [\"69TH STREET-ROOSEVELT AVE\", \"1,541\", \"974\", 0.6319], [\"71ST AVE-CONTINENTAL AVE\", \"8,958\", \"3,246\", 0.3624], [\"71ST STREET-NEW UTRECHT AVE\", \"2,200\", \"874\", 0.3974], [\"72ND STREET & BROADWAY\", \"15,956\", \"4,943\", 0.3098], [\"72ND STREET - 2 AVENUE\", \"13,216\", \"5,143\", 0.3891], [\"72ND STREET-CENTRAL PK WEST\", \"2,816\", \"1,141\", 0.4053], [\"75TH AVENUE-QUEENS BLVD\", \"1,335\", \"529\", 0.3966], [\"75TH STREET & ELDERTS LANE\", \"1,391\", \"756\", 0.5438], [\"77TH STREET-4TH AVENUE\", \"2,269\", \"968\", 0.4265], [\"77TH STREET-LEXINGTON AVE\", \"10,522\", \"4,382\", 0.4165], [\"79TH STREET-17TH AVENUE\", \"2,371\", \"1,066\", 0.4497], [\"79TH STREET-BROADWAY\", \"6,170\", \"1,884\", 0.3054], [\"7TH AVENUE-9TH STREET\", \"4,893\", \"1,700\", 0.3474], [\"7TH AVENUE-PARK PLACE\", \"3,604\", \"1,248\", 0.3462], [\"81ST STREET-MUSEUM\", \"4,529\", \"1,322\", 0.292], [\"82ND STREET-JACKSON HEIGHTS\", \"5,152\", \"3,275\", 0.6357], [\"85TH STREET & FOREST PKWAY\", \"1,301\", \"788\", 0.6053], [\"86TH ST-CENTRAL PARK WEST\", \"3,351\", \"1,474\", 0.44], [\"86TH STREET - 2 AVENUE\", \"10,108\", \"3,459\", 0.3423], [\"86TH STREET-4TH AVENUE\", \"3,358\", \"1,272\", 0.3789], [\"86TH STREET-AVENUE V\", \"778\", \"426\", 0.5484], [\"86TH STREET-BROADWAY\", \"7,390\", \"2,375\", 0.3214], [\"86TH STREET-LEXINGTON AVE\", \"15,878\", \"5,965\", 0.3757], [\"8TH AVENUE-14TH STREET\", \"16,753\", \"4,334\", 0.2587], [\"8TH AVENUE-62ND STREET\", \"4,945\", \"1,959\", 0.3963], [\"8TH STREET & BROADWAY\", \"6,053\", \"1,462\", 0.2415], [\"90TH STREET/ELMHURST AVENUE\", \"6,141\", \"3,666\", 0.5971], [\"96TH ST-CENTRAL PARK WEST\", \"2,780\", \"1,178\", 0.4239], [\"96TH STREET - 2 AVENUE\", \"6,893\", \"2,504\", 0.3633], [\"96TH STREET-BROADWAY\", \"14,239\", \"4,861\", 0.3414], [\"96TH STREET-LEXINGTON AVE\", \"6,479\", \"2,755\", 0.4252], [\"9TH AVENUE-39TH STREET\", \"2,049\", \"959\", 0.4679], [\"AIRTRAIN @ HOWARD BEACH\", \"2,389\", \"337\", 0.1413], [\"AIRTRAIN JAMAICA CENTER 1\", \"5,462\", \"610\", 0.1117], [\"ALABAMA AVENUE-FULTON ST\", \"518\", \"231\", 0.4471], [\"ALLERTON AV-WHITE PLAINS RD\", \"1,983\", \"804\", 0.4054], [\"AQUEDUCT RACE TRACK\", \"833\", \"382\", 0.4586], [\"ASTOR PLACE-4 AVENUE\", \"7,474\", \"1,586\", 0.2122], [\"ASTORIA BLVD & 31ST STREET\", \"3,495\", \"1,401\", 0.4009], [\"ATLANTIC AV-VAN SINDEREN AV\", \"603\", \"269\", 0.4461], [\"AVENUE H-EAST 16TH STREET\", \"1,375\", \"458\", 0.3337], [\"AVENUE I-MCDONALD AVENUE\", \"715\", \"346\", 0.4843], [\"AVENUE J-EAST 16TH STREET\", \"2,032\", \"988\", 0.4865], [\"AVENUE M-EAST 16TH STREET\", \"2,466\", \"1,107\", 0.4492], [\"AVENUE N-MCDONALD AVENUE\", \"981\", \"545\", 0.5554], [\"AVENUE P-MCDONALD AVENUE\", \"903\", \"479\", 0.531], [\"AVENUE U-EAST 16TH STREET\", \"2,586\", \"1,112\", 0.4301], [\"AVENUE U-MCDONALD AVENUE\", \"588\", \"295\", 0.5012], [\"AVENUE U-WEST 7TH STREET\", \"1,022\", \"599\", 0.5859], [\"AVENUE X-MCDONALD AVENUE\", \"826\", \"387\", 0.4689], [\"BARCLAYS CENTER\", \"18,280\", \"5,782\", 0.3163], [\"BAY 50TH STREET-STILLWELL\", \"1,045\", \"416\", 0.3984], [\"BAY PARKWAY-66TH STREET\", \"2,462\", \"1,275\", 0.518], [\"BAY PARKWAY-86TH STREET\", \"2,502\", \"1,186\", 0.4742], [\"BAY RIDGE - 95TH STREET\", \"2,352\", \"981\", 0.4172], [\"BAY RIDGE AVE-4TH AVENUE\", \"2,865\", \"1,317\", 0.4598], [\"BAYCHESTER AVE-TILLOTSON\", \"1,760\", \"567\", 0.3226], [\"BEACH 25TH STREET-WAVECREST\", \"941\", \"247\", 0.2633], [\"BEDFORD AVE-NORTH 7TH ST\", \"7,967\", \"3,722\", 0.4672], [\"BEDFORD AVENUE-NOSTRAND AVE\", \"2,420\", \"1,162\", 0.4802], [\"BEDFORD PARK BLVD-203RD ST\", \"2,393\", \"959\", 0.4009], [\"BEDFORD PARK BLVD-JEROME AV\", \"2,123\", \"649\", 0.3059], [\"BERGEN STREET\", \"1,123\", \"460\", 0.4093], [\"BERGEN STREET-SMITH STREET\", \"4,472\", \"1,473\", 0.3295], [\"BEVERLEY ROAD -EAST 15TH ST\", \"1,270\", \"602\", 0.4744], [\"BEVERLY RD-NOSTRAND AVE\", \"1,673\", \"791\", 0.473], [\"BLEECKER ST-LAFAYETTE ST\", \"6,239\", \"1,647\", 0.2639], [\"BOROUGH HALL - COURT STREET\", \"13,432\", \"3,384\", 0.252], [\"BOTANIC GARDEN-FRANKLIN AVE\", \"716\", \"158\", 0.221], [\"BOWERY STREET-DELANCEY ST\", \"1,371\", \"461\", 0.3367], [\"BOWLING GREEN & BATTERY PL\", \"7,524\", \"1,458\", 0.1939], [\"BOWLING GREEN & BROADWAY\", \"1,341\", \"278\", 0.2076], [\"BOYD STREET-88TH STREET\", \"1,227\", \"552\", 0.4501], [\"BRIGHTON BEACH-CONEY ISLAND\", \"4,673\", \"2,248\", 0.4811], [\"BROAD CHANNEL-NOEL ROAD\", \"165\", \"53\", 0.3238], [\"BROAD STREET & WALL STREET\", \"2,517\", \"622\", 0.2472], [\"BROADWAY & 31ST STREET\", \"3,301\", \"1,905\", 0.5771], [\"BROADWAY - UNION AVENUE\", \"1,563\", \"867\", 0.5547], [\"BROADWAY LAFAYETTE-BLEECKER\", \"7,817\", \"2,191\", 0.2803], [\"BROADWAY-EAST NEW YORK\", \"2,929\", \"1,094\", 0.3738], [\"BRONX PARK EAST\", \"984\", \"369\", 0.3749], [\"BROOK AVENUE-138TH STREET\", \"2,295\", \"1,182\", 0.5152], [\"BROOKLYN BRIDGE\", \"11,958\", \"2,610\", 0.2183], [\"BUHRE AVE-WESTCHESTER AVE\", \"1,595\", \"647\", 0.4058], [\"BURKE AVE-WHITE PLAINS ROAD\", \"1,350\", \"595\", 0.4406], [\"BURNSIDE AVE-JEROME AVE\", \"3,209\", \"1,428\", 0.4449], [\"BUSHWICK AVENUE-ABERDEEN ST\", \"540\", \"384\", 0.7109], [\"CANAL ST-LAFAYETTE ST EAST\", \"8,049\", \"2,327\", 0.2891], [\"CANAL STREET\", \"3,908\", \"1,463\", 0.3745], [\"CANAL STREET-BROADWAY\", \"6,170\", \"1,721\", 0.279], [\"CANAL STREET-LISPENARD ST\", \"8,059\", \"1,884\", 0.2338], [\"CANAL STREET-VARICK STREET\", \"2,593\", \"472\", 0.182], [\"CARROLL ST-PRESIDENT ST\", \"4,525\", \"1,550\", 0.3426], [\"CASTLE HILL AVENUE\", \"2,196\", \"1,035\", 0.4717], [\"CENTRAL AVE-MYRTLE AVE\", \"1,550\", \"637\", 0.4109], [\"CHAMBERS STREET\", \"8,606\", \"1,423\", 0.1654], [\"CHAUNCEY STREET-ROCKAWAY AV\", \"1,093\", \"494\", 0.4524], [\"CHRISTOPHER ST-SHERIDAN SQ\", \"4,668\", \"1,161\", 0.2488], [\"CHURCH AVE-MCDONALD AVE\", \"4,057\", \"1,685\", 0.4153], [\"CHURCH AVENUE\", \"5,181\", \"2,387\", 0.4608], [\"CHURCH AVENUE & NOSTRAND AV\", \"3,352\", \"1,630\", 0.4863], [\"CITY HALL\", \"2,247\", \"533\", 0.2374], [\"CLARK STREET-HENRY STREET\", \"2,122\", \"709\", 0.3343], [\"CLASSON AVENUE-LAFAYETTE AV\", \"2,001\", \"778\", 0.3889], [\"CLEVELAND STREET-FULTON ST\", \"1,299\", \"492\", 0.3788], [\"CLINTON AVENUE-FULTON ST\", \"2,304\", \"749\", 0.3252], [\"CORTELYOU RD-EAST 16TH ST\", \"2,440\", \"1,116\", 0.4577], [\"CORTLANDT STREET\", \"7,983\", \"1,696\", 0.2124], [\"COURT SQ\", \"1,502\", \"584\", 0.3888], [\"COURT SQ-23 ST\", \"6,492\", \"1,511\", 0.2328], [\"CRESCENT STREET-FULTON ST\", \"1,942\", \"857\", 0.4417], [\"CYPRESS AVENUE-138TH STREET\", \"1,278\", \"563\", 0.4408], [\"CYPRESS HILLS\", \"517\", \"287\", 0.5558], [\"DEKALB AVE-WYCKOFF AVE\", \"3,024\", \"2,088\", 0.6904], [\"DEKALB AVENUE\", \"7,434\", \"2,437\", 0.3278], [\"DITMARS BLVD & 31ST STREET\", \"5,341\", \"2,385\", 0.4466], [\"DITMAS AVE-MCDONALD AVE\", \"1,459\", \"811\", 0.556], [\"DYCKMAN STREET\", \"2,540\", \"1,003\", 0.3951], [\"DYCKMAN STREET-BROADWAY\", \"2,358\", \"1,190\", 0.5046], [\"DYRE AVENUE-LIGHT STREET\", \"1,658\", \"709\", 0.4278], [\"EAST 105TH ST-FARRAGUT ROAD\", \"1,328\", \"563\", 0.4242], [\"EAST 143RD ST-SOUTHERN BLVD\", \"417\", \"195\", 0.4677], [\"EAST 149TH ST-SOUTHERN BLVD\", \"1,738\", \"813\", 0.468], [\"EAST 180TH ST-MORRIS PARK\", \"2,280\", \"1,027\", 0.4505], [\"EAST BROADWAY-MADISON ST\", \"5,847\", \"1,449\", 0.2479], [\"EAST TREMONT AVENUE-178 ST\", \"2,076\", \"782\", 0.3766], [\"EASTERN PARKWAY\", \"1,640\", \"627\", 0.3824], [\"EDGEMERE-BEACH 36TH STREET\", \"437\", \"119\", 0.2723], [\"ELDER AVE-WESTCHESTER AVE\", \"2,455\", \"1,404\", 0.572], [\"ELMHURST AVE-BROADWAY\", \"4,314\", \"2,131\", 0.4941], [\"ESSEX ST-DELANCEY ST\", \"10,717\", \"3,660\", 0.3415], [\"EUCLID AVE-PITKIN AVE\", \"3,844\", \"1,414\", 0.368], [\"FIFTH AVENUE\", \"11,324\", \"2,090\", 0.1846], [\"FIFTH AVENUE & 42ND STREET\", \"4,563\", \"1,389\", 0.3044], [\"FIFTH AVENUE & 60TH STREET\", \"6,019\", \"1,971\", 0.3275], [\"FLATBUSH AVE & NOSTRAND AV\", \"5,770\", \"1,938\", 0.336], [\"FLUSHING AVE-BROADWAY\", \"3,263\", \"1,416\", 0.4341], [\"FLUSHING AVENUE-MARCY AVE\", \"686\", \"672\", 0.9794], [\"FORDHAM RD/GRAND CONCOURSE\", \"3,963\", \"1,754\", 0.4427], [\"FORDHAM ROAD & JEROME AVE\", \"3,132\", \"1,665\", 0.5319], [\"FOREST AVENUE-PUTNAM AVENUE\", \"1,549\", \"780\", 0.5036], [\"FORT HAMILTON PARKWAY-62ND\", \"1,292\", \"1,068\", 0.8267], [\"FORT HAMILTON PKWY-45TH ST\", \"1,850\", \"975\", 0.5269], [\"FRANK AVENUE-BEACH 44TH ST\", \"331\", \"93\", 0.2836], [\"FRANKLIN AVE/EASTERN PKWY\", \"4,424\", \"1,813\", 0.4098], [\"FRANKLIN AVENUE-FULTON ST\", \"1,961\", \"771\", 0.3935], [\"FRANKLIN STREET-WEST BWAY\", \"2,465\", \"483\", 0.196], [\"FREEMAN ST-SOUTHERN BLVD\", \"1,750\", \"765\", 0.4374], [\"FRESH POND ROAD-68TH AVENUE\", \"2,164\", \"1,068\", 0.4934], [\"FT HAMILTON PKY-GREENWOOD\", \"2,266\", \"831\", 0.3669], [\"FULTON & WILLIAM STREETS\", \"10,231\", \"2,483\", 0.2427], [\"FULTON STREET\", \"25,375\", \"6,356\", 0.2505], [\"FULTON STREET-LAFAYETTE AV\", \"2,177\", \"724\", 0.3327], [\"GASTON AVENUE-BEACH 67TH ST\", \"1,014\", \"305\", 0.3007], [\"GATES AVENUE-BROADWAY\", \"2,369\", \"1,075\", 0.454], [\"GRAHAM AVE-METROPOLITAN AVE\", \"2,605\", \"1,326\", 0.509], [\"GRAND ARMY PLAZA\", \"2,545\", \"991\", 0.3894], [\"GRAND AVE-QUEENS BOULEVARD\", \"5,080\", \"2,252\", 0.4433], [\"GRAND ST-BUSHWICK AVE\", \"1,850\", \"816\", 0.441], [\"GRAND ST-CHRISTIE ST\", \"9,563\", \"3,766\", 0.3939], [\"GRANT AVENUE-PITKIN AVENUE\", \"2,609\", \"998\", 0.3828], [\"GREENPOINT AVE\", \"3,572\", \"1,755\", 0.4914], [\"GUN HILL ROAD-SEYMOUR\", \"1,973\", \"725\", 0.3678], [\"GUNHILL RD-WHITE PLAINS RD\", \"2,385\", \"866\", 0.3634], [\"HALSEY STREET-BROADWAY\", \"2,031\", \"866\", 0.4262], [\"HALSEY STREET-WYCKOFF AVE\", \"2,243\", \"1,294\", 0.577], [\"HEWES STREET-BROADWAY\", \"1,316\", \"653\", 0.4966], [\"HIGH ST-CADMAN PLAZA WEST\", \"3,747\", \"1,187\", 0.317], [\"HOLLAND-BEACH 90TH STREET\", \"326\", \"459\", 1.4074], [\"HOUSTON STREET-VARICK ST\", \"6,236\", \"1,276\", 0.2047], [\"HOWARD BEACH-159TH AVE\", \"809\", \"215\", 0.2663], [\"HOYT ST-SCHERMERHORN ST\", \"3,924\", \"1,555\", 0.3964], [\"HOYT STREET-FULTON STREET\", \"878\", \"255\", 0.2906], [\"HOYT STREET-HOYT STREET\", \"1,676\", \"624\", 0.3727], [\"HUDSON STREET-78TH STREET\", \"1,970\", \"749\", 0.3806], [\"HUNTERS PT AVE-49TH AVE\", \"2,500\", \"545\", 0.218], [\"HUNTS PT AVE-SOUTHERN BLVD\", \"2,990\", \"1,450\", 0.4851], [\"INTERVALE 163RD STREET\", \"1,187\", \"513\", 0.432], [\"JACKSON AVENUE-VERNON BLVD\", \"5,336\", \"2,026\", 0.3798], [\"JACKSON AVENUE-WESTCHESTER\", \"2,123\", \"787\", 0.3709], [\"JAMAICA CENTER-PARSONS BLVD\", \"7,738\", \"2,642\", 0.3415], [\"JAY ST-METROTECH\", \"15,838\", \"3,547\", 0.224], [\"JEFFERSON STREET-WYCKOFF AV\", \"1,970\", \"1,135\", 0.5761], [\"JUNCTION BLVD-ROOSEVELT AVE\", \"8,247\", \"4,913\", 0.5957], [\"JUNIUS STREET\", \"815\", \"281\", 0.3451], [\"KINGS HIGHWAY-EAST 16TH ST\", \"6,736\", \"3,046\", 0.4522], [\"KINGS HIGHWAY-MCDONALD AVE\", \"1,298\", \"536\", 0.4129], [\"KINGS HIGHWAY-WEST 7TH ST\", \"1,475\", \"920\", 0.6239], [\"KINGSBRIDGE RD-196TH ST\", \"2,764\", \"1,094\", 0.3958], [\"KINGSBRIDGE RD-JEROME AVE\", \"3,170\", \"1,346\", 0.4247], [\"KINGSTON AVE-THROOP AVE\", \"2,247\", \"840\", 0.3739], [\"KINGSTON AVE/EASTERN PKWY\", \"1,883\", \"909\", 0.4826], [\"KNICKERBOCKER AVE-MYRTLE AV\", \"1,898\", \"795\", 0.4188], [\"KOSCIUSZKO STREET-BROADWAY\", \"1,714\", \"803\", 0.469], [\"LAFAYETTE AV-WASHINGTON AV\", \"1,900\", \"798\", 0.4201], [\"LAFAYETTE AVENUE-FULTON ST\", \"1,957\", \"672\", 0.3434], [\"LEFFERTS BLVD-LIBERTY AVE\", \"2,736\", \"1,179\", 0.4309], [\"LEXINGTON AVENUE\", \"17,768\", \"3,927\", 0.221], [\"LIBERTY AVE-PENNSYLVANIA AV\", \"980\", \"412\", 0.4206], [\"LIVONIA AVE-VAN SINDEREN AV\", \"976\", \"351\", 0.3596], [\"LONGWOOD AVE-SOUTHERN BLVD\", \"1,192\", \"575\", 0.4828], [\"LORIMER STREET-BROADWAY\", \"1,821\", \"758\", 0.4163], [\"MAIN STREET\", \"14,803\", \"5,860\", 0.3959], [\"MARCY AVENUE-BROADWAY\", \"6,051\", \"2,111\", 0.3489], [\"MCDONALD AVE-22ND AVE\", \"184\", \"86\", 0.4667], [\"METROPOLITAN AVE-LORIMER ST\", \"4,833\", \"2,229\", 0.4612], [\"METROPOLITAN AVENUE\", \"1,168\", \"534\", 0.4571], [\"MIDDLETOWN ROAD-WESTCHESTER\", \"990\", \"333\", 0.3368], [\"MONTROSE AVENUE\", \"1,812\", \"1,016\", 0.561], [\"MORGAN AVENUE-HARRISON PL\", \"1,945\", \"1,003\", 0.5156], [\"MORRIS PARK-PAULDING AVENUE\", \"1,106\", \"460\", 0.4165], [\"MORRISON AVE & WESTCHESTER\", \"2,110\", \"1,098\", 0.5208], [\"MOSHOLU PARKWAY-JEROME AVE\", \"3,031\", \"1,476\", 0.4871], [\"MOTT AVENUE-BEACH 22ND ST\", \"1,872\", \"641\", 0.3424], [\"MT EDEN AVENUE-JEROME AVE\", \"1,857\", \"922\", 0.4969], [\"MTABC - EASTCHESTER 2\", \"0\", \"0\", 0.0], [\"MYRTLE AVE-GATES AVENUE\", \"5,871\", \"3,102\", 0.5284], [\"MYRTLE AVENUE-BROADWAY\", \"3,715\", \"1,490\", 0.4011], [\"MYRTLE AVENUE-MARCY AVENUE\", \"2,173\", \"895\", 0.4122], [\"NASSAU AVE-MANHATTAN AVE\", \"3,686\", \"1,565\", 0.4246], [\"NECK ROAD-EAST 16TH STREET\", \"1,898\", \"770\", 0.4056], [\"NEPTUNE AVE-MCDONALD AVENUE\", \"682\", \"270\", 0.3957], [\"NEVINS STREET\", \"3,600\", \"1,219\", 0.3386], [\"NEW LOTS AV-VAN SINDEREN AV\", \"1,358\", \"509\", 0.3752], [\"NEW LOTS AVENUE\", \"1,632\", \"757\", 0.4641], [\"NEW UTRECHT AVENUE-62ND ST\", \"1,588\", \"1,061\", 0.6683], [\"NEWKIRK AVE-NOSTRAND AVE\", \"2,666\", \"1,207\", 0.4529], [\"NEWKIRK PLAZA\", \"3,737\", \"1,659\", 0.4441], [\"NORTH CONDUIT AVE-COHANCEY\", \"470\", \"183\", 0.3888], [\"NORTHERN BLVD-BROADWAY\", \"1,995\", \"933\", 0.468], [\"NORWOOD AVENUE-FULTON ST\", \"1,358\", \"540\", 0.3981], [\"NOSTRAND AVE-FULTON ST\", \"5,157\", \"2,295\", 0.445], [\"NOSTRAND AVENUE\", \"1,329\", \"597\", 0.449], [\"OCEAN PKWAY-BRIGHTON BCH AV\", \"1,580\", \"737\", 0.4664], [\"PA-PATH 14TH STREET\", \"3,312\", \"1,228\", 0.3708], [\"PA-PATH 9TH STREET\", \"1,926\", \"600\", 0.3116], [\"PA-PATH CHRISTOPHER ST\", \"1,992\", \"643\", 0.3231], [\"PA-PATH EXCHANGE PLACE\", \"4,662\", \"1,428\", 0.3064], [\"PA-PATH GROVE ST\", \"5,766\", \"2,207\", 0.3828], [\"PA-PATH HARRISON\", \"2,234\", \"910\", 0.4076], [\"PA-PATH HOBOKEN\", \"9,286\", \"2,433\", 0.262], [\"PA-PATH JOURNAL SQUARE\", \"6,887\", \"3,546\", 0.5149], [\"PA-PATH NEWARK\", \"8,905\", \"3,894\", 0.4373], [\"PA-PATH PAVONIA/NEWPORT\", \"4,549\", \"1,302\", 0.2863], [\"PA-PATH THIRTY THIRD ST\", \"10,567\", \"3,495\", 0.3308], [\"PA-PATH TWENTY THIRD ST\", \"2,705\", \"814\", 0.3012], [\"PA-PATH WORLD TRADE CNTR\", \"16,056\", \"6,994\", 0.4356], [\"PARK PLACE\", \"19,731\", \"3,598\", 0.1824], [\"PARK PLACE-FRANKLIN AVENUE\", \"608\", \"280\", 0.4601], [\"PARKSIDE AVE-OCEAN AVE\", \"1,844\", \"1,098\", 0.5957], [\"PARSONS BLVD & HILLSIDE AV\", \"2,316\", \"963\", 0.4159], [\"PELHAM BAY PARK-BRUCKNER BL\", \"1,528\", \"631\", 0.4131], [\"PELHAM PKWY-ESPLANADE\", \"1,332\", \"469\", 0.3526], [\"PELHAM PKWY-WHITE PLAINS RD\", \"2,825\", \"1,167\", 0.413], [\"PENNSYLVANIA AVENUE\", \"1,670\", \"638\", 0.3824], [\"PLAYLAND-BEACH 98TH STREET\", \"215\", \"77\", 0.3607], [\"PRESIDENT ST-NOSTRAND AVE\", \"1,458\", \"661\", 0.4538], [\"PRINCE STREET & BROADWAY\", \"4,335\", \"1,298\", 0.2996], [\"PROSPECT AVENUE-4TH AVENUE\", \"2,128\", \"907\", 0.4264], [\"PROSPECT AVENUE-WESTCHESTER\", \"2,528\", \"1,072\", 0.4243], [\"PROSPECT PARK-EMPIRE BLVD\", \"3,101\", \"1,573\", 0.5075], [\"QUEENS PLAZA-JACKSON AVE\", \"4,355\", \"1,084\", 0.2491], [\"QUEENSBORO PLAZA\", \"4,684\", \"1,564\", 0.3339], [\"RALPH AVENUE-FULTON STREET\", \"2,029\", \"849\", 0.4187], [\"RECTOR STREET-CHURCH STREET\", \"2,174\", \"521\", 0.2396], [\"RECTOR STREET-GREENWICH ST\", \"3,269\", \"565\", 0.1729], [\"RI TRAMWAY (MANHATTAN)\", \"592\", \"738\", 1.2465], [\"RI TRAMWAY (ROOSEVELT)\", \"398\", \"911\", 2.2857], [\"ROCKAWAY AVE-HOPKINSON AVE\", \"2,022\", \"796\", 0.3938], [\"ROCKAWAY AVENUE\", \"1,778\", \"827\", 0.4655], [\"ROCKAWAY BLVD-LIBERTY AVE\", \"2,498\", \"1,002\", 0.4013], [\"ROCKAWAY PARK-BEACH 116TH\", \"252\", \"119\", 0.4756], [\"ROCKAWAY PKWY-GLENWOOD RD\", \"3,065\", \"1,029\", 0.3357], [\"ROOSEVELT AVE/JACKSON HTS\", \"14,866\", \"7,760\", 0.522], [\"ROOSEVELT ISLAND\", \"2,513\", \"1,031\", 0.4104], [\"SARATOGA AVENUE\", \"1,994\", \"913\", 0.458], [\"SBS-B44 @ LIVINGSTON PLAZA\", \"0\", \"0\", 0.0], [\"SBS-B46 @ LIVINGSTON PLAZA\", \"0\", \"0\", 0.0], [\"SBS-B82 @ LIVINGSTON PLAZA\", \"0\", \"0\", 0.0], [\"SBS-BX12 @ LIVINGSTON PLAZA\", \"0\", \"0\", 0.0], [\"SBS-BX41 @ LIVINGSTON PLAZA\", \"0\", \"0\", 0.0], [\"SBS-BX6 @ LIVINGSTON PLAZA\", \"0\", \"0\", 0.0], [\"SBS-M14 @ LIVINGSTON PLAZA\", \"0\", \"0\", 0.0], [\"SBS-M15 @ LIVINGSTON PLAZA\", \"0\", \"0\", 0.0], [\"SBS-M23 @ LIVINGSTON PLAZA\", \"0\", \"0\", 0.0], [\"SBS-M34 @ LIVINGSTON PLAZA\", \"0\", \"0\", 0.0], [\"SBS-M60 @ LIVINGSTON PLAZA\", \"0\", \"0\", 0.0], [\"SBS-M79 @ LIVINGSTON PLAZA\", \"0\", \"0\", 0.0], [\"SBS-M86 @ LIVINGSTON PLAZA\", \"0\", \"0\", 0.0], [\"SBS-Q44 @ LIVINGSTON PLAZA\", \"0\", \"0\", 0.0], [\"SBS-Q52/53 @ LIVINGSTON PLAZA\", \"0\", \"0\", 0.0], [\"SEASIDE BEACH-105TH STREET\", \"116\", \"36\", 0.3109], [\"SENECA AVENUE-PALMETTO ST\", \"1,252\", \"558\", 0.4458], [\"SEVENTH AVENUE & WEST 53RD\", \"7,286\", \"1,129\", 0.155], [\"SHEEPSHEAD BAY ROAD\", \"5,310\", \"2,170\", 0.4087], [\"SHEPHERD AVE-PITKIN AVE\", \"1,352\", \"521\", 0.3857], [\"SIMPSON ST-WESTCHESTER AVE\", \"2,441\", \"1,084\", 0.4442], [\"SMITH STREET-9TH STREET\", \"1,678\", \"629\", 0.3751], [\"SPRING STREET-6TH AVENUE\", \"5,904\", \"1,340\", 0.2271], [\"SPRING STREET-LAFAYETTE ST\", \"4,726\", \"1,122\", 0.2376], [\"ST GEORGE TERMINAL\", \"4,993\", \"919\", 0.1841], [\"ST LAWRENCE AVE-WEST AVE\", \"1,625\", \"815\", 0.5018], [\"STEINWAY ST-BROADWAY\", \"5,022\", \"2,011\", 0.4005], [\"STERLING ST-NOSTRAND AVE\", \"1,983\", \"1,011\", 0.5099], [\"STILLWELL AVE-CONEY ISLAND\", \"3,870\", \"1,848\", 0.4776], [\"STRAITON AVE-BEACH 60TH ST\", \"910\", \"253\", 0.2785], [\"SUTPHIN BLVD-HILLSIDE AVE\", \"1,622\", \"774\", 0.4772], [\"SUTPHIN BOULEVARD\", \"6,940\", \"2,934\", 0.4227], [\"SUTTER AVE-VAN SINDEREN AVE\", \"1,420\", \"525\", 0.3698], [\"SUTTER AVENUE\", \"2,359\", \"1,037\", 0.4399], [\"TOMPKINSVILLE\", \"383\", \"133\", 0.3484], [\"TREMONT AVE-179TH ST\", \"2,947\", \"1,298\", 0.4407], [\"UNION STREET-4TH AVENUE\", \"2,795\", \"1,068\", 0.3821], [\"UNION TURNPIKE-KEW GARDENS\", \"5,828\", \"2,146\", 0.3682], [\"UTICA AVE-STUYVESANT AVE\", \"4,812\", \"1,863\", 0.3872], [\"UTICA AVENUE\", \"8,052\", \"3,491\", 0.4336], [\"VAN SICLEN AVE-PITKIN AVE\", \"1,302\", \"501\", 0.3853], [\"VAN SICLEN AVENUE\", \"993\", \"442\", 0.4451], [\"VAN SICLEN AVENUE-FULTON ST\", \"1,064\", \"570\", 0.5363], [\"VAN WYCK BLVD-MAIN STREET\", \"2,113\", \"849\", 0.4018], [\"VAN WYCK BLVD-METROPOLITAN\", \"2,038\", \"959\", 0.4706], [\"WALL STREET\", \"16,360\", \"3,205\", 0.1959], [\"WEST 4TH ST-WASHINGTON SQ\", \"17,453\", \"4,521\", 0.2591], [\"WEST 6TH STREET-SURF AVENUE\", \"936\", \"426\", 0.455], [\"WESTCHESTER SQUARE\", \"1,883\", \"771\", 0.4098], [\"WHITEHALL STREET\", \"10,274\", \"1,904\", 0.1854], [\"WHITLOCK AVE-WESTCHESTER AV\", \"753\", \"345\", 0.4589], [\"WILLETS PT BLVD-ROOSEVELT\", \"1,078\", \"500\", 0.4646], [\"WILSON AVENUE-MOFFAT STREET\", \"1,149\", \"688\", 0.5987], [\"WINTHROP ST-NOSTRAND AVE\", \"2,416\", \"1,276\", 0.5282], [\"WOODHAVEN BLVD-QUEENS BLVD\", \"6,396\", \"2,929\", 0.458], [\"WOODHAVEN BOULEVARD\", \"1,374\", \"721\", 0.525], [\"WOODLAWN ROAD\", \"1,408\", \"615\", 0.4366], [\"WTC-CORTLANDT ST\", \"6,046\", \"1,036\", 0.1714], [\"YORK STREET-JAY STREET\", \"4,169\", \"949\", 0.2278], [\"ZEREGA AVE-WESTCHESTER AVE\", \"1,107\", \"458\", 0.4141]], \"hovertemplate\": \"<b>Station: %{customdata[0]}</b> <br>Pre-pandemic Daily: %{customdata[1]} <br>Current Daily: %{customdata[2]} <br>% Recovery : %{customdata[3]:.2%}\", \"lat\": [40.796040000000005, 40.749825, 40.799419, 40.79029, 40.695184000000005, 40.682233000000004, 40.684673, 40.800523999999996, 40.804, 40.794773, 40.697351, 40.798, 40.7517139, 40.804389, 40.808, 40.802, 40.798607000000004, 40.700357000000004, 40.8052, 40.815796, 40.806999999999995, 40.804259, 40.814, 40.81709, 40.821, 40.81303, 40.810963, 40.824040000000004, 40.826, 40.82, 40.824, 40.8181, 40.81605, 40.738553, 40.737328000000005, 40.73472, 40.830348, 40.830859000000004, 40.834, 40.6605444, 40.827937, 40.836866, 40.8345, 40.835665000000006, 40.841021999999995, 40.710638, 40.838814, 40.840178, 40.836999999999996, 40.845892, 40.846540999999995, 40.848619, 40.83333, 40.712459, 40.8517, 40.856766, 40.858323999999996, 40.629625, 40.620164, 40.608667, 40.741, 40.858986, 40.855, 40.731324, 40.874908000000005, 40.867672, 40.8644, 40.61723, 40.6047, 40.869473, 40.883, 40.744591, 40.753954, 40.888000000000005, 40.874, 40.879, 40.893, 40.898, 40.885097200000004, 40.741274, 40.745512, 40.742933, 40.744, 40.740169, 40.903, 40.889222, 40.598607, 40.6605, 40.745298, 40.747, 40.74329, 40.723616, 40.766859000000004, 40.746390000000005, 40.7446167, 40.749786, 40.751143, 40.752164, 40.75583889999999, 40.751, 40.756555, 40.65445, 40.752036, 40.752686, 40.733278000000006, 40.7438111, 40.750772999999995, 40.754847999999996, 40.75724, 40.752126000000004, 40.756, 40.6494472, 40.7431333, 40.756685, 40.758603, 40.760422999999996, 40.670955600000006, 40.761095000000005, 40.762276, 40.636109999999995, 40.757121999999995, 40.7440361, 40.643609999999995, 40.631892, 40.765461, 40.764259, 40.762226, 40.6410778, 40.767996999999994, 40.7456083, 40.73, 40.764649, 40.7494, 40.774, 40.726966, 40.767834, 40.7462583, 40.721404, 40.619165, 40.7721, 40.76889, 40.776154, 40.71864, 40.691427000000004, 40.6284972, 40.773587, 40.613514, 40.784, 40.666830600000004, 40.679352, 40.781971, 40.7476306, 40.7806, 40.785286, 40.777861, 40.622694, 40.592862, 40.7883, 40.779469, 40.739779, 40.6345583, 40.730579999999996, 40.748329999999996, 40.791622, 40.7841, 40.7941, 40.785773, 40.646575, 40.660432, 40.699511, 40.676829999999995, 40.865, 40.672086, 40.72972, 40.769890999999994, 40.676053, 40.630003, 40.6259222, 40.625276, 40.618269, 40.615044399999995, 40.6087389, 40.598875, 40.59615, 40.5964944, 40.590141700000004, 40.684461999999996, 40.5889, 40.612886100000004, 40.602655, 40.616167, 40.6336778, 40.878640000000004, 40.600061100000005, 40.71772, 40.689587, 40.872507, 40.873545, 40.680873999999996, 40.687252799999996, 40.6446265, 40.645122, 40.72583, 40.693655, 40.670694, 40.720299, 40.704593, 40.704933000000004, 40.679857, 40.577597999999995, 40.608618, 40.705, 40.761951, 40.705433, 40.725369, 40.6789194, 40.849000000000004, 40.80754, 40.71278, 40.846995, 40.871, 40.853747999999996, 40.682851, 40.718441, 40.718059999999994, 40.719403, 40.721703000000005, 40.722, 40.6802, 40.834139, 40.698015000000005, 40.715466, 40.682623, 40.733000000000004, 40.643684, 40.649606, 40.650775, 40.71326, 40.6974, 40.688839, 40.679629, 40.683176, 40.641597, 40.710996, 40.746865, 40.7476, 40.678182, 40.805526, 40.68972, 40.704294, 40.690253999999996, 40.776137, 40.636263899999996, 40.861, 40.865487, 40.889055, 40.651308, 40.808125, 40.812088, 40.841, 40.714216, 40.84, 40.671622, 40.595413, 40.828553, 40.741795, 40.718509999999995, 40.6754, 40.764779, 40.753617, 40.764909, 40.632809, 40.700683000000005, 40.699801, 40.862414, 40.862761, 40.704619, 40.6321, 40.6407, 40.592928, 40.670711, 40.681126, 40.719, 40.83, 40.705953, 40.651455600000006, 40.709576, 40.7102056, 40.686294000000004, 40.590920000000004, 40.68949, 40.714509, 40.674584, 40.73695, 40.711906, 40.718119, 40.676635, 40.730153, 40.87017, 40.876999999999995, 40.685682, 40.696095, 40.706669, 40.698890000000006, 40.588095, 40.728592, 40.660445, 40.689022200000004, 40.690531, 40.690046, 40.67941, 40.742380600000004, 40.820565, 40.821999999999996, 40.74264, 40.8163, 40.702407, 40.69368060000001, 40.706994, 40.749175, 40.663615, 40.609229, 40.6031861, 40.6031472, 40.866146, 40.867444, 40.679857, 40.669376, 40.698731, 40.6933, 40.68812, 40.686268, 40.686203000000006, 40.75773, 40.674357, 40.663745, 40.816278000000004, 40.704099, 40.7595222, 40.708361, 40.620861, 40.714223, 40.712752, 40.843424, 40.707612, 40.706278999999995, 40.854428999999996, 40.829495, 40.879711, 40.603983, 40.844268, null, 40.699678000000006, 40.696940000000005, 40.695454999999995, 40.723811, 40.595124, 40.5803972, 40.688709, 40.658840000000005, 40.666382, 40.626086, 40.639912, 40.6357, 40.668325, 40.753239, 40.681582, 40.680345, 40.67845, 40.576252000000004, 40.737393, 40.73421, 40.733602000000005, 40.7162, 40.719671000000005, 40.739187, 40.7349, 40.732141, 40.73472, 40.726676, 40.749111, 40.742893, 40.7115, 40.713291999999996, 40.674357, 40.65535, 40.70771, 40.852871, 40.858129999999996, 40.857, 40.664722, 40.585440999999996, 40.668009000000005, 40.724202000000005, 40.666789, 40.819, 40.661507, 40.748915000000004, 40.7506528, 40.678815, 40.707733000000005, 40.708, 40.761234, 40.756782, 40.662569, 40.67823, 40.680459, 40.580725, 40.645382, 40.74667, 40.759188, 40.661531, null, null, null, null, null, null, null, null, null, null, null, null, null, null, null, 40.583217, 40.702765, 40.762979, 40.587168, 40.674064, 40.824, 40.674440000000004, 40.725503, 40.72222, 40.64333, 40.831573, 40.758668, 40.663061, 40.5773417, 40.592395, 40.705726, 40.700488, 40.668366999999996, 40.664884, 40.6368, 40.849463, 40.678108, 40.714151, 40.679239, 40.669343, 40.672697, 40.665535, 40.678047, 40.70969, 40.701905, 40.706311, 40.731682, 40.576177799999996, 40.840567, 40.7025, 40.827514, 40.7545583, 40.6885, 40.657039000000005, 40.733470000000004, 40.693931, 40.886005, 40.7115, 40.701529, 40.836769], \"legendgroup\": \"\", \"lon\": [-73.96141999999999, -73.8627333, -73.968158, -73.947687, -73.843231, -73.837352, -73.831129, -73.958244, -73.967, -73.944426, -73.836348, -73.953, -73.8556361, -73.955412, -73.964, -73.95, -73.942022, -73.82894, -73.939, -73.958384, -73.945, -73.937473, -73.941, -73.94803, -73.954, -73.929963, -73.927217, -73.944769, -73.95, -73.936, -73.937, -73.9275, -73.917947, -73.99968199999999, -73.996796, -73.99028, -73.93672600000001, -73.9414, -73.944, -73.9799833, -73.925886, -73.940134, -73.9177, -73.921337, -73.939791, -73.793063, -73.913741, -73.917732, -73.888, -73.910179, -73.94009100000001, -73.911767, -73.860972, -73.78448, -73.938, -73.900309, -73.903999, -73.9769639, -73.989455, -74.002115, -73.998, -73.93404, -73.929, -73.982577, -73.879452, -73.921165, -73.9189, -73.984605, -73.9985, -73.915074, -73.863, -73.948674, -73.942451, -73.86, -73.91, -73.905, -73.857, -73.854, -73.9006083, -73.989052, -73.998634, -73.99287700000001, -73.99600000000001, -73.98644, -73.85, -73.898583, -73.987352, -73.998, -73.988772, -73.993, -73.984165, -73.991117, -73.921423, -73.98194000000001, -73.931306, -73.987753, -73.990695, -73.993672, -74.00196109999999, -73.991, -73.92979100000001, -74.00455, -73.927903, -73.932924, -73.98722, -73.9241778, -73.974464, -73.9841, -73.9898, -73.977675, -73.987, -74.0093806, -73.9184028, -73.91425600000001, -73.981376, -73.983779, -73.99139720000001, -73.983261, -73.986139, -73.99498, -73.971906, -73.9128639, -74.0155167, -73.99570899999999, -73.980088, -73.977213, -73.968181, -74.0181806, -73.981934, -73.90296670000001, -73.862, -73.966398, -73.8973, -73.982, -73.853703, -73.964124, -73.89685, -73.844004, -73.998992, -73.9662, -73.95833, -73.976011, -73.837738, -73.86657199999999, -74.0259361, -73.959875, -74.000546, -73.98, -73.9816, -73.973694, -73.971763, -73.88382779999999, -73.9604, -73.969316, -73.95175, -74.0283833, -73.978235, -73.9764, -73.955626, -74.002533, -74.010694, -73.992418, -73.87639, -73.964725, -73.9472, -73.972, -73.950949, -73.994674, -73.83115, -73.808727, -73.900008, -73.867, -73.835914, -73.99167, -73.91826800000001, -73.905925, -73.962016, -73.9762194, -73.961372, -73.95961, -73.9742194, -73.97301390000001, -73.955841, -73.97331940000001, -73.9789667, -73.974125, -73.978758, -73.98376999999999, -73.9819917, -73.994293, -74.031222, -74.0238528, -73.838369, -73.76142220000001, -73.95756, -73.953567, -73.887906, -73.889837, -73.975196, -73.9900056, -73.964472, -73.94906, -73.99472, -73.990216, -73.959071, -73.994079, -74.014229, -74.013675, -73.85096800000001, -73.96156500000001, -73.816, -74.0116, -73.925414, -73.95021899999999, -73.995636, -73.9034528, -73.868, -73.91932, -74.00471999999999, -73.83233100000001, -73.867, -73.90739, -73.905158, -74.00054399999999, -74.0, -74.00188, -74.005134, -74.006, -73.9948, -73.851686, -73.9252, -74.0092, -73.910136, -74.003, -73.979613, -73.963308, -73.949574, -74.00671, -73.9931, -73.960047, -73.885589, -73.96588299999999, -73.9643, -74.01075300000001, -73.945257, -73.9451, -73.870685, -73.914514, -73.87306, -73.91927700000001, -73.982277, -73.910709, -73.9781722, -73.925, -73.92727099999999, -73.830614, -73.89902099999999, -73.907862, -73.90417099999999, -73.874, -73.990259, -73.88, -73.96275, -73.76807600000001, -73.879194, -73.88104, -73.988199, -73.8719, -73.97262099999999, -73.98092700000001, -73.972554, -73.947652, -73.941979, -73.950051, -73.897133, -73.901053, -73.90198199999999, -74.006525, -73.9944, -73.775986, -73.958545, -73.955712, -74.007, -73.892, -73.896704, -73.9758556, -74.006463, -74.0077444, -73.9745, -73.79681, -73.922067, -73.944426, -73.970518, -73.877521, -73.940735, -73.993864, -73.86559, -73.954296, -73.84580600000001, -73.867, -73.915458, -73.905029, -73.953009, -73.98971999999999, -73.813499, -74.00532199999999, -73.830316, -73.9861417, -73.985109, -73.985431, -73.85903499999999, -73.9492583, -73.89164, -73.89699999999999, -73.95391, -73.908, -73.799973, -73.9872333, -73.923569, -73.86909720000001, -73.90151, -73.95884000000001, -73.9723444, -73.9802306, -73.894343, -73.89743299999999, -73.940606, -73.942151, -73.918376, -73.9287, -73.96758299999999, -73.974466, -73.82422, -73.969082, -73.896489, -73.90048, -73.896232, -73.947902, -73.8303167, -73.957944, -73.9752306, -73.94929, -73.951464, -73.836751, -73.939877, -73.93198000000001, -73.86039699999999, -73.87447399999999, -73.884687, -73.755426, -73.914814, null, -73.911776, -73.93528, -73.949149, -73.95082, -73.95528, -73.9745667, -73.98090400000001, -73.89919, -73.88258499999999, -73.997887, -73.94846, -73.96300000000001, -73.834034, -73.906918, -73.87915100000001, -73.949575, -73.9494, -73.968587, -73.996862, -73.998944, -74.006821, -74.032981, -74.04311700000001, -74.155425, -74.0278, -74.063114, -74.16417, -74.034757, -73.98824, -73.99286500000001, -74.0114, -74.009293, -73.957858, -73.961651, -73.802762, -73.827138, -73.856063, -73.868, -73.894129, -73.82018599999999, -73.950691, -73.997812, -73.994079, -73.90100000000001, -73.962461, -73.937387, -73.9403444, -73.92168000000001, -74.012971, -74.013, -73.963881, -73.954346, -73.908939, -73.910823, -73.843703, -73.83618, -73.902626, -73.89111, -73.953438, -73.915586, null, null, null, null, null, null, null, null, null, null, null, null, null, null, null, -73.82759399999999, -73.907733, -73.981888, -73.953266, -73.880825, -73.893, -73.99722, -74.004035, -73.99722, -74.07417, -73.867307, -73.918934, -73.950863, -73.981139, -73.788536, -73.809714, -73.80774, -73.901768, -73.922882, -74.0748, -73.905973, -73.98391, -73.830786, -73.929062, -73.93191999999999, -73.890266, -73.888593, -73.891724, -73.8196, -73.81656, -74.009528, -74.000945, -73.9758, -73.842072, -74.0128, -73.886147, -73.8455806, -73.9044, -73.950262, -73.870397, -73.85141800000001, -73.87880799999999, -74.012, -73.986783, -73.846793], \"marker\": {\"color\": [0.4152, 0.53, 0.4198, 0.4385, 0.4485, 0.4393, 0.4129, 0.4823, 0.3704, 0.4599, 0.0, 0.3312, 0.5919, 0.411, 0.1924, 0.3672, 0.4529, 0.5903, 0.3987, 0.3919, 0.3655, 0.3631, 0.4091, 0.3228, 0.499, 0.5637, 0.4725, 0.4276, 0.3692, 0.4801, 0.3577, 0.3599, 0.397, 0.2794, 0.2909, 0.2781, 0.4328, 0.4709, 0.3404, 0.3362, 0.4325, 0.4792, 0.504, 0.567, 0.5709, 0.4148, 0.4311, 0.4111, 0.3929, 0.5174, 0.3813, 0.4532, 0.4118, 0.3959, 0.5832, 0.4511, 0.5197, 0.5105, 0.8706, 0.4883, 0.1959, 0.3681, 0.4254, 0.5278, 0.4359, 0.3691, 0.5555, 0.476, 0.4851, 0.3488, 0.3727, 0.555, 0.3676, 0.4026, 0.3057, 0.3438, 0.4698, 0.4222, 0.3594, 0.2303, 0.2599, 0.2831, 0.249, 0.2077, 0.4395, 0.3074, 0.3419, 0.5171, 0.2656, 0.1974, 0.3535, 0.2503, 0.5195, 0.3293, 0.2181, 0.2715, 0.1602, 0.2224, 0.3899, 0.2167, 0.4619, 0.5063, 0.2677, 0.5229, 0.486, 0.4131, 0.218, 0.2432, 0.2468, 0.1859, 0.2067, 0.4805, 0.5291, 0.4268, 0.2502, 0.1967, 0.4057, 0.1328, 0.1895, 0.621, 0.1962, 0.5376, 0.4956, 0.5658, 0.2336, 0.2466, 0.3334, 0.5532, 0.2488, 0.4802, 0.4506, 0.3425, 0.4586, 0.1703, 0.3536, 0.3076, 0.6319, 0.3624, 0.3974, 0.3098, 0.3891, 0.4053, 0.3966, 0.5438, 0.4265, 0.4165, 0.4497, 0.3054, 0.3474, 0.3462, 0.292, 0.6357, 0.6053, 0.44, 0.3423, 0.3789, 0.5484, 0.3214, 0.3757, 0.2587, 0.3963, 0.2415, 0.5971, 0.4239, 0.3633, 0.3414, 0.4252, 0.4679, 0.1413, 0.1117, 0.4471, 0.4054, 0.4586, 0.2122, 0.4009, 0.4461, 0.3337, 0.4843, 0.4865, 0.4492, 0.5554, 0.531, 0.4301, 0.5012, 0.5859, 0.4689, 0.3163, 0.3984, 0.518, 0.4742, 0.4172, 0.4598, 0.3226, 0.2633, 0.4672, 0.4802, 0.4009, 0.3059, 0.4093, 0.3295, 0.4744, 0.473, 0.2639, 0.252, 0.221, 0.3367, 0.1939, 0.2076, 0.4501, 0.4811, 0.3238, 0.2472, 0.5771, 0.5547, 0.2803, 0.3738, 0.3749, 0.5152, 0.2183, 0.4058, 0.4406, 0.4449, 0.7109, 0.2891, 0.3745, 0.279, 0.2338, 0.182, 0.3426, 0.4717, 0.4109, 0.1654, 0.4524, 0.2488, 0.4153, 0.4608, 0.4863, 0.2374, 0.3343, 0.3889, 0.3788, 0.3252, 0.4577, 0.2124, 0.3888, 0.2328, 0.4417, 0.4408, 0.5558, 0.6904, 0.3278, 0.4466, 0.556, 0.3951, 0.5046, 0.4278, 0.4242, 0.4677, 0.468, 0.4505, 0.2479, 0.3766, 0.3824, 0.2723, 0.572, 0.4941, 0.3415, 0.368, 0.1846, 0.3044, 0.3275, 0.336, 0.4341, 0.9794, 0.4427, 0.5319, 0.5036, 0.8267, 0.5269, 0.2836, 0.4098, 0.3935, 0.196, 0.4374, 0.4934, 0.3669, 0.2427, 0.2505, 0.3327, 0.3007, 0.454, 0.509, 0.3894, 0.4433, 0.441, 0.3939, 0.3828, 0.4914, 0.3678, 0.3634, 0.4262, 0.577, 0.4966, 0.317, 1.4074, 0.2047, 0.2663, 0.3964, 0.2906, 0.3727, 0.3806, 0.218, 0.4851, 0.432, 0.3798, 0.3709, 0.3415, 0.224, 0.5761, 0.5957, 0.3451, 0.4522, 0.4129, 0.6239, 0.3958, 0.4247, 0.3739, 0.4826, 0.4188, 0.469, 0.4201, 0.3434, 0.4309, 0.221, 0.4206, 0.3596, 0.4828, 0.4163, 0.3959, 0.3489, 0.4667, 0.4612, 0.4571, 0.3368, 0.561, 0.5156, 0.4165, 0.5208, 0.4871, 0.3424, 0.4969, 0.0, 0.5284, 0.4011, 0.4122, 0.4246, 0.4056, 0.3957, 0.3386, 0.3752, 0.4641, 0.6683, 0.4529, 0.4441, 0.3888, 0.468, 0.3981, 0.445, 0.449, 0.4664, 0.3708, 0.3116, 0.3231, 0.3064, 0.3828, 0.4076, 0.262, 0.5149, 0.4373, 0.2863, 0.3308, 0.3012, 0.4356, 0.1824, 0.4601, 0.5957, 0.4159, 0.4131, 0.3526, 0.413, 0.3824, 0.3607, 0.4538, 0.2996, 0.4264, 0.4243, 0.5075, 0.2491, 0.3339, 0.4187, 0.2396, 0.1729, 1.2465, 2.2857, 0.3938, 0.4655, 0.4013, 0.4756, 0.3357, 0.522, 0.4104, 0.458, 0.0, 0.0, 0.0, 0.0, 0.0, 0.0, 0.0, 0.0, 0.0, 0.0, 0.0, 0.0, 0.0, 0.0, 0.0, 0.3109, 0.4458, 0.155, 0.4087, 0.3857, 0.4442, 0.3751, 0.2271, 0.2376, 0.1841, 0.5018, 0.4005, 0.5099, 0.4776, 0.2785, 0.4772, 0.4227, 0.3698, 0.4399, 0.3484, 0.4407, 0.3821, 0.3682, 0.3872, 0.4336, 0.3853, 0.4451, 0.5363, 0.4018, 0.4706, 0.1959, 0.2591, 0.455, 0.4098, 0.1854, 0.4589, 0.4646, 0.5987, 0.5282, 0.458, 0.525, 0.4366, 0.1714, 0.2278, 0.4141], \"coloraxis\": \"coloraxis\", \"size\": [648.5714285714286, 3772.714285714286, 1732.857142857143, 2165.714285714286, 537.5714285714286, 361.57142857142856, 432.0, 1069.857142857143, 1686.4285714285713, 1747.5714285714287, 438.85714285714283, 989.0, 2542.4285714285716, 831.8571428571429, 1274.142857142857, 1278.142857142857, 2104.0, 449.14285714285717, 3698.1428571428573, 1037.4285714285713, 1699.2857142857142, 3221.714285714286, 1874.857142857143, 633.4285714285714, 1958.7142857142858, 655.8571428571429, 1305.0, 2895.714285714286, 1061.4285714285713, 507.14285714285717, 475.14285714285717, 1608.5714285714287, 2682.8571428571427, 2637.0, 2580.8571428571427, 10817.0, 578.0, 382.2857142857143, 1261.2857142857142, 788.2857142857143, 3159.4285714285716, 643.0, 1409.4285714285713, 1531.0, 4219.714285714285, 1278.5714285714287, 1044.7142857142858, 1077.5714285714287, 908.0, 885.7142857142857, 2064.285714285714, 894.0, 2275.5714285714284, 2014.7142857142858, 2157.4285714285716, 862.1428571428571, 1118.7142857142858, 708.0, 979.4285714285714, 1022.5714285714286, 767.1428571428571, 547.5714285714286, 1208.7142857142858, 3538.714285714286, 1250.142857142857, 599.0, 1521.857142857143, 670.1428571428571, 960.2857142857143, 209.71428571428572, 543.0, 270.2857142857143, 1074.0, 690.7142857142857, 623.2857142857143, 1053.4285714285713, 851.2857142857143, 490.2857142857143, 546.8571428571429, 1732.4285714285713, 2426.1428571428573, 2732.714285714286, 1449.7142857142858, 2349.8571428571427, 837.7142857142857, 652.7142857142857, 648.0, 687.8571428571429, 1109.857142857143, 1162.142857142857, 2537.5714285714284, 1740.7142857142858, 2055.8571428571427, 3472.1428571428573, 1002.2857142857143, 13519.0, 2712.0, 8775.142857142857, 2561.4285714285716, 5538.428571428572, 997.7142857142857, 2341.4285714285716, 462.42857142857144, 410.85714285714283, 873.8571428571429, 1521.2857142857142, 1116.857142857143, 3483.285714285714, 12748.714285714286, 11547.142857142857, 8296.0, 1536.4285714285713, 2189.0, 1308.4285714285713, 5579.857142857143, 1673.857142857143, 1825.4285714285713, 1455.2857142857142, 1773.142857142857, 856.2857142857143, 1528.5714285714287, 1027.857142857143, 1839.2857142857142, 576.7142857142857, 3015.0, 1327.7142857142858, 6122.142857142857, 2434.1428571428573, 7440.428571428572, 2836.5714285714284, 2613.714285714286, 2583.0, 586.4285714285714, 1749.0, 1332.0, 2764.4285714285716, 974.2857142857143, 3246.8571428571427, 874.4285714285714, 4943.571428571428, 5143.142857142857, 1141.2857142857142, 529.5714285714286, 756.7142857142857, 968.0, 4382.428571428572, 1066.142857142857, 1884.7142857142858, 1700.0, 1248.142857142857, 1322.2857142857142, 3275.714285714286, 788.0, 1474.4285714285713, 3459.8571428571427, 1272.5714285714287, 426.7142857142857, 2375.0, 5965.285714285715, 4334.285714285715, 1959.857142857143, 1462.0, 3666.5714285714284, 1178.5714285714287, 2504.1428571428573, 4861.714285714285, 2755.285714285714, 959.0, 337.57142857142856, 610.1428571428571, 231.85714285714286, 804.1428571428571, 382.14285714285717, 1586.2857142857142, 1401.0, 269.0, 458.85714285714283, 346.42857142857144, 988.7142857142857, 1107.857142857143, 545.1428571428571, 479.85714285714283, 1112.4285714285713, 295.0, 599.2857142857143, 387.57142857142856, 5782.714285714285, 416.42857142857144, 1275.7142857142858, 1186.4285714285713, 981.5714285714286, 1317.7142857142858, 567.7142857142857, 247.85714285714286, 3722.285714285714, 1162.2857142857142, 959.5714285714286, 649.7142857142857, 460.0, 1473.5714285714287, 602.5714285714286, 791.5714285714286, 1647.0, 3384.714285714286, 158.42857142857142, 461.85714285714283, 1458.7142857142858, 278.42857142857144, 552.2857142857143, 2248.4285714285716, 53.42857142857143, 622.2857142857143, 1905.5714285714287, 867.4285714285714, 2191.4285714285716, 1094.857142857143, 369.0, 1182.5714285714287, 2610.5714285714284, 647.2857142857143, 595.1428571428571, 1428.0, 384.2857142857143, 2327.5714285714284, 1463.4285714285713, 1721.142857142857, 1884.2857142857142, 472.0, 1550.2857142857142, 1035.857142857143, 637.2857142857143, 1423.5714285714287, 494.85714285714283, 1161.4285714285713, 1685.142857142857, 2387.5714285714284, 1630.142857142857, 533.4285714285714, 709.4285714285714, 778.2857142857143, 492.14285714285717, 749.4285714285714, 1116.857142857143, 1696.0, 584.2857142857143, 1511.2857142857142, 857.8571428571429, 563.5714285714286, 287.42857142857144, 2088.285714285714, 2437.0, 2385.285714285714, 811.4285714285714, 1003.8571428571429, 1190.142857142857, 709.7142857142857, 563.5714285714286, 195.28571428571428, 813.7142857142857, 1027.5714285714287, 1449.5714285714287, 782.0, 627.4285714285714, 119.14285714285714, 1404.857142857143, 2131.8571428571427, 3660.0, 1414.857142857143, 2090.285714285714, 1389.142857142857, 1971.4285714285713, 1938.5714285714287, 1416.5714285714287, 672.1428571428571, 1754.7142857142858, 1665.857142857143, 780.2857142857143, 1068.7142857142858, 975.1428571428571, 93.85714285714286, 1813.2857142857142, 771.8571428571429, 483.14285714285717, 765.7142857142857, 1068.0, 831.7142857142857, 2483.285714285714, 6356.142857142857, 724.5714285714286, 305.14285714285717, 1075.7142857142858, 1326.142857142857, 991.1428571428571, 2252.285714285714, 816.1428571428571, 3766.8571428571427, 998.7142857142857, 1755.2857142857142, 725.8571428571429, 866.7142857142857, 866.0, 1294.4285714285713, 653.8571428571429, 1187.857142857143, 459.42857142857144, 1276.4285714285713, 215.57142857142858, 1555.857142857143, 255.28571428571428, 624.8571428571429, 749.7142857142857, 545.1428571428571, 1450.5714285714287, 513.1428571428571, 2026.857142857143, 787.7142857142857, 2642.714285714286, 3547.1428571428573, 1135.2857142857142, 4913.428571428572, 281.42857142857144, 3046.1428571428573, 536.0, 920.7142857142857, 1094.2857142857142, 1346.7142857142858, 840.2857142857143, 909.0, 795.0, 803.8571428571429, 798.4285714285714, 672.0, 1179.0, 3927.285714285714, 412.57142857142856, 351.14285714285717, 575.8571428571429, 758.2857142857143, 5860.0, 2111.285714285714, 86.14285714285714, 2229.5714285714284, 534.0, 333.57142857142856, 1016.5714285714286, 1003.0, 460.85714285714283, 1098.857142857143, 1476.7142857142858, 641.2857142857143, 922.7142857142857, 0.0, 3102.4285714285716, 1490.142857142857, 895.8571428571429, 1565.142857142857, 770.0, 270.0, 1219.142857142857, 509.57142857142856, 757.5714285714286, 1061.2857142857142, 1207.4285714285713, 1659.7142857142858, 183.0, 933.8571428571429, 540.7142857142857, 2295.4285714285716, 597.0, 737.1428571428571, 1228.0, 600.2857142857143, 643.5714285714286, 1428.2857142857142, 2207.0, 910.5714285714286, 2433.285714285714, 3546.4285714285716, 3894.5714285714284, 1302.4285714285713, 3495.4285714285716, 814.8571428571429, 6994.428571428572, 3598.1428571428573, 280.0, 1098.7142857142858, 963.5714285714286, 631.2857142857143, 469.85714285714283, 1167.142857142857, 638.8571428571429, 77.85714285714286, 661.7142857142857, 1298.857142857143, 907.4285714285714, 1072.857142857143, 1573.857142857143, 1084.857142857143, 1564.142857142857, 849.7142857142857, 521.1428571428571, 565.2857142857143, 738.2857142857143, 911.0, 796.4285714285714, 827.8571428571429, 1002.7142857142857, 119.85714285714286, 1029.142857142857, 7760.142857142857, 1031.5714285714287, 913.5714285714286, 0.0, 0.0, 0.0, 0.0, 0.0, 0.0, 0.0, 0.0, 0.0, 0.0, 0.0, 0.0, 0.0, 0.0, 0.0, 36.285714285714285, 558.4285714285714, 1129.142857142857, 2170.1428571428573, 521.5714285714286, 1084.7142857142858, 629.7142857142857, 1340.7142857142858, 1122.7142857142858, 919.1428571428571, 815.8571428571429, 2011.4285714285713, 1011.2857142857143, 1848.2857142857142, 253.42857142857142, 774.1428571428571, 2934.1428571428573, 525.4285714285714, 1037.857142857143, 133.57142857142858, 1298.857142857143, 1068.2857142857142, 2146.0, 1863.4285714285713, 3491.8571428571427, 501.7142857142857, 442.14285714285717, 570.8571428571429, 849.0, 959.4285714285714, 3205.5714285714284, 4521.285714285715, 426.14285714285717, 771.8571428571429, 1904.7142857142858, 345.7142857142857, 500.85714285714283, 688.0, 1276.2857142857142, 2929.4285714285716, 721.4285714285714, 615.0, 1036.5714285714287, 949.7142857142857, 458.7142857142857], \"sizemode\": \"area\", \"sizeref\": 33.7975}, \"mode\": \"markers\", \"name\": \"\", \"showlegend\": false, \"subplot\": \"mapbox\", \"type\": \"scattermapbox\"}],\n",
       "                        {\"coloraxis\": {\"cmax\": 0.46482500000000004, \"cmin\": 0, \"colorbar\": {\"title\": {\"text\": \"Recovery Ratio\"}}, \"colorscale\": [[0.0, \"rgb(247,251,255)\"], [0.125, \"rgb(222,235,247)\"], [0.25, \"rgb(198,219,239)\"], [0.375, \"rgb(158,202,225)\"], [0.5, \"rgb(107,174,214)\"], [0.625, \"rgb(66,146,198)\"], [0.75, \"rgb(33,113,181)\"], [0.875, \"rgb(8,81,156)\"], [1.0, \"rgb(8,48,107)\"]]}, \"legend\": {\"itemsizing\": \"constant\", \"tracegroupgap\": 0}, \"mapbox\": {\"center\": {\"lat\": 40.729564639473686, \"lon\": -73.93784501776312}, \"domain\": {\"x\": [0.0, 1.0], \"y\": [0.0, 1.0]}, \"style\": \"carto-positron\", \"zoom\": 10}, \"margin\": {\"b\": 0, \"l\": 0, \"r\": 0, \"t\": 0}, \"template\": {\"data\": {\"bar\": [{\"error_x\": {\"color\": \"#2a3f5f\"}, \"error_y\": {\"color\": \"#2a3f5f\"}, \"marker\": {\"line\": {\"color\": \"#E5ECF6\", \"width\": 0.5}}, \"type\": \"bar\"}], \"barpolar\": [{\"marker\": {\"line\": {\"color\": \"#E5ECF6\", \"width\": 0.5}}, \"type\": \"barpolar\"}], \"carpet\": [{\"aaxis\": {\"endlinecolor\": \"#2a3f5f\", \"gridcolor\": \"white\", \"linecolor\": \"white\", \"minorgridcolor\": \"white\", \"startlinecolor\": \"#2a3f5f\"}, \"baxis\": {\"endlinecolor\": \"#2a3f5f\", \"gridcolor\": \"white\", \"linecolor\": \"white\", \"minorgridcolor\": \"white\", \"startlinecolor\": \"#2a3f5f\"}, \"type\": \"carpet\"}], \"choropleth\": [{\"colorbar\": {\"outlinewidth\": 0, \"ticks\": \"\"}, \"type\": \"choropleth\"}], \"contour\": [{\"colorbar\": {\"outlinewidth\": 0, \"ticks\": \"\"}, \"colorscale\": [[0.0, \"#0d0887\"], [0.1111111111111111, \"#46039f\"], [0.2222222222222222, \"#7201a8\"], [0.3333333333333333, \"#9c179e\"], [0.4444444444444444, \"#bd3786\"], [0.5555555555555556, \"#d8576b\"], [0.6666666666666666, \"#ed7953\"], [0.7777777777777778, \"#fb9f3a\"], [0.8888888888888888, \"#fdca26\"], [1.0, \"#f0f921\"]], \"type\": \"contour\"}], \"contourcarpet\": [{\"colorbar\": {\"outlinewidth\": 0, \"ticks\": \"\"}, \"type\": \"contourcarpet\"}], \"heatmap\": [{\"colorbar\": {\"outlinewidth\": 0, \"ticks\": \"\"}, \"colorscale\": [[0.0, \"#0d0887\"], [0.1111111111111111, \"#46039f\"], [0.2222222222222222, \"#7201a8\"], [0.3333333333333333, \"#9c179e\"], [0.4444444444444444, \"#bd3786\"], [0.5555555555555556, \"#d8576b\"], [0.6666666666666666, \"#ed7953\"], [0.7777777777777778, \"#fb9f3a\"], [0.8888888888888888, \"#fdca26\"], [1.0, \"#f0f921\"]], \"type\": \"heatmap\"}], \"heatmapgl\": [{\"colorbar\": {\"outlinewidth\": 0, \"ticks\": \"\"}, \"colorscale\": [[0.0, \"#0d0887\"], [0.1111111111111111, \"#46039f\"], [0.2222222222222222, \"#7201a8\"], [0.3333333333333333, \"#9c179e\"], [0.4444444444444444, \"#bd3786\"], [0.5555555555555556, \"#d8576b\"], [0.6666666666666666, \"#ed7953\"], [0.7777777777777778, \"#fb9f3a\"], [0.8888888888888888, \"#fdca26\"], [1.0, \"#f0f921\"]], \"type\": \"heatmapgl\"}], \"histogram\": [{\"marker\": {\"colorbar\": {\"outlinewidth\": 0, \"ticks\": \"\"}}, \"type\": \"histogram\"}], \"histogram2d\": [{\"colorbar\": {\"outlinewidth\": 0, \"ticks\": \"\"}, \"colorscale\": [[0.0, \"#0d0887\"], [0.1111111111111111, \"#46039f\"], [0.2222222222222222, \"#7201a8\"], [0.3333333333333333, \"#9c179e\"], [0.4444444444444444, \"#bd3786\"], [0.5555555555555556, \"#d8576b\"], [0.6666666666666666, \"#ed7953\"], [0.7777777777777778, \"#fb9f3a\"], [0.8888888888888888, \"#fdca26\"], [1.0, \"#f0f921\"]], \"type\": \"histogram2d\"}], \"histogram2dcontour\": [{\"colorbar\": {\"outlinewidth\": 0, \"ticks\": \"\"}, \"colorscale\": [[0.0, \"#0d0887\"], [0.1111111111111111, \"#46039f\"], [0.2222222222222222, \"#7201a8\"], [0.3333333333333333, \"#9c179e\"], [0.4444444444444444, \"#bd3786\"], [0.5555555555555556, \"#d8576b\"], [0.6666666666666666, \"#ed7953\"], [0.7777777777777778, \"#fb9f3a\"], [0.8888888888888888, \"#fdca26\"], [1.0, \"#f0f921\"]], \"type\": \"histogram2dcontour\"}], \"mesh3d\": [{\"colorbar\": {\"outlinewidth\": 0, \"ticks\": \"\"}, \"type\": \"mesh3d\"}], \"parcoords\": [{\"line\": {\"colorbar\": {\"outlinewidth\": 0, \"ticks\": \"\"}}, \"type\": \"parcoords\"}], \"pie\": [{\"automargin\": true, \"type\": \"pie\"}], \"scatter\": [{\"marker\": {\"colorbar\": {\"outlinewidth\": 0, \"ticks\": \"\"}}, \"type\": \"scatter\"}], \"scatter3d\": [{\"line\": {\"colorbar\": {\"outlinewidth\": 0, \"ticks\": \"\"}}, \"marker\": {\"colorbar\": {\"outlinewidth\": 0, \"ticks\": \"\"}}, \"type\": \"scatter3d\"}], \"scattercarpet\": [{\"marker\": {\"colorbar\": {\"outlinewidth\": 0, \"ticks\": \"\"}}, \"type\": \"scattercarpet\"}], \"scattergeo\": [{\"marker\": {\"colorbar\": {\"outlinewidth\": 0, \"ticks\": \"\"}}, \"type\": \"scattergeo\"}], \"scattergl\": [{\"marker\": {\"colorbar\": {\"outlinewidth\": 0, \"ticks\": \"\"}}, \"type\": \"scattergl\"}], \"scattermapbox\": [{\"marker\": {\"colorbar\": {\"outlinewidth\": 0, \"ticks\": \"\"}}, \"type\": \"scattermapbox\"}], \"scatterpolar\": [{\"marker\": {\"colorbar\": {\"outlinewidth\": 0, \"ticks\": \"\"}}, \"type\": \"scatterpolar\"}], \"scatterpolargl\": [{\"marker\": {\"colorbar\": {\"outlinewidth\": 0, \"ticks\": \"\"}}, \"type\": \"scatterpolargl\"}], \"scatterternary\": [{\"marker\": {\"colorbar\": {\"outlinewidth\": 0, \"ticks\": \"\"}}, \"type\": \"scatterternary\"}], \"surface\": [{\"colorbar\": {\"outlinewidth\": 0, \"ticks\": \"\"}, \"colorscale\": [[0.0, \"#0d0887\"], [0.1111111111111111, \"#46039f\"], [0.2222222222222222, \"#7201a8\"], [0.3333333333333333, \"#9c179e\"], [0.4444444444444444, \"#bd3786\"], [0.5555555555555556, \"#d8576b\"], [0.6666666666666666, \"#ed7953\"], [0.7777777777777778, \"#fb9f3a\"], [0.8888888888888888, \"#fdca26\"], [1.0, \"#f0f921\"]], \"type\": \"surface\"}], \"table\": [{\"cells\": {\"fill\": {\"color\": \"#EBF0F8\"}, \"line\": {\"color\": \"white\"}}, \"header\": {\"fill\": {\"color\": \"#C8D4E3\"}, \"line\": {\"color\": \"white\"}}, \"type\": \"table\"}]}, \"layout\": {\"annotationdefaults\": {\"arrowcolor\": \"#2a3f5f\", \"arrowhead\": 0, \"arrowwidth\": 1}, \"coloraxis\": {\"colorbar\": {\"outlinewidth\": 0, \"ticks\": \"\"}}, \"colorscale\": {\"diverging\": [[0, \"#8e0152\"], [0.1, \"#c51b7d\"], [0.2, \"#de77ae\"], [0.3, \"#f1b6da\"], [0.4, \"#fde0ef\"], [0.5, \"#f7f7f7\"], [0.6, \"#e6f5d0\"], [0.7, \"#b8e186\"], [0.8, \"#7fbc41\"], [0.9, \"#4d9221\"], [1, \"#276419\"]], \"sequential\": [[0.0, \"#0d0887\"], [0.1111111111111111, \"#46039f\"], [0.2222222222222222, \"#7201a8\"], [0.3333333333333333, \"#9c179e\"], [0.4444444444444444, \"#bd3786\"], [0.5555555555555556, \"#d8576b\"], [0.6666666666666666, \"#ed7953\"], [0.7777777777777778, \"#fb9f3a\"], [0.8888888888888888, \"#fdca26\"], [1.0, \"#f0f921\"]], \"sequentialminus\": [[0.0, \"#0d0887\"], [0.1111111111111111, \"#46039f\"], [0.2222222222222222, \"#7201a8\"], [0.3333333333333333, \"#9c179e\"], [0.4444444444444444, \"#bd3786\"], [0.5555555555555556, \"#d8576b\"], [0.6666666666666666, \"#ed7953\"], [0.7777777777777778, \"#fb9f3a\"], [0.8888888888888888, \"#fdca26\"], [1.0, \"#f0f921\"]]}, \"colorway\": [\"#636efa\", \"#EF553B\", \"#00cc96\", \"#ab63fa\", \"#FFA15A\", \"#19d3f3\", \"#FF6692\", \"#B6E880\", \"#FF97FF\", \"#FECB52\"], \"font\": {\"color\": \"#2a3f5f\"}, \"geo\": {\"bgcolor\": \"white\", \"lakecolor\": \"white\", \"landcolor\": \"#E5ECF6\", \"showlakes\": true, \"showland\": true, \"subunitcolor\": \"white\"}, \"hoverlabel\": {\"align\": \"left\"}, \"hovermode\": \"closest\", \"mapbox\": {\"style\": \"light\"}, \"paper_bgcolor\": \"white\", \"plot_bgcolor\": \"#E5ECF6\", \"polar\": {\"angularaxis\": {\"gridcolor\": \"white\", \"linecolor\": \"white\", \"ticks\": \"\"}, \"bgcolor\": \"#E5ECF6\", \"radialaxis\": {\"gridcolor\": \"white\", \"linecolor\": \"white\", \"ticks\": \"\"}}, \"scene\": {\"xaxis\": {\"backgroundcolor\": \"#E5ECF6\", \"gridcolor\": \"white\", \"gridwidth\": 2, \"linecolor\": \"white\", \"showbackground\": true, \"ticks\": \"\", \"zerolinecolor\": \"white\"}, \"yaxis\": {\"backgroundcolor\": \"#E5ECF6\", \"gridcolor\": \"white\", \"gridwidth\": 2, \"linecolor\": \"white\", \"showbackground\": true, \"ticks\": \"\", \"zerolinecolor\": \"white\"}, \"zaxis\": {\"backgroundcolor\": \"#E5ECF6\", \"gridcolor\": \"white\", \"gridwidth\": 2, \"linecolor\": \"white\", \"showbackground\": true, \"ticks\": \"\", \"zerolinecolor\": \"white\"}}, \"shapedefaults\": {\"line\": {\"color\": \"#2a3f5f\"}}, \"ternary\": {\"aaxis\": {\"gridcolor\": \"white\", \"linecolor\": \"white\", \"ticks\": \"\"}, \"baxis\": {\"gridcolor\": \"white\", \"linecolor\": \"white\", \"ticks\": \"\"}, \"bgcolor\": \"#E5ECF6\", \"caxis\": {\"gridcolor\": \"white\", \"linecolor\": \"white\", \"ticks\": \"\"}}, \"title\": {\"x\": 0.05}, \"xaxis\": {\"automargin\": true, \"gridcolor\": \"white\", \"linecolor\": \"white\", \"ticks\": \"\", \"title\": {\"standoff\": 15}, \"zerolinecolor\": \"white\", \"zerolinewidth\": 2}, \"yaxis\": {\"automargin\": true, \"gridcolor\": \"white\", \"linecolor\": \"white\", \"ticks\": \"\", \"title\": {\"standoff\": 15}, \"zerolinecolor\": \"white\", \"zerolinewidth\": 2}}}},\n",
       "                        {\"responsive\": true}\n",
       "                    ).then(function(){\n",
       "                            \n",
       "var gd = document.getElementById('4ff326c1-934b-402c-b036-ebcccbae3252');\n",
       "var x = new MutationObserver(function (mutations, observer) {{\n",
       "        var display = window.getComputedStyle(gd).display;\n",
       "        if (!display || display === 'none') {{\n",
       "            console.log([gd, 'removed!']);\n",
       "            Plotly.purge(gd);\n",
       "            observer.disconnect();\n",
       "        }}\n",
       "}});\n",
       "\n",
       "// Listen for the removal of the full notebook cells\n",
       "var notebookContainer = gd.closest('#notebook-container');\n",
       "if (notebookContainer) {{\n",
       "    x.observe(notebookContainer, {childList: true});\n",
       "}}\n",
       "\n",
       "// Listen for the clearing of the current output cell\n",
       "var outputEl = gd.closest('.output');\n",
       "if (outputEl) {{\n",
       "    x.observe(outputEl, {childList: true});\n",
       "}}\n",
       "\n",
       "                        })\n",
       "                };\n",
       "                });\n",
       "            </script>\n",
       "        </div>"
      ]
     },
     "metadata": {},
     "output_type": "display_data"
    }
   ],
   "source": [
    "fig = px.scatter_mapbox(\n",
    "    df_meg, \n",
    "    lat=\"lat\", \n",
    "    lon=\"lon\", \n",
    "    color='ratio', \n",
    "    custom_data=['STATION', 'Pre-pandemic Daily', 'Current Daily', 'ratio'],\n",
    "    size='size',\n",
    "    labels={'ratio':'Recovery Ratio'},\n",
    "    range_color=[0,df_meg['ratio'].quantile(0.75)],\n",
    "    color_continuous_scale=px.colors.sequential.Blues,\n",
    "    zoom=10\n",
    ")\n",
    "\n",
    "fig.update_layout(mapbox_style=\"carto-positron\")\n",
    "fig.update_layout(margin={\"r\":0,\"t\":0,\"l\":0,\"b\":0})\n",
    "\n",
    "fig.update_traces(\n",
    "    hovertemplate=\n",
    "    '<b>Station: %{customdata[0]}</b> <br>' + \n",
    "    'Pre-pandemic Daily: %{customdata[1]} <br>' +\n",
    "    'Current Daily: %{customdata[2]} <br>' +\n",
    "    '% Recovery : %{customdata[3]:.2%}'\n",
    ")\n",
    "\n",
    "fig.show()"
   ]
  },
  {
   "cell_type": "code",
   "execution_count": 22,
   "metadata": {},
   "outputs": [
    {
     "data": {
      "text/plain": [
       "False"
      ]
     },
     "execution_count": 22,
     "metadata": {},
     "output_type": "execute_result"
    }
   ],
   "source": [
    "df_cur.STATION.duplicated().any()"
   ]
  },
  {
   "cell_type": "markdown",
   "metadata": {},
   "source": [
    "## Create a stack plot of ridership given a list of stations"
   ]
  },
  {
   "cell_type": "code",
   "execution_count": 24,
   "metadata": {},
   "outputs": [
    {
     "data": {
      "text/plain": [
       "array(['WHITEHALL STREET', 'CYPRESS HILLS', '75TH STREET & ELDERTS LANE',\n",
       "       '85TH STREET & FOREST PKWAY', 'WOODHAVEN BOULEVARD',\n",
       "       '104TH STREET', '111TH STREET', '121ST STREET',\n",
       "       '42ND STREET & 8TH AVENUE', '34TH STREET & 8TH AVENUE',\n",
       "       'FULTON STREET', 'FIFTH AVENUE', 'LEXINGTON AVENUE',\n",
       "       'ROOSEVELT AVE/JACKSON HTS', '179TH STREET & HILLSIDE AVE',\n",
       "       '47-50 STREETS/ROCKEFELLER', '42ND STREET & 6TH AVENUE',\n",
       "       '34TH STREET & 6TH AVENUE', 'SUTPHIN BOULEVARD',\n",
       "       'JAMAICA CENTER-PARSONS BLVD', 'WALL STREET',\n",
       "       'FULTON & WILLIAM STREETS', 'PARK PLACE', 'CHAMBERS STREET',\n",
       "       '34TH STREET & 7TH AVENUE', '42ND STREET/TIMES SQUARE',\n",
       "       '125TH STREET & BROADWAY', '168TH STREET & BROADWAY',\n",
       "       'DYCKMAN STREET', '207TH STREET', '215TH STREET', '225TH STREET',\n",
       "       '231ST STREET', 'BOWLING GREEN & BATTERY PL',\n",
       "       'BOWLING GREEN & BROADWAY', 'BROOKLYN BRIDGE',\n",
       "       '42ND STREET & GRAND CENTRAL', '42ND STREET & 3RD AVENUE',\n",
       "       '51ST STREET & LEXINGTON AVE', '59TH STREET & LEXINGTON AVE',\n",
       "       'WOODLAWN ROAD', '149TH STREET & 3RD AVENUE',\n",
       "       'FIFTH AVENUE & 42ND STREET', 'MAIN STREET', 'NEVINS STREET',\n",
       "       'BARCLAYS CENTER', 'BERGEN STREET', 'GRAND ARMY PLAZA',\n",
       "       'EASTERN PARKWAY', 'NOSTRAND AVENUE', 'UTICA AVENUE',\n",
       "       'SUTTER AVENUE', 'SARATOGA AVENUE', 'ROCKAWAY AVENUE',\n",
       "       'JUNIUS STREET', 'PENNSYLVANIA AVENUE', 'VAN SICLEN AVENUE',\n",
       "       'NEW LOTS AVENUE', 'ST GEORGE TERMINAL',\n",
       "       '34TH STREET - HUDSON YARDS', 'FIFTH AVENUE & 60TH STREET',\n",
       "       '57TH STREET & 7TH AVENUE', '49TH STREET & 7TH AVENUE',\n",
       "       '28TH STREET & BROADWAY', '23RD STREET & 5TH AVENUE',\n",
       "       '59TH STREET/COLUMBUS CIRCLE', '8TH STREET & BROADWAY',\n",
       "       'PRINCE STREET & BROADWAY', 'CITY HALL', 'CORTLANDT STREET',\n",
       "       'JAY ST-METROTECH', '36TH AVENUE & 31ST STREET',\n",
       "       '30TH AVENUE & 31ST STREET', 'ASTORIA BLVD & 31ST STREET',\n",
       "       'DITMARS BLVD & 31ST STREET', '82ND STREET-JACKSON HEIGHTS',\n",
       "       'JUNCTION BLVD-ROOSEVELT AVE', 'CHURCH AVENUE', 'DEKALB AVENUE',\n",
       "       'METROPOLITAN AVENUE', '145TH STREET', '125TH STREET',\n",
       "       'BROADWAY-EAST NEW YORK', '167TH ST-GRAND CONCOURSE',\n",
       "       '14TH STREET & 7TH AVENUE', 'CASTLE HILL AVENUE',\n",
       "       'WESTCHESTER SQUARE', 'BOROUGH HALL - COURT STREET',\n",
       "       'CHURCH AVENUE & NOSTRAND AV', 'FLATBUSH AVE & NOSTRAND AV',\n",
       "       '23RD STREET & 8TH AVENUE', 'FORDHAM RD/GRAND CONCOURSE',\n",
       "       'SEVENTH AVENUE & WEST 53RD', 'PARSONS BLVD & HILLSIDE AV',\n",
       "       '169TH STREET & HILLSIDE AVE', '50TH STREET & 7TH AVENUE',\n",
       "       '242ND STREET & BROADWAY', 'CANAL STREET',\n",
       "       'FORDHAM ROAD & JEROME AVE', 'MORRISON AVE & WESTCHESTER',\n",
       "       'QUEENSBORO PLAZA', '90TH STREET/ELMHURST AVENUE',\n",
       "       'FRANKLIN AVE/EASTERN PKWY', 'KINGSTON AVE/EASTERN PKWY',\n",
       "       'BROAD STREET & WALL STREET', '175TH STREET/FT WASHINGTON',\n",
       "       'SUTPHIN BLVD-HILLSIDE AVE', 'BERGEN STREET-SMITH STREET',\n",
       "       'KINGS HIGHWAY-MCDONALD AVE', '23RD STREET-PARK AVE SOUTH',\n",
       "       '125TH STREET-LEXINGTON AVE', 'MOSHOLU PARKWAY-JEROME AVE',\n",
       "       'HUNTERS PT AVE-49TH AVE', 'NEWKIRK AVE-NOSTRAND AVE',\n",
       "       'SHEEPSHEAD BAY ROAD', 'MYRTLE AVE-GATES AVENUE',\n",
       "       'WEST 4TH ST-WASHINGTON SQ', 'CANAL STREET-LISPENARD ST',\n",
       "       'QUEENS PLAZA-JACKSON AVE', '71ST AVE-CONTINENTAL AVE',\n",
       "       'ESSEX ST-DELANCEY ST', '28TH STREET-PARK AVE SOUTH',\n",
       "       '96TH STREET-LEXINGTON AVE', '241ST ST-WHITE PLAINS RD',\n",
       "       'HUNTS PT AVE-SOUTHERN BLVD', '61ST STREET-ROOSEVELT AVE',\n",
       "       'PARKSIDE AVE-OCEAN AVE', 'NEWKIRK PLAZA',\n",
       "       'AVENUE U-EAST 16TH STREET', 'STILLWELL AVE-CONEY ISLAND',\n",
       "       'ROCKAWAY PKWY-GLENWOOD RD', 'UTICA AVE-STUYVESANT AVE',\n",
       "       'TREMONT AVE-179TH ST', 'KINGSBRIDGE RD-196TH ST',\n",
       "       'BEDFORD PARK BLVD-203RD ST', '205TH ST-BAINBRIDGE AVE',\n",
       "       'UNION TURNPIKE-KEW GARDENS', '116TH STREET-COLUMBIA',\n",
       "       'ASTOR PLACE-4 AVENUE', 'KINGSBRIDGE RD-JEROME AVE',\n",
       "       'ELDER AVE-WESTCHESTER AVE', '14TH STREET-6TH AVENUE',\n",
       "       '66TH STREET-BROADWAY', 'TOMPKINSVILLE', '79TH STREET-BROADWAY',\n",
       "       '86TH STREET-BROADWAY', '96TH STREET-BROADWAY',\n",
       "       '137TH STREET-BROADWAY', '14TH STREET-UNION SQUARE',\n",
       "       '7TH AVENUE-PARK PLACE', 'BRIGHTON BEACH-CONEY ISLAND',\n",
       "       '207TH STREET-BROADWAY', '181ST STREET-FT WASH AVE',\n",
       "       '8TH AVENUE-14TH STREET', '33RD STREET-PARK AVENUE',\n",
       "       '68TH STREET-HUNTER COLLEGE', '77TH STREET-LEXINGTON AVE',\n",
       "       '86TH STREET-LEXINGTON AVE', '103RD STREET-LEXINGTON AVE',\n",
       "       '110TH STREET-LEXINGTON AVE', '116TH STREET-LEXINGTON AVE',\n",
       "       'BEDFORD PARK BLVD-JEROME AV', 'CORTELYOU RD-EAST 16TH ST',\n",
       "       'DYCKMAN STREET-BROADWAY', '86TH ST-CENTRAL PARK WEST',\n",
       "       '81ST STREET-MUSEUM', '50TH STREET-8TH AVENUE',\n",
       "       'CHRISTOPHER ST-SHERIDAN SQ', '23RD STREET-7TH AVENUE',\n",
       "       '103RD STREET-BROADWAY', '110TH STREET-BROADWAY',\n",
       "       '157TH STREET-BROADWAY', 'BLEECKER ST-LAFAYETTE ST',\n",
       "       '161ST STREET-YANKEE STADIUM', 'PROSPECT PARK-EMPIRE BLVD',\n",
       "       '36TH STREET-4TH AVENUE', 'NOSTRAND AVE-FULTON ST',\n",
       "       'KINGSTON AVE-THROOP AVE', 'EUCLID AVE-PITKIN AVE',\n",
       "       'WOODHAVEN BLVD-QUEENS BLVD', '63RD DRIVE-REGO PARK',\n",
       "       '23RD STREET-6TH AVENUE', 'CHURCH AVE-MCDONALD AVE',\n",
       "       '149TH ST-GRAND CONCOURSE', '125TH STREET-LENOX AVENUE',\n",
       "       '135TH STREET-LENOX AVENUE', '103RD ST-ROOSEVELT AVE',\n",
       "       'STERLING ST-NOSTRAND AVE', 'BEVERLY RD-NOSTRAND AVE',\n",
       "       'KINGS HIGHWAY-EAST 16TH ST', '59TH STREET-4TH AVENUE',\n",
       "       'BAY RIDGE AVE-4TH AVENUE', '77TH STREET-4TH AVENUE',\n",
       "       '86TH STREET-4TH AVENUE', 'BAY RIDGE - 95TH STREET',\n",
       "       'HOYT ST-SCHERMERHORN ST', 'ELMHURST AVE-BROADWAY',\n",
       "       '67TH AVENUE-QUEENS BLVD', 'CARROLL ST-PRESIDENT ST',\n",
       "       '167TH STREET-RIVER AVENUE', '177TH STREET-PARKCHESTER',\n",
       "       '46TH ST-BLISS ST', 'CLARK STREET-HENRY STREET',\n",
       "       'HOYT STREET-HOYT STREET', 'GUN HILL ROAD-SEYMOUR',\n",
       "       'RECTOR STREET-CHURCH STREET', 'AVENUE J-EAST 16TH STREET',\n",
       "       'AVENUE M-EAST 16TH STREET', 'NECK ROAD-EAST 16TH STREET',\n",
       "       'UNION STREET-4TH AVENUE', '45TH STREET-4TH AVENUE',\n",
       "       '53RD STREET-4TH AVENUE', '50TH STREET-NEW UTRECHT AVE',\n",
       "       'BEDFORD AVE-NORTH 7TH ST', 'DEKALB AVE-WYCKOFF AVE',\n",
       "       '182ND STREET-183RD STREET', 'STEINWAY ST-BROADWAY',\n",
       "       'GREENPOINT AVE', 'GRAND ST-CHRISTIE ST',\n",
       "       '15TH ST-PROSPECT PARK WEST', '18TH AVE-MCDONALD AVE',\n",
       "       '170TH STREET-JEROME AVENUE', 'BURNSIDE AVE-JEROME AVE',\n",
       "       'ST LAWRENCE AVE-WEST AVE', 'PROSPECT AVENUE-4TH AVENUE',\n",
       "       '55TH ST-NEW UTRECHT AVE', '1ST AVENUE-14TH STREET',\n",
       "       'GRAHAM AVE-METROPOLITAN AVE', 'GRAND ST-BUSHWICK AVE',\n",
       "       '96TH ST-CENTRAL PARK WEST', 'HIGH ST-CADMAN PLAZA WEST',\n",
       "       '174TH-175TH ST-GRAND CONCOU', 'GRAND AVE-QUEENS BOULEVARD',\n",
       "       'VAN WYCK BLVD-MAIN STREET', 'NASSAU AVE-MANHATTAN AVE',\n",
       "       'EAST BROADWAY-MADISON ST', '4TH AVENUE-9TH STREET',\n",
       "       'ROOSEVELT ISLAND', '181ST STREET-ST NICHOLAS AV',\n",
       "       '40TH STREET-LOWERY STREET', 'BEVERLEY ROAD -EAST 15TH ST',\n",
       "       'AVENUE H-EAST 16TH STREET', 'OCEAN PKWAY-BRIGHTON BCH AV',\n",
       "       'MONTROSE AVENUE', 'HALSEY STREET-WYCKOFF AVE',\n",
       "       '46TH STREET-BROADWAY', 'METROPOLITAN AVE-LORIMER ST',\n",
       "       'BEDFORD AVENUE-NOSTRAND AVE', 'SMITH STREET-9TH STREET',\n",
       "       'AVENUE X-MCDONALD AVENUE', '28TH STREET-7TH AVENUE',\n",
       "       '145TH STREET-BROADWAY', '191ST STREET-ST NICHOLAS AV',\n",
       "       '183RD STREET-JEROME AVENUE', 'JACKSON AVENUE-VERNON BLVD',\n",
       "       'PRESIDENT ST-NOSTRAND AVE', '25TH STREET-4TH AVENUE',\n",
       "       'JEFFERSON STREET-WYCKOFF AV', '190TH STREET-OVERLOOK TERR',\n",
       "       '72ND STREET-CENTRAL PK WEST', 'SPRING STREET-6TH AVENUE',\n",
       "       'LAFAYETTE AVENUE-FULTON ST', 'CLINTON AVENUE-FULTON ST',\n",
       "       'MOTT AVENUE-BEACH 22ND ST', 'MYRTLE AVENUE-MARCY AVENUE',\n",
       "       'CLASSON AVENUE-LAFAYETTE AV', '7TH AVENUE-9TH STREET',\n",
       "       'FT HAMILTON PKY-GREENWOOD', 'HOUSTON STREET-VARICK ST',\n",
       "       '33RD STREET-QUEENS BLVD', 'BAYCHESTER AVE-TILLOTSON',\n",
       "       '34TH STREET - PENN STATION', 'MORGAN AVENUE-HARRISON PL',\n",
       "       'WILSON AVENUE-MOFFAT STREET', '163RD ST & AMSTERDAM AVE',\n",
       "       'FRANKLIN AVENUE-FULTON ST', 'NORTHERN BLVD-BROADWAY',\n",
       "       'BROADWAY - UNION AVENUE', '2ND AVENUE-HOUSTON STREET',\n",
       "       'YORK STREET-JAY STREET', '57TH STREET-6TH AVENUE',\n",
       "       '21ST STREET-QUEENSBRIDGE', 'RECTOR STREET-GREENWICH ST',\n",
       "       'WTC-CORTLANDT ST', '238TH STREET-BROADWAY',\n",
       "       '138TH ST-GRAND CONCOURSE', 'MT EDEN AVENUE-JEROME AVE',\n",
       "       '176TH STREET-JEROME AVENUE', '111TH STREET-ROOSEVELT AVE',\n",
       "       'BOWERY STREET-DELANCEY ST', 'WEST 6TH STREET-SURF AVENUE',\n",
       "       'BUSHWICK AVENUE-ABERDEEN ST', '103RD ST-CENTRAL PARK WEST',\n",
       "       '155TH STREET-8TH AVENUE', 'FLUSHING AVENUE-MARCY AVE',\n",
       "       'LAFAYETTE AV-WASHINGTON AV', 'FULTON STREET-LAFAYETTE AV',\n",
       "       '63RD STREET-LEXINGTON AVE', 'CANAL STREET-VARICK STREET',\n",
       "       '18TH STREET-7TH AVENUE', 'SPRING STREET-LAFAYETTE ST',\n",
       "       '111TH STREET-LENOX AVENUE', '116TH STREET-LENOX AVENUE',\n",
       "       'WHITLOCK AVE-WESTCHESTER AV', 'ZEREGA AVE-WESTCHESTER AVE',\n",
       "       '52ND STREET-ROOSEVELT AVE', 'WILLETS PT BLVD-ROOSEVELT',\n",
       "       'MORRIS PARK-PAULDING AVENUE', '3RD AVENUE-14TH STREET',\n",
       "       '155TH STREET-ST NICHOLAS AV', '135TH STREET-ST NICHOLAS AV',\n",
       "       '116TH STREET-8TH AVENUE', '110TH STREET-8TH AVENUE',\n",
       "       'GASTON AVENUE-BEACH 67TH ST', 'STRAITON AVE-BEACH 60TH ST',\n",
       "       'FRANK AVENUE-BEACH 44TH ST', 'EDGEMERE-BEACH 36TH STREET',\n",
       "       '36TH STREET-NORTHERN BLVD', '65TH STREET-BROADWAY',\n",
       "       '75TH AVENUE-QUEENS BLVD', 'VAN WYCK BLVD-METROPOLITAN',\n",
       "       'FRANKLIN STREET-WEST BWAY', '145TH STREET-LENOX AVENUE',\n",
       "       '148TH STREET-LENOX AVENUE', 'COURT SQ',\n",
       "       '69TH STREET-ROOSEVELT AVE', 'ATLANTIC AV-VAN SINDEREN AV',\n",
       "       'SUTTER AVE-VAN SINDEREN AVE', 'LIVONIA AVE-VAN SINDEREN AV',\n",
       "       'HEWES STREET-BROADWAY', 'LORIMER STREET-BROADWAY',\n",
       "       '104TH STREET-LIBERTY AVENUE', '109TH STREET-LIBERTY AVENUE',\n",
       "       'LEFFERTS BLVD-LIBERTY AVE', 'NORTH CONDUIT AVE-COHANCEY',\n",
       "       'BEACH 25TH STREET-WAVECREST', 'COURT SQ-23 ST',\n",
       "       '21ST STREET-JACKSON AVENUE', 'PELHAM PKWY-WHITE PLAINS RD',\n",
       "       'ALLERTON AV-WHITE PLAINS RD', 'BURKE AVE-WHITE PLAINS ROAD',\n",
       "       'GUNHILL RD-WHITE PLAINS RD', '219TH ST-WHITE PLAINS ROAD',\n",
       "       '225TH ST-WHITE PLAINS ROAD', '233RD ST-WHITE PLAINS ROAD',\n",
       "       '9TH AVENUE-39TH STREET', 'FORT HAMILTON PKWY-45TH ST',\n",
       "       '71ST STREET-NEW UTRECHT AVE', '79TH STREET-17TH AVENUE',\n",
       "       '18TH AVENUE-86TH STREET', '20TH AVENUE-86TH STREET',\n",
       "       'BAY PARKWAY-86TH STREET', 'NEW LOTS AV-VAN SINDEREN AV',\n",
       "       'EAST 105TH ST-FARRAGUT ROAD', 'FLUSHING AVE-BROADWAY',\n",
       "       'MYRTLE AVENUE-BROADWAY', 'KOSCIUSZKO STREET-BROADWAY',\n",
       "       'GATES AVENUE-BROADWAY', 'HALSEY STREET-BROADWAY',\n",
       "       'GRANT AVENUE-PITKIN AVENUE', 'HUDSON STREET-78TH STREET',\n",
       "       'BOYD STREET-88TH STREET', 'ROCKAWAY BLVD-LIBERTY AVE',\n",
       "       '174TH STREET-SOUTHERN BLVD', 'EAST TREMONT AVENUE-178 ST',\n",
       "       'EAST 180TH ST-MORRIS PARK', 'BRONX PARK EAST',\n",
       "       '8TH AVENUE-62ND STREET', 'FORT HAMILTON PARKWAY-62ND',\n",
       "       '18TH AVENUE-62ND STREET', '20TH AVENUE-62ND STREET',\n",
       "       'BAY PARKWAY-66TH STREET', 'KINGS HIGHWAY-WEST 7TH ST',\n",
       "       'AVENUE U-WEST 7TH STREET', '86TH STREET-AVENUE V',\n",
       "       'NEW UTRECHT AVENUE-62ND ST', '25TH AVENUE-86TH STREET',\n",
       "       'BAY 50TH STREET-STILLWELL', 'CENTRAL AVE-MYRTLE AVE',\n",
       "       'SENECA AVENUE-PALMETTO ST', 'FOREST AVENUE-PUTNAM AVENUE',\n",
       "       'FRESH POND ROAD-68TH AVENUE', 'JACKSON AVENUE-WESTCHESTER',\n",
       "       'PROSPECT AVENUE-WESTCHESTER', 'INTERVALE 163RD STREET',\n",
       "       'SIMPSON ST-WESTCHESTER AVE', 'FREEMAN ST-SOUTHERN BLVD',\n",
       "       'PARK PLACE-FRANKLIN AVENUE', 'BOTANIC GARDEN-FRANKLIN AVE',\n",
       "       'KNICKERBOCKER AVE-MYRTLE AV', 'HOWARD BEACH-159TH AVE',\n",
       "       'BROAD CHANNEL-NOEL ROAD', 'HOLLAND-BEACH 90TH STREET',\n",
       "       'PLAYLAND-BEACH 98TH STREET', 'SEASIDE BEACH-105TH STREET',\n",
       "       'ROCKAWAY PARK-BEACH 116TH', 'DITMAS AVE-MCDONALD AVE',\n",
       "       'AVENUE I-MCDONALD AVENUE', 'MCDONALD AVE-22ND AVE',\n",
       "       'AVENUE N-MCDONALD AVENUE', 'AVENUE P-MCDONALD AVENUE',\n",
       "       'AVENUE U-MCDONALD AVENUE', 'NEPTUNE AVE-MCDONALD AVENUE',\n",
       "       'MIDDLETOWN ROAD-WESTCHESTER', 'BUHRE AVE-WESTCHESTER AVE',\n",
       "       'PELHAM BAY PARK-BRUCKNER BL', 'PELHAM PKWY-ESPLANADE',\n",
       "       'DYRE AVENUE-LIGHT STREET', 'CHAUNCEY STREET-ROCKAWAY AV',\n",
       "       'ALABAMA AVENUE-FULTON ST', 'VAN SICLEN AVENUE-FULTON ST',\n",
       "       'CLEVELAND STREET-FULTON ST', 'NORWOOD AVENUE-FULTON ST',\n",
       "       'CRESCENT STREET-FULTON ST', 'RALPH AVENUE-FULTON STREET',\n",
       "       'ROCKAWAY AVE-HOPKINSON AVE', 'LIBERTY AVE-PENNSYLVANIA AV',\n",
       "       'VAN SICLEN AVE-PITKIN AVE', 'SHEPHERD AVE-PITKIN AVE',\n",
       "       '170TH STREET-GRAND CONC.', '238TH ST-WHITE PLAINS ROAD',\n",
       "       '138TH STREET-3RD AVE', 'BROOK AVENUE-138TH STREET',\n",
       "       'CYPRESS AVENUE-138TH STREET', 'EAST 143RD ST-SOUTHERN BLVD',\n",
       "       'EAST 149TH ST-SOUTHERN BLVD', 'LONGWOOD AVE-SOUTHERN BLVD',\n",
       "       'WINTHROP ST-NOSTRAND AVE', '72ND STREET & BROADWAY',\n",
       "       'HOYT STREET-FULTON STREET', 'MARCY AVENUE-BROADWAY',\n",
       "       'BROADWAY LAFAYETTE-BLEECKER', 'CANAL STREET-BROADWAY',\n",
       "       'CANAL ST-LAFAYETTE ST EAST', 'AQUEDUCT RACE TRACK',\n",
       "       'RI TRAMWAY (MANHATTAN)', 'RI TRAMWAY (ROOSEVELT)',\n",
       "       'GRAND AVENUE DEPOT', 'GUNHILL DEPOT', 'YUKON DEPOT',\n",
       "       'CASTLETON DEPOT', 'QUEENS VILLAGE DEPOT', 'CASEY STENGEL DEPOT',\n",
       "       'JAMAICA DEPOT', 'FRESH POND DEPOT', 'EAST NEW YORK DEPOT',\n",
       "       'JACKIE GLEASON DEPOT', 'FLATBUSH DEPOT', 'ULMER PARK DEPOT',\n",
       "       'KINGSBRIDGE DEPOT', 'JACKIE GLEASON DEPOT(2)',\n",
       "       'MOTHER CLARA HALE DEPOT', 'MANHATTANVILLE DEPOT',\n",
       "       'CHARLESTON DEPOT', 'WEST FARMS DEPOT', 'MICHAEL J. QUILL DEPOT',\n",
       "       'TUSKEGEE AIRMEN DEPOT', 'MTABC - LA GUARDIA DEPOT',\n",
       "       'MTABC - JFK DEPOT', 'MTABC - FAR ROCKAWAY DEPOT',\n",
       "       'MTABC - SPRING CREEK DEPOT', 'MTABC - BAISLEY DEPOT',\n",
       "       'MITCHELL FIELD BUS DEPOT', 'WESTCHESTER CMF YONKERS DEPOT',\n",
       "       'MTABC - COLLEGE POINT DEPOT2*', 'AIRTRAIN @ HOWARD BEACH',\n",
       "       'AIRTRAIN JAMAICA CENTER 1', 'PA-PATH WORLD TRADE CNTR',\n",
       "       'PA-PATH THIRTY THIRD ST', 'PA-PATH TWENTY THIRD ST',\n",
       "       'PA-PATH EXCHANGE PLACE', 'PA-PATH HARRISON',\n",
       "       'PA-PATH 14TH STREET', 'PA-PATH PAVONIA/NEWPORT',\n",
       "       'PA-PATH 9TH STREET', 'PA-PATH CHRISTOPHER ST', 'PA-PATH NEWARK',\n",
       "       'PA-PATH HOBOKEN', 'PA-PATH GROVE ST', 'PA-PATH JOURNAL SQUARE',\n",
       "       'SBS-M15 @ LIVINGSTON PLAZA', 'SBS-BX12 @ LIVINGSTON PLAZA',\n",
       "       'SBS-M34 @ LIVINGSTON PLAZA', 'SBS-BX41 @ LIVINGSTON PLAZA',\n",
       "       'SBS-B44 @ LIVINGSTON PLAZA', 'SBS-M86 @ LIVINGSTON PLAZA',\n",
       "       'MTABC - EASTCHESTER 2', 'SBS-B46 @ LIVINGSTON PLAZA',\n",
       "       'SBS-Q44 @ LIVINGSTON PLAZA', 'SBS-M23 @ LIVINGSTON PLAZA',\n",
       "       'SBS-M79 @ LIVINGSTON PLAZA', 'SBS-BX6 @ LIVINGSTON PLAZA',\n",
       "       '72ND STREET - 2 AVENUE', '86TH STREET - 2 AVENUE',\n",
       "       '96TH STREET - 2 AVENUE', 'SBS-Q52/53 @ LIVINGSTON PLAZA',\n",
       "       'SBS-B82 @ LIVINGSTON PLAZA', 'BROADWAY & 31ST STREET',\n",
       "       'WESTCHESTER VALHALLA DEPOT', 'SBS-M60 @ LIVINGSTON PLAZA',\n",
       "       '39TH AVENUE & 31ST STREET', 'MTABC - COLLEGE POINT DEPOT',\n",
       "       'MTABC - EASTCHESTER DEPOT', 'METRO NORTH HUDSON RAIL DEPOT',\n",
       "       'ORCHARD BEACH', 'SBS-M14 @ LIVINGSTON PLAZA'], dtype=object)"
      ]
     },
     "execution_count": 24,
     "metadata": {},
     "output_type": "execute_result"
    }
   ],
   "source": [
    "stations = df.STATION.unique()\n",
    "stations"
   ]
  },
  {
   "cell_type": "code",
   "execution_count": 25,
   "metadata": {},
   "outputs": [
    {
     "data": {
      "text/plain": [
       "Index(['FF', 'SEN/DIS', '7-D AFAS UNL', '30-D AFAS/RMF UNL', 'JOINT RR TKT',\n",
       "       '7-D UNL', '30-D UNL', '14-D RFM UNL', '1-D UNL', '14-D UNL',\n",
       "       '7D-XBUS PASS', 'TCMC', 'RF 2 TRIP', 'RR UNL NO TRADE',\n",
       "       'TCMC ANNUAL MC', 'MR EZPAY EXP', 'MR EZPAY UNL', 'PATH 2-T',\n",
       "       'AIRTRAIN FF', 'AIRTRAIN 30-D', 'AIRTRAIN 10-T', 'AIRTRAIN MTHLY',\n",
       "       'STUDENTS', 'NICE 2-T', 'CUNY-120', 'CUNY-60', 'FF VALUE', 'FF 7-DAY',\n",
       "       'FF 30-DAY'],\n",
       "      dtype='object')"
      ]
     },
     "execution_count": 25,
     "metadata": {},
     "output_type": "execute_result"
    }
   ],
   "source": [
    "card_types"
   ]
  },
  {
   "cell_type": "code",
   "execution_count": 178,
   "metadata": {},
   "outputs": [],
   "source": [
    "stations = ['WHITEHALL STREET']\n",
    "date_begin = '2020-01-04' \n",
    "selected_cards = ['FF', 'STUDENT', 'SEN/DIS']\n",
    "selected_cards = card_types\n",
    "\n",
    "tmp = df[df['STATION'].isin(stations)].copy() \n",
    "tmp = tmp[tmp['WEEK'] >= datetime.strptime(date_begin, '%Y-%m-%d')]\n",
    "tmp = tmp.groupby('WEEK', as_index=False).sum()\n",
    "tmp = pd.melt(tmp, id_vars=['WEEK'], value_vars=card_types, var_name='card_type', value_name='swipes')\n",
    "tmp = tmp[tmp['card_type'].isin(selected_cards)]\n",
    "tmp.WEEK = tmp.WEEK.apply(lambda x: '{:%Y-%m-%d}'.format(x))\n",
    "\n",
    "sorted_cards = tmp.groupby('card_type', as_index=False).mean().sort_values('swipes', ascending=False).card_type.tolist()\n",
    "tmp = tmp.set_index('card_type').loc[sorted_cards]\n",
    "tmp = tmp.reset_index()"
   ]
  },
  {
   "cell_type": "code",
   "execution_count": null,
   "metadata": {},
   "outputs": [],
   "source": []
  },
  {
   "cell_type": "code",
   "execution_count": null,
   "metadata": {},
   "outputs": [],
   "source": []
  },
  {
   "cell_type": "code",
   "execution_count": 180,
   "metadata": {},
   "outputs": [
    {
     "data": {
      "text/plain": [
       "array(['FF', '30-D UNL', '7-D UNL', 'TCMC ANNUAL MC', 'SEN/DIS',\n",
       "       'STUDENTS', 'MR EZPAY EXP', 'FF VALUE', '30-D AFAS/RMF UNL',\n",
       "       'AIRTRAIN FF', 'FF 7-DAY', 'MR EZPAY UNL', '7-D AFAS UNL', 'TCMC',\n",
       "       'FF 30-DAY', 'RF 2 TRIP', '7D-XBUS PASS', 'CUNY-120',\n",
       "       'RR UNL NO TRADE', 'CUNY-60', 'JOINT RR TKT', 'AIRTRAIN 10-T',\n",
       "       '14-D UNL', 'AIRTRAIN MTHLY', 'PATH 2-T', 'NICE 2-T',\n",
       "       'AIRTRAIN 30-D', '14-D RFM UNL', '1-D UNL'], dtype=object)"
      ]
     },
     "execution_count": 180,
     "metadata": {},
     "output_type": "execute_result"
    }
   ],
   "source": [
    "tmp.card_type.unique()"
   ]
  },
  {
   "cell_type": "code",
   "execution_count": 181,
   "metadata": {},
   "outputs": [
    {
     "data": {
      "text/plain": [
       "Index(['FF', 'SEN/DIS', '7-D AFAS UNL', '30-D AFAS/RMF UNL', 'JOINT RR TKT',\n",
       "       '7-D UNL', '30-D UNL', '14-D RFM UNL', '1-D UNL', '14-D UNL',\n",
       "       '7D-XBUS PASS', 'TCMC', 'RF 2 TRIP', 'RR UNL NO TRADE',\n",
       "       'TCMC ANNUAL MC', 'MR EZPAY EXP', 'MR EZPAY UNL', 'PATH 2-T',\n",
       "       'AIRTRAIN FF', 'AIRTRAIN 30-D', 'AIRTRAIN 10-T', 'AIRTRAIN MTHLY',\n",
       "       'STUDENTS', 'NICE 2-T', 'CUNY-120', 'CUNY-60', 'FF VALUE', 'FF 7-DAY',\n",
       "       'FF 30-DAY'],\n",
       "      dtype='object')"
      ]
     },
     "execution_count": 181,
     "metadata": {},
     "output_type": "execute_result"
    }
   ],
   "source": [
    "card_types"
   ]
  },
  {
   "cell_type": "code",
   "execution_count": 182,
   "metadata": {},
   "outputs": [
    {
     "data": {
      "application/vnd.plotly.v1+json": {
       "config": {
        "plotlyServerURL": "https://plot.ly"
       },
       "data": [
        {
         "customdata": [
          [
           "FF",
           65407,
           "2020-01-04"
          ],
          [
           "FF",
           60072,
           "2020-01-11"
          ],
          [
           "FF",
           59967,
           "2020-01-18"
          ],
          [
           "FF",
           51550,
           "2020-01-25"
          ],
          [
           "FF",
           54850,
           "2020-02-01"
          ],
          [
           "FF",
           54210,
           "2020-02-08"
          ],
          [
           "FF",
           55189,
           "2020-02-15"
          ],
          [
           "FF",
           54734,
           "2020-02-22"
          ],
          [
           "FF",
           53366,
           "2020-02-29"
          ],
          [
           "FF",
           49058,
           "2020-03-07"
          ],
          [
           "FF",
           39980,
           "2020-03-14"
          ],
          [
           "FF",
           12463,
           "2020-03-21"
          ],
          [
           "FF",
           6499,
           "2020-03-28"
          ],
          [
           "FF",
           4410,
           "2020-04-04"
          ],
          [
           "FF",
           3746,
           "2020-04-11"
          ],
          [
           "FF",
           4014,
           "2020-04-18"
          ],
          [
           "FF",
           4275,
           "2020-04-25"
          ],
          [
           "FF",
           4911,
           "2020-05-02"
          ],
          [
           "FF",
           5764,
           "2020-05-09"
          ],
          [
           "FF",
           6043,
           "2020-05-16"
          ],
          [
           "FF",
           6555,
           "2020-05-23"
          ],
          [
           "FF",
           6859,
           "2020-05-30"
          ],
          [
           "FF",
           8088,
           "2020-06-06"
          ],
          [
           "FF",
           9494,
           "2020-06-13"
          ],
          [
           "FF",
           10945,
           "2020-06-20"
          ],
          [
           "FF",
           12385,
           "2020-06-27"
          ],
          [
           "FF",
           12512,
           "2020-07-04"
          ],
          [
           "FF",
           14147,
           "2020-07-11"
          ],
          [
           "FF",
           15440,
           "2020-07-18"
          ],
          [
           "FF",
           15896,
           "2020-07-25"
          ],
          [
           "FF",
           16684,
           "2020-08-01"
          ],
          [
           "FF",
           16148,
           "2020-08-08"
          ],
          [
           "FF",
           17724,
           "2020-08-15"
          ],
          [
           "FF",
           19208,
           "2020-08-22"
          ],
          [
           "FF",
           20312,
           "2020-08-29"
          ],
          [
           "FF",
           15825,
           "2020-09-05"
          ],
          [
           "FF",
           15082,
           "2020-09-12"
          ],
          [
           "FF",
           14990,
           "2020-09-19"
          ],
          [
           "FF",
           14472,
           "2020-09-26"
          ],
          [
           "FF",
           14706,
           "2020-10-03"
          ],
          [
           "FF",
           15655,
           "2020-10-10"
          ],
          [
           "FF",
           13795,
           "2020-10-17"
          ],
          [
           "FF",
           14358,
           "2020-10-24"
          ],
          [
           "FF",
           13533,
           "2020-10-31"
          ],
          [
           "FF",
           13065,
           "2020-11-07"
          ],
          [
           "FF",
           13235,
           "2020-11-14"
          ],
          [
           "FF",
           12435,
           "2020-11-21"
          ],
          [
           "FF",
           9469,
           "2020-11-28"
          ],
          [
           "FF",
           10773,
           "2020-12-05"
          ],
          [
           "FF",
           11615,
           "2020-12-12"
          ],
          [
           "FF",
           10489,
           "2020-12-19"
          ],
          [
           "FF",
           10240,
           "2020-12-26"
          ],
          [
           "FF",
           11664,
           "2021-01-02"
          ],
          [
           "FF",
           11314,
           "2021-01-09"
          ],
          [
           "FF",
           10489,
           "2021-01-16"
          ],
          [
           "FF",
           10134,
           "2021-01-23"
          ],
          [
           "FF",
           10128,
           "2021-01-30"
          ],
          [
           "FF",
           8267,
           "2021-02-06"
          ],
          [
           "FF",
           10530,
           "2021-02-13"
          ],
          [
           "FF",
           9809,
           "2021-02-20"
          ],
          [
           "FF",
           11256,
           "2021-02-27"
          ],
          [
           "FF",
           11333,
           "2021-03-06"
          ],
          [
           "FF",
           12178,
           "2021-03-13"
          ]
         ],
         "hovertemplate": "<b>MetroCard Type: %{customdata[0]}</b> <br>MetroCard Swipes: %{customdata[1]:,} <br>Week Ending: %{customdata[2]}<extra></extra>",
         "legendgroup": "FF",
         "line": {
          "color": "rgb(76,114,176)"
         },
         "mode": "lines",
         "name": "FF",
         "orientation": "v",
         "showlegend": true,
         "stackgroup": "1",
         "type": "scatter",
         "x": [
          "2020-01-04",
          "2020-01-11",
          "2020-01-18",
          "2020-01-25",
          "2020-02-01",
          "2020-02-08",
          "2020-02-15",
          "2020-02-22",
          "2020-02-29",
          "2020-03-07",
          "2020-03-14",
          "2020-03-21",
          "2020-03-28",
          "2020-04-04",
          "2020-04-11",
          "2020-04-18",
          "2020-04-25",
          "2020-05-02",
          "2020-05-09",
          "2020-05-16",
          "2020-05-23",
          "2020-05-30",
          "2020-06-06",
          "2020-06-13",
          "2020-06-20",
          "2020-06-27",
          "2020-07-04",
          "2020-07-11",
          "2020-07-18",
          "2020-07-25",
          "2020-08-01",
          "2020-08-08",
          "2020-08-15",
          "2020-08-22",
          "2020-08-29",
          "2020-09-05",
          "2020-09-12",
          "2020-09-19",
          "2020-09-26",
          "2020-10-03",
          "2020-10-10",
          "2020-10-17",
          "2020-10-24",
          "2020-10-31",
          "2020-11-07",
          "2020-11-14",
          "2020-11-21",
          "2020-11-28",
          "2020-12-05",
          "2020-12-12",
          "2020-12-19",
          "2020-12-26",
          "2021-01-02",
          "2021-01-09",
          "2021-01-16",
          "2021-01-23",
          "2021-01-30",
          "2021-02-06",
          "2021-02-13",
          "2021-02-20",
          "2021-02-27",
          "2021-03-06",
          "2021-03-13"
         ],
         "xaxis": "x",
         "y": [
          65407,
          60072,
          59967,
          51550,
          54850,
          54210,
          55189,
          54734,
          53366,
          49058,
          39980,
          12463,
          6499,
          4410,
          3746,
          4014,
          4275,
          4911,
          5764,
          6043,
          6555,
          6859,
          8088,
          9494,
          10945,
          12385,
          12512,
          14147,
          15440,
          15896,
          16684,
          16148,
          17724,
          19208,
          20312,
          15825,
          15082,
          14990,
          14472,
          14706,
          15655,
          13795,
          14358,
          13533,
          13065,
          13235,
          12435,
          9469,
          10773,
          11615,
          10489,
          10240,
          11664,
          11314,
          10489,
          10134,
          10128,
          8267,
          10530,
          9809,
          11256,
          11333,
          12178
         ],
         "yaxis": "y"
        },
        {
         "customdata": [
          [
           "30-D UNL",
           21404,
           "2020-01-04"
          ],
          [
           "30-D UNL",
           33907,
           "2020-01-11"
          ],
          [
           "30-D UNL",
           35442,
           "2020-01-18"
          ],
          [
           "30-D UNL",
           30622,
           "2020-01-25"
          ],
          [
           "30-D UNL",
           35863,
           "2020-02-01"
          ],
          [
           "30-D UNL",
           35818,
           "2020-02-08"
          ],
          [
           "30-D UNL",
           34937,
           "2020-02-15"
          ],
          [
           "30-D UNL",
           30947,
           "2020-02-22"
          ],
          [
           "30-D UNL",
           34548,
           "2020-02-29"
          ],
          [
           "30-D UNL",
           32255,
           "2020-03-07"
          ],
          [
           "30-D UNL",
           27409,
           "2020-03-14"
          ],
          [
           "30-D UNL",
           9268,
           "2020-03-21"
          ],
          [
           "30-D UNL",
           3140,
           "2020-03-28"
          ],
          [
           "30-D UNL",
           1950,
           "2020-04-04"
          ],
          [
           "30-D UNL",
           1320,
           "2020-04-11"
          ],
          [
           "30-D UNL",
           1202,
           "2020-04-18"
          ],
          [
           "30-D UNL",
           1166,
           "2020-04-25"
          ],
          [
           "30-D UNL",
           1204,
           "2020-05-02"
          ],
          [
           "30-D UNL",
           1240,
           "2020-05-09"
          ],
          [
           "30-D UNL",
           1294,
           "2020-05-16"
          ],
          [
           "30-D UNL",
           1329,
           "2020-05-23"
          ],
          [
           "30-D UNL",
           1230,
           "2020-05-30"
          ],
          [
           "30-D UNL",
           1426,
           "2020-06-06"
          ],
          [
           "30-D UNL",
           1554,
           "2020-06-13"
          ],
          [
           "30-D UNL",
           1715,
           "2020-06-20"
          ],
          [
           "30-D UNL",
           1904,
           "2020-06-27"
          ],
          [
           "30-D UNL",
           2022,
           "2020-07-04"
          ],
          [
           "30-D UNL",
           2387,
           "2020-07-11"
          ],
          [
           "30-D UNL",
           2639,
           "2020-07-18"
          ],
          [
           "30-D UNL",
           2820,
           "2020-07-25"
          ],
          [
           "30-D UNL",
           2842,
           "2020-08-01"
          ],
          [
           "30-D UNL",
           2806,
           "2020-08-08"
          ],
          [
           "30-D UNL",
           2980,
           "2020-08-15"
          ],
          [
           "30-D UNL",
           3167,
           "2020-08-22"
          ],
          [
           "30-D UNL",
           3428,
           "2020-08-29"
          ],
          [
           "30-D UNL",
           3572,
           "2020-09-05"
          ],
          [
           "30-D UNL",
           3633,
           "2020-09-12"
          ],
          [
           "30-D UNL",
           4271,
           "2020-09-19"
          ],
          [
           "30-D UNL",
           4609,
           "2020-09-26"
          ],
          [
           "30-D UNL",
           4612,
           "2020-10-03"
          ],
          [
           "30-D UNL",
           4721,
           "2020-10-10"
          ],
          [
           "30-D UNL",
           4465,
           "2020-10-17"
          ],
          [
           "30-D UNL",
           4823,
           "2020-10-24"
          ],
          [
           "30-D UNL",
           4810,
           "2020-10-31"
          ],
          [
           "30-D UNL",
           4650,
           "2020-11-07"
          ],
          [
           "30-D UNL",
           4688,
           "2020-11-14"
          ],
          [
           "30-D UNL",
           4676,
           "2020-11-21"
          ],
          [
           "30-D UNL",
           3356,
           "2020-11-28"
          ],
          [
           "30-D UNL",
           4095,
           "2020-12-05"
          ],
          [
           "30-D UNL",
           4318,
           "2020-12-12"
          ],
          [
           "30-D UNL",
           3815,
           "2020-12-19"
          ],
          [
           "30-D UNL",
           3251,
           "2020-12-26"
          ],
          [
           "30-D UNL",
           3007,
           "2021-01-02"
          ],
          [
           "30-D UNL",
           3800,
           "2021-01-09"
          ],
          [
           "30-D UNL",
           4075,
           "2021-01-16"
          ],
          [
           "30-D UNL",
           3939,
           "2021-01-23"
          ],
          [
           "30-D UNL",
           4249,
           "2021-01-30"
          ],
          [
           "30-D UNL",
           3428,
           "2021-02-06"
          ],
          [
           "30-D UNL",
           4102,
           "2021-02-13"
          ],
          [
           "30-D UNL",
           3657,
           "2021-02-20"
          ],
          [
           "30-D UNL",
           4264,
           "2021-02-27"
          ],
          [
           "30-D UNL",
           4508,
           "2021-03-06"
          ],
          [
           "30-D UNL",
           4479,
           "2021-03-13"
          ]
         ],
         "hovertemplate": "<b>MetroCard Type: %{customdata[0]}</b> <br>MetroCard Swipes: %{customdata[1]:,} <br>Week Ending: %{customdata[2]}<extra></extra>",
         "legendgroup": "30-D UNL",
         "line": {
          "color": "rgb(221,132,82)"
         },
         "mode": "lines",
         "name": "30-D UNL",
         "orientation": "v",
         "showlegend": true,
         "stackgroup": "1",
         "type": "scatter",
         "x": [
          "2020-01-04",
          "2020-01-11",
          "2020-01-18",
          "2020-01-25",
          "2020-02-01",
          "2020-02-08",
          "2020-02-15",
          "2020-02-22",
          "2020-02-29",
          "2020-03-07",
          "2020-03-14",
          "2020-03-21",
          "2020-03-28",
          "2020-04-04",
          "2020-04-11",
          "2020-04-18",
          "2020-04-25",
          "2020-05-02",
          "2020-05-09",
          "2020-05-16",
          "2020-05-23",
          "2020-05-30",
          "2020-06-06",
          "2020-06-13",
          "2020-06-20",
          "2020-06-27",
          "2020-07-04",
          "2020-07-11",
          "2020-07-18",
          "2020-07-25",
          "2020-08-01",
          "2020-08-08",
          "2020-08-15",
          "2020-08-22",
          "2020-08-29",
          "2020-09-05",
          "2020-09-12",
          "2020-09-19",
          "2020-09-26",
          "2020-10-03",
          "2020-10-10",
          "2020-10-17",
          "2020-10-24",
          "2020-10-31",
          "2020-11-07",
          "2020-11-14",
          "2020-11-21",
          "2020-11-28",
          "2020-12-05",
          "2020-12-12",
          "2020-12-19",
          "2020-12-26",
          "2021-01-02",
          "2021-01-09",
          "2021-01-16",
          "2021-01-23",
          "2021-01-30",
          "2021-02-06",
          "2021-02-13",
          "2021-02-20",
          "2021-02-27",
          "2021-03-06",
          "2021-03-13"
         ],
         "xaxis": "x",
         "y": [
          21404,
          33907,
          35442,
          30622,
          35863,
          35818,
          34937,
          30947,
          34548,
          32255,
          27409,
          9268,
          3140,
          1950,
          1320,
          1202,
          1166,
          1204,
          1240,
          1294,
          1329,
          1230,
          1426,
          1554,
          1715,
          1904,
          2022,
          2387,
          2639,
          2820,
          2842,
          2806,
          2980,
          3167,
          3428,
          3572,
          3633,
          4271,
          4609,
          4612,
          4721,
          4465,
          4823,
          4810,
          4650,
          4688,
          4676,
          3356,
          4095,
          4318,
          3815,
          3251,
          3007,
          3800,
          4075,
          3939,
          4249,
          3428,
          4102,
          3657,
          4264,
          4508,
          4479
         ],
         "yaxis": "y"
        },
        {
         "customdata": [
          [
           "7-D UNL",
           42118,
           "2020-01-04"
          ],
          [
           "7-D UNL",
           26437,
           "2020-01-11"
          ],
          [
           "7-D UNL",
           25739,
           "2020-01-18"
          ],
          [
           "7-D UNL",
           22842,
           "2020-01-25"
          ],
          [
           "7-D UNL",
           24680,
           "2020-02-01"
          ],
          [
           "7-D UNL",
           25230,
           "2020-02-08"
          ],
          [
           "7-D UNL",
           26533,
           "2020-02-15"
          ],
          [
           "7-D UNL",
           29231,
           "2020-02-22"
          ],
          [
           "7-D UNL",
           26336,
           "2020-02-29"
          ],
          [
           "7-D UNL",
           24675,
           "2020-03-07"
          ],
          [
           "7-D UNL",
           25517,
           "2020-03-14"
          ],
          [
           "7-D UNL",
           10415,
           "2020-03-21"
          ],
          [
           "7-D UNL",
           3414,
           "2020-03-28"
          ],
          [
           "7-D UNL",
           1953,
           "2020-04-04"
          ],
          [
           "7-D UNL",
           1514,
           "2020-04-11"
          ],
          [
           "7-D UNL",
           1447,
           "2020-04-18"
          ],
          [
           "7-D UNL",
           1504,
           "2020-04-25"
          ],
          [
           "7-D UNL",
           1519,
           "2020-05-02"
          ],
          [
           "7-D UNL",
           1629,
           "2020-05-09"
          ],
          [
           "7-D UNL",
           1644,
           "2020-05-16"
          ],
          [
           "7-D UNL",
           1678,
           "2020-05-23"
          ],
          [
           "7-D UNL",
           1455,
           "2020-05-30"
          ],
          [
           "7-D UNL",
           1778,
           "2020-06-06"
          ],
          [
           "7-D UNL",
           2088,
           "2020-06-13"
          ],
          [
           "7-D UNL",
           2374,
           "2020-06-20"
          ],
          [
           "7-D UNL",
           2649,
           "2020-06-27"
          ],
          [
           "7-D UNL",
           2659,
           "2020-07-04"
          ],
          [
           "7-D UNL",
           2921,
           "2020-07-11"
          ],
          [
           "7-D UNL",
           3280,
           "2020-07-18"
          ],
          [
           "7-D UNL",
           3294,
           "2020-07-25"
          ],
          [
           "7-D UNL",
           3191,
           "2020-08-01"
          ],
          [
           "7-D UNL",
           3240,
           "2020-08-08"
          ],
          [
           "7-D UNL",
           3502,
           "2020-08-15"
          ],
          [
           "7-D UNL",
           3844,
           "2020-08-22"
          ],
          [
           "7-D UNL",
           3974,
           "2020-08-29"
          ],
          [
           "7-D UNL",
           4918,
           "2020-09-05"
          ],
          [
           "7-D UNL",
           5027,
           "2020-09-12"
          ],
          [
           "7-D UNL",
           5768,
           "2020-09-19"
          ],
          [
           "7-D UNL",
           6154,
           "2020-09-26"
          ],
          [
           "7-D UNL",
           6084,
           "2020-10-03"
          ],
          [
           "7-D UNL",
           6338,
           "2020-10-10"
          ],
          [
           "7-D UNL",
           5970,
           "2020-10-17"
          ],
          [
           "7-D UNL",
           6420,
           "2020-10-24"
          ],
          [
           "7-D UNL",
           6402,
           "2020-10-31"
          ],
          [
           "7-D UNL",
           6086,
           "2020-11-07"
          ],
          [
           "7-D UNL",
           6294,
           "2020-11-14"
          ],
          [
           "7-D UNL",
           6294,
           "2020-11-21"
          ],
          [
           "7-D UNL",
           4698,
           "2020-11-28"
          ],
          [
           "7-D UNL",
           5480,
           "2020-12-05"
          ],
          [
           "7-D UNL",
           6068,
           "2020-12-12"
          ],
          [
           "7-D UNL",
           5442,
           "2020-12-19"
          ],
          [
           "7-D UNL",
           4814,
           "2020-12-26"
          ],
          [
           "7-D UNL",
           5298,
           "2021-01-02"
          ],
          [
           "7-D UNL",
           5402,
           "2021-01-09"
          ],
          [
           "7-D UNL",
           5189,
           "2021-01-16"
          ],
          [
           "7-D UNL",
           4961,
           "2021-01-23"
          ],
          [
           "7-D UNL",
           5263,
           "2021-01-30"
          ],
          [
           "7-D UNL",
           4060,
           "2021-02-06"
          ],
          [
           "7-D UNL",
           5114,
           "2021-02-13"
          ],
          [
           "7-D UNL",
           4718,
           "2021-02-20"
          ],
          [
           "7-D UNL",
           5353,
           "2021-02-27"
          ],
          [
           "7-D UNL",
           5496,
           "2021-03-06"
          ],
          [
           "7-D UNL",
           5813,
           "2021-03-13"
          ]
         ],
         "hovertemplate": "<b>MetroCard Type: %{customdata[0]}</b> <br>MetroCard Swipes: %{customdata[1]:,} <br>Week Ending: %{customdata[2]}<extra></extra>",
         "legendgroup": "7-D UNL",
         "line": {
          "color": "rgb(85,168,104)"
         },
         "mode": "lines",
         "name": "7-D UNL",
         "orientation": "v",
         "showlegend": true,
         "stackgroup": "1",
         "type": "scatter",
         "x": [
          "2020-01-04",
          "2020-01-11",
          "2020-01-18",
          "2020-01-25",
          "2020-02-01",
          "2020-02-08",
          "2020-02-15",
          "2020-02-22",
          "2020-02-29",
          "2020-03-07",
          "2020-03-14",
          "2020-03-21",
          "2020-03-28",
          "2020-04-04",
          "2020-04-11",
          "2020-04-18",
          "2020-04-25",
          "2020-05-02",
          "2020-05-09",
          "2020-05-16",
          "2020-05-23",
          "2020-05-30",
          "2020-06-06",
          "2020-06-13",
          "2020-06-20",
          "2020-06-27",
          "2020-07-04",
          "2020-07-11",
          "2020-07-18",
          "2020-07-25",
          "2020-08-01",
          "2020-08-08",
          "2020-08-15",
          "2020-08-22",
          "2020-08-29",
          "2020-09-05",
          "2020-09-12",
          "2020-09-19",
          "2020-09-26",
          "2020-10-03",
          "2020-10-10",
          "2020-10-17",
          "2020-10-24",
          "2020-10-31",
          "2020-11-07",
          "2020-11-14",
          "2020-11-21",
          "2020-11-28",
          "2020-12-05",
          "2020-12-12",
          "2020-12-19",
          "2020-12-26",
          "2021-01-02",
          "2021-01-09",
          "2021-01-16",
          "2021-01-23",
          "2021-01-30",
          "2021-02-06",
          "2021-02-13",
          "2021-02-20",
          "2021-02-27",
          "2021-03-06",
          "2021-03-13"
         ],
         "xaxis": "x",
         "y": [
          42118,
          26437,
          25739,
          22842,
          24680,
          25230,
          26533,
          29231,
          26336,
          24675,
          25517,
          10415,
          3414,
          1953,
          1514,
          1447,
          1504,
          1519,
          1629,
          1644,
          1678,
          1455,
          1778,
          2088,
          2374,
          2649,
          2659,
          2921,
          3280,
          3294,
          3191,
          3240,
          3502,
          3844,
          3974,
          4918,
          5027,
          5768,
          6154,
          6084,
          6338,
          5970,
          6420,
          6402,
          6086,
          6294,
          6294,
          4698,
          5480,
          6068,
          5442,
          4814,
          5298,
          5402,
          5189,
          4961,
          5263,
          4060,
          5114,
          4718,
          5353,
          5496,
          5813
         ],
         "yaxis": "y"
        },
        {
         "customdata": [
          [
           "TCMC ANNUAL MC",
           3472,
           "2020-01-04"
          ],
          [
           "TCMC ANNUAL MC",
           6268,
           "2020-01-11"
          ],
          [
           "TCMC ANNUAL MC",
           6472,
           "2020-01-18"
          ],
          [
           "TCMC ANNUAL MC",
           5308,
           "2020-01-25"
          ],
          [
           "TCMC ANNUAL MC",
           6325,
           "2020-02-01"
          ],
          [
           "TCMC ANNUAL MC",
           6208,
           "2020-02-08"
          ],
          [
           "TCMC ANNUAL MC",
           6047,
           "2020-02-15"
          ],
          [
           "TCMC ANNUAL MC",
           5009,
           "2020-02-22"
          ],
          [
           "TCMC ANNUAL MC",
           5964,
           "2020-02-29"
          ],
          [
           "TCMC ANNUAL MC",
           5661,
           "2020-03-07"
          ],
          [
           "TCMC ANNUAL MC",
           4379,
           "2020-03-14"
          ],
          [
           "TCMC ANNUAL MC",
           919,
           "2020-03-21"
          ],
          [
           "TCMC ANNUAL MC",
           255,
           "2020-03-28"
          ],
          [
           "TCMC ANNUAL MC",
           171,
           "2020-04-04"
          ],
          [
           "TCMC ANNUAL MC",
           146,
           "2020-04-11"
          ],
          [
           "TCMC ANNUAL MC",
           163,
           "2020-04-18"
          ],
          [
           "TCMC ANNUAL MC",
           154,
           "2020-04-25"
          ],
          [
           "TCMC ANNUAL MC",
           159,
           "2020-05-02"
          ],
          [
           "TCMC ANNUAL MC",
           140,
           "2020-05-09"
          ],
          [
           "TCMC ANNUAL MC",
           174,
           "2020-05-16"
          ],
          [
           "TCMC ANNUAL MC",
           185,
           "2020-05-23"
          ],
          [
           "TCMC ANNUAL MC",
           208,
           "2020-05-30"
          ],
          [
           "TCMC ANNUAL MC",
           221,
           "2020-06-06"
          ],
          [
           "TCMC ANNUAL MC",
           223,
           "2020-06-13"
          ],
          [
           "TCMC ANNUAL MC",
           263,
           "2020-06-20"
          ],
          [
           "TCMC ANNUAL MC",
           291,
           "2020-06-27"
          ],
          [
           "TCMC ANNUAL MC",
           249,
           "2020-07-04"
          ],
          [
           "TCMC ANNUAL MC",
           331,
           "2020-07-11"
          ],
          [
           "TCMC ANNUAL MC",
           349,
           "2020-07-18"
          ],
          [
           "TCMC ANNUAL MC",
           399,
           "2020-07-25"
          ],
          [
           "TCMC ANNUAL MC",
           368,
           "2020-08-01"
          ],
          [
           "TCMC ANNUAL MC",
           355,
           "2020-08-08"
          ],
          [
           "TCMC ANNUAL MC",
           370,
           "2020-08-15"
          ],
          [
           "TCMC ANNUAL MC",
           436,
           "2020-08-22"
          ],
          [
           "TCMC ANNUAL MC",
           436,
           "2020-08-29"
          ],
          [
           "TCMC ANNUAL MC",
           413,
           "2020-09-05"
          ],
          [
           "TCMC ANNUAL MC",
           412,
           "2020-09-12"
          ],
          [
           "TCMC ANNUAL MC",
           444,
           "2020-09-19"
          ],
          [
           "TCMC ANNUAL MC",
           437,
           "2020-09-26"
          ],
          [
           "TCMC ANNUAL MC",
           428,
           "2020-10-03"
          ],
          [
           "TCMC ANNUAL MC",
           448,
           "2020-10-10"
          ],
          [
           "TCMC ANNUAL MC",
           435,
           "2020-10-17"
          ],
          [
           "TCMC ANNUAL MC",
           424,
           "2020-10-24"
          ],
          [
           "TCMC ANNUAL MC",
           436,
           "2020-10-31"
          ],
          [
           "TCMC ANNUAL MC",
           398,
           "2020-11-07"
          ],
          [
           "TCMC ANNUAL MC",
           424,
           "2020-11-14"
          ],
          [
           "TCMC ANNUAL MC",
           400,
           "2020-11-21"
          ],
          [
           "TCMC ANNUAL MC",
           273,
           "2020-11-28"
          ],
          [
           "TCMC ANNUAL MC",
           350,
           "2020-12-05"
          ],
          [
           "TCMC ANNUAL MC",
           375,
           "2020-12-12"
          ],
          [
           "TCMC ANNUAL MC",
           329,
           "2020-12-19"
          ],
          [
           "TCMC ANNUAL MC",
           270,
           "2020-12-26"
          ],
          [
           "TCMC ANNUAL MC",
           241,
           "2021-01-02"
          ],
          [
           "TCMC ANNUAL MC",
           301,
           "2021-01-09"
          ],
          [
           "TCMC ANNUAL MC",
           340,
           "2021-01-16"
          ],
          [
           "TCMC ANNUAL MC",
           288,
           "2021-01-23"
          ],
          [
           "TCMC ANNUAL MC",
           336,
           "2021-01-30"
          ],
          [
           "TCMC ANNUAL MC",
           249,
           "2021-02-06"
          ],
          [
           "TCMC ANNUAL MC",
           345,
           "2021-02-13"
          ],
          [
           "TCMC ANNUAL MC",
           257,
           "2021-02-20"
          ],
          [
           "TCMC ANNUAL MC",
           338,
           "2021-02-27"
          ],
          [
           "TCMC ANNUAL MC",
           321,
           "2021-03-06"
          ],
          [
           "TCMC ANNUAL MC",
           360,
           "2021-03-13"
          ]
         ],
         "hovertemplate": "<b>MetroCard Type: %{customdata[0]}</b> <br>MetroCard Swipes: %{customdata[1]:,} <br>Week Ending: %{customdata[2]}<extra></extra>",
         "legendgroup": "TCMC ANNUAL MC",
         "line": {
          "color": "rgb(196,78,82)"
         },
         "mode": "lines",
         "name": "TCMC ANNUAL MC",
         "orientation": "v",
         "showlegend": true,
         "stackgroup": "1",
         "type": "scatter",
         "x": [
          "2020-01-04",
          "2020-01-11",
          "2020-01-18",
          "2020-01-25",
          "2020-02-01",
          "2020-02-08",
          "2020-02-15",
          "2020-02-22",
          "2020-02-29",
          "2020-03-07",
          "2020-03-14",
          "2020-03-21",
          "2020-03-28",
          "2020-04-04",
          "2020-04-11",
          "2020-04-18",
          "2020-04-25",
          "2020-05-02",
          "2020-05-09",
          "2020-05-16",
          "2020-05-23",
          "2020-05-30",
          "2020-06-06",
          "2020-06-13",
          "2020-06-20",
          "2020-06-27",
          "2020-07-04",
          "2020-07-11",
          "2020-07-18",
          "2020-07-25",
          "2020-08-01",
          "2020-08-08",
          "2020-08-15",
          "2020-08-22",
          "2020-08-29",
          "2020-09-05",
          "2020-09-12",
          "2020-09-19",
          "2020-09-26",
          "2020-10-03",
          "2020-10-10",
          "2020-10-17",
          "2020-10-24",
          "2020-10-31",
          "2020-11-07",
          "2020-11-14",
          "2020-11-21",
          "2020-11-28",
          "2020-12-05",
          "2020-12-12",
          "2020-12-19",
          "2020-12-26",
          "2021-01-02",
          "2021-01-09",
          "2021-01-16",
          "2021-01-23",
          "2021-01-30",
          "2021-02-06",
          "2021-02-13",
          "2021-02-20",
          "2021-02-27",
          "2021-03-06",
          "2021-03-13"
         ],
         "xaxis": "x",
         "y": [
          3472,
          6268,
          6472,
          5308,
          6325,
          6208,
          6047,
          5009,
          5964,
          5661,
          4379,
          919,
          255,
          171,
          146,
          163,
          154,
          159,
          140,
          174,
          185,
          208,
          221,
          223,
          263,
          291,
          249,
          331,
          349,
          399,
          368,
          355,
          370,
          436,
          436,
          413,
          412,
          444,
          437,
          428,
          448,
          435,
          424,
          436,
          398,
          424,
          400,
          273,
          350,
          375,
          329,
          270,
          241,
          301,
          340,
          288,
          336,
          249,
          345,
          257,
          338,
          321,
          360
         ],
         "yaxis": "y"
        },
        {
         "customdata": [
          [
           "SEN/DIS",
           2538,
           "2020-01-04"
          ],
          [
           "SEN/DIS",
           3135,
           "2020-01-11"
          ],
          [
           "SEN/DIS",
           3323,
           "2020-01-18"
          ],
          [
           "SEN/DIS",
           2721,
           "2020-01-25"
          ],
          [
           "SEN/DIS",
           3097,
           "2020-02-01"
          ],
          [
           "SEN/DIS",
           3049,
           "2020-02-08"
          ],
          [
           "SEN/DIS",
           2929,
           "2020-02-15"
          ],
          [
           "SEN/DIS",
           2797,
           "2020-02-22"
          ],
          [
           "SEN/DIS",
           2890,
           "2020-02-29"
          ],
          [
           "SEN/DIS",
           2820,
           "2020-03-07"
          ],
          [
           "SEN/DIS",
           2240,
           "2020-03-14"
          ],
          [
           "SEN/DIS",
           849,
           "2020-03-21"
          ],
          [
           "SEN/DIS",
           490,
           "2020-03-28"
          ],
          [
           "SEN/DIS",
           447,
           "2020-04-04"
          ],
          [
           "SEN/DIS",
           396,
           "2020-04-11"
          ],
          [
           "SEN/DIS",
           386,
           "2020-04-18"
          ],
          [
           "SEN/DIS",
           337,
           "2020-04-25"
          ],
          [
           "SEN/DIS",
           398,
           "2020-05-02"
          ],
          [
           "SEN/DIS",
           443,
           "2020-05-09"
          ],
          [
           "SEN/DIS",
           483,
           "2020-05-16"
          ],
          [
           "SEN/DIS",
           523,
           "2020-05-23"
          ],
          [
           "SEN/DIS",
           530,
           "2020-05-30"
          ],
          [
           "SEN/DIS",
           571,
           "2020-06-06"
          ],
          [
           "SEN/DIS",
           697,
           "2020-06-13"
          ],
          [
           "SEN/DIS",
           745,
           "2020-06-20"
          ],
          [
           "SEN/DIS",
           856,
           "2020-06-27"
          ],
          [
           "SEN/DIS",
           912,
           "2020-07-04"
          ],
          [
           "SEN/DIS",
           1074,
           "2020-07-11"
          ],
          [
           "SEN/DIS",
           1150,
           "2020-07-18"
          ],
          [
           "SEN/DIS",
           1130,
           "2020-07-25"
          ],
          [
           "SEN/DIS",
           1198,
           "2020-08-01"
          ],
          [
           "SEN/DIS",
           1162,
           "2020-08-08"
          ],
          [
           "SEN/DIS",
           1310,
           "2020-08-15"
          ],
          [
           "SEN/DIS",
           1496,
           "2020-08-22"
          ],
          [
           "SEN/DIS",
           1523,
           "2020-08-29"
          ],
          [
           "SEN/DIS",
           1144,
           "2020-09-05"
          ],
          [
           "SEN/DIS",
           1103,
           "2020-09-12"
          ],
          [
           "SEN/DIS",
           1115,
           "2020-09-19"
          ],
          [
           "SEN/DIS",
           1168,
           "2020-09-26"
          ],
          [
           "SEN/DIS",
           1125,
           "2020-10-03"
          ],
          [
           "SEN/DIS",
           1173,
           "2020-10-10"
          ],
          [
           "SEN/DIS",
           1079,
           "2020-10-17"
          ],
          [
           "SEN/DIS",
           1113,
           "2020-10-24"
          ],
          [
           "SEN/DIS",
           1024,
           "2020-10-31"
          ],
          [
           "SEN/DIS",
           1037,
           "2020-11-07"
          ],
          [
           "SEN/DIS",
           1059,
           "2020-11-14"
          ],
          [
           "SEN/DIS",
           960,
           "2020-11-21"
          ],
          [
           "SEN/DIS",
           643,
           "2020-11-28"
          ],
          [
           "SEN/DIS",
           877,
           "2020-12-05"
          ],
          [
           "SEN/DIS",
           828,
           "2020-12-12"
          ],
          [
           "SEN/DIS",
           695,
           "2020-12-19"
          ],
          [
           "SEN/DIS",
           738,
           "2020-12-26"
          ],
          [
           "SEN/DIS",
           668,
           "2021-01-02"
          ],
          [
           "SEN/DIS",
           762,
           "2021-01-09"
          ],
          [
           "SEN/DIS",
           819,
           "2021-01-16"
          ],
          [
           "SEN/DIS",
           753,
           "2021-01-23"
          ],
          [
           "SEN/DIS",
           747,
           "2021-01-30"
          ],
          [
           "SEN/DIS",
           615,
           "2021-02-06"
          ],
          [
           "SEN/DIS",
           754,
           "2021-02-13"
          ],
          [
           "SEN/DIS",
           722,
           "2021-02-20"
          ],
          [
           "SEN/DIS",
           950,
           "2021-02-27"
          ],
          [
           "SEN/DIS",
           913,
           "2021-03-06"
          ],
          [
           "SEN/DIS",
           1011,
           "2021-03-13"
          ]
         ],
         "hovertemplate": "<b>MetroCard Type: %{customdata[0]}</b> <br>MetroCard Swipes: %{customdata[1]:,} <br>Week Ending: %{customdata[2]}<extra></extra>",
         "legendgroup": "SEN/DIS",
         "line": {
          "color": "rgb(129,114,179)"
         },
         "mode": "lines",
         "name": "SEN/DIS",
         "orientation": "v",
         "showlegend": true,
         "stackgroup": "1",
         "type": "scatter",
         "x": [
          "2020-01-04",
          "2020-01-11",
          "2020-01-18",
          "2020-01-25",
          "2020-02-01",
          "2020-02-08",
          "2020-02-15",
          "2020-02-22",
          "2020-02-29",
          "2020-03-07",
          "2020-03-14",
          "2020-03-21",
          "2020-03-28",
          "2020-04-04",
          "2020-04-11",
          "2020-04-18",
          "2020-04-25",
          "2020-05-02",
          "2020-05-09",
          "2020-05-16",
          "2020-05-23",
          "2020-05-30",
          "2020-06-06",
          "2020-06-13",
          "2020-06-20",
          "2020-06-27",
          "2020-07-04",
          "2020-07-11",
          "2020-07-18",
          "2020-07-25",
          "2020-08-01",
          "2020-08-08",
          "2020-08-15",
          "2020-08-22",
          "2020-08-29",
          "2020-09-05",
          "2020-09-12",
          "2020-09-19",
          "2020-09-26",
          "2020-10-03",
          "2020-10-10",
          "2020-10-17",
          "2020-10-24",
          "2020-10-31",
          "2020-11-07",
          "2020-11-14",
          "2020-11-21",
          "2020-11-28",
          "2020-12-05",
          "2020-12-12",
          "2020-12-19",
          "2020-12-26",
          "2021-01-02",
          "2021-01-09",
          "2021-01-16",
          "2021-01-23",
          "2021-01-30",
          "2021-02-06",
          "2021-02-13",
          "2021-02-20",
          "2021-02-27",
          "2021-03-06",
          "2021-03-13"
         ],
         "xaxis": "x",
         "y": [
          2538,
          3135,
          3323,
          2721,
          3097,
          3049,
          2929,
          2797,
          2890,
          2820,
          2240,
          849,
          490,
          447,
          396,
          386,
          337,
          398,
          443,
          483,
          523,
          530,
          571,
          697,
          745,
          856,
          912,
          1074,
          1150,
          1130,
          1198,
          1162,
          1310,
          1496,
          1523,
          1144,
          1103,
          1115,
          1168,
          1125,
          1173,
          1079,
          1113,
          1024,
          1037,
          1059,
          960,
          643,
          877,
          828,
          695,
          738,
          668,
          762,
          819,
          753,
          747,
          615,
          754,
          722,
          950,
          913,
          1011
         ],
         "yaxis": "y"
        },
        {
         "customdata": [
          [
           "STUDENTS",
           1855,
           "2020-01-04"
          ],
          [
           "STUDENTS",
           3756,
           "2020-01-11"
          ],
          [
           "STUDENTS",
           4090,
           "2020-01-18"
          ],
          [
           "STUDENTS",
           2309,
           "2020-01-25"
          ],
          [
           "STUDENTS",
           3514,
           "2020-02-01"
          ],
          [
           "STUDENTS",
           3794,
           "2020-02-08"
          ],
          [
           "STUDENTS",
           3947,
           "2020-02-15"
          ],
          [
           "STUDENTS",
           1585,
           "2020-02-22"
          ],
          [
           "STUDENTS",
           4025,
           "2020-02-29"
          ],
          [
           "STUDENTS",
           3899,
           "2020-03-07"
          ],
          [
           "STUDENTS",
           3439,
           "2020-03-14"
          ],
          [
           "STUDENTS",
           304,
           "2020-03-21"
          ],
          [
           "STUDENTS",
           167,
           "2020-03-28"
          ],
          [
           "STUDENTS",
           139,
           "2020-04-04"
          ],
          [
           "STUDENTS",
           110,
           "2020-04-11"
          ],
          [
           "STUDENTS",
           123,
           "2020-04-18"
          ],
          [
           "STUDENTS",
           121,
           "2020-04-25"
          ],
          [
           "STUDENTS",
           153,
           "2020-05-02"
          ],
          [
           "STUDENTS",
           165,
           "2020-05-09"
          ],
          [
           "STUDENTS",
           189,
           "2020-05-16"
          ],
          [
           "STUDENTS",
           200,
           "2020-05-23"
          ],
          [
           "STUDENTS",
           244,
           "2020-05-30"
          ],
          [
           "STUDENTS",
           255,
           "2020-06-06"
          ],
          [
           "STUDENTS",
           332,
           "2020-06-13"
          ],
          [
           "STUDENTS",
           332,
           "2020-06-20"
          ],
          [
           "STUDENTS",
           365,
           "2020-06-27"
          ],
          [
           "STUDENTS",
           150,
           "2020-07-04"
          ],
          [
           "STUDENTS",
           0,
           "2020-07-11"
          ],
          [
           "STUDENTS",
           0,
           "2020-07-18"
          ],
          [
           "STUDENTS",
           0,
           "2020-07-25"
          ],
          [
           "STUDENTS",
           0,
           "2020-08-01"
          ],
          [
           "STUDENTS",
           0,
           "2020-08-08"
          ],
          [
           "STUDENTS",
           0,
           "2020-08-15"
          ],
          [
           "STUDENTS",
           0,
           "2020-08-22"
          ],
          [
           "STUDENTS",
           0,
           "2020-08-29"
          ],
          [
           "STUDENTS",
           1,
           "2020-09-05"
          ],
          [
           "STUDENTS",
           12,
           "2020-09-12"
          ],
          [
           "STUDENTS",
           51,
           "2020-09-19"
          ],
          [
           "STUDENTS",
           69,
           "2020-09-26"
          ],
          [
           "STUDENTS",
           159,
           "2020-10-03"
          ],
          [
           "STUDENTS",
           392,
           "2020-10-10"
          ],
          [
           "STUDENTS",
           337,
           "2020-10-17"
          ],
          [
           "STUDENTS",
           397,
           "2020-10-24"
          ],
          [
           "STUDENTS",
           366,
           "2020-10-31"
          ],
          [
           "STUDENTS",
           324,
           "2020-11-07"
          ],
          [
           "STUDENTS",
           312,
           "2020-11-14"
          ],
          [
           "STUDENTS",
           307,
           "2020-11-21"
          ],
          [
           "STUDENTS",
           180,
           "2020-11-28"
          ],
          [
           "STUDENTS",
           193,
           "2020-12-05"
          ],
          [
           "STUDENTS",
           240,
           "2020-12-12"
          ],
          [
           "STUDENTS",
           175,
           "2020-12-19"
          ],
          [
           "STUDENTS",
           160,
           "2020-12-26"
          ],
          [
           "STUDENTS",
           200,
           "2021-01-02"
          ],
          [
           "STUDENTS",
           164,
           "2021-01-09"
          ],
          [
           "STUDENTS",
           144,
           "2021-01-16"
          ],
          [
           "STUDENTS",
           188,
           "2021-01-23"
          ],
          [
           "STUDENTS",
           193,
           "2021-01-30"
          ],
          [
           "STUDENTS",
           16,
           "2021-02-06"
          ],
          [
           "STUDENTS",
           41,
           "2021-02-13"
          ],
          [
           "STUDENTS",
           44,
           "2021-02-20"
          ],
          [
           "STUDENTS",
           83,
           "2021-02-27"
          ],
          [
           "STUDENTS",
           132,
           "2021-03-06"
          ],
          [
           "STUDENTS",
           144,
           "2021-03-13"
          ]
         ],
         "hovertemplate": "<b>MetroCard Type: %{customdata[0]}</b> <br>MetroCard Swipes: %{customdata[1]:,} <br>Week Ending: %{customdata[2]}<extra></extra>",
         "legendgroup": "STUDENTS",
         "line": {
          "color": "rgb(147,120,96)"
         },
         "mode": "lines",
         "name": "STUDENTS",
         "orientation": "v",
         "showlegend": true,
         "stackgroup": "1",
         "type": "scatter",
         "x": [
          "2020-01-04",
          "2020-01-11",
          "2020-01-18",
          "2020-01-25",
          "2020-02-01",
          "2020-02-08",
          "2020-02-15",
          "2020-02-22",
          "2020-02-29",
          "2020-03-07",
          "2020-03-14",
          "2020-03-21",
          "2020-03-28",
          "2020-04-04",
          "2020-04-11",
          "2020-04-18",
          "2020-04-25",
          "2020-05-02",
          "2020-05-09",
          "2020-05-16",
          "2020-05-23",
          "2020-05-30",
          "2020-06-06",
          "2020-06-13",
          "2020-06-20",
          "2020-06-27",
          "2020-07-04",
          "2020-07-11",
          "2020-07-18",
          "2020-07-25",
          "2020-08-01",
          "2020-08-08",
          "2020-08-15",
          "2020-08-22",
          "2020-08-29",
          "2020-09-05",
          "2020-09-12",
          "2020-09-19",
          "2020-09-26",
          "2020-10-03",
          "2020-10-10",
          "2020-10-17",
          "2020-10-24",
          "2020-10-31",
          "2020-11-07",
          "2020-11-14",
          "2020-11-21",
          "2020-11-28",
          "2020-12-05",
          "2020-12-12",
          "2020-12-19",
          "2020-12-26",
          "2021-01-02",
          "2021-01-09",
          "2021-01-16",
          "2021-01-23",
          "2021-01-30",
          "2021-02-06",
          "2021-02-13",
          "2021-02-20",
          "2021-02-27",
          "2021-03-06",
          "2021-03-13"
         ],
         "xaxis": "x",
         "y": [
          1855,
          3756,
          4090,
          2309,
          3514,
          3794,
          3947,
          1585,
          4025,
          3899,
          3439,
          304,
          167,
          139,
          110,
          123,
          121,
          153,
          165,
          189,
          200,
          244,
          255,
          332,
          332,
          365,
          150,
          0,
          0,
          0,
          0,
          0,
          0,
          0,
          0,
          1,
          12,
          51,
          69,
          159,
          392,
          337,
          397,
          366,
          324,
          312,
          307,
          180,
          193,
          240,
          175,
          160,
          200,
          164,
          144,
          188,
          193,
          16,
          41,
          44,
          83,
          132,
          144
         ],
         "yaxis": "y"
        },
        {
         "customdata": [
          [
           "MR EZPAY EXP",
           1388,
           "2020-01-04"
          ],
          [
           "MR EZPAY EXP",
           2400,
           "2020-01-11"
          ],
          [
           "MR EZPAY EXP",
           2382,
           "2020-01-18"
          ],
          [
           "MR EZPAY EXP",
           2030,
           "2020-01-25"
          ],
          [
           "MR EZPAY EXP",
           2353,
           "2020-02-01"
          ],
          [
           "MR EZPAY EXP",
           2183,
           "2020-02-08"
          ],
          [
           "MR EZPAY EXP",
           2214,
           "2020-02-15"
          ],
          [
           "MR EZPAY EXP",
           1771,
           "2020-02-22"
          ],
          [
           "MR EZPAY EXP",
           2220,
           "2020-02-29"
          ],
          [
           "MR EZPAY EXP",
           2020,
           "2020-03-07"
          ],
          [
           "MR EZPAY EXP",
           1367,
           "2020-03-14"
          ],
          [
           "MR EZPAY EXP",
           260,
           "2020-03-21"
          ],
          [
           "MR EZPAY EXP",
           100,
           "2020-03-28"
          ],
          [
           "MR EZPAY EXP",
           62,
           "2020-04-04"
          ],
          [
           "MR EZPAY EXP",
           34,
           "2020-04-11"
          ],
          [
           "MR EZPAY EXP",
           24,
           "2020-04-18"
          ],
          [
           "MR EZPAY EXP",
           34,
           "2020-04-25"
          ],
          [
           "MR EZPAY EXP",
           40,
           "2020-05-02"
          ],
          [
           "MR EZPAY EXP",
           39,
           "2020-05-09"
          ],
          [
           "MR EZPAY EXP",
           46,
           "2020-05-16"
          ],
          [
           "MR EZPAY EXP",
           46,
           "2020-05-23"
          ],
          [
           "MR EZPAY EXP",
           49,
           "2020-05-30"
          ],
          [
           "MR EZPAY EXP",
           57,
           "2020-06-06"
          ],
          [
           "MR EZPAY EXP",
           78,
           "2020-06-13"
          ],
          [
           "MR EZPAY EXP",
           84,
           "2020-06-20"
          ],
          [
           "MR EZPAY EXP",
           143,
           "2020-06-27"
          ],
          [
           "MR EZPAY EXP",
           131,
           "2020-07-04"
          ],
          [
           "MR EZPAY EXP",
           149,
           "2020-07-11"
          ],
          [
           "MR EZPAY EXP",
           176,
           "2020-07-18"
          ],
          [
           "MR EZPAY EXP",
           218,
           "2020-07-25"
          ],
          [
           "MR EZPAY EXP",
           224,
           "2020-08-01"
          ],
          [
           "MR EZPAY EXP",
           253,
           "2020-08-08"
          ],
          [
           "MR EZPAY EXP",
           255,
           "2020-08-15"
          ],
          [
           "MR EZPAY EXP",
           269,
           "2020-08-22"
          ],
          [
           "MR EZPAY EXP",
           287,
           "2020-08-29"
          ],
          [
           "MR EZPAY EXP",
           221,
           "2020-09-05"
          ],
          [
           "MR EZPAY EXP",
           284,
           "2020-09-12"
          ],
          [
           "MR EZPAY EXP",
           269,
           "2020-09-19"
          ],
          [
           "MR EZPAY EXP",
           278,
           "2020-09-26"
          ],
          [
           "MR EZPAY EXP",
           300,
           "2020-10-03"
          ],
          [
           "MR EZPAY EXP",
           342,
           "2020-10-10"
          ],
          [
           "MR EZPAY EXP",
           279,
           "2020-10-17"
          ],
          [
           "MR EZPAY EXP",
           272,
           "2020-10-24"
          ],
          [
           "MR EZPAY EXP",
           292,
           "2020-10-31"
          ],
          [
           "MR EZPAY EXP",
           260,
           "2020-11-07"
          ],
          [
           "MR EZPAY EXP",
           290,
           "2020-11-14"
          ],
          [
           "MR EZPAY EXP",
           278,
           "2020-11-21"
          ],
          [
           "MR EZPAY EXP",
           132,
           "2020-11-28"
          ],
          [
           "MR EZPAY EXP",
           190,
           "2020-12-05"
          ],
          [
           "MR EZPAY EXP",
           207,
           "2020-12-12"
          ],
          [
           "MR EZPAY EXP",
           216,
           "2020-12-19"
          ],
          [
           "MR EZPAY EXP",
           169,
           "2020-12-26"
          ],
          [
           "MR EZPAY EXP",
           143,
           "2021-01-02"
          ],
          [
           "MR EZPAY EXP",
           186,
           "2021-01-09"
          ],
          [
           "MR EZPAY EXP",
           203,
           "2021-01-16"
          ],
          [
           "MR EZPAY EXP",
           201,
           "2021-01-23"
          ],
          [
           "MR EZPAY EXP",
           205,
           "2021-01-30"
          ],
          [
           "MR EZPAY EXP",
           149,
           "2021-02-06"
          ],
          [
           "MR EZPAY EXP",
           216,
           "2021-02-13"
          ],
          [
           "MR EZPAY EXP",
           171,
           "2021-02-20"
          ],
          [
           "MR EZPAY EXP",
           212,
           "2021-02-27"
          ],
          [
           "MR EZPAY EXP",
           237,
           "2021-03-06"
          ],
          [
           "MR EZPAY EXP",
           212,
           "2021-03-13"
          ]
         ],
         "hovertemplate": "<b>MetroCard Type: %{customdata[0]}</b> <br>MetroCard Swipes: %{customdata[1]:,} <br>Week Ending: %{customdata[2]}<extra></extra>",
         "legendgroup": "MR EZPAY EXP",
         "line": {
          "color": "rgb(218,139,195)"
         },
         "mode": "lines",
         "name": "MR EZPAY EXP",
         "orientation": "v",
         "showlegend": true,
         "stackgroup": "1",
         "type": "scatter",
         "x": [
          "2020-01-04",
          "2020-01-11",
          "2020-01-18",
          "2020-01-25",
          "2020-02-01",
          "2020-02-08",
          "2020-02-15",
          "2020-02-22",
          "2020-02-29",
          "2020-03-07",
          "2020-03-14",
          "2020-03-21",
          "2020-03-28",
          "2020-04-04",
          "2020-04-11",
          "2020-04-18",
          "2020-04-25",
          "2020-05-02",
          "2020-05-09",
          "2020-05-16",
          "2020-05-23",
          "2020-05-30",
          "2020-06-06",
          "2020-06-13",
          "2020-06-20",
          "2020-06-27",
          "2020-07-04",
          "2020-07-11",
          "2020-07-18",
          "2020-07-25",
          "2020-08-01",
          "2020-08-08",
          "2020-08-15",
          "2020-08-22",
          "2020-08-29",
          "2020-09-05",
          "2020-09-12",
          "2020-09-19",
          "2020-09-26",
          "2020-10-03",
          "2020-10-10",
          "2020-10-17",
          "2020-10-24",
          "2020-10-31",
          "2020-11-07",
          "2020-11-14",
          "2020-11-21",
          "2020-11-28",
          "2020-12-05",
          "2020-12-12",
          "2020-12-19",
          "2020-12-26",
          "2021-01-02",
          "2021-01-09",
          "2021-01-16",
          "2021-01-23",
          "2021-01-30",
          "2021-02-06",
          "2021-02-13",
          "2021-02-20",
          "2021-02-27",
          "2021-03-06",
          "2021-03-13"
         ],
         "xaxis": "x",
         "y": [
          1388,
          2400,
          2382,
          2030,
          2353,
          2183,
          2214,
          1771,
          2220,
          2020,
          1367,
          260,
          100,
          62,
          34,
          24,
          34,
          40,
          39,
          46,
          46,
          49,
          57,
          78,
          84,
          143,
          131,
          149,
          176,
          218,
          224,
          253,
          255,
          269,
          287,
          221,
          284,
          269,
          278,
          300,
          342,
          279,
          272,
          292,
          260,
          290,
          278,
          132,
          190,
          207,
          216,
          169,
          143,
          186,
          203,
          201,
          205,
          149,
          216,
          171,
          212,
          237,
          212
         ],
         "yaxis": "y"
        },
        {
         "customdata": [
          [
           "FF VALUE",
           296,
           "2020-01-04"
          ],
          [
           "FF VALUE",
           373,
           "2020-01-11"
          ],
          [
           "FF VALUE",
           357,
           "2020-01-18"
          ],
          [
           "FF VALUE",
           324,
           "2020-01-25"
          ],
          [
           "FF VALUE",
           389,
           "2020-02-01"
          ],
          [
           "FF VALUE",
           369,
           "2020-02-08"
          ],
          [
           "FF VALUE",
           379,
           "2020-02-15"
          ],
          [
           "FF VALUE",
           412,
           "2020-02-22"
          ],
          [
           "FF VALUE",
           421,
           "2020-02-29"
          ],
          [
           "FF VALUE",
           468,
           "2020-03-07"
          ],
          [
           "FF VALUE",
           444,
           "2020-03-14"
          ],
          [
           "FF VALUE",
           251,
           "2020-03-21"
          ],
          [
           "FF VALUE",
           205,
           "2020-03-28"
          ],
          [
           "FF VALUE",
           195,
           "2020-04-04"
          ],
          [
           "FF VALUE",
           159,
           "2020-04-11"
          ],
          [
           "FF VALUE",
           177,
           "2020-04-18"
          ],
          [
           "FF VALUE",
           192,
           "2020-04-25"
          ],
          [
           "FF VALUE",
           201,
           "2020-05-02"
          ],
          [
           "FF VALUE",
           234,
           "2020-05-09"
          ],
          [
           "FF VALUE",
           269,
           "2020-05-16"
          ],
          [
           "FF VALUE",
           275,
           "2020-05-23"
          ],
          [
           "FF VALUE",
           298,
           "2020-05-30"
          ],
          [
           "FF VALUE",
           297,
           "2020-06-06"
          ],
          [
           "FF VALUE",
           387,
           "2020-06-13"
          ],
          [
           "FF VALUE",
           442,
           "2020-06-20"
          ],
          [
           "FF VALUE",
           464,
           "2020-06-27"
          ],
          [
           "FF VALUE",
           493,
           "2020-07-04"
          ],
          [
           "FF VALUE",
           539,
           "2020-07-11"
          ],
          [
           "FF VALUE",
           590,
           "2020-07-18"
          ],
          [
           "FF VALUE",
           552,
           "2020-07-25"
          ],
          [
           "FF VALUE",
           646,
           "2020-08-01"
          ],
          [
           "FF VALUE",
           630,
           "2020-08-08"
          ],
          [
           "FF VALUE",
           640,
           "2020-08-15"
          ],
          [
           "FF VALUE",
           736,
           "2020-08-22"
          ],
          [
           "FF VALUE",
           820,
           "2020-08-29"
          ],
          [
           "FF VALUE",
           549,
           "2020-09-05"
          ],
          [
           "FF VALUE",
           391,
           "2020-09-12"
          ],
          [
           "FF VALUE",
           417,
           "2020-09-19"
          ],
          [
           "FF VALUE",
           451,
           "2020-09-26"
          ],
          [
           "FF VALUE",
           426,
           "2020-10-03"
          ],
          [
           "FF VALUE",
           480,
           "2020-10-10"
          ],
          [
           "FF VALUE",
           371,
           "2020-10-17"
          ],
          [
           "FF VALUE",
           374,
           "2020-10-24"
          ],
          [
           "FF VALUE",
           380,
           "2020-10-31"
          ],
          [
           "FF VALUE",
           406,
           "2020-11-07"
          ],
          [
           "FF VALUE",
           399,
           "2020-11-14"
          ],
          [
           "FF VALUE",
           425,
           "2020-11-21"
          ],
          [
           "FF VALUE",
           323,
           "2020-11-28"
          ],
          [
           "FF VALUE",
           383,
           "2020-12-05"
          ],
          [
           "FF VALUE",
           412,
           "2020-12-12"
          ],
          [
           "FF VALUE",
           370,
           "2020-12-19"
          ],
          [
           "FF VALUE",
           385,
           "2020-12-26"
          ],
          [
           "FF VALUE",
           326,
           "2021-01-02"
          ],
          [
           "FF VALUE",
           384,
           "2021-01-09"
          ],
          [
           "FF VALUE",
           375,
           "2021-01-16"
          ],
          [
           "FF VALUE",
           383,
           "2021-01-23"
          ],
          [
           "FF VALUE",
           418,
           "2021-01-30"
          ],
          [
           "FF VALUE",
           371,
           "2021-02-06"
          ],
          [
           "FF VALUE",
           481,
           "2021-02-13"
          ],
          [
           "FF VALUE",
           432,
           "2021-02-20"
          ],
          [
           "FF VALUE",
           512,
           "2021-02-27"
          ],
          [
           "FF VALUE",
           461,
           "2021-03-06"
          ],
          [
           "FF VALUE",
           494,
           "2021-03-13"
          ]
         ],
         "hovertemplate": "<b>MetroCard Type: %{customdata[0]}</b> <br>MetroCard Swipes: %{customdata[1]:,} <br>Week Ending: %{customdata[2]}<extra></extra>",
         "legendgroup": "FF VALUE",
         "line": {
          "color": "rgb(140,140,140)"
         },
         "mode": "lines",
         "name": "FF VALUE",
         "orientation": "v",
         "showlegend": true,
         "stackgroup": "1",
         "type": "scatter",
         "x": [
          "2020-01-04",
          "2020-01-11",
          "2020-01-18",
          "2020-01-25",
          "2020-02-01",
          "2020-02-08",
          "2020-02-15",
          "2020-02-22",
          "2020-02-29",
          "2020-03-07",
          "2020-03-14",
          "2020-03-21",
          "2020-03-28",
          "2020-04-04",
          "2020-04-11",
          "2020-04-18",
          "2020-04-25",
          "2020-05-02",
          "2020-05-09",
          "2020-05-16",
          "2020-05-23",
          "2020-05-30",
          "2020-06-06",
          "2020-06-13",
          "2020-06-20",
          "2020-06-27",
          "2020-07-04",
          "2020-07-11",
          "2020-07-18",
          "2020-07-25",
          "2020-08-01",
          "2020-08-08",
          "2020-08-15",
          "2020-08-22",
          "2020-08-29",
          "2020-09-05",
          "2020-09-12",
          "2020-09-19",
          "2020-09-26",
          "2020-10-03",
          "2020-10-10",
          "2020-10-17",
          "2020-10-24",
          "2020-10-31",
          "2020-11-07",
          "2020-11-14",
          "2020-11-21",
          "2020-11-28",
          "2020-12-05",
          "2020-12-12",
          "2020-12-19",
          "2020-12-26",
          "2021-01-02",
          "2021-01-09",
          "2021-01-16",
          "2021-01-23",
          "2021-01-30",
          "2021-02-06",
          "2021-02-13",
          "2021-02-20",
          "2021-02-27",
          "2021-03-06",
          "2021-03-13"
         ],
         "xaxis": "x",
         "y": [
          296,
          373,
          357,
          324,
          389,
          369,
          379,
          412,
          421,
          468,
          444,
          251,
          205,
          195,
          159,
          177,
          192,
          201,
          234,
          269,
          275,
          298,
          297,
          387,
          442,
          464,
          493,
          539,
          590,
          552,
          646,
          630,
          640,
          736,
          820,
          549,
          391,
          417,
          451,
          426,
          480,
          371,
          374,
          380,
          406,
          399,
          425,
          323,
          383,
          412,
          370,
          385,
          326,
          384,
          375,
          383,
          418,
          371,
          481,
          432,
          512,
          461,
          494
         ],
         "yaxis": "y"
        },
        {
         "customdata": [
          [
           "30-D AFAS/RMF UNL",
           979,
           "2020-01-04"
          ],
          [
           "30-D AFAS/RMF UNL",
           1212,
           "2020-01-11"
          ],
          [
           "30-D AFAS/RMF UNL",
           1273,
           "2020-01-18"
          ],
          [
           "30-D AFAS/RMF UNL",
           1091,
           "2020-01-25"
          ],
          [
           "30-D AFAS/RMF UNL",
           1207,
           "2020-02-01"
          ],
          [
           "30-D AFAS/RMF UNL",
           1199,
           "2020-02-08"
          ],
          [
           "30-D AFAS/RMF UNL",
           1152,
           "2020-02-15"
          ],
          [
           "30-D AFAS/RMF UNL",
           1112,
           "2020-02-22"
          ],
          [
           "30-D AFAS/RMF UNL",
           1121,
           "2020-02-29"
          ],
          [
           "30-D AFAS/RMF UNL",
           1129,
           "2020-03-07"
          ],
          [
           "30-D AFAS/RMF UNL",
           1078,
           "2020-03-14"
          ],
          [
           "30-D AFAS/RMF UNL",
           643,
           "2020-03-21"
          ],
          [
           "30-D AFAS/RMF UNL",
           359,
           "2020-03-28"
          ],
          [
           "30-D AFAS/RMF UNL",
           254,
           "2020-04-04"
          ],
          [
           "30-D AFAS/RMF UNL",
           161,
           "2020-04-11"
          ],
          [
           "30-D AFAS/RMF UNL",
           151,
           "2020-04-18"
          ],
          [
           "30-D AFAS/RMF UNL",
           131,
           "2020-04-25"
          ],
          [
           "30-D AFAS/RMF UNL",
           120,
           "2020-05-02"
          ],
          [
           "30-D AFAS/RMF UNL",
           102,
           "2020-05-09"
          ],
          [
           "30-D AFAS/RMF UNL",
           80,
           "2020-05-16"
          ],
          [
           "30-D AFAS/RMF UNL",
           95,
           "2020-05-23"
          ],
          [
           "30-D AFAS/RMF UNL",
           92,
           "2020-05-30"
          ],
          [
           "30-D AFAS/RMF UNL",
           98,
           "2020-06-06"
          ],
          [
           "30-D AFAS/RMF UNL",
           101,
           "2020-06-13"
          ],
          [
           "30-D AFAS/RMF UNL",
           110,
           "2020-06-20"
          ],
          [
           "30-D AFAS/RMF UNL",
           112,
           "2020-06-27"
          ],
          [
           "30-D AFAS/RMF UNL",
           127,
           "2020-07-04"
          ],
          [
           "30-D AFAS/RMF UNL",
           161,
           "2020-07-11"
          ],
          [
           "30-D AFAS/RMF UNL",
           149,
           "2020-07-18"
          ],
          [
           "30-D AFAS/RMF UNL",
           156,
           "2020-07-25"
          ],
          [
           "30-D AFAS/RMF UNL",
           165,
           "2020-08-01"
          ],
          [
           "30-D AFAS/RMF UNL",
           184,
           "2020-08-08"
          ],
          [
           "30-D AFAS/RMF UNL",
           183,
           "2020-08-15"
          ],
          [
           "30-D AFAS/RMF UNL",
           202,
           "2020-08-22"
          ],
          [
           "30-D AFAS/RMF UNL",
           180,
           "2020-08-29"
          ],
          [
           "30-D AFAS/RMF UNL",
           232,
           "2020-09-05"
          ],
          [
           "30-D AFAS/RMF UNL",
           268,
           "2020-09-12"
          ],
          [
           "30-D AFAS/RMF UNL",
           285,
           "2020-09-19"
          ],
          [
           "30-D AFAS/RMF UNL",
           307,
           "2020-09-26"
          ],
          [
           "30-D AFAS/RMF UNL",
           308,
           "2020-10-03"
          ],
          [
           "30-D AFAS/RMF UNL",
           287,
           "2020-10-10"
          ],
          [
           "30-D AFAS/RMF UNL",
           313,
           "2020-10-17"
          ],
          [
           "30-D AFAS/RMF UNL",
           304,
           "2020-10-24"
          ],
          [
           "30-D AFAS/RMF UNL",
           337,
           "2020-10-31"
          ],
          [
           "30-D AFAS/RMF UNL",
           291,
           "2020-11-07"
          ],
          [
           "30-D AFAS/RMF UNL",
           318,
           "2020-11-14"
          ],
          [
           "30-D AFAS/RMF UNL",
           302,
           "2020-11-21"
          ],
          [
           "30-D AFAS/RMF UNL",
           278,
           "2020-11-28"
          ],
          [
           "30-D AFAS/RMF UNL",
           317,
           "2020-12-05"
          ],
          [
           "30-D AFAS/RMF UNL",
           342,
           "2020-12-12"
          ],
          [
           "30-D AFAS/RMF UNL",
           294,
           "2020-12-19"
          ],
          [
           "30-D AFAS/RMF UNL",
           231,
           "2020-12-26"
          ],
          [
           "30-D AFAS/RMF UNL",
           234,
           "2021-01-02"
          ],
          [
           "30-D AFAS/RMF UNL",
           303,
           "2021-01-09"
          ],
          [
           "30-D AFAS/RMF UNL",
           294,
           "2021-01-16"
          ],
          [
           "30-D AFAS/RMF UNL",
           303,
           "2021-01-23"
          ],
          [
           "30-D AFAS/RMF UNL",
           318,
           "2021-01-30"
          ],
          [
           "30-D AFAS/RMF UNL",
           224,
           "2021-02-06"
          ],
          [
           "30-D AFAS/RMF UNL",
           250,
           "2021-02-13"
          ],
          [
           "30-D AFAS/RMF UNL",
           243,
           "2021-02-20"
          ],
          [
           "30-D AFAS/RMF UNL",
           302,
           "2021-02-27"
          ],
          [
           "30-D AFAS/RMF UNL",
           291,
           "2021-03-06"
          ],
          [
           "30-D AFAS/RMF UNL",
           303,
           "2021-03-13"
          ]
         ],
         "hovertemplate": "<b>MetroCard Type: %{customdata[0]}</b> <br>MetroCard Swipes: %{customdata[1]:,} <br>Week Ending: %{customdata[2]}<extra></extra>",
         "legendgroup": "30-D AFAS/RMF UNL",
         "line": {
          "color": "rgb(204,185,116)"
         },
         "mode": "lines",
         "name": "30-D AFAS/RMF UNL",
         "orientation": "v",
         "showlegend": true,
         "stackgroup": "1",
         "type": "scatter",
         "x": [
          "2020-01-04",
          "2020-01-11",
          "2020-01-18",
          "2020-01-25",
          "2020-02-01",
          "2020-02-08",
          "2020-02-15",
          "2020-02-22",
          "2020-02-29",
          "2020-03-07",
          "2020-03-14",
          "2020-03-21",
          "2020-03-28",
          "2020-04-04",
          "2020-04-11",
          "2020-04-18",
          "2020-04-25",
          "2020-05-02",
          "2020-05-09",
          "2020-05-16",
          "2020-05-23",
          "2020-05-30",
          "2020-06-06",
          "2020-06-13",
          "2020-06-20",
          "2020-06-27",
          "2020-07-04",
          "2020-07-11",
          "2020-07-18",
          "2020-07-25",
          "2020-08-01",
          "2020-08-08",
          "2020-08-15",
          "2020-08-22",
          "2020-08-29",
          "2020-09-05",
          "2020-09-12",
          "2020-09-19",
          "2020-09-26",
          "2020-10-03",
          "2020-10-10",
          "2020-10-17",
          "2020-10-24",
          "2020-10-31",
          "2020-11-07",
          "2020-11-14",
          "2020-11-21",
          "2020-11-28",
          "2020-12-05",
          "2020-12-12",
          "2020-12-19",
          "2020-12-26",
          "2021-01-02",
          "2021-01-09",
          "2021-01-16",
          "2021-01-23",
          "2021-01-30",
          "2021-02-06",
          "2021-02-13",
          "2021-02-20",
          "2021-02-27",
          "2021-03-06",
          "2021-03-13"
         ],
         "xaxis": "x",
         "y": [
          979,
          1212,
          1273,
          1091,
          1207,
          1199,
          1152,
          1112,
          1121,
          1129,
          1078,
          643,
          359,
          254,
          161,
          151,
          131,
          120,
          102,
          80,
          95,
          92,
          98,
          101,
          110,
          112,
          127,
          161,
          149,
          156,
          165,
          184,
          183,
          202,
          180,
          232,
          268,
          285,
          307,
          308,
          287,
          313,
          304,
          337,
          291,
          318,
          302,
          278,
          317,
          342,
          294,
          231,
          234,
          303,
          294,
          303,
          318,
          224,
          250,
          243,
          302,
          291,
          303
         ],
         "yaxis": "y"
        },
        {
         "customdata": [
          [
           "AIRTRAIN FF",
           2075,
           "2020-01-04"
          ],
          [
           "AIRTRAIN FF",
           1251,
           "2020-01-11"
          ],
          [
           "AIRTRAIN FF",
           1457,
           "2020-01-18"
          ],
          [
           "AIRTRAIN FF",
           1197,
           "2020-01-25"
          ],
          [
           "AIRTRAIN FF",
           1219,
           "2020-02-01"
          ],
          [
           "AIRTRAIN FF",
           1222,
           "2020-02-08"
          ],
          [
           "AIRTRAIN FF",
           1326,
           "2020-02-15"
          ],
          [
           "AIRTRAIN FF",
           1743,
           "2020-02-22"
          ],
          [
           "AIRTRAIN FF",
           1395,
           "2020-02-29"
          ],
          [
           "AIRTRAIN FF",
           1403,
           "2020-03-07"
          ],
          [
           "AIRTRAIN FF",
           1115,
           "2020-03-14"
          ],
          [
           "AIRTRAIN FF",
           373,
           "2020-03-21"
          ],
          [
           "AIRTRAIN FF",
           41,
           "2020-03-28"
          ],
          [
           "AIRTRAIN FF",
           21,
           "2020-04-04"
          ],
          [
           "AIRTRAIN FF",
           12,
           "2020-04-11"
          ],
          [
           "AIRTRAIN FF",
           19,
           "2020-04-18"
          ],
          [
           "AIRTRAIN FF",
           33,
           "2020-04-25"
          ],
          [
           "AIRTRAIN FF",
           23,
           "2020-05-02"
          ],
          [
           "AIRTRAIN FF",
           46,
           "2020-05-09"
          ],
          [
           "AIRTRAIN FF",
           42,
           "2020-05-16"
          ],
          [
           "AIRTRAIN FF",
           42,
           "2020-05-23"
          ],
          [
           "AIRTRAIN FF",
           22,
           "2020-05-30"
          ],
          [
           "AIRTRAIN FF",
           31,
           "2020-06-06"
          ],
          [
           "AIRTRAIN FF",
           45,
           "2020-06-13"
          ],
          [
           "AIRTRAIN FF",
           65,
           "2020-06-20"
          ],
          [
           "AIRTRAIN FF",
           68,
           "2020-06-27"
          ],
          [
           "AIRTRAIN FF",
           58,
           "2020-07-04"
          ],
          [
           "AIRTRAIN FF",
           83,
           "2020-07-11"
          ],
          [
           "AIRTRAIN FF",
           104,
           "2020-07-18"
          ],
          [
           "AIRTRAIN FF",
           118,
           "2020-07-25"
          ],
          [
           "AIRTRAIN FF",
           112,
           "2020-08-01"
          ],
          [
           "AIRTRAIN FF",
           120,
           "2020-08-08"
          ],
          [
           "AIRTRAIN FF",
           128,
           "2020-08-15"
          ],
          [
           "AIRTRAIN FF",
           141,
           "2020-08-22"
          ],
          [
           "AIRTRAIN FF",
           169,
           "2020-08-29"
          ],
          [
           "AIRTRAIN FF",
           163,
           "2020-09-05"
          ],
          [
           "AIRTRAIN FF",
           155,
           "2020-09-12"
          ],
          [
           "AIRTRAIN FF",
           164,
           "2020-09-19"
          ],
          [
           "AIRTRAIN FF",
           159,
           "2020-09-26"
          ],
          [
           "AIRTRAIN FF",
           146,
           "2020-10-03"
          ],
          [
           "AIRTRAIN FF",
           143,
           "2020-10-10"
          ],
          [
           "AIRTRAIN FF",
           121,
           "2020-10-17"
          ],
          [
           "AIRTRAIN FF",
           130,
           "2020-10-24"
          ],
          [
           "AIRTRAIN FF",
           132,
           "2020-10-31"
          ],
          [
           "AIRTRAIN FF",
           107,
           "2020-11-07"
          ],
          [
           "AIRTRAIN FF",
           134,
           "2020-11-14"
          ],
          [
           "AIRTRAIN FF",
           111,
           "2020-11-21"
          ],
          [
           "AIRTRAIN FF",
           101,
           "2020-11-28"
          ],
          [
           "AIRTRAIN FF",
           76,
           "2020-12-05"
          ],
          [
           "AIRTRAIN FF",
           86,
           "2020-12-12"
          ],
          [
           "AIRTRAIN FF",
           97,
           "2020-12-19"
          ],
          [
           "AIRTRAIN FF",
           91,
           "2020-12-26"
          ],
          [
           "AIRTRAIN FF",
           191,
           "2021-01-02"
          ],
          [
           "AIRTRAIN FF",
           98,
           "2021-01-09"
          ],
          [
           "AIRTRAIN FF",
           98,
           "2021-01-16"
          ],
          [
           "AIRTRAIN FF",
           115,
           "2021-01-23"
          ],
          [
           "AIRTRAIN FF",
           112,
           "2021-01-30"
          ],
          [
           "AIRTRAIN FF",
           76,
           "2021-02-06"
          ],
          [
           "AIRTRAIN FF",
           91,
           "2021-02-13"
          ],
          [
           "AIRTRAIN FF",
           97,
           "2021-02-20"
          ],
          [
           "AIRTRAIN FF",
           97,
           "2021-02-27"
          ],
          [
           "AIRTRAIN FF",
           100,
           "2021-03-06"
          ],
          [
           "AIRTRAIN FF",
           128,
           "2021-03-13"
          ]
         ],
         "hovertemplate": "<b>MetroCard Type: %{customdata[0]}</b> <br>MetroCard Swipes: %{customdata[1]:,} <br>Week Ending: %{customdata[2]}<extra></extra>",
         "legendgroup": "AIRTRAIN FF",
         "line": {
          "color": "rgb(100,181,205)"
         },
         "mode": "lines",
         "name": "AIRTRAIN FF",
         "orientation": "v",
         "showlegend": true,
         "stackgroup": "1",
         "type": "scatter",
         "x": [
          "2020-01-04",
          "2020-01-11",
          "2020-01-18",
          "2020-01-25",
          "2020-02-01",
          "2020-02-08",
          "2020-02-15",
          "2020-02-22",
          "2020-02-29",
          "2020-03-07",
          "2020-03-14",
          "2020-03-21",
          "2020-03-28",
          "2020-04-04",
          "2020-04-11",
          "2020-04-18",
          "2020-04-25",
          "2020-05-02",
          "2020-05-09",
          "2020-05-16",
          "2020-05-23",
          "2020-05-30",
          "2020-06-06",
          "2020-06-13",
          "2020-06-20",
          "2020-06-27",
          "2020-07-04",
          "2020-07-11",
          "2020-07-18",
          "2020-07-25",
          "2020-08-01",
          "2020-08-08",
          "2020-08-15",
          "2020-08-22",
          "2020-08-29",
          "2020-09-05",
          "2020-09-12",
          "2020-09-19",
          "2020-09-26",
          "2020-10-03",
          "2020-10-10",
          "2020-10-17",
          "2020-10-24",
          "2020-10-31",
          "2020-11-07",
          "2020-11-14",
          "2020-11-21",
          "2020-11-28",
          "2020-12-05",
          "2020-12-12",
          "2020-12-19",
          "2020-12-26",
          "2021-01-02",
          "2021-01-09",
          "2021-01-16",
          "2021-01-23",
          "2021-01-30",
          "2021-02-06",
          "2021-02-13",
          "2021-02-20",
          "2021-02-27",
          "2021-03-06",
          "2021-03-13"
         ],
         "xaxis": "x",
         "y": [
          2075,
          1251,
          1457,
          1197,
          1219,
          1222,
          1326,
          1743,
          1395,
          1403,
          1115,
          373,
          41,
          21,
          12,
          19,
          33,
          23,
          46,
          42,
          42,
          22,
          31,
          45,
          65,
          68,
          58,
          83,
          104,
          118,
          112,
          120,
          128,
          141,
          169,
          163,
          155,
          164,
          159,
          146,
          143,
          121,
          130,
          132,
          107,
          134,
          111,
          101,
          76,
          86,
          97,
          91,
          191,
          98,
          98,
          115,
          112,
          76,
          91,
          97,
          97,
          100,
          128
         ],
         "yaxis": "y"
        },
        {
         "customdata": [
          [
           "FF 7-DAY",
           271,
           "2020-01-04"
          ],
          [
           "FF 7-DAY",
           331,
           "2020-01-11"
          ],
          [
           "FF 7-DAY",
           345,
           "2020-01-18"
          ],
          [
           "FF 7-DAY",
           303,
           "2020-01-25"
          ],
          [
           "FF 7-DAY",
           390,
           "2020-02-01"
          ],
          [
           "FF 7-DAY",
           407,
           "2020-02-08"
          ],
          [
           "FF 7-DAY",
           394,
           "2020-02-15"
          ],
          [
           "FF 7-DAY",
           393,
           "2020-02-22"
          ],
          [
           "FF 7-DAY",
           406,
           "2020-02-29"
          ],
          [
           "FF 7-DAY",
           421,
           "2020-03-07"
          ],
          [
           "FF 7-DAY",
           430,
           "2020-03-14"
          ],
          [
           "FF 7-DAY",
           278,
           "2020-03-21"
          ],
          [
           "FF 7-DAY",
           145,
           "2020-03-28"
          ],
          [
           "FF 7-DAY",
           78,
           "2020-04-04"
          ],
          [
           "FF 7-DAY",
           79,
           "2020-04-11"
          ],
          [
           "FF 7-DAY",
           81,
           "2020-04-18"
          ],
          [
           "FF 7-DAY",
           85,
           "2020-04-25"
          ],
          [
           "FF 7-DAY",
           87,
           "2020-05-02"
          ],
          [
           "FF 7-DAY",
           97,
           "2020-05-09"
          ],
          [
           "FF 7-DAY",
           93,
           "2020-05-16"
          ],
          [
           "FF 7-DAY",
           80,
           "2020-05-23"
          ],
          [
           "FF 7-DAY",
           76,
           "2020-05-30"
          ],
          [
           "FF 7-DAY",
           112,
           "2020-06-06"
          ],
          [
           "FF 7-DAY",
           105,
           "2020-06-13"
          ],
          [
           "FF 7-DAY",
           110,
           "2020-06-20"
          ],
          [
           "FF 7-DAY",
           122,
           "2020-06-27"
          ],
          [
           "FF 7-DAY",
           122,
           "2020-07-04"
          ],
          [
           "FF 7-DAY",
           134,
           "2020-07-11"
          ],
          [
           "FF 7-DAY",
           129,
           "2020-07-18"
          ],
          [
           "FF 7-DAY",
           153,
           "2020-07-25"
          ],
          [
           "FF 7-DAY",
           124,
           "2020-08-01"
          ],
          [
           "FF 7-DAY",
           145,
           "2020-08-08"
          ],
          [
           "FF 7-DAY",
           163,
           "2020-08-15"
          ],
          [
           "FF 7-DAY",
           193,
           "2020-08-22"
          ],
          [
           "FF 7-DAY",
           176,
           "2020-08-29"
          ],
          [
           "FF 7-DAY",
           171,
           "2020-09-05"
          ],
          [
           "FF 7-DAY",
           163,
           "2020-09-12"
          ],
          [
           "FF 7-DAY",
           191,
           "2020-09-19"
          ],
          [
           "FF 7-DAY",
           192,
           "2020-09-26"
          ],
          [
           "FF 7-DAY",
           204,
           "2020-10-03"
          ],
          [
           "FF 7-DAY",
           239,
           "2020-10-10"
          ],
          [
           "FF 7-DAY",
           197,
           "2020-10-17"
          ],
          [
           "FF 7-DAY",
           248,
           "2020-10-24"
          ],
          [
           "FF 7-DAY",
           234,
           "2020-10-31"
          ],
          [
           "FF 7-DAY",
           229,
           "2020-11-07"
          ],
          [
           "FF 7-DAY",
           238,
           "2020-11-14"
          ],
          [
           "FF 7-DAY",
           267,
           "2020-11-21"
          ],
          [
           "FF 7-DAY",
           176,
           "2020-11-28"
          ],
          [
           "FF 7-DAY",
           260,
           "2020-12-05"
          ],
          [
           "FF 7-DAY",
           250,
           "2020-12-12"
          ],
          [
           "FF 7-DAY",
           238,
           "2020-12-19"
          ],
          [
           "FF 7-DAY",
           262,
           "2020-12-26"
          ],
          [
           "FF 7-DAY",
           218,
           "2021-01-02"
          ],
          [
           "FF 7-DAY",
           236,
           "2021-01-09"
          ],
          [
           "FF 7-DAY",
           306,
           "2021-01-16"
          ],
          [
           "FF 7-DAY",
           260,
           "2021-01-23"
          ],
          [
           "FF 7-DAY",
           251,
           "2021-01-30"
          ],
          [
           "FF 7-DAY",
           189,
           "2021-02-06"
          ],
          [
           "FF 7-DAY",
           266,
           "2021-02-13"
          ],
          [
           "FF 7-DAY",
           255,
           "2021-02-20"
          ],
          [
           "FF 7-DAY",
           230,
           "2021-02-27"
          ],
          [
           "FF 7-DAY",
           220,
           "2021-03-06"
          ],
          [
           "FF 7-DAY",
           222,
           "2021-03-13"
          ]
         ],
         "hovertemplate": "<b>MetroCard Type: %{customdata[0]}</b> <br>MetroCard Swipes: %{customdata[1]:,} <br>Week Ending: %{customdata[2]}<extra></extra>",
         "legendgroup": "FF 7-DAY",
         "line": {
          "color": "rgb(76,114,176)"
         },
         "mode": "lines",
         "name": "FF 7-DAY",
         "orientation": "v",
         "showlegend": true,
         "stackgroup": "1",
         "type": "scatter",
         "x": [
          "2020-01-04",
          "2020-01-11",
          "2020-01-18",
          "2020-01-25",
          "2020-02-01",
          "2020-02-08",
          "2020-02-15",
          "2020-02-22",
          "2020-02-29",
          "2020-03-07",
          "2020-03-14",
          "2020-03-21",
          "2020-03-28",
          "2020-04-04",
          "2020-04-11",
          "2020-04-18",
          "2020-04-25",
          "2020-05-02",
          "2020-05-09",
          "2020-05-16",
          "2020-05-23",
          "2020-05-30",
          "2020-06-06",
          "2020-06-13",
          "2020-06-20",
          "2020-06-27",
          "2020-07-04",
          "2020-07-11",
          "2020-07-18",
          "2020-07-25",
          "2020-08-01",
          "2020-08-08",
          "2020-08-15",
          "2020-08-22",
          "2020-08-29",
          "2020-09-05",
          "2020-09-12",
          "2020-09-19",
          "2020-09-26",
          "2020-10-03",
          "2020-10-10",
          "2020-10-17",
          "2020-10-24",
          "2020-10-31",
          "2020-11-07",
          "2020-11-14",
          "2020-11-21",
          "2020-11-28",
          "2020-12-05",
          "2020-12-12",
          "2020-12-19",
          "2020-12-26",
          "2021-01-02",
          "2021-01-09",
          "2021-01-16",
          "2021-01-23",
          "2021-01-30",
          "2021-02-06",
          "2021-02-13",
          "2021-02-20",
          "2021-02-27",
          "2021-03-06",
          "2021-03-13"
         ],
         "xaxis": "x",
         "y": [
          271,
          331,
          345,
          303,
          390,
          407,
          394,
          393,
          406,
          421,
          430,
          278,
          145,
          78,
          79,
          81,
          85,
          87,
          97,
          93,
          80,
          76,
          112,
          105,
          110,
          122,
          122,
          134,
          129,
          153,
          124,
          145,
          163,
          193,
          176,
          171,
          163,
          191,
          192,
          204,
          239,
          197,
          248,
          234,
          229,
          238,
          267,
          176,
          260,
          250,
          238,
          262,
          218,
          236,
          306,
          260,
          251,
          189,
          266,
          255,
          230,
          220,
          222
         ],
         "yaxis": "y"
        },
        {
         "customdata": [
          [
           "MR EZPAY UNL",
           461,
           "2020-01-04"
          ],
          [
           "MR EZPAY UNL",
           877,
           "2020-01-11"
          ],
          [
           "MR EZPAY UNL",
           883,
           "2020-01-18"
          ],
          [
           "MR EZPAY UNL",
           728,
           "2020-01-25"
          ],
          [
           "MR EZPAY UNL",
           848,
           "2020-02-01"
          ],
          [
           "MR EZPAY UNL",
           871,
           "2020-02-08"
          ],
          [
           "MR EZPAY UNL",
           856,
           "2020-02-15"
          ],
          [
           "MR EZPAY UNL",
           745,
           "2020-02-22"
          ],
          [
           "MR EZPAY UNL",
           839,
           "2020-02-29"
          ],
          [
           "MR EZPAY UNL",
           783,
           "2020-03-07"
          ],
          [
           "MR EZPAY UNL",
           687,
           "2020-03-14"
          ],
          [
           "MR EZPAY UNL",
           207,
           "2020-03-21"
          ],
          [
           "MR EZPAY UNL",
           80,
           "2020-03-28"
          ],
          [
           "MR EZPAY UNL",
           50,
           "2020-04-04"
          ],
          [
           "MR EZPAY UNL",
           45,
           "2020-04-11"
          ],
          [
           "MR EZPAY UNL",
           31,
           "2020-04-18"
          ],
          [
           "MR EZPAY UNL",
           30,
           "2020-04-25"
          ],
          [
           "MR EZPAY UNL",
           36,
           "2020-05-02"
          ],
          [
           "MR EZPAY UNL",
           44,
           "2020-05-09"
          ],
          [
           "MR EZPAY UNL",
           44,
           "2020-05-16"
          ],
          [
           "MR EZPAY UNL",
           53,
           "2020-05-23"
          ],
          [
           "MR EZPAY UNL",
           51,
           "2020-05-30"
          ],
          [
           "MR EZPAY UNL",
           52,
           "2020-06-06"
          ],
          [
           "MR EZPAY UNL",
           77,
           "2020-06-13"
          ],
          [
           "MR EZPAY UNL",
           88,
           "2020-06-20"
          ],
          [
           "MR EZPAY UNL",
           96,
           "2020-06-27"
          ],
          [
           "MR EZPAY UNL",
           69,
           "2020-07-04"
          ],
          [
           "MR EZPAY UNL",
           89,
           "2020-07-11"
          ],
          [
           "MR EZPAY UNL",
           84,
           "2020-07-18"
          ],
          [
           "MR EZPAY UNL",
           111,
           "2020-07-25"
          ],
          [
           "MR EZPAY UNL",
           124,
           "2020-08-01"
          ],
          [
           "MR EZPAY UNL",
           119,
           "2020-08-08"
          ],
          [
           "MR EZPAY UNL",
           124,
           "2020-08-15"
          ],
          [
           "MR EZPAY UNL",
           143,
           "2020-08-22"
          ],
          [
           "MR EZPAY UNL",
           136,
           "2020-08-29"
          ],
          [
           "MR EZPAY UNL",
           114,
           "2020-09-05"
          ],
          [
           "MR EZPAY UNL",
           108,
           "2020-09-12"
          ],
          [
           "MR EZPAY UNL",
           97,
           "2020-09-19"
          ],
          [
           "MR EZPAY UNL",
           126,
           "2020-09-26"
          ],
          [
           "MR EZPAY UNL",
           139,
           "2020-10-03"
          ],
          [
           "MR EZPAY UNL",
           118,
           "2020-10-10"
          ],
          [
           "MR EZPAY UNL",
           108,
           "2020-10-17"
          ],
          [
           "MR EZPAY UNL",
           123,
           "2020-10-24"
          ],
          [
           "MR EZPAY UNL",
           111,
           "2020-10-31"
          ],
          [
           "MR EZPAY UNL",
           104,
           "2020-11-07"
          ],
          [
           "MR EZPAY UNL",
           115,
           "2020-11-14"
          ],
          [
           "MR EZPAY UNL",
           114,
           "2020-11-21"
          ],
          [
           "MR EZPAY UNL",
           62,
           "2020-11-28"
          ],
          [
           "MR EZPAY UNL",
           86,
           "2020-12-05"
          ],
          [
           "MR EZPAY UNL",
           85,
           "2020-12-12"
          ],
          [
           "MR EZPAY UNL",
           78,
           "2020-12-19"
          ],
          [
           "MR EZPAY UNL",
           65,
           "2020-12-26"
          ],
          [
           "MR EZPAY UNL",
           64,
           "2021-01-02"
          ],
          [
           "MR EZPAY UNL",
           88,
           "2021-01-09"
          ],
          [
           "MR EZPAY UNL",
           101,
           "2021-01-16"
          ],
          [
           "MR EZPAY UNL",
           94,
           "2021-01-23"
          ],
          [
           "MR EZPAY UNL",
           80,
           "2021-01-30"
          ],
          [
           "MR EZPAY UNL",
           79,
           "2021-02-06"
          ],
          [
           "MR EZPAY UNL",
           91,
           "2021-02-13"
          ],
          [
           "MR EZPAY UNL",
           76,
           "2021-02-20"
          ],
          [
           "MR EZPAY UNL",
           100,
           "2021-02-27"
          ],
          [
           "MR EZPAY UNL",
           98,
           "2021-03-06"
          ],
          [
           "MR EZPAY UNL",
           110,
           "2021-03-13"
          ]
         ],
         "hovertemplate": "<b>MetroCard Type: %{customdata[0]}</b> <br>MetroCard Swipes: %{customdata[1]:,} <br>Week Ending: %{customdata[2]}<extra></extra>",
         "legendgroup": "MR EZPAY UNL",
         "line": {
          "color": "rgb(221,132,82)"
         },
         "mode": "lines",
         "name": "MR EZPAY UNL",
         "orientation": "v",
         "showlegend": true,
         "stackgroup": "1",
         "type": "scatter",
         "x": [
          "2020-01-04",
          "2020-01-11",
          "2020-01-18",
          "2020-01-25",
          "2020-02-01",
          "2020-02-08",
          "2020-02-15",
          "2020-02-22",
          "2020-02-29",
          "2020-03-07",
          "2020-03-14",
          "2020-03-21",
          "2020-03-28",
          "2020-04-04",
          "2020-04-11",
          "2020-04-18",
          "2020-04-25",
          "2020-05-02",
          "2020-05-09",
          "2020-05-16",
          "2020-05-23",
          "2020-05-30",
          "2020-06-06",
          "2020-06-13",
          "2020-06-20",
          "2020-06-27",
          "2020-07-04",
          "2020-07-11",
          "2020-07-18",
          "2020-07-25",
          "2020-08-01",
          "2020-08-08",
          "2020-08-15",
          "2020-08-22",
          "2020-08-29",
          "2020-09-05",
          "2020-09-12",
          "2020-09-19",
          "2020-09-26",
          "2020-10-03",
          "2020-10-10",
          "2020-10-17",
          "2020-10-24",
          "2020-10-31",
          "2020-11-07",
          "2020-11-14",
          "2020-11-21",
          "2020-11-28",
          "2020-12-05",
          "2020-12-12",
          "2020-12-19",
          "2020-12-26",
          "2021-01-02",
          "2021-01-09",
          "2021-01-16",
          "2021-01-23",
          "2021-01-30",
          "2021-02-06",
          "2021-02-13",
          "2021-02-20",
          "2021-02-27",
          "2021-03-06",
          "2021-03-13"
         ],
         "xaxis": "x",
         "y": [
          461,
          877,
          883,
          728,
          848,
          871,
          856,
          745,
          839,
          783,
          687,
          207,
          80,
          50,
          45,
          31,
          30,
          36,
          44,
          44,
          53,
          51,
          52,
          77,
          88,
          96,
          69,
          89,
          84,
          111,
          124,
          119,
          124,
          143,
          136,
          114,
          108,
          97,
          126,
          139,
          118,
          108,
          123,
          111,
          104,
          115,
          114,
          62,
          86,
          85,
          78,
          65,
          64,
          88,
          101,
          94,
          80,
          79,
          91,
          76,
          100,
          98,
          110
         ],
         "yaxis": "y"
        },
        {
         "customdata": [
          [
           "7-D AFAS UNL",
           408,
           "2020-01-04"
          ],
          [
           "7-D AFAS UNL",
           489,
           "2020-01-11"
          ],
          [
           "7-D AFAS UNL",
           489,
           "2020-01-18"
          ],
          [
           "7-D AFAS UNL",
           435,
           "2020-01-25"
          ],
          [
           "7-D AFAS UNL",
           492,
           "2020-02-01"
          ],
          [
           "7-D AFAS UNL",
           499,
           "2020-02-08"
          ],
          [
           "7-D AFAS UNL",
           475,
           "2020-02-15"
          ],
          [
           "7-D AFAS UNL",
           433,
           "2020-02-22"
          ],
          [
           "7-D AFAS UNL",
           474,
           "2020-02-29"
          ],
          [
           "7-D AFAS UNL",
           463,
           "2020-03-07"
          ],
          [
           "7-D AFAS UNL",
           496,
           "2020-03-14"
          ],
          [
           "7-D AFAS UNL",
           246,
           "2020-03-21"
          ],
          [
           "7-D AFAS UNL",
           130,
           "2020-03-28"
          ],
          [
           "7-D AFAS UNL",
           89,
           "2020-04-04"
          ],
          [
           "7-D AFAS UNL",
           74,
           "2020-04-11"
          ],
          [
           "7-D AFAS UNL",
           52,
           "2020-04-18"
          ],
          [
           "7-D AFAS UNL",
           63,
           "2020-04-25"
          ],
          [
           "7-D AFAS UNL",
           59,
           "2020-05-02"
          ],
          [
           "7-D AFAS UNL",
           59,
           "2020-05-09"
          ],
          [
           "7-D AFAS UNL",
           68,
           "2020-05-16"
          ],
          [
           "7-D AFAS UNL",
           66,
           "2020-05-23"
          ],
          [
           "7-D AFAS UNL",
           71,
           "2020-05-30"
          ],
          [
           "7-D AFAS UNL",
           58,
           "2020-06-06"
          ],
          [
           "7-D AFAS UNL",
           56,
           "2020-06-13"
          ],
          [
           "7-D AFAS UNL",
           92,
           "2020-06-20"
          ],
          [
           "7-D AFAS UNL",
           61,
           "2020-06-27"
          ],
          [
           "7-D AFAS UNL",
           62,
           "2020-07-04"
          ],
          [
           "7-D AFAS UNL",
           100,
           "2020-07-11"
          ],
          [
           "7-D AFAS UNL",
           106,
           "2020-07-18"
          ],
          [
           "7-D AFAS UNL",
           111,
           "2020-07-25"
          ],
          [
           "7-D AFAS UNL",
           112,
           "2020-08-01"
          ],
          [
           "7-D AFAS UNL",
           98,
           "2020-08-08"
          ],
          [
           "7-D AFAS UNL",
           103,
           "2020-08-15"
          ],
          [
           "7-D AFAS UNL",
           100,
           "2020-08-22"
          ],
          [
           "7-D AFAS UNL",
           122,
           "2020-08-29"
          ],
          [
           "7-D AFAS UNL",
           179,
           "2020-09-05"
          ],
          [
           "7-D AFAS UNL",
           198,
           "2020-09-12"
          ],
          [
           "7-D AFAS UNL",
           208,
           "2020-09-19"
          ],
          [
           "7-D AFAS UNL",
           207,
           "2020-09-26"
          ],
          [
           "7-D AFAS UNL",
           208,
           "2020-10-03"
          ],
          [
           "7-D AFAS UNL",
           230,
           "2020-10-10"
          ],
          [
           "7-D AFAS UNL",
           211,
           "2020-10-17"
          ],
          [
           "7-D AFAS UNL",
           206,
           "2020-10-24"
          ],
          [
           "7-D AFAS UNL",
           194,
           "2020-10-31"
          ],
          [
           "7-D AFAS UNL",
           200,
           "2020-11-07"
          ],
          [
           "7-D AFAS UNL",
           193,
           "2020-11-14"
          ],
          [
           "7-D AFAS UNL",
           202,
           "2020-11-21"
          ],
          [
           "7-D AFAS UNL",
           153,
           "2020-11-28"
          ],
          [
           "7-D AFAS UNL",
           213,
           "2020-12-05"
          ],
          [
           "7-D AFAS UNL",
           231,
           "2020-12-12"
          ],
          [
           "7-D AFAS UNL",
           188,
           "2020-12-19"
          ],
          [
           "7-D AFAS UNL",
           199,
           "2020-12-26"
          ],
          [
           "7-D AFAS UNL",
           201,
           "2021-01-02"
          ],
          [
           "7-D AFAS UNL",
           203,
           "2021-01-09"
          ],
          [
           "7-D AFAS UNL",
           209,
           "2021-01-16"
          ],
          [
           "7-D AFAS UNL",
           196,
           "2021-01-23"
          ],
          [
           "7-D AFAS UNL",
           182,
           "2021-01-30"
          ],
          [
           "7-D AFAS UNL",
           147,
           "2021-02-06"
          ],
          [
           "7-D AFAS UNL",
           198,
           "2021-02-13"
          ],
          [
           "7-D AFAS UNL",
           184,
           "2021-02-20"
          ],
          [
           "7-D AFAS UNL",
           190,
           "2021-02-27"
          ],
          [
           "7-D AFAS UNL",
           188,
           "2021-03-06"
          ],
          [
           "7-D AFAS UNL",
           232,
           "2021-03-13"
          ]
         ],
         "hovertemplate": "<b>MetroCard Type: %{customdata[0]}</b> <br>MetroCard Swipes: %{customdata[1]:,} <br>Week Ending: %{customdata[2]}<extra></extra>",
         "legendgroup": "7-D AFAS UNL",
         "line": {
          "color": "rgb(85,168,104)"
         },
         "mode": "lines",
         "name": "7-D AFAS UNL",
         "orientation": "v",
         "showlegend": true,
         "stackgroup": "1",
         "type": "scatter",
         "x": [
          "2020-01-04",
          "2020-01-11",
          "2020-01-18",
          "2020-01-25",
          "2020-02-01",
          "2020-02-08",
          "2020-02-15",
          "2020-02-22",
          "2020-02-29",
          "2020-03-07",
          "2020-03-14",
          "2020-03-21",
          "2020-03-28",
          "2020-04-04",
          "2020-04-11",
          "2020-04-18",
          "2020-04-25",
          "2020-05-02",
          "2020-05-09",
          "2020-05-16",
          "2020-05-23",
          "2020-05-30",
          "2020-06-06",
          "2020-06-13",
          "2020-06-20",
          "2020-06-27",
          "2020-07-04",
          "2020-07-11",
          "2020-07-18",
          "2020-07-25",
          "2020-08-01",
          "2020-08-08",
          "2020-08-15",
          "2020-08-22",
          "2020-08-29",
          "2020-09-05",
          "2020-09-12",
          "2020-09-19",
          "2020-09-26",
          "2020-10-03",
          "2020-10-10",
          "2020-10-17",
          "2020-10-24",
          "2020-10-31",
          "2020-11-07",
          "2020-11-14",
          "2020-11-21",
          "2020-11-28",
          "2020-12-05",
          "2020-12-12",
          "2020-12-19",
          "2020-12-26",
          "2021-01-02",
          "2021-01-09",
          "2021-01-16",
          "2021-01-23",
          "2021-01-30",
          "2021-02-06",
          "2021-02-13",
          "2021-02-20",
          "2021-02-27",
          "2021-03-06",
          "2021-03-13"
         ],
         "xaxis": "x",
         "y": [
          408,
          489,
          489,
          435,
          492,
          499,
          475,
          433,
          474,
          463,
          496,
          246,
          130,
          89,
          74,
          52,
          63,
          59,
          59,
          68,
          66,
          71,
          58,
          56,
          92,
          61,
          62,
          100,
          106,
          111,
          112,
          98,
          103,
          100,
          122,
          179,
          198,
          208,
          207,
          208,
          230,
          211,
          206,
          194,
          200,
          193,
          202,
          153,
          213,
          231,
          188,
          199,
          201,
          203,
          209,
          196,
          182,
          147,
          198,
          184,
          190,
          188,
          232
         ],
         "yaxis": "y"
        },
        {
         "customdata": [
          [
           "TCMC",
           491,
           "2020-01-04"
          ],
          [
           "TCMC",
           858,
           "2020-01-11"
          ],
          [
           "TCMC",
           875,
           "2020-01-18"
          ],
          [
           "TCMC",
           679,
           "2020-01-25"
          ],
          [
           "TCMC",
           791,
           "2020-02-01"
          ],
          [
           "TCMC",
           816,
           "2020-02-08"
          ],
          [
           "TCMC",
           817,
           "2020-02-15"
          ],
          [
           "TCMC",
           633,
           "2020-02-22"
          ],
          [
           "TCMC",
           824,
           "2020-02-29"
          ],
          [
           "TCMC",
           755,
           "2020-03-07"
          ],
          [
           "TCMC",
           555,
           "2020-03-14"
          ],
          [
           "TCMC",
           109,
           "2020-03-21"
          ],
          [
           "TCMC",
           37,
           "2020-03-28"
          ],
          [
           "TCMC",
           23,
           "2020-04-04"
          ],
          [
           "TCMC",
           15,
           "2020-04-11"
          ],
          [
           "TCMC",
           14,
           "2020-04-18"
          ],
          [
           "TCMC",
           19,
           "2020-04-25"
          ],
          [
           "TCMC",
           19,
           "2020-05-02"
          ],
          [
           "TCMC",
           20,
           "2020-05-09"
          ],
          [
           "TCMC",
           39,
           "2020-05-16"
          ],
          [
           "TCMC",
           33,
           "2020-05-23"
          ],
          [
           "TCMC",
           29,
           "2020-05-30"
          ],
          [
           "TCMC",
           26,
           "2020-06-06"
          ],
          [
           "TCMC",
           37,
           "2020-06-13"
          ],
          [
           "TCMC",
           45,
           "2020-06-20"
          ],
          [
           "TCMC",
           58,
           "2020-06-27"
          ],
          [
           "TCMC",
           57,
           "2020-07-04"
          ],
          [
           "TCMC",
           63,
           "2020-07-11"
          ],
          [
           "TCMC",
           67,
           "2020-07-18"
          ],
          [
           "TCMC",
           99,
           "2020-07-25"
          ],
          [
           "TCMC",
           86,
           "2020-08-01"
          ],
          [
           "TCMC",
           92,
           "2020-08-08"
          ],
          [
           "TCMC",
           102,
           "2020-08-15"
          ],
          [
           "TCMC",
           102,
           "2020-08-22"
          ],
          [
           "TCMC",
           130,
           "2020-08-29"
          ],
          [
           "TCMC",
           101,
           "2020-09-05"
          ],
          [
           "TCMC",
           101,
           "2020-09-12"
          ],
          [
           "TCMC",
           104,
           "2020-09-19"
          ],
          [
           "TCMC",
           93,
           "2020-09-26"
          ],
          [
           "TCMC",
           80,
           "2020-10-03"
          ],
          [
           "TCMC",
           93,
           "2020-10-10"
          ],
          [
           "TCMC",
           100,
           "2020-10-17"
          ],
          [
           "TCMC",
           101,
           "2020-10-24"
          ],
          [
           "TCMC",
           111,
           "2020-10-31"
          ],
          [
           "TCMC",
           83,
           "2020-11-07"
          ],
          [
           "TCMC",
           102,
           "2020-11-14"
          ],
          [
           "TCMC",
           106,
           "2020-11-21"
          ],
          [
           "TCMC",
           57,
           "2020-11-28"
          ],
          [
           "TCMC",
           99,
           "2020-12-05"
          ],
          [
           "TCMC",
           91,
           "2020-12-12"
          ],
          [
           "TCMC",
           85,
           "2020-12-19"
          ],
          [
           "TCMC",
           69,
           "2020-12-26"
          ],
          [
           "TCMC",
           54,
           "2021-01-02"
          ],
          [
           "TCMC",
           80,
           "2021-01-09"
          ],
          [
           "TCMC",
           87,
           "2021-01-16"
          ],
          [
           "TCMC",
           79,
           "2021-01-23"
          ],
          [
           "TCMC",
           83,
           "2021-01-30"
          ],
          [
           "TCMC",
           61,
           "2021-02-06"
          ],
          [
           "TCMC",
           93,
           "2021-02-13"
          ],
          [
           "TCMC",
           53,
           "2021-02-20"
          ],
          [
           "TCMC",
           87,
           "2021-02-27"
          ],
          [
           "TCMC",
           86,
           "2021-03-06"
          ],
          [
           "TCMC",
           81,
           "2021-03-13"
          ]
         ],
         "hovertemplate": "<b>MetroCard Type: %{customdata[0]}</b> <br>MetroCard Swipes: %{customdata[1]:,} <br>Week Ending: %{customdata[2]}<extra></extra>",
         "legendgroup": "TCMC",
         "line": {
          "color": "rgb(196,78,82)"
         },
         "mode": "lines",
         "name": "TCMC",
         "orientation": "v",
         "showlegend": true,
         "stackgroup": "1",
         "type": "scatter",
         "x": [
          "2020-01-04",
          "2020-01-11",
          "2020-01-18",
          "2020-01-25",
          "2020-02-01",
          "2020-02-08",
          "2020-02-15",
          "2020-02-22",
          "2020-02-29",
          "2020-03-07",
          "2020-03-14",
          "2020-03-21",
          "2020-03-28",
          "2020-04-04",
          "2020-04-11",
          "2020-04-18",
          "2020-04-25",
          "2020-05-02",
          "2020-05-09",
          "2020-05-16",
          "2020-05-23",
          "2020-05-30",
          "2020-06-06",
          "2020-06-13",
          "2020-06-20",
          "2020-06-27",
          "2020-07-04",
          "2020-07-11",
          "2020-07-18",
          "2020-07-25",
          "2020-08-01",
          "2020-08-08",
          "2020-08-15",
          "2020-08-22",
          "2020-08-29",
          "2020-09-05",
          "2020-09-12",
          "2020-09-19",
          "2020-09-26",
          "2020-10-03",
          "2020-10-10",
          "2020-10-17",
          "2020-10-24",
          "2020-10-31",
          "2020-11-07",
          "2020-11-14",
          "2020-11-21",
          "2020-11-28",
          "2020-12-05",
          "2020-12-12",
          "2020-12-19",
          "2020-12-26",
          "2021-01-02",
          "2021-01-09",
          "2021-01-16",
          "2021-01-23",
          "2021-01-30",
          "2021-02-06",
          "2021-02-13",
          "2021-02-20",
          "2021-02-27",
          "2021-03-06",
          "2021-03-13"
         ],
         "xaxis": "x",
         "y": [
          491,
          858,
          875,
          679,
          791,
          816,
          817,
          633,
          824,
          755,
          555,
          109,
          37,
          23,
          15,
          14,
          19,
          19,
          20,
          39,
          33,
          29,
          26,
          37,
          45,
          58,
          57,
          63,
          67,
          99,
          86,
          92,
          102,
          102,
          130,
          101,
          101,
          104,
          93,
          80,
          93,
          100,
          101,
          111,
          83,
          102,
          106,
          57,
          99,
          91,
          85,
          69,
          54,
          80,
          87,
          79,
          83,
          61,
          93,
          53,
          87,
          86,
          81
         ],
         "yaxis": "y"
        },
        {
         "customdata": [
          [
           "FF 30-DAY",
           258,
           "2020-01-04"
          ],
          [
           "FF 30-DAY",
           345,
           "2020-01-11"
          ],
          [
           "FF 30-DAY",
           329,
           "2020-01-18"
          ],
          [
           "FF 30-DAY",
           315,
           "2020-01-25"
          ],
          [
           "FF 30-DAY",
           373,
           "2020-02-01"
          ],
          [
           "FF 30-DAY",
           405,
           "2020-02-08"
          ],
          [
           "FF 30-DAY",
           412,
           "2020-02-15"
          ],
          [
           "FF 30-DAY",
           431,
           "2020-02-22"
          ],
          [
           "FF 30-DAY",
           469,
           "2020-02-29"
          ],
          [
           "FF 30-DAY",
           488,
           "2020-03-07"
          ],
          [
           "FF 30-DAY",
           485,
           "2020-03-14"
          ],
          [
           "FF 30-DAY",
           249,
           "2020-03-21"
          ],
          [
           "FF 30-DAY",
           97,
           "2020-03-28"
          ],
          [
           "FF 30-DAY",
           67,
           "2020-04-04"
          ],
          [
           "FF 30-DAY",
           55,
           "2020-04-11"
          ],
          [
           "FF 30-DAY",
           51,
           "2020-04-18"
          ],
          [
           "FF 30-DAY",
           39,
           "2020-04-25"
          ],
          [
           "FF 30-DAY",
           56,
           "2020-05-02"
          ],
          [
           "FF 30-DAY",
           50,
           "2020-05-09"
          ],
          [
           "FF 30-DAY",
           45,
           "2020-05-16"
          ],
          [
           "FF 30-DAY",
           55,
           "2020-05-23"
          ],
          [
           "FF 30-DAY",
           65,
           "2020-05-30"
          ],
          [
           "FF 30-DAY",
           74,
           "2020-06-06"
          ],
          [
           "FF 30-DAY",
           78,
           "2020-06-13"
          ],
          [
           "FF 30-DAY",
           88,
           "2020-06-20"
          ],
          [
           "FF 30-DAY",
           107,
           "2020-06-27"
          ],
          [
           "FF 30-DAY",
           112,
           "2020-07-04"
          ],
          [
           "FF 30-DAY",
           123,
           "2020-07-11"
          ],
          [
           "FF 30-DAY",
           133,
           "2020-07-18"
          ],
          [
           "FF 30-DAY",
           139,
           "2020-07-25"
          ],
          [
           "FF 30-DAY",
           135,
           "2020-08-01"
          ],
          [
           "FF 30-DAY",
           135,
           "2020-08-08"
          ],
          [
           "FF 30-DAY",
           125,
           "2020-08-15"
          ],
          [
           "FF 30-DAY",
           121,
           "2020-08-22"
          ],
          [
           "FF 30-DAY",
           152,
           "2020-08-29"
          ],
          [
           "FF 30-DAY",
           144,
           "2020-09-05"
          ],
          [
           "FF 30-DAY",
           147,
           "2020-09-12"
          ],
          [
           "FF 30-DAY",
           162,
           "2020-09-19"
          ],
          [
           "FF 30-DAY",
           159,
           "2020-09-26"
          ],
          [
           "FF 30-DAY",
           166,
           "2020-10-03"
          ],
          [
           "FF 30-DAY",
           166,
           "2020-10-10"
          ],
          [
           "FF 30-DAY",
           140,
           "2020-10-17"
          ],
          [
           "FF 30-DAY",
           159,
           "2020-10-24"
          ],
          [
           "FF 30-DAY",
           157,
           "2020-10-31"
          ],
          [
           "FF 30-DAY",
           168,
           "2020-11-07"
          ],
          [
           "FF 30-DAY",
           173,
           "2020-11-14"
          ],
          [
           "FF 30-DAY",
           163,
           "2020-11-21"
          ],
          [
           "FF 30-DAY",
           142,
           "2020-11-28"
          ],
          [
           "FF 30-DAY",
           150,
           "2020-12-05"
          ],
          [
           "FF 30-DAY",
           157,
           "2020-12-12"
          ],
          [
           "FF 30-DAY",
           143,
           "2020-12-19"
          ],
          [
           "FF 30-DAY",
           125,
           "2020-12-26"
          ],
          [
           "FF 30-DAY",
           124,
           "2021-01-02"
          ],
          [
           "FF 30-DAY",
           142,
           "2021-01-09"
          ],
          [
           "FF 30-DAY",
           142,
           "2021-01-16"
          ],
          [
           "FF 30-DAY",
           139,
           "2021-01-23"
          ],
          [
           "FF 30-DAY",
           152,
           "2021-01-30"
          ],
          [
           "FF 30-DAY",
           104,
           "2021-02-06"
          ],
          [
           "FF 30-DAY",
           120,
           "2021-02-13"
          ],
          [
           "FF 30-DAY",
           123,
           "2021-02-20"
          ],
          [
           "FF 30-DAY",
           152,
           "2021-02-27"
          ],
          [
           "FF 30-DAY",
           183,
           "2021-03-06"
          ],
          [
           "FF 30-DAY",
           168,
           "2021-03-13"
          ]
         ],
         "hovertemplate": "<b>MetroCard Type: %{customdata[0]}</b> <br>MetroCard Swipes: %{customdata[1]:,} <br>Week Ending: %{customdata[2]}<extra></extra>",
         "legendgroup": "FF 30-DAY",
         "line": {
          "color": "rgb(129,114,179)"
         },
         "mode": "lines",
         "name": "FF 30-DAY",
         "orientation": "v",
         "showlegend": true,
         "stackgroup": "1",
         "type": "scatter",
         "x": [
          "2020-01-04",
          "2020-01-11",
          "2020-01-18",
          "2020-01-25",
          "2020-02-01",
          "2020-02-08",
          "2020-02-15",
          "2020-02-22",
          "2020-02-29",
          "2020-03-07",
          "2020-03-14",
          "2020-03-21",
          "2020-03-28",
          "2020-04-04",
          "2020-04-11",
          "2020-04-18",
          "2020-04-25",
          "2020-05-02",
          "2020-05-09",
          "2020-05-16",
          "2020-05-23",
          "2020-05-30",
          "2020-06-06",
          "2020-06-13",
          "2020-06-20",
          "2020-06-27",
          "2020-07-04",
          "2020-07-11",
          "2020-07-18",
          "2020-07-25",
          "2020-08-01",
          "2020-08-08",
          "2020-08-15",
          "2020-08-22",
          "2020-08-29",
          "2020-09-05",
          "2020-09-12",
          "2020-09-19",
          "2020-09-26",
          "2020-10-03",
          "2020-10-10",
          "2020-10-17",
          "2020-10-24",
          "2020-10-31",
          "2020-11-07",
          "2020-11-14",
          "2020-11-21",
          "2020-11-28",
          "2020-12-05",
          "2020-12-12",
          "2020-12-19",
          "2020-12-26",
          "2021-01-02",
          "2021-01-09",
          "2021-01-16",
          "2021-01-23",
          "2021-01-30",
          "2021-02-06",
          "2021-02-13",
          "2021-02-20",
          "2021-02-27",
          "2021-03-06",
          "2021-03-13"
         ],
         "xaxis": "x",
         "y": [
          258,
          345,
          329,
          315,
          373,
          405,
          412,
          431,
          469,
          488,
          485,
          249,
          97,
          67,
          55,
          51,
          39,
          56,
          50,
          45,
          55,
          65,
          74,
          78,
          88,
          107,
          112,
          123,
          133,
          139,
          135,
          135,
          125,
          121,
          152,
          144,
          147,
          162,
          159,
          166,
          166,
          140,
          159,
          157,
          168,
          173,
          163,
          142,
          150,
          157,
          143,
          125,
          124,
          142,
          142,
          139,
          152,
          104,
          120,
          123,
          152,
          183,
          168
         ],
         "yaxis": "y"
        },
        {
         "customdata": [
          [
           "RF 2 TRIP",
           798,
           "2020-01-04"
          ],
          [
           "RF 2 TRIP",
           790,
           "2020-01-11"
          ],
          [
           "RF 2 TRIP",
           755,
           "2020-01-18"
          ],
          [
           "RF 2 TRIP",
           630,
           "2020-01-25"
          ],
          [
           "RF 2 TRIP",
           760,
           "2020-02-01"
          ],
          [
           "RF 2 TRIP",
           732,
           "2020-02-08"
          ],
          [
           "RF 2 TRIP",
           665,
           "2020-02-15"
          ],
          [
           "RF 2 TRIP",
           735,
           "2020-02-22"
          ],
          [
           "RF 2 TRIP",
           652,
           "2020-02-29"
          ],
          [
           "RF 2 TRIP",
           645,
           "2020-03-07"
          ],
          [
           "RF 2 TRIP",
           549,
           "2020-03-14"
          ],
          [
           "RF 2 TRIP",
           283,
           "2020-03-21"
          ],
          [
           "RF 2 TRIP",
           189,
           "2020-03-28"
          ],
          [
           "RF 2 TRIP",
           195,
           "2020-04-04"
          ],
          [
           "RF 2 TRIP",
           174,
           "2020-04-11"
          ],
          [
           "RF 2 TRIP",
           37,
           "2020-04-18"
          ],
          [
           "RF 2 TRIP",
           15,
           "2020-04-25"
          ],
          [
           "RF 2 TRIP",
           14,
           "2020-05-02"
          ],
          [
           "RF 2 TRIP",
           20,
           "2020-05-09"
          ],
          [
           "RF 2 TRIP",
           17,
           "2020-05-16"
          ],
          [
           "RF 2 TRIP",
           9,
           "2020-05-23"
          ],
          [
           "RF 2 TRIP",
           3,
           "2020-05-30"
          ],
          [
           "RF 2 TRIP",
           12,
           "2020-06-06"
          ],
          [
           "RF 2 TRIP",
           15,
           "2020-06-13"
          ],
          [
           "RF 2 TRIP",
           16,
           "2020-06-20"
          ],
          [
           "RF 2 TRIP",
           10,
           "2020-06-27"
          ],
          [
           "RF 2 TRIP",
           10,
           "2020-07-04"
          ],
          [
           "RF 2 TRIP",
           11,
           "2020-07-11"
          ],
          [
           "RF 2 TRIP",
           19,
           "2020-07-18"
          ],
          [
           "RF 2 TRIP",
           18,
           "2020-07-25"
          ],
          [
           "RF 2 TRIP",
           22,
           "2020-08-01"
          ],
          [
           "RF 2 TRIP",
           22,
           "2020-08-08"
          ],
          [
           "RF 2 TRIP",
           25,
           "2020-08-15"
          ],
          [
           "RF 2 TRIP",
           20,
           "2020-08-22"
          ],
          [
           "RF 2 TRIP",
           9,
           "2020-08-29"
          ],
          [
           "RF 2 TRIP",
           18,
           "2020-09-05"
          ],
          [
           "RF 2 TRIP",
           6,
           "2020-09-12"
          ],
          [
           "RF 2 TRIP",
           4,
           "2020-09-19"
          ],
          [
           "RF 2 TRIP",
           6,
           "2020-09-26"
          ],
          [
           "RF 2 TRIP",
           11,
           "2020-10-03"
          ],
          [
           "RF 2 TRIP",
           5,
           "2020-10-10"
          ],
          [
           "RF 2 TRIP",
           6,
           "2020-10-17"
          ],
          [
           "RF 2 TRIP",
           8,
           "2020-10-24"
          ],
          [
           "RF 2 TRIP",
           3,
           "2020-10-31"
          ],
          [
           "RF 2 TRIP",
           5,
           "2020-11-07"
          ],
          [
           "RF 2 TRIP",
           2,
           "2020-11-14"
          ],
          [
           "RF 2 TRIP",
           5,
           "2020-11-21"
          ],
          [
           "RF 2 TRIP",
           2,
           "2020-11-28"
          ],
          [
           "RF 2 TRIP",
           3,
           "2020-12-05"
          ],
          [
           "RF 2 TRIP",
           2,
           "2020-12-12"
          ],
          [
           "RF 2 TRIP",
           2,
           "2020-12-19"
          ],
          [
           "RF 2 TRIP",
           0,
           "2020-12-26"
          ],
          [
           "RF 2 TRIP",
           4,
           "2021-01-02"
          ],
          [
           "RF 2 TRIP",
           2,
           "2021-01-09"
          ],
          [
           "RF 2 TRIP",
           2,
           "2021-01-16"
          ],
          [
           "RF 2 TRIP",
           2,
           "2021-01-23"
          ],
          [
           "RF 2 TRIP",
           2,
           "2021-01-30"
          ],
          [
           "RF 2 TRIP",
           3,
           "2021-02-06"
          ],
          [
           "RF 2 TRIP",
           3,
           "2021-02-13"
          ],
          [
           "RF 2 TRIP",
           0,
           "2021-02-20"
          ],
          [
           "RF 2 TRIP",
           0,
           "2021-02-27"
          ],
          [
           "RF 2 TRIP",
           2,
           "2021-03-06"
          ],
          [
           "RF 2 TRIP",
           0,
           "2021-03-13"
          ]
         ],
         "hovertemplate": "<b>MetroCard Type: %{customdata[0]}</b> <br>MetroCard Swipes: %{customdata[1]:,} <br>Week Ending: %{customdata[2]}<extra></extra>",
         "legendgroup": "RF 2 TRIP",
         "line": {
          "color": "rgb(147,120,96)"
         },
         "mode": "lines",
         "name": "RF 2 TRIP",
         "orientation": "v",
         "showlegend": true,
         "stackgroup": "1",
         "type": "scatter",
         "x": [
          "2020-01-04",
          "2020-01-11",
          "2020-01-18",
          "2020-01-25",
          "2020-02-01",
          "2020-02-08",
          "2020-02-15",
          "2020-02-22",
          "2020-02-29",
          "2020-03-07",
          "2020-03-14",
          "2020-03-21",
          "2020-03-28",
          "2020-04-04",
          "2020-04-11",
          "2020-04-18",
          "2020-04-25",
          "2020-05-02",
          "2020-05-09",
          "2020-05-16",
          "2020-05-23",
          "2020-05-30",
          "2020-06-06",
          "2020-06-13",
          "2020-06-20",
          "2020-06-27",
          "2020-07-04",
          "2020-07-11",
          "2020-07-18",
          "2020-07-25",
          "2020-08-01",
          "2020-08-08",
          "2020-08-15",
          "2020-08-22",
          "2020-08-29",
          "2020-09-05",
          "2020-09-12",
          "2020-09-19",
          "2020-09-26",
          "2020-10-03",
          "2020-10-10",
          "2020-10-17",
          "2020-10-24",
          "2020-10-31",
          "2020-11-07",
          "2020-11-14",
          "2020-11-21",
          "2020-11-28",
          "2020-12-05",
          "2020-12-12",
          "2020-12-19",
          "2020-12-26",
          "2021-01-02",
          "2021-01-09",
          "2021-01-16",
          "2021-01-23",
          "2021-01-30",
          "2021-02-06",
          "2021-02-13",
          "2021-02-20",
          "2021-02-27",
          "2021-03-06",
          "2021-03-13"
         ],
         "xaxis": "x",
         "y": [
          798,
          790,
          755,
          630,
          760,
          732,
          665,
          735,
          652,
          645,
          549,
          283,
          189,
          195,
          174,
          37,
          15,
          14,
          20,
          17,
          9,
          3,
          12,
          15,
          16,
          10,
          10,
          11,
          19,
          18,
          22,
          22,
          25,
          20,
          9,
          18,
          6,
          4,
          6,
          11,
          5,
          6,
          8,
          3,
          5,
          2,
          5,
          2,
          3,
          2,
          2,
          0,
          4,
          2,
          2,
          2,
          2,
          3,
          3,
          0,
          0,
          2,
          0
         ],
         "yaxis": "y"
        },
        {
         "customdata": [
          [
           "7D-XBUS PASS",
           249,
           "2020-01-04"
          ],
          [
           "7D-XBUS PASS",
           481,
           "2020-01-11"
          ],
          [
           "7D-XBUS PASS",
           519,
           "2020-01-18"
          ],
          [
           "7D-XBUS PASS",
           458,
           "2020-01-25"
          ],
          [
           "7D-XBUS PASS",
           474,
           "2020-02-01"
          ],
          [
           "7D-XBUS PASS",
           524,
           "2020-02-08"
          ],
          [
           "7D-XBUS PASS",
           454,
           "2020-02-15"
          ],
          [
           "7D-XBUS PASS",
           405,
           "2020-02-22"
          ],
          [
           "7D-XBUS PASS",
           456,
           "2020-02-29"
          ],
          [
           "7D-XBUS PASS",
           440,
           "2020-03-07"
          ],
          [
           "7D-XBUS PASS",
           354,
           "2020-03-14"
          ],
          [
           "7D-XBUS PASS",
           113,
           "2020-03-21"
          ],
          [
           "7D-XBUS PASS",
           42,
           "2020-03-28"
          ],
          [
           "7D-XBUS PASS",
           26,
           "2020-04-04"
          ],
          [
           "7D-XBUS PASS",
           20,
           "2020-04-11"
          ],
          [
           "7D-XBUS PASS",
           17,
           "2020-04-18"
          ],
          [
           "7D-XBUS PASS",
           19,
           "2020-04-25"
          ],
          [
           "7D-XBUS PASS",
           20,
           "2020-05-02"
          ],
          [
           "7D-XBUS PASS",
           18,
           "2020-05-09"
          ],
          [
           "7D-XBUS PASS",
           15,
           "2020-05-16"
          ],
          [
           "7D-XBUS PASS",
           14,
           "2020-05-23"
          ],
          [
           "7D-XBUS PASS",
           7,
           "2020-05-30"
          ],
          [
           "7D-XBUS PASS",
           39,
           "2020-06-06"
          ],
          [
           "7D-XBUS PASS",
           28,
           "2020-06-13"
          ],
          [
           "7D-XBUS PASS",
           39,
           "2020-06-20"
          ],
          [
           "7D-XBUS PASS",
           52,
           "2020-06-27"
          ],
          [
           "7D-XBUS PASS",
           24,
           "2020-07-04"
          ],
          [
           "7D-XBUS PASS",
           36,
           "2020-07-11"
          ],
          [
           "7D-XBUS PASS",
           42,
           "2020-07-18"
          ],
          [
           "7D-XBUS PASS",
           38,
           "2020-07-25"
          ],
          [
           "7D-XBUS PASS",
           35,
           "2020-08-01"
          ],
          [
           "7D-XBUS PASS",
           43,
           "2020-08-08"
          ],
          [
           "7D-XBUS PASS",
           42,
           "2020-08-15"
          ],
          [
           "7D-XBUS PASS",
           57,
           "2020-08-22"
          ],
          [
           "7D-XBUS PASS",
           60,
           "2020-08-29"
          ],
          [
           "7D-XBUS PASS",
           57,
           "2020-09-05"
          ],
          [
           "7D-XBUS PASS",
           62,
           "2020-09-12"
          ],
          [
           "7D-XBUS PASS",
           77,
           "2020-09-19"
          ],
          [
           "7D-XBUS PASS",
           90,
           "2020-09-26"
          ],
          [
           "7D-XBUS PASS",
           67,
           "2020-10-03"
          ],
          [
           "7D-XBUS PASS",
           74,
           "2020-10-10"
          ],
          [
           "7D-XBUS PASS",
           69,
           "2020-10-17"
          ],
          [
           "7D-XBUS PASS",
           68,
           "2020-10-24"
          ],
          [
           "7D-XBUS PASS",
           59,
           "2020-10-31"
          ],
          [
           "7D-XBUS PASS",
           57,
           "2020-11-07"
          ],
          [
           "7D-XBUS PASS",
           64,
           "2020-11-14"
          ],
          [
           "7D-XBUS PASS",
           54,
           "2020-11-21"
          ],
          [
           "7D-XBUS PASS",
           33,
           "2020-11-28"
          ],
          [
           "7D-XBUS PASS",
           56,
           "2020-12-05"
          ],
          [
           "7D-XBUS PASS",
           80,
           "2020-12-12"
          ],
          [
           "7D-XBUS PASS",
           87,
           "2020-12-19"
          ],
          [
           "7D-XBUS PASS",
           38,
           "2020-12-26"
          ],
          [
           "7D-XBUS PASS",
           30,
           "2021-01-02"
          ],
          [
           "7D-XBUS PASS",
           56,
           "2021-01-09"
          ],
          [
           "7D-XBUS PASS",
           65,
           "2021-01-16"
          ],
          [
           "7D-XBUS PASS",
           63,
           "2021-01-23"
          ],
          [
           "7D-XBUS PASS",
           77,
           "2021-01-30"
          ],
          [
           "7D-XBUS PASS",
           60,
           "2021-02-06"
          ],
          [
           "7D-XBUS PASS",
           50,
           "2021-02-13"
          ],
          [
           "7D-XBUS PASS",
           48,
           "2021-02-20"
          ],
          [
           "7D-XBUS PASS",
           69,
           "2021-02-27"
          ],
          [
           "7D-XBUS PASS",
           61,
           "2021-03-06"
          ],
          [
           "7D-XBUS PASS",
           72,
           "2021-03-13"
          ]
         ],
         "hovertemplate": "<b>MetroCard Type: %{customdata[0]}</b> <br>MetroCard Swipes: %{customdata[1]:,} <br>Week Ending: %{customdata[2]}<extra></extra>",
         "legendgroup": "7D-XBUS PASS",
         "line": {
          "color": "rgb(218,139,195)"
         },
         "mode": "lines",
         "name": "7D-XBUS PASS",
         "orientation": "v",
         "showlegend": true,
         "stackgroup": "1",
         "type": "scatter",
         "x": [
          "2020-01-04",
          "2020-01-11",
          "2020-01-18",
          "2020-01-25",
          "2020-02-01",
          "2020-02-08",
          "2020-02-15",
          "2020-02-22",
          "2020-02-29",
          "2020-03-07",
          "2020-03-14",
          "2020-03-21",
          "2020-03-28",
          "2020-04-04",
          "2020-04-11",
          "2020-04-18",
          "2020-04-25",
          "2020-05-02",
          "2020-05-09",
          "2020-05-16",
          "2020-05-23",
          "2020-05-30",
          "2020-06-06",
          "2020-06-13",
          "2020-06-20",
          "2020-06-27",
          "2020-07-04",
          "2020-07-11",
          "2020-07-18",
          "2020-07-25",
          "2020-08-01",
          "2020-08-08",
          "2020-08-15",
          "2020-08-22",
          "2020-08-29",
          "2020-09-05",
          "2020-09-12",
          "2020-09-19",
          "2020-09-26",
          "2020-10-03",
          "2020-10-10",
          "2020-10-17",
          "2020-10-24",
          "2020-10-31",
          "2020-11-07",
          "2020-11-14",
          "2020-11-21",
          "2020-11-28",
          "2020-12-05",
          "2020-12-12",
          "2020-12-19",
          "2020-12-26",
          "2021-01-02",
          "2021-01-09",
          "2021-01-16",
          "2021-01-23",
          "2021-01-30",
          "2021-02-06",
          "2021-02-13",
          "2021-02-20",
          "2021-02-27",
          "2021-03-06",
          "2021-03-13"
         ],
         "xaxis": "x",
         "y": [
          249,
          481,
          519,
          458,
          474,
          524,
          454,
          405,
          456,
          440,
          354,
          113,
          42,
          26,
          20,
          17,
          19,
          20,
          18,
          15,
          14,
          7,
          39,
          28,
          39,
          52,
          24,
          36,
          42,
          38,
          35,
          43,
          42,
          57,
          60,
          57,
          62,
          77,
          90,
          67,
          74,
          69,
          68,
          59,
          57,
          64,
          54,
          33,
          56,
          80,
          87,
          38,
          30,
          56,
          65,
          63,
          77,
          60,
          50,
          48,
          69,
          61,
          72
         ],
         "yaxis": "y"
        },
        {
         "customdata": [
          [
           "CUNY-120",
           55,
           "2020-01-04"
          ],
          [
           "CUNY-120",
           37,
           "2020-01-11"
          ],
          [
           "CUNY-120",
           0,
           "2020-01-18"
          ],
          [
           "CUNY-120",
           0,
           "2020-01-25"
          ],
          [
           "CUNY-120",
           455,
           "2020-02-01"
          ],
          [
           "CUNY-120",
           643,
           "2020-02-08"
          ],
          [
           "CUNY-120",
           651,
           "2020-02-15"
          ],
          [
           "CUNY-120",
           631,
           "2020-02-22"
          ],
          [
           "CUNY-120",
           716,
           "2020-02-29"
          ],
          [
           "CUNY-120",
           722,
           "2020-03-07"
          ],
          [
           "CUNY-120",
           545,
           "2020-03-14"
          ],
          [
           "CUNY-120",
           141,
           "2020-03-21"
          ],
          [
           "CUNY-120",
           84,
           "2020-03-28"
          ],
          [
           "CUNY-120",
           57,
           "2020-04-04"
          ],
          [
           "CUNY-120",
           47,
           "2020-04-11"
          ],
          [
           "CUNY-120",
           45,
           "2020-04-18"
          ],
          [
           "CUNY-120",
           57,
           "2020-04-25"
          ],
          [
           "CUNY-120",
           58,
           "2020-05-02"
          ],
          [
           "CUNY-120",
           56,
           "2020-05-09"
          ],
          [
           "CUNY-120",
           53,
           "2020-05-16"
          ],
          [
           "CUNY-120",
           75,
           "2020-05-23"
          ],
          [
           "CUNY-120",
           32,
           "2020-05-30"
          ],
          [
           "CUNY-120",
           12,
           "2020-06-06"
          ],
          [
           "CUNY-120",
           16,
           "2020-06-13"
          ],
          [
           "CUNY-120",
           12,
           "2020-06-20"
          ],
          [
           "CUNY-120",
           6,
           "2020-06-27"
          ],
          [
           "CUNY-120",
           10,
           "2020-07-04"
          ],
          [
           "CUNY-120",
           0,
           "2020-07-11"
          ],
          [
           "CUNY-120",
           0,
           "2020-07-18"
          ],
          [
           "CUNY-120",
           0,
           "2020-07-25"
          ],
          [
           "CUNY-120",
           0,
           "2020-08-01"
          ],
          [
           "CUNY-120",
           0,
           "2020-08-08"
          ],
          [
           "CUNY-120",
           0,
           "2020-08-15"
          ],
          [
           "CUNY-120",
           0,
           "2020-08-22"
          ],
          [
           "CUNY-120",
           0,
           "2020-08-29"
          ],
          [
           "CUNY-120",
           0,
           "2020-09-05"
          ],
          [
           "CUNY-120",
           0,
           "2020-09-12"
          ],
          [
           "CUNY-120",
           0,
           "2020-09-19"
          ],
          [
           "CUNY-120",
           0,
           "2020-09-26"
          ],
          [
           "CUNY-120",
           0,
           "2020-10-03"
          ],
          [
           "CUNY-120",
           0,
           "2020-10-10"
          ],
          [
           "CUNY-120",
           0,
           "2020-10-17"
          ],
          [
           "CUNY-120",
           0,
           "2020-10-24"
          ],
          [
           "CUNY-120",
           0,
           "2020-10-31"
          ],
          [
           "CUNY-120",
           0,
           "2020-11-07"
          ],
          [
           "CUNY-120",
           0,
           "2020-11-14"
          ],
          [
           "CUNY-120",
           0,
           "2020-11-21"
          ],
          [
           "CUNY-120",
           0,
           "2020-11-28"
          ],
          [
           "CUNY-120",
           0,
           "2020-12-05"
          ],
          [
           "CUNY-120",
           0,
           "2020-12-12"
          ],
          [
           "CUNY-120",
           0,
           "2020-12-19"
          ],
          [
           "CUNY-120",
           0,
           "2020-12-26"
          ],
          [
           "CUNY-120",
           0,
           "2021-01-02"
          ],
          [
           "CUNY-120",
           0,
           "2021-01-09"
          ],
          [
           "CUNY-120",
           0,
           "2021-01-16"
          ],
          [
           "CUNY-120",
           0,
           "2021-01-23"
          ],
          [
           "CUNY-120",
           0,
           "2021-01-30"
          ],
          [
           "CUNY-120",
           0,
           "2021-02-06"
          ],
          [
           "CUNY-120",
           0,
           "2021-02-13"
          ],
          [
           "CUNY-120",
           0,
           "2021-02-20"
          ],
          [
           "CUNY-120",
           0,
           "2021-02-27"
          ],
          [
           "CUNY-120",
           0,
           "2021-03-06"
          ],
          [
           "CUNY-120",
           0,
           "2021-03-13"
          ]
         ],
         "hovertemplate": "<b>MetroCard Type: %{customdata[0]}</b> <br>MetroCard Swipes: %{customdata[1]:,} <br>Week Ending: %{customdata[2]}<extra></extra>",
         "legendgroup": "CUNY-120",
         "line": {
          "color": "rgb(140,140,140)"
         },
         "mode": "lines",
         "name": "CUNY-120",
         "orientation": "v",
         "showlegend": true,
         "stackgroup": "1",
         "type": "scatter",
         "x": [
          "2020-01-04",
          "2020-01-11",
          "2020-01-18",
          "2020-01-25",
          "2020-02-01",
          "2020-02-08",
          "2020-02-15",
          "2020-02-22",
          "2020-02-29",
          "2020-03-07",
          "2020-03-14",
          "2020-03-21",
          "2020-03-28",
          "2020-04-04",
          "2020-04-11",
          "2020-04-18",
          "2020-04-25",
          "2020-05-02",
          "2020-05-09",
          "2020-05-16",
          "2020-05-23",
          "2020-05-30",
          "2020-06-06",
          "2020-06-13",
          "2020-06-20",
          "2020-06-27",
          "2020-07-04",
          "2020-07-11",
          "2020-07-18",
          "2020-07-25",
          "2020-08-01",
          "2020-08-08",
          "2020-08-15",
          "2020-08-22",
          "2020-08-29",
          "2020-09-05",
          "2020-09-12",
          "2020-09-19",
          "2020-09-26",
          "2020-10-03",
          "2020-10-10",
          "2020-10-17",
          "2020-10-24",
          "2020-10-31",
          "2020-11-07",
          "2020-11-14",
          "2020-11-21",
          "2020-11-28",
          "2020-12-05",
          "2020-12-12",
          "2020-12-19",
          "2020-12-26",
          "2021-01-02",
          "2021-01-09",
          "2021-01-16",
          "2021-01-23",
          "2021-01-30",
          "2021-02-06",
          "2021-02-13",
          "2021-02-20",
          "2021-02-27",
          "2021-03-06",
          "2021-03-13"
         ],
         "xaxis": "x",
         "y": [
          55,
          37,
          0,
          0,
          455,
          643,
          651,
          631,
          716,
          722,
          545,
          141,
          84,
          57,
          47,
          45,
          57,
          58,
          56,
          53,
          75,
          32,
          12,
          16,
          12,
          6,
          10,
          0,
          0,
          0,
          0,
          0,
          0,
          0,
          0,
          0,
          0,
          0,
          0,
          0,
          0,
          0,
          0,
          0,
          0,
          0,
          0,
          0,
          0,
          0,
          0,
          0,
          0,
          0,
          0,
          0,
          0,
          0,
          0,
          0,
          0,
          0,
          0
         ],
         "yaxis": "y"
        },
        {
         "customdata": [
          [
           "RR UNL NO TRADE",
           211,
           "2020-01-04"
          ],
          [
           "RR UNL NO TRADE",
           380,
           "2020-01-11"
          ],
          [
           "RR UNL NO TRADE",
           390,
           "2020-01-18"
          ],
          [
           "RR UNL NO TRADE",
           319,
           "2020-01-25"
          ],
          [
           "RR UNL NO TRADE",
           391,
           "2020-02-01"
          ],
          [
           "RR UNL NO TRADE",
           362,
           "2020-02-08"
          ],
          [
           "RR UNL NO TRADE",
           381,
           "2020-02-15"
          ],
          [
           "RR UNL NO TRADE",
           288,
           "2020-02-22"
          ],
          [
           "RR UNL NO TRADE",
           386,
           "2020-02-29"
          ],
          [
           "RR UNL NO TRADE",
           365,
           "2020-03-07"
          ],
          [
           "RR UNL NO TRADE",
           270,
           "2020-03-14"
          ],
          [
           "RR UNL NO TRADE",
           51,
           "2020-03-21"
          ],
          [
           "RR UNL NO TRADE",
           9,
           "2020-03-28"
          ],
          [
           "RR UNL NO TRADE",
           0,
           "2020-04-04"
          ],
          [
           "RR UNL NO TRADE",
           1,
           "2020-04-11"
          ],
          [
           "RR UNL NO TRADE",
           0,
           "2020-04-18"
          ],
          [
           "RR UNL NO TRADE",
           0,
           "2020-04-25"
          ],
          [
           "RR UNL NO TRADE",
           1,
           "2020-05-02"
          ],
          [
           "RR UNL NO TRADE",
           0,
           "2020-05-09"
          ],
          [
           "RR UNL NO TRADE",
           2,
           "2020-05-16"
          ],
          [
           "RR UNL NO TRADE",
           1,
           "2020-05-23"
          ],
          [
           "RR UNL NO TRADE",
           2,
           "2020-05-30"
          ],
          [
           "RR UNL NO TRADE",
           1,
           "2020-06-06"
          ],
          [
           "RR UNL NO TRADE",
           5,
           "2020-06-13"
          ],
          [
           "RR UNL NO TRADE",
           6,
           "2020-06-20"
          ],
          [
           "RR UNL NO TRADE",
           7,
           "2020-06-27"
          ],
          [
           "RR UNL NO TRADE",
           5,
           "2020-07-04"
          ],
          [
           "RR UNL NO TRADE",
           5,
           "2020-07-11"
          ],
          [
           "RR UNL NO TRADE",
           5,
           "2020-07-18"
          ],
          [
           "RR UNL NO TRADE",
           9,
           "2020-07-25"
          ],
          [
           "RR UNL NO TRADE",
           2,
           "2020-08-01"
          ],
          [
           "RR UNL NO TRADE",
           10,
           "2020-08-08"
          ],
          [
           "RR UNL NO TRADE",
           8,
           "2020-08-15"
          ],
          [
           "RR UNL NO TRADE",
           7,
           "2020-08-22"
          ],
          [
           "RR UNL NO TRADE",
           8,
           "2020-08-29"
          ],
          [
           "RR UNL NO TRADE",
           10,
           "2020-09-05"
          ],
          [
           "RR UNL NO TRADE",
           8,
           "2020-09-12"
          ],
          [
           "RR UNL NO TRADE",
           13,
           "2020-09-19"
          ],
          [
           "RR UNL NO TRADE",
           14,
           "2020-09-26"
          ],
          [
           "RR UNL NO TRADE",
           11,
           "2020-10-03"
          ],
          [
           "RR UNL NO TRADE",
           12,
           "2020-10-10"
          ],
          [
           "RR UNL NO TRADE",
           11,
           "2020-10-17"
          ],
          [
           "RR UNL NO TRADE",
           14,
           "2020-10-24"
          ],
          [
           "RR UNL NO TRADE",
           14,
           "2020-10-31"
          ],
          [
           "RR UNL NO TRADE",
           14,
           "2020-11-07"
          ],
          [
           "RR UNL NO TRADE",
           11,
           "2020-11-14"
          ],
          [
           "RR UNL NO TRADE",
           13,
           "2020-11-21"
          ],
          [
           "RR UNL NO TRADE",
           9,
           "2020-11-28"
          ],
          [
           "RR UNL NO TRADE",
           8,
           "2020-12-05"
          ],
          [
           "RR UNL NO TRADE",
           9,
           "2020-12-12"
          ],
          [
           "RR UNL NO TRADE",
           7,
           "2020-12-19"
          ],
          [
           "RR UNL NO TRADE",
           5,
           "2020-12-26"
          ],
          [
           "RR UNL NO TRADE",
           8,
           "2021-01-02"
          ],
          [
           "RR UNL NO TRADE",
           7,
           "2021-01-09"
          ],
          [
           "RR UNL NO TRADE",
           14,
           "2021-01-16"
          ],
          [
           "RR UNL NO TRADE",
           7,
           "2021-01-23"
          ],
          [
           "RR UNL NO TRADE",
           7,
           "2021-01-30"
          ],
          [
           "RR UNL NO TRADE",
           8,
           "2021-02-06"
          ],
          [
           "RR UNL NO TRADE",
           6,
           "2021-02-13"
          ],
          [
           "RR UNL NO TRADE",
           3,
           "2021-02-20"
          ],
          [
           "RR UNL NO TRADE",
           6,
           "2021-02-27"
          ],
          [
           "RR UNL NO TRADE",
           7,
           "2021-03-06"
          ],
          [
           "RR UNL NO TRADE",
           13,
           "2021-03-13"
          ]
         ],
         "hovertemplate": "<b>MetroCard Type: %{customdata[0]}</b> <br>MetroCard Swipes: %{customdata[1]:,} <br>Week Ending: %{customdata[2]}<extra></extra>",
         "legendgroup": "RR UNL NO TRADE",
         "line": {
          "color": "rgb(204,185,116)"
         },
         "mode": "lines",
         "name": "RR UNL NO TRADE",
         "orientation": "v",
         "showlegend": true,
         "stackgroup": "1",
         "type": "scatter",
         "x": [
          "2020-01-04",
          "2020-01-11",
          "2020-01-18",
          "2020-01-25",
          "2020-02-01",
          "2020-02-08",
          "2020-02-15",
          "2020-02-22",
          "2020-02-29",
          "2020-03-07",
          "2020-03-14",
          "2020-03-21",
          "2020-03-28",
          "2020-04-04",
          "2020-04-11",
          "2020-04-18",
          "2020-04-25",
          "2020-05-02",
          "2020-05-09",
          "2020-05-16",
          "2020-05-23",
          "2020-05-30",
          "2020-06-06",
          "2020-06-13",
          "2020-06-20",
          "2020-06-27",
          "2020-07-04",
          "2020-07-11",
          "2020-07-18",
          "2020-07-25",
          "2020-08-01",
          "2020-08-08",
          "2020-08-15",
          "2020-08-22",
          "2020-08-29",
          "2020-09-05",
          "2020-09-12",
          "2020-09-19",
          "2020-09-26",
          "2020-10-03",
          "2020-10-10",
          "2020-10-17",
          "2020-10-24",
          "2020-10-31",
          "2020-11-07",
          "2020-11-14",
          "2020-11-21",
          "2020-11-28",
          "2020-12-05",
          "2020-12-12",
          "2020-12-19",
          "2020-12-26",
          "2021-01-02",
          "2021-01-09",
          "2021-01-16",
          "2021-01-23",
          "2021-01-30",
          "2021-02-06",
          "2021-02-13",
          "2021-02-20",
          "2021-02-27",
          "2021-03-06",
          "2021-03-13"
         ],
         "xaxis": "x",
         "y": [
          211,
          380,
          390,
          319,
          391,
          362,
          381,
          288,
          386,
          365,
          270,
          51,
          9,
          0,
          1,
          0,
          0,
          1,
          0,
          2,
          1,
          2,
          1,
          5,
          6,
          7,
          5,
          5,
          5,
          9,
          2,
          10,
          8,
          7,
          8,
          10,
          8,
          13,
          14,
          11,
          12,
          11,
          14,
          14,
          14,
          11,
          13,
          9,
          8,
          9,
          7,
          5,
          8,
          7,
          14,
          7,
          7,
          8,
          6,
          3,
          6,
          7,
          13
         ],
         "yaxis": "y"
        },
        {
         "customdata": [
          [
           "CUNY-60",
           0,
           "2020-01-04"
          ],
          [
           "CUNY-60",
           0,
           "2020-01-11"
          ],
          [
           "CUNY-60",
           0,
           "2020-01-18"
          ],
          [
           "CUNY-60",
           0,
           "2020-01-25"
          ],
          [
           "CUNY-60",
           0,
           "2020-02-01"
          ],
          [
           "CUNY-60",
           0,
           "2020-02-08"
          ],
          [
           "CUNY-60",
           0,
           "2020-02-15"
          ],
          [
           "CUNY-60",
           0,
           "2020-02-22"
          ],
          [
           "CUNY-60",
           0,
           "2020-02-29"
          ],
          [
           "CUNY-60",
           0,
           "2020-03-07"
          ],
          [
           "CUNY-60",
           0,
           "2020-03-14"
          ],
          [
           "CUNY-60",
           0,
           "2020-03-21"
          ],
          [
           "CUNY-60",
           0,
           "2020-03-28"
          ],
          [
           "CUNY-60",
           0,
           "2020-04-04"
          ],
          [
           "CUNY-60",
           0,
           "2020-04-11"
          ],
          [
           "CUNY-60",
           0,
           "2020-04-18"
          ],
          [
           "CUNY-60",
           0,
           "2020-04-25"
          ],
          [
           "CUNY-60",
           0,
           "2020-05-02"
          ],
          [
           "CUNY-60",
           0,
           "2020-05-09"
          ],
          [
           "CUNY-60",
           0,
           "2020-05-16"
          ],
          [
           "CUNY-60",
           0,
           "2020-05-23"
          ],
          [
           "CUNY-60",
           0,
           "2020-05-30"
          ],
          [
           "CUNY-60",
           0,
           "2020-06-06"
          ],
          [
           "CUNY-60",
           0,
           "2020-06-13"
          ],
          [
           "CUNY-60",
           0,
           "2020-06-20"
          ],
          [
           "CUNY-60",
           0,
           "2020-06-27"
          ],
          [
           "CUNY-60",
           0,
           "2020-07-04"
          ],
          [
           "CUNY-60",
           0,
           "2020-07-11"
          ],
          [
           "CUNY-60",
           0,
           "2020-07-18"
          ],
          [
           "CUNY-60",
           0,
           "2020-07-25"
          ],
          [
           "CUNY-60",
           0,
           "2020-08-01"
          ],
          [
           "CUNY-60",
           0,
           "2020-08-08"
          ],
          [
           "CUNY-60",
           0,
           "2020-08-15"
          ],
          [
           "CUNY-60",
           0,
           "2020-08-22"
          ],
          [
           "CUNY-60",
           0,
           "2020-08-29"
          ],
          [
           "CUNY-60",
           0,
           "2020-09-05"
          ],
          [
           "CUNY-60",
           0,
           "2020-09-12"
          ],
          [
           "CUNY-60",
           0,
           "2020-09-19"
          ],
          [
           "CUNY-60",
           0,
           "2020-09-26"
          ],
          [
           "CUNY-60",
           36,
           "2020-10-03"
          ],
          [
           "CUNY-60",
           191,
           "2020-10-10"
          ],
          [
           "CUNY-60",
           205,
           "2020-10-17"
          ],
          [
           "CUNY-60",
           228,
           "2020-10-24"
          ],
          [
           "CUNY-60",
           226,
           "2020-10-31"
          ],
          [
           "CUNY-60",
           197,
           "2020-11-07"
          ],
          [
           "CUNY-60",
           208,
           "2020-11-14"
          ],
          [
           "CUNY-60",
           195,
           "2020-11-21"
          ],
          [
           "CUNY-60",
           169,
           "2020-11-28"
          ],
          [
           "CUNY-60",
           26,
           "2020-12-05"
          ],
          [
           "CUNY-60",
           0,
           "2020-12-12"
          ],
          [
           "CUNY-60",
           0,
           "2020-12-19"
          ],
          [
           "CUNY-60",
           0,
           "2020-12-26"
          ],
          [
           "CUNY-60",
           0,
           "2021-01-02"
          ],
          [
           "CUNY-60",
           0,
           "2021-01-09"
          ],
          [
           "CUNY-60",
           0,
           "2021-01-16"
          ],
          [
           "CUNY-60",
           0,
           "2021-01-23"
          ],
          [
           "CUNY-60",
           0,
           "2021-01-30"
          ],
          [
           "CUNY-60",
           0,
           "2021-02-06"
          ],
          [
           "CUNY-60",
           0,
           "2021-02-13"
          ],
          [
           "CUNY-60",
           0,
           "2021-02-20"
          ],
          [
           "CUNY-60",
           0,
           "2021-02-27"
          ],
          [
           "CUNY-60",
           88,
           "2021-03-06"
          ],
          [
           "CUNY-60",
           140,
           "2021-03-13"
          ]
         ],
         "hovertemplate": "<b>MetroCard Type: %{customdata[0]}</b> <br>MetroCard Swipes: %{customdata[1]:,} <br>Week Ending: %{customdata[2]}<extra></extra>",
         "legendgroup": "CUNY-60",
         "line": {
          "color": "rgb(100,181,205)"
         },
         "mode": "lines",
         "name": "CUNY-60",
         "orientation": "v",
         "showlegend": true,
         "stackgroup": "1",
         "type": "scatter",
         "x": [
          "2020-01-04",
          "2020-01-11",
          "2020-01-18",
          "2020-01-25",
          "2020-02-01",
          "2020-02-08",
          "2020-02-15",
          "2020-02-22",
          "2020-02-29",
          "2020-03-07",
          "2020-03-14",
          "2020-03-21",
          "2020-03-28",
          "2020-04-04",
          "2020-04-11",
          "2020-04-18",
          "2020-04-25",
          "2020-05-02",
          "2020-05-09",
          "2020-05-16",
          "2020-05-23",
          "2020-05-30",
          "2020-06-06",
          "2020-06-13",
          "2020-06-20",
          "2020-06-27",
          "2020-07-04",
          "2020-07-11",
          "2020-07-18",
          "2020-07-25",
          "2020-08-01",
          "2020-08-08",
          "2020-08-15",
          "2020-08-22",
          "2020-08-29",
          "2020-09-05",
          "2020-09-12",
          "2020-09-19",
          "2020-09-26",
          "2020-10-03",
          "2020-10-10",
          "2020-10-17",
          "2020-10-24",
          "2020-10-31",
          "2020-11-07",
          "2020-11-14",
          "2020-11-21",
          "2020-11-28",
          "2020-12-05",
          "2020-12-12",
          "2020-12-19",
          "2020-12-26",
          "2021-01-02",
          "2021-01-09",
          "2021-01-16",
          "2021-01-23",
          "2021-01-30",
          "2021-02-06",
          "2021-02-13",
          "2021-02-20",
          "2021-02-27",
          "2021-03-06",
          "2021-03-13"
         ],
         "xaxis": "x",
         "y": [
          0,
          0,
          0,
          0,
          0,
          0,
          0,
          0,
          0,
          0,
          0,
          0,
          0,
          0,
          0,
          0,
          0,
          0,
          0,
          0,
          0,
          0,
          0,
          0,
          0,
          0,
          0,
          0,
          0,
          0,
          0,
          0,
          0,
          0,
          0,
          0,
          0,
          0,
          0,
          36,
          191,
          205,
          228,
          226,
          197,
          208,
          195,
          169,
          26,
          0,
          0,
          0,
          0,
          0,
          0,
          0,
          0,
          0,
          0,
          0,
          0,
          88,
          140
         ],
         "yaxis": "y"
        },
        {
         "customdata": [
          [
           "JOINT RR TKT",
           66,
           "2020-01-04"
          ],
          [
           "JOINT RR TKT",
           171,
           "2020-01-11"
          ],
          [
           "JOINT RR TKT",
           142,
           "2020-01-18"
          ],
          [
           "JOINT RR TKT",
           94,
           "2020-01-25"
          ],
          [
           "JOINT RR TKT",
           138,
           "2020-02-01"
          ],
          [
           "JOINT RR TKT",
           129,
           "2020-02-08"
          ],
          [
           "JOINT RR TKT",
           117,
           "2020-02-15"
          ],
          [
           "JOINT RR TKT",
           90,
           "2020-02-22"
          ],
          [
           "JOINT RR TKT",
           109,
           "2020-02-29"
          ],
          [
           "JOINT RR TKT",
           127,
           "2020-03-07"
          ],
          [
           "JOINT RR TKT",
           75,
           "2020-03-14"
          ],
          [
           "JOINT RR TKT",
           15,
           "2020-03-21"
          ],
          [
           "JOINT RR TKT",
           2,
           "2020-03-28"
          ],
          [
           "JOINT RR TKT",
           3,
           "2020-04-04"
          ],
          [
           "JOINT RR TKT",
           3,
           "2020-04-11"
          ],
          [
           "JOINT RR TKT",
           3,
           "2020-04-18"
          ],
          [
           "JOINT RR TKT",
           2,
           "2020-04-25"
          ],
          [
           "JOINT RR TKT",
           1,
           "2020-05-02"
          ],
          [
           "JOINT RR TKT",
           6,
           "2020-05-09"
          ],
          [
           "JOINT RR TKT",
           6,
           "2020-05-16"
          ],
          [
           "JOINT RR TKT",
           6,
           "2020-05-23"
          ],
          [
           "JOINT RR TKT",
           7,
           "2020-05-30"
          ],
          [
           "JOINT RR TKT",
           6,
           "2020-06-06"
          ],
          [
           "JOINT RR TKT",
           6,
           "2020-06-13"
          ],
          [
           "JOINT RR TKT",
           8,
           "2020-06-20"
          ],
          [
           "JOINT RR TKT",
           8,
           "2020-06-27"
          ],
          [
           "JOINT RR TKT",
           8,
           "2020-07-04"
          ],
          [
           "JOINT RR TKT",
           1,
           "2020-07-11"
          ],
          [
           "JOINT RR TKT",
           1,
           "2020-07-18"
          ],
          [
           "JOINT RR TKT",
           12,
           "2020-07-25"
          ],
          [
           "JOINT RR TKT",
           10,
           "2020-08-01"
          ],
          [
           "JOINT RR TKT",
           8,
           "2020-08-08"
          ],
          [
           "JOINT RR TKT",
           6,
           "2020-08-15"
          ],
          [
           "JOINT RR TKT",
           12,
           "2020-08-22"
          ],
          [
           "JOINT RR TKT",
           12,
           "2020-08-29"
          ],
          [
           "JOINT RR TKT",
           9,
           "2020-09-05"
          ],
          [
           "JOINT RR TKT",
           7,
           "2020-09-12"
          ],
          [
           "JOINT RR TKT",
           10,
           "2020-09-19"
          ],
          [
           "JOINT RR TKT",
           4,
           "2020-09-26"
          ],
          [
           "JOINT RR TKT",
           8,
           "2020-10-03"
          ],
          [
           "JOINT RR TKT",
           8,
           "2020-10-10"
          ],
          [
           "JOINT RR TKT",
           7,
           "2020-10-17"
          ],
          [
           "JOINT RR TKT",
           8,
           "2020-10-24"
          ],
          [
           "JOINT RR TKT",
           6,
           "2020-10-31"
          ],
          [
           "JOINT RR TKT",
           6,
           "2020-11-07"
          ],
          [
           "JOINT RR TKT",
           6,
           "2020-11-14"
          ],
          [
           "JOINT RR TKT",
           6,
           "2020-11-21"
          ],
          [
           "JOINT RR TKT",
           3,
           "2020-11-28"
          ],
          [
           "JOINT RR TKT",
           6,
           "2020-12-05"
          ],
          [
           "JOINT RR TKT",
           6,
           "2020-12-12"
          ],
          [
           "JOINT RR TKT",
           5,
           "2020-12-19"
          ],
          [
           "JOINT RR TKT",
           1,
           "2020-12-26"
          ],
          [
           "JOINT RR TKT",
           3,
           "2021-01-02"
          ],
          [
           "JOINT RR TKT",
           1,
           "2021-01-09"
          ],
          [
           "JOINT RR TKT",
           5,
           "2021-01-16"
          ],
          [
           "JOINT RR TKT",
           5,
           "2021-01-23"
          ],
          [
           "JOINT RR TKT",
           3,
           "2021-01-30"
          ],
          [
           "JOINT RR TKT",
           4,
           "2021-02-06"
          ],
          [
           "JOINT RR TKT",
           5,
           "2021-02-13"
          ],
          [
           "JOINT RR TKT",
           10,
           "2021-02-20"
          ],
          [
           "JOINT RR TKT",
           5,
           "2021-02-27"
          ],
          [
           "JOINT RR TKT",
           10,
           "2021-03-06"
          ],
          [
           "JOINT RR TKT",
           6,
           "2021-03-13"
          ]
         ],
         "hovertemplate": "<b>MetroCard Type: %{customdata[0]}</b> <br>MetroCard Swipes: %{customdata[1]:,} <br>Week Ending: %{customdata[2]}<extra></extra>",
         "legendgroup": "JOINT RR TKT",
         "line": {
          "color": "rgb(76,114,176)"
         },
         "mode": "lines",
         "name": "JOINT RR TKT",
         "orientation": "v",
         "showlegend": true,
         "stackgroup": "1",
         "type": "scatter",
         "x": [
          "2020-01-04",
          "2020-01-11",
          "2020-01-18",
          "2020-01-25",
          "2020-02-01",
          "2020-02-08",
          "2020-02-15",
          "2020-02-22",
          "2020-02-29",
          "2020-03-07",
          "2020-03-14",
          "2020-03-21",
          "2020-03-28",
          "2020-04-04",
          "2020-04-11",
          "2020-04-18",
          "2020-04-25",
          "2020-05-02",
          "2020-05-09",
          "2020-05-16",
          "2020-05-23",
          "2020-05-30",
          "2020-06-06",
          "2020-06-13",
          "2020-06-20",
          "2020-06-27",
          "2020-07-04",
          "2020-07-11",
          "2020-07-18",
          "2020-07-25",
          "2020-08-01",
          "2020-08-08",
          "2020-08-15",
          "2020-08-22",
          "2020-08-29",
          "2020-09-05",
          "2020-09-12",
          "2020-09-19",
          "2020-09-26",
          "2020-10-03",
          "2020-10-10",
          "2020-10-17",
          "2020-10-24",
          "2020-10-31",
          "2020-11-07",
          "2020-11-14",
          "2020-11-21",
          "2020-11-28",
          "2020-12-05",
          "2020-12-12",
          "2020-12-19",
          "2020-12-26",
          "2021-01-02",
          "2021-01-09",
          "2021-01-16",
          "2021-01-23",
          "2021-01-30",
          "2021-02-06",
          "2021-02-13",
          "2021-02-20",
          "2021-02-27",
          "2021-03-06",
          "2021-03-13"
         ],
         "xaxis": "x",
         "y": [
          66,
          171,
          142,
          94,
          138,
          129,
          117,
          90,
          109,
          127,
          75,
          15,
          2,
          3,
          3,
          3,
          2,
          1,
          6,
          6,
          6,
          7,
          6,
          6,
          8,
          8,
          8,
          1,
          1,
          12,
          10,
          8,
          6,
          12,
          12,
          9,
          7,
          10,
          4,
          8,
          8,
          7,
          8,
          6,
          6,
          6,
          6,
          3,
          6,
          6,
          5,
          1,
          3,
          1,
          5,
          5,
          3,
          4,
          5,
          10,
          5,
          10,
          6
         ],
         "yaxis": "y"
        },
        {
         "customdata": [
          [
           "AIRTRAIN 10-T",
           0,
           "2020-01-04"
          ],
          [
           "AIRTRAIN 10-T",
           0,
           "2020-01-11"
          ],
          [
           "AIRTRAIN 10-T",
           0,
           "2020-01-18"
          ],
          [
           "AIRTRAIN 10-T",
           0,
           "2020-01-25"
          ],
          [
           "AIRTRAIN 10-T",
           0,
           "2020-02-01"
          ],
          [
           "AIRTRAIN 10-T",
           0,
           "2020-02-08"
          ],
          [
           "AIRTRAIN 10-T",
           0,
           "2020-02-15"
          ],
          [
           "AIRTRAIN 10-T",
           0,
           "2020-02-22"
          ],
          [
           "AIRTRAIN 10-T",
           0,
           "2020-02-29"
          ],
          [
           "AIRTRAIN 10-T",
           0,
           "2020-03-07"
          ],
          [
           "AIRTRAIN 10-T",
           0,
           "2020-03-14"
          ],
          [
           "AIRTRAIN 10-T",
           0,
           "2020-03-21"
          ],
          [
           "AIRTRAIN 10-T",
           0,
           "2020-03-28"
          ],
          [
           "AIRTRAIN 10-T",
           0,
           "2020-04-04"
          ],
          [
           "AIRTRAIN 10-T",
           0,
           "2020-04-11"
          ],
          [
           "AIRTRAIN 10-T",
           0,
           "2020-04-18"
          ],
          [
           "AIRTRAIN 10-T",
           0,
           "2020-04-25"
          ],
          [
           "AIRTRAIN 10-T",
           0,
           "2020-05-02"
          ],
          [
           "AIRTRAIN 10-T",
           0,
           "2020-05-09"
          ],
          [
           "AIRTRAIN 10-T",
           0,
           "2020-05-16"
          ],
          [
           "AIRTRAIN 10-T",
           0,
           "2020-05-23"
          ],
          [
           "AIRTRAIN 10-T",
           2,
           "2020-05-30"
          ],
          [
           "AIRTRAIN 10-T",
           0,
           "2020-06-06"
          ],
          [
           "AIRTRAIN 10-T",
           0,
           "2020-06-13"
          ],
          [
           "AIRTRAIN 10-T",
           0,
           "2020-06-20"
          ],
          [
           "AIRTRAIN 10-T",
           0,
           "2020-06-27"
          ],
          [
           "AIRTRAIN 10-T",
           0,
           "2020-07-04"
          ],
          [
           "AIRTRAIN 10-T",
           0,
           "2020-07-11"
          ],
          [
           "AIRTRAIN 10-T",
           0,
           "2020-07-18"
          ],
          [
           "AIRTRAIN 10-T",
           0,
           "2020-07-25"
          ],
          [
           "AIRTRAIN 10-T",
           0,
           "2020-08-01"
          ],
          [
           "AIRTRAIN 10-T",
           0,
           "2020-08-08"
          ],
          [
           "AIRTRAIN 10-T",
           0,
           "2020-08-15"
          ],
          [
           "AIRTRAIN 10-T",
           0,
           "2020-08-22"
          ],
          [
           "AIRTRAIN 10-T",
           0,
           "2020-08-29"
          ],
          [
           "AIRTRAIN 10-T",
           0,
           "2020-09-05"
          ],
          [
           "AIRTRAIN 10-T",
           1,
           "2020-09-12"
          ],
          [
           "AIRTRAIN 10-T",
           0,
           "2020-09-19"
          ],
          [
           "AIRTRAIN 10-T",
           0,
           "2020-09-26"
          ],
          [
           "AIRTRAIN 10-T",
           0,
           "2020-10-03"
          ],
          [
           "AIRTRAIN 10-T",
           0,
           "2020-10-10"
          ],
          [
           "AIRTRAIN 10-T",
           0,
           "2020-10-17"
          ],
          [
           "AIRTRAIN 10-T",
           0,
           "2020-10-24"
          ],
          [
           "AIRTRAIN 10-T",
           0,
           "2020-10-31"
          ],
          [
           "AIRTRAIN 10-T",
           0,
           "2020-11-07"
          ],
          [
           "AIRTRAIN 10-T",
           0,
           "2020-11-14"
          ],
          [
           "AIRTRAIN 10-T",
           0,
           "2020-11-21"
          ],
          [
           "AIRTRAIN 10-T",
           0,
           "2020-11-28"
          ],
          [
           "AIRTRAIN 10-T",
           0,
           "2020-12-05"
          ],
          [
           "AIRTRAIN 10-T",
           0,
           "2020-12-12"
          ],
          [
           "AIRTRAIN 10-T",
           0,
           "2020-12-19"
          ],
          [
           "AIRTRAIN 10-T",
           0,
           "2020-12-26"
          ],
          [
           "AIRTRAIN 10-T",
           0,
           "2021-01-02"
          ],
          [
           "AIRTRAIN 10-T",
           0,
           "2021-01-09"
          ],
          [
           "AIRTRAIN 10-T",
           0,
           "2021-01-16"
          ],
          [
           "AIRTRAIN 10-T",
           0,
           "2021-01-23"
          ],
          [
           "AIRTRAIN 10-T",
           0,
           "2021-01-30"
          ],
          [
           "AIRTRAIN 10-T",
           0,
           "2021-02-06"
          ],
          [
           "AIRTRAIN 10-T",
           0,
           "2021-02-13"
          ],
          [
           "AIRTRAIN 10-T",
           0,
           "2021-02-20"
          ],
          [
           "AIRTRAIN 10-T",
           0,
           "2021-02-27"
          ],
          [
           "AIRTRAIN 10-T",
           0,
           "2021-03-06"
          ],
          [
           "AIRTRAIN 10-T",
           0,
           "2021-03-13"
          ]
         ],
         "hovertemplate": "<b>MetroCard Type: %{customdata[0]}</b> <br>MetroCard Swipes: %{customdata[1]:,} <br>Week Ending: %{customdata[2]}<extra></extra>",
         "legendgroup": "AIRTRAIN 10-T",
         "line": {
          "color": "rgb(221,132,82)"
         },
         "mode": "lines",
         "name": "AIRTRAIN 10-T",
         "orientation": "v",
         "showlegend": true,
         "stackgroup": "1",
         "type": "scatter",
         "x": [
          "2020-01-04",
          "2020-01-11",
          "2020-01-18",
          "2020-01-25",
          "2020-02-01",
          "2020-02-08",
          "2020-02-15",
          "2020-02-22",
          "2020-02-29",
          "2020-03-07",
          "2020-03-14",
          "2020-03-21",
          "2020-03-28",
          "2020-04-04",
          "2020-04-11",
          "2020-04-18",
          "2020-04-25",
          "2020-05-02",
          "2020-05-09",
          "2020-05-16",
          "2020-05-23",
          "2020-05-30",
          "2020-06-06",
          "2020-06-13",
          "2020-06-20",
          "2020-06-27",
          "2020-07-04",
          "2020-07-11",
          "2020-07-18",
          "2020-07-25",
          "2020-08-01",
          "2020-08-08",
          "2020-08-15",
          "2020-08-22",
          "2020-08-29",
          "2020-09-05",
          "2020-09-12",
          "2020-09-19",
          "2020-09-26",
          "2020-10-03",
          "2020-10-10",
          "2020-10-17",
          "2020-10-24",
          "2020-10-31",
          "2020-11-07",
          "2020-11-14",
          "2020-11-21",
          "2020-11-28",
          "2020-12-05",
          "2020-12-12",
          "2020-12-19",
          "2020-12-26",
          "2021-01-02",
          "2021-01-09",
          "2021-01-16",
          "2021-01-23",
          "2021-01-30",
          "2021-02-06",
          "2021-02-13",
          "2021-02-20",
          "2021-02-27",
          "2021-03-06",
          "2021-03-13"
         ],
         "xaxis": "x",
         "y": [
          0,
          0,
          0,
          0,
          0,
          0,
          0,
          0,
          0,
          0,
          0,
          0,
          0,
          0,
          0,
          0,
          0,
          0,
          0,
          0,
          0,
          2,
          0,
          0,
          0,
          0,
          0,
          0,
          0,
          0,
          0,
          0,
          0,
          0,
          0,
          0,
          1,
          0,
          0,
          0,
          0,
          0,
          0,
          0,
          0,
          0,
          0,
          0,
          0,
          0,
          0,
          0,
          0,
          0,
          0,
          0,
          0,
          0,
          0,
          0,
          0,
          0,
          0
         ],
         "yaxis": "y"
        },
        {
         "customdata": [
          [
           "14-D UNL",
           0,
           "2020-01-04"
          ],
          [
           "14-D UNL",
           0,
           "2020-01-11"
          ],
          [
           "14-D UNL",
           0,
           "2020-01-18"
          ],
          [
           "14-D UNL",
           0,
           "2020-01-25"
          ],
          [
           "14-D UNL",
           0,
           "2020-02-01"
          ],
          [
           "14-D UNL",
           0,
           "2020-02-08"
          ],
          [
           "14-D UNL",
           0,
           "2020-02-15"
          ],
          [
           "14-D UNL",
           0,
           "2020-02-22"
          ],
          [
           "14-D UNL",
           0,
           "2020-02-29"
          ],
          [
           "14-D UNL",
           0,
           "2020-03-07"
          ],
          [
           "14-D UNL",
           0,
           "2020-03-14"
          ],
          [
           "14-D UNL",
           0,
           "2020-03-21"
          ],
          [
           "14-D UNL",
           0,
           "2020-03-28"
          ],
          [
           "14-D UNL",
           0,
           "2020-04-04"
          ],
          [
           "14-D UNL",
           0,
           "2020-04-11"
          ],
          [
           "14-D UNL",
           0,
           "2020-04-18"
          ],
          [
           "14-D UNL",
           0,
           "2020-04-25"
          ],
          [
           "14-D UNL",
           0,
           "2020-05-02"
          ],
          [
           "14-D UNL",
           0,
           "2020-05-09"
          ],
          [
           "14-D UNL",
           0,
           "2020-05-16"
          ],
          [
           "14-D UNL",
           0,
           "2020-05-23"
          ],
          [
           "14-D UNL",
           0,
           "2020-05-30"
          ],
          [
           "14-D UNL",
           0,
           "2020-06-06"
          ],
          [
           "14-D UNL",
           0,
           "2020-06-13"
          ],
          [
           "14-D UNL",
           0,
           "2020-06-20"
          ],
          [
           "14-D UNL",
           0,
           "2020-06-27"
          ],
          [
           "14-D UNL",
           0,
           "2020-07-04"
          ],
          [
           "14-D UNL",
           0,
           "2020-07-11"
          ],
          [
           "14-D UNL",
           0,
           "2020-07-18"
          ],
          [
           "14-D UNL",
           0,
           "2020-07-25"
          ],
          [
           "14-D UNL",
           0,
           "2020-08-01"
          ],
          [
           "14-D UNL",
           0,
           "2020-08-08"
          ],
          [
           "14-D UNL",
           0,
           "2020-08-15"
          ],
          [
           "14-D UNL",
           0,
           "2020-08-22"
          ],
          [
           "14-D UNL",
           0,
           "2020-08-29"
          ],
          [
           "14-D UNL",
           0,
           "2020-09-05"
          ],
          [
           "14-D UNL",
           0,
           "2020-09-12"
          ],
          [
           "14-D UNL",
           0,
           "2020-09-19"
          ],
          [
           "14-D UNL",
           0,
           "2020-09-26"
          ],
          [
           "14-D UNL",
           0,
           "2020-10-03"
          ],
          [
           "14-D UNL",
           0,
           "2020-10-10"
          ],
          [
           "14-D UNL",
           0,
           "2020-10-17"
          ],
          [
           "14-D UNL",
           0,
           "2020-10-24"
          ],
          [
           "14-D UNL",
           0,
           "2020-10-31"
          ],
          [
           "14-D UNL",
           0,
           "2020-11-07"
          ],
          [
           "14-D UNL",
           0,
           "2020-11-14"
          ],
          [
           "14-D UNL",
           0,
           "2020-11-21"
          ],
          [
           "14-D UNL",
           0,
           "2020-11-28"
          ],
          [
           "14-D UNL",
           0,
           "2020-12-05"
          ],
          [
           "14-D UNL",
           0,
           "2020-12-12"
          ],
          [
           "14-D UNL",
           0,
           "2020-12-19"
          ],
          [
           "14-D UNL",
           0,
           "2020-12-26"
          ],
          [
           "14-D UNL",
           0,
           "2021-01-02"
          ],
          [
           "14-D UNL",
           0,
           "2021-01-09"
          ],
          [
           "14-D UNL",
           0,
           "2021-01-16"
          ],
          [
           "14-D UNL",
           0,
           "2021-01-23"
          ],
          [
           "14-D UNL",
           0,
           "2021-01-30"
          ],
          [
           "14-D UNL",
           0,
           "2021-02-06"
          ],
          [
           "14-D UNL",
           0,
           "2021-02-13"
          ],
          [
           "14-D UNL",
           0,
           "2021-02-20"
          ],
          [
           "14-D UNL",
           0,
           "2021-02-27"
          ],
          [
           "14-D UNL",
           0,
           "2021-03-06"
          ],
          [
           "14-D UNL",
           0,
           "2021-03-13"
          ]
         ],
         "hovertemplate": "<b>MetroCard Type: %{customdata[0]}</b> <br>MetroCard Swipes: %{customdata[1]:,} <br>Week Ending: %{customdata[2]}<extra></extra>",
         "legendgroup": "14-D UNL",
         "line": {
          "color": "rgb(85,168,104)"
         },
         "mode": "lines",
         "name": "14-D UNL",
         "orientation": "v",
         "showlegend": true,
         "stackgroup": "1",
         "type": "scatter",
         "x": [
          "2020-01-04",
          "2020-01-11",
          "2020-01-18",
          "2020-01-25",
          "2020-02-01",
          "2020-02-08",
          "2020-02-15",
          "2020-02-22",
          "2020-02-29",
          "2020-03-07",
          "2020-03-14",
          "2020-03-21",
          "2020-03-28",
          "2020-04-04",
          "2020-04-11",
          "2020-04-18",
          "2020-04-25",
          "2020-05-02",
          "2020-05-09",
          "2020-05-16",
          "2020-05-23",
          "2020-05-30",
          "2020-06-06",
          "2020-06-13",
          "2020-06-20",
          "2020-06-27",
          "2020-07-04",
          "2020-07-11",
          "2020-07-18",
          "2020-07-25",
          "2020-08-01",
          "2020-08-08",
          "2020-08-15",
          "2020-08-22",
          "2020-08-29",
          "2020-09-05",
          "2020-09-12",
          "2020-09-19",
          "2020-09-26",
          "2020-10-03",
          "2020-10-10",
          "2020-10-17",
          "2020-10-24",
          "2020-10-31",
          "2020-11-07",
          "2020-11-14",
          "2020-11-21",
          "2020-11-28",
          "2020-12-05",
          "2020-12-12",
          "2020-12-19",
          "2020-12-26",
          "2021-01-02",
          "2021-01-09",
          "2021-01-16",
          "2021-01-23",
          "2021-01-30",
          "2021-02-06",
          "2021-02-13",
          "2021-02-20",
          "2021-02-27",
          "2021-03-06",
          "2021-03-13"
         ],
         "xaxis": "x",
         "y": [
          0,
          0,
          0,
          0,
          0,
          0,
          0,
          0,
          0,
          0,
          0,
          0,
          0,
          0,
          0,
          0,
          0,
          0,
          0,
          0,
          0,
          0,
          0,
          0,
          0,
          0,
          0,
          0,
          0,
          0,
          0,
          0,
          0,
          0,
          0,
          0,
          0,
          0,
          0,
          0,
          0,
          0,
          0,
          0,
          0,
          0,
          0,
          0,
          0,
          0,
          0,
          0,
          0,
          0,
          0,
          0,
          0,
          0,
          0,
          0,
          0,
          0,
          0
         ],
         "yaxis": "y"
        },
        {
         "customdata": [
          [
           "AIRTRAIN MTHLY",
           0,
           "2020-01-04"
          ],
          [
           "AIRTRAIN MTHLY",
           0,
           "2020-01-11"
          ],
          [
           "AIRTRAIN MTHLY",
           0,
           "2020-01-18"
          ],
          [
           "AIRTRAIN MTHLY",
           0,
           "2020-01-25"
          ],
          [
           "AIRTRAIN MTHLY",
           0,
           "2020-02-01"
          ],
          [
           "AIRTRAIN MTHLY",
           0,
           "2020-02-08"
          ],
          [
           "AIRTRAIN MTHLY",
           0,
           "2020-02-15"
          ],
          [
           "AIRTRAIN MTHLY",
           0,
           "2020-02-22"
          ],
          [
           "AIRTRAIN MTHLY",
           0,
           "2020-02-29"
          ],
          [
           "AIRTRAIN MTHLY",
           0,
           "2020-03-07"
          ],
          [
           "AIRTRAIN MTHLY",
           0,
           "2020-03-14"
          ],
          [
           "AIRTRAIN MTHLY",
           0,
           "2020-03-21"
          ],
          [
           "AIRTRAIN MTHLY",
           0,
           "2020-03-28"
          ],
          [
           "AIRTRAIN MTHLY",
           0,
           "2020-04-04"
          ],
          [
           "AIRTRAIN MTHLY",
           0,
           "2020-04-11"
          ],
          [
           "AIRTRAIN MTHLY",
           0,
           "2020-04-18"
          ],
          [
           "AIRTRAIN MTHLY",
           0,
           "2020-04-25"
          ],
          [
           "AIRTRAIN MTHLY",
           0,
           "2020-05-02"
          ],
          [
           "AIRTRAIN MTHLY",
           0,
           "2020-05-09"
          ],
          [
           "AIRTRAIN MTHLY",
           0,
           "2020-05-16"
          ],
          [
           "AIRTRAIN MTHLY",
           0,
           "2020-05-23"
          ],
          [
           "AIRTRAIN MTHLY",
           0,
           "2020-05-30"
          ],
          [
           "AIRTRAIN MTHLY",
           0,
           "2020-06-06"
          ],
          [
           "AIRTRAIN MTHLY",
           0,
           "2020-06-13"
          ],
          [
           "AIRTRAIN MTHLY",
           0,
           "2020-06-20"
          ],
          [
           "AIRTRAIN MTHLY",
           0,
           "2020-06-27"
          ],
          [
           "AIRTRAIN MTHLY",
           0,
           "2020-07-04"
          ],
          [
           "AIRTRAIN MTHLY",
           0,
           "2020-07-11"
          ],
          [
           "AIRTRAIN MTHLY",
           0,
           "2020-07-18"
          ],
          [
           "AIRTRAIN MTHLY",
           0,
           "2020-07-25"
          ],
          [
           "AIRTRAIN MTHLY",
           0,
           "2020-08-01"
          ],
          [
           "AIRTRAIN MTHLY",
           0,
           "2020-08-08"
          ],
          [
           "AIRTRAIN MTHLY",
           0,
           "2020-08-15"
          ],
          [
           "AIRTRAIN MTHLY",
           0,
           "2020-08-22"
          ],
          [
           "AIRTRAIN MTHLY",
           0,
           "2020-08-29"
          ],
          [
           "AIRTRAIN MTHLY",
           0,
           "2020-09-05"
          ],
          [
           "AIRTRAIN MTHLY",
           0,
           "2020-09-12"
          ],
          [
           "AIRTRAIN MTHLY",
           0,
           "2020-09-19"
          ],
          [
           "AIRTRAIN MTHLY",
           0,
           "2020-09-26"
          ],
          [
           "AIRTRAIN MTHLY",
           0,
           "2020-10-03"
          ],
          [
           "AIRTRAIN MTHLY",
           0,
           "2020-10-10"
          ],
          [
           "AIRTRAIN MTHLY",
           0,
           "2020-10-17"
          ],
          [
           "AIRTRAIN MTHLY",
           0,
           "2020-10-24"
          ],
          [
           "AIRTRAIN MTHLY",
           0,
           "2020-10-31"
          ],
          [
           "AIRTRAIN MTHLY",
           0,
           "2020-11-07"
          ],
          [
           "AIRTRAIN MTHLY",
           0,
           "2020-11-14"
          ],
          [
           "AIRTRAIN MTHLY",
           0,
           "2020-11-21"
          ],
          [
           "AIRTRAIN MTHLY",
           0,
           "2020-11-28"
          ],
          [
           "AIRTRAIN MTHLY",
           0,
           "2020-12-05"
          ],
          [
           "AIRTRAIN MTHLY",
           0,
           "2020-12-12"
          ],
          [
           "AIRTRAIN MTHLY",
           0,
           "2020-12-19"
          ],
          [
           "AIRTRAIN MTHLY",
           0,
           "2020-12-26"
          ],
          [
           "AIRTRAIN MTHLY",
           0,
           "2021-01-02"
          ],
          [
           "AIRTRAIN MTHLY",
           0,
           "2021-01-09"
          ],
          [
           "AIRTRAIN MTHLY",
           0,
           "2021-01-16"
          ],
          [
           "AIRTRAIN MTHLY",
           0,
           "2021-01-23"
          ],
          [
           "AIRTRAIN MTHLY",
           0,
           "2021-01-30"
          ],
          [
           "AIRTRAIN MTHLY",
           0,
           "2021-02-06"
          ],
          [
           "AIRTRAIN MTHLY",
           0,
           "2021-02-13"
          ],
          [
           "AIRTRAIN MTHLY",
           0,
           "2021-02-20"
          ],
          [
           "AIRTRAIN MTHLY",
           0,
           "2021-02-27"
          ],
          [
           "AIRTRAIN MTHLY",
           0,
           "2021-03-06"
          ],
          [
           "AIRTRAIN MTHLY",
           0,
           "2021-03-13"
          ]
         ],
         "hovertemplate": "<b>MetroCard Type: %{customdata[0]}</b> <br>MetroCard Swipes: %{customdata[1]:,} <br>Week Ending: %{customdata[2]}<extra></extra>",
         "legendgroup": "AIRTRAIN MTHLY",
         "line": {
          "color": "rgb(196,78,82)"
         },
         "mode": "lines",
         "name": "AIRTRAIN MTHLY",
         "orientation": "v",
         "showlegend": true,
         "stackgroup": "1",
         "type": "scatter",
         "x": [
          "2020-01-04",
          "2020-01-11",
          "2020-01-18",
          "2020-01-25",
          "2020-02-01",
          "2020-02-08",
          "2020-02-15",
          "2020-02-22",
          "2020-02-29",
          "2020-03-07",
          "2020-03-14",
          "2020-03-21",
          "2020-03-28",
          "2020-04-04",
          "2020-04-11",
          "2020-04-18",
          "2020-04-25",
          "2020-05-02",
          "2020-05-09",
          "2020-05-16",
          "2020-05-23",
          "2020-05-30",
          "2020-06-06",
          "2020-06-13",
          "2020-06-20",
          "2020-06-27",
          "2020-07-04",
          "2020-07-11",
          "2020-07-18",
          "2020-07-25",
          "2020-08-01",
          "2020-08-08",
          "2020-08-15",
          "2020-08-22",
          "2020-08-29",
          "2020-09-05",
          "2020-09-12",
          "2020-09-19",
          "2020-09-26",
          "2020-10-03",
          "2020-10-10",
          "2020-10-17",
          "2020-10-24",
          "2020-10-31",
          "2020-11-07",
          "2020-11-14",
          "2020-11-21",
          "2020-11-28",
          "2020-12-05",
          "2020-12-12",
          "2020-12-19",
          "2020-12-26",
          "2021-01-02",
          "2021-01-09",
          "2021-01-16",
          "2021-01-23",
          "2021-01-30",
          "2021-02-06",
          "2021-02-13",
          "2021-02-20",
          "2021-02-27",
          "2021-03-06",
          "2021-03-13"
         ],
         "xaxis": "x",
         "y": [
          0,
          0,
          0,
          0,
          0,
          0,
          0,
          0,
          0,
          0,
          0,
          0,
          0,
          0,
          0,
          0,
          0,
          0,
          0,
          0,
          0,
          0,
          0,
          0,
          0,
          0,
          0,
          0,
          0,
          0,
          0,
          0,
          0,
          0,
          0,
          0,
          0,
          0,
          0,
          0,
          0,
          0,
          0,
          0,
          0,
          0,
          0,
          0,
          0,
          0,
          0,
          0,
          0,
          0,
          0,
          0,
          0,
          0,
          0,
          0,
          0,
          0,
          0
         ],
         "yaxis": "y"
        },
        {
         "customdata": [
          [
           "PATH 2-T",
           0,
           "2020-01-04"
          ],
          [
           "PATH 2-T",
           0,
           "2020-01-11"
          ],
          [
           "PATH 2-T",
           0,
           "2020-01-18"
          ],
          [
           "PATH 2-T",
           0,
           "2020-01-25"
          ],
          [
           "PATH 2-T",
           0,
           "2020-02-01"
          ],
          [
           "PATH 2-T",
           0,
           "2020-02-08"
          ],
          [
           "PATH 2-T",
           0,
           "2020-02-15"
          ],
          [
           "PATH 2-T",
           0,
           "2020-02-22"
          ],
          [
           "PATH 2-T",
           0,
           "2020-02-29"
          ],
          [
           "PATH 2-T",
           0,
           "2020-03-07"
          ],
          [
           "PATH 2-T",
           0,
           "2020-03-14"
          ],
          [
           "PATH 2-T",
           0,
           "2020-03-21"
          ],
          [
           "PATH 2-T",
           0,
           "2020-03-28"
          ],
          [
           "PATH 2-T",
           0,
           "2020-04-04"
          ],
          [
           "PATH 2-T",
           0,
           "2020-04-11"
          ],
          [
           "PATH 2-T",
           0,
           "2020-04-18"
          ],
          [
           "PATH 2-T",
           0,
           "2020-04-25"
          ],
          [
           "PATH 2-T",
           0,
           "2020-05-02"
          ],
          [
           "PATH 2-T",
           0,
           "2020-05-09"
          ],
          [
           "PATH 2-T",
           0,
           "2020-05-16"
          ],
          [
           "PATH 2-T",
           0,
           "2020-05-23"
          ],
          [
           "PATH 2-T",
           0,
           "2020-05-30"
          ],
          [
           "PATH 2-T",
           0,
           "2020-06-06"
          ],
          [
           "PATH 2-T",
           0,
           "2020-06-13"
          ],
          [
           "PATH 2-T",
           0,
           "2020-06-20"
          ],
          [
           "PATH 2-T",
           0,
           "2020-06-27"
          ],
          [
           "PATH 2-T",
           0,
           "2020-07-04"
          ],
          [
           "PATH 2-T",
           0,
           "2020-07-11"
          ],
          [
           "PATH 2-T",
           0,
           "2020-07-18"
          ],
          [
           "PATH 2-T",
           0,
           "2020-07-25"
          ],
          [
           "PATH 2-T",
           0,
           "2020-08-01"
          ],
          [
           "PATH 2-T",
           0,
           "2020-08-08"
          ],
          [
           "PATH 2-T",
           0,
           "2020-08-15"
          ],
          [
           "PATH 2-T",
           0,
           "2020-08-22"
          ],
          [
           "PATH 2-T",
           0,
           "2020-08-29"
          ],
          [
           "PATH 2-T",
           0,
           "2020-09-05"
          ],
          [
           "PATH 2-T",
           0,
           "2020-09-12"
          ],
          [
           "PATH 2-T",
           0,
           "2020-09-19"
          ],
          [
           "PATH 2-T",
           0,
           "2020-09-26"
          ],
          [
           "PATH 2-T",
           0,
           "2020-10-03"
          ],
          [
           "PATH 2-T",
           0,
           "2020-10-10"
          ],
          [
           "PATH 2-T",
           0,
           "2020-10-17"
          ],
          [
           "PATH 2-T",
           0,
           "2020-10-24"
          ],
          [
           "PATH 2-T",
           0,
           "2020-10-31"
          ],
          [
           "PATH 2-T",
           0,
           "2020-11-07"
          ],
          [
           "PATH 2-T",
           0,
           "2020-11-14"
          ],
          [
           "PATH 2-T",
           0,
           "2020-11-21"
          ],
          [
           "PATH 2-T",
           0,
           "2020-11-28"
          ],
          [
           "PATH 2-T",
           0,
           "2020-12-05"
          ],
          [
           "PATH 2-T",
           0,
           "2020-12-12"
          ],
          [
           "PATH 2-T",
           0,
           "2020-12-19"
          ],
          [
           "PATH 2-T",
           0,
           "2020-12-26"
          ],
          [
           "PATH 2-T",
           0,
           "2021-01-02"
          ],
          [
           "PATH 2-T",
           0,
           "2021-01-09"
          ],
          [
           "PATH 2-T",
           0,
           "2021-01-16"
          ],
          [
           "PATH 2-T",
           0,
           "2021-01-23"
          ],
          [
           "PATH 2-T",
           0,
           "2021-01-30"
          ],
          [
           "PATH 2-T",
           0,
           "2021-02-06"
          ],
          [
           "PATH 2-T",
           0,
           "2021-02-13"
          ],
          [
           "PATH 2-T",
           0,
           "2021-02-20"
          ],
          [
           "PATH 2-T",
           0,
           "2021-02-27"
          ],
          [
           "PATH 2-T",
           0,
           "2021-03-06"
          ],
          [
           "PATH 2-T",
           0,
           "2021-03-13"
          ]
         ],
         "hovertemplate": "<b>MetroCard Type: %{customdata[0]}</b> <br>MetroCard Swipes: %{customdata[1]:,} <br>Week Ending: %{customdata[2]}<extra></extra>",
         "legendgroup": "PATH 2-T",
         "line": {
          "color": "rgb(129,114,179)"
         },
         "mode": "lines",
         "name": "PATH 2-T",
         "orientation": "v",
         "showlegend": true,
         "stackgroup": "1",
         "type": "scatter",
         "x": [
          "2020-01-04",
          "2020-01-11",
          "2020-01-18",
          "2020-01-25",
          "2020-02-01",
          "2020-02-08",
          "2020-02-15",
          "2020-02-22",
          "2020-02-29",
          "2020-03-07",
          "2020-03-14",
          "2020-03-21",
          "2020-03-28",
          "2020-04-04",
          "2020-04-11",
          "2020-04-18",
          "2020-04-25",
          "2020-05-02",
          "2020-05-09",
          "2020-05-16",
          "2020-05-23",
          "2020-05-30",
          "2020-06-06",
          "2020-06-13",
          "2020-06-20",
          "2020-06-27",
          "2020-07-04",
          "2020-07-11",
          "2020-07-18",
          "2020-07-25",
          "2020-08-01",
          "2020-08-08",
          "2020-08-15",
          "2020-08-22",
          "2020-08-29",
          "2020-09-05",
          "2020-09-12",
          "2020-09-19",
          "2020-09-26",
          "2020-10-03",
          "2020-10-10",
          "2020-10-17",
          "2020-10-24",
          "2020-10-31",
          "2020-11-07",
          "2020-11-14",
          "2020-11-21",
          "2020-11-28",
          "2020-12-05",
          "2020-12-12",
          "2020-12-19",
          "2020-12-26",
          "2021-01-02",
          "2021-01-09",
          "2021-01-16",
          "2021-01-23",
          "2021-01-30",
          "2021-02-06",
          "2021-02-13",
          "2021-02-20",
          "2021-02-27",
          "2021-03-06",
          "2021-03-13"
         ],
         "xaxis": "x",
         "y": [
          0,
          0,
          0,
          0,
          0,
          0,
          0,
          0,
          0,
          0,
          0,
          0,
          0,
          0,
          0,
          0,
          0,
          0,
          0,
          0,
          0,
          0,
          0,
          0,
          0,
          0,
          0,
          0,
          0,
          0,
          0,
          0,
          0,
          0,
          0,
          0,
          0,
          0,
          0,
          0,
          0,
          0,
          0,
          0,
          0,
          0,
          0,
          0,
          0,
          0,
          0,
          0,
          0,
          0,
          0,
          0,
          0,
          0,
          0,
          0,
          0,
          0,
          0
         ],
         "yaxis": "y"
        },
        {
         "customdata": [
          [
           "NICE 2-T",
           0,
           "2020-01-04"
          ],
          [
           "NICE 2-T",
           0,
           "2020-01-11"
          ],
          [
           "NICE 2-T",
           0,
           "2020-01-18"
          ],
          [
           "NICE 2-T",
           0,
           "2020-01-25"
          ],
          [
           "NICE 2-T",
           0,
           "2020-02-01"
          ],
          [
           "NICE 2-T",
           0,
           "2020-02-08"
          ],
          [
           "NICE 2-T",
           0,
           "2020-02-15"
          ],
          [
           "NICE 2-T",
           0,
           "2020-02-22"
          ],
          [
           "NICE 2-T",
           0,
           "2020-02-29"
          ],
          [
           "NICE 2-T",
           0,
           "2020-03-07"
          ],
          [
           "NICE 2-T",
           0,
           "2020-03-14"
          ],
          [
           "NICE 2-T",
           0,
           "2020-03-21"
          ],
          [
           "NICE 2-T",
           0,
           "2020-03-28"
          ],
          [
           "NICE 2-T",
           0,
           "2020-04-04"
          ],
          [
           "NICE 2-T",
           0,
           "2020-04-11"
          ],
          [
           "NICE 2-T",
           0,
           "2020-04-18"
          ],
          [
           "NICE 2-T",
           0,
           "2020-04-25"
          ],
          [
           "NICE 2-T",
           0,
           "2020-05-02"
          ],
          [
           "NICE 2-T",
           0,
           "2020-05-09"
          ],
          [
           "NICE 2-T",
           0,
           "2020-05-16"
          ],
          [
           "NICE 2-T",
           0,
           "2020-05-23"
          ],
          [
           "NICE 2-T",
           0,
           "2020-05-30"
          ],
          [
           "NICE 2-T",
           0,
           "2020-06-06"
          ],
          [
           "NICE 2-T",
           0,
           "2020-06-13"
          ],
          [
           "NICE 2-T",
           0,
           "2020-06-20"
          ],
          [
           "NICE 2-T",
           0,
           "2020-06-27"
          ],
          [
           "NICE 2-T",
           0,
           "2020-07-04"
          ],
          [
           "NICE 2-T",
           0,
           "2020-07-11"
          ],
          [
           "NICE 2-T",
           0,
           "2020-07-18"
          ],
          [
           "NICE 2-T",
           0,
           "2020-07-25"
          ],
          [
           "NICE 2-T",
           0,
           "2020-08-01"
          ],
          [
           "NICE 2-T",
           0,
           "2020-08-08"
          ],
          [
           "NICE 2-T",
           0,
           "2020-08-15"
          ],
          [
           "NICE 2-T",
           0,
           "2020-08-22"
          ],
          [
           "NICE 2-T",
           0,
           "2020-08-29"
          ],
          [
           "NICE 2-T",
           0,
           "2020-09-05"
          ],
          [
           "NICE 2-T",
           0,
           "2020-09-12"
          ],
          [
           "NICE 2-T",
           0,
           "2020-09-19"
          ],
          [
           "NICE 2-T",
           0,
           "2020-09-26"
          ],
          [
           "NICE 2-T",
           0,
           "2020-10-03"
          ],
          [
           "NICE 2-T",
           0,
           "2020-10-10"
          ],
          [
           "NICE 2-T",
           0,
           "2020-10-17"
          ],
          [
           "NICE 2-T",
           0,
           "2020-10-24"
          ],
          [
           "NICE 2-T",
           0,
           "2020-10-31"
          ],
          [
           "NICE 2-T",
           0,
           "2020-11-07"
          ],
          [
           "NICE 2-T",
           0,
           "2020-11-14"
          ],
          [
           "NICE 2-T",
           0,
           "2020-11-21"
          ],
          [
           "NICE 2-T",
           0,
           "2020-11-28"
          ],
          [
           "NICE 2-T",
           0,
           "2020-12-05"
          ],
          [
           "NICE 2-T",
           0,
           "2020-12-12"
          ],
          [
           "NICE 2-T",
           0,
           "2020-12-19"
          ],
          [
           "NICE 2-T",
           0,
           "2020-12-26"
          ],
          [
           "NICE 2-T",
           0,
           "2021-01-02"
          ],
          [
           "NICE 2-T",
           0,
           "2021-01-09"
          ],
          [
           "NICE 2-T",
           0,
           "2021-01-16"
          ],
          [
           "NICE 2-T",
           0,
           "2021-01-23"
          ],
          [
           "NICE 2-T",
           0,
           "2021-01-30"
          ],
          [
           "NICE 2-T",
           0,
           "2021-02-06"
          ],
          [
           "NICE 2-T",
           0,
           "2021-02-13"
          ],
          [
           "NICE 2-T",
           0,
           "2021-02-20"
          ],
          [
           "NICE 2-T",
           0,
           "2021-02-27"
          ],
          [
           "NICE 2-T",
           0,
           "2021-03-06"
          ],
          [
           "NICE 2-T",
           0,
           "2021-03-13"
          ]
         ],
         "hovertemplate": "<b>MetroCard Type: %{customdata[0]}</b> <br>MetroCard Swipes: %{customdata[1]:,} <br>Week Ending: %{customdata[2]}<extra></extra>",
         "legendgroup": "NICE 2-T",
         "line": {
          "color": "rgb(147,120,96)"
         },
         "mode": "lines",
         "name": "NICE 2-T",
         "orientation": "v",
         "showlegend": true,
         "stackgroup": "1",
         "type": "scatter",
         "x": [
          "2020-01-04",
          "2020-01-11",
          "2020-01-18",
          "2020-01-25",
          "2020-02-01",
          "2020-02-08",
          "2020-02-15",
          "2020-02-22",
          "2020-02-29",
          "2020-03-07",
          "2020-03-14",
          "2020-03-21",
          "2020-03-28",
          "2020-04-04",
          "2020-04-11",
          "2020-04-18",
          "2020-04-25",
          "2020-05-02",
          "2020-05-09",
          "2020-05-16",
          "2020-05-23",
          "2020-05-30",
          "2020-06-06",
          "2020-06-13",
          "2020-06-20",
          "2020-06-27",
          "2020-07-04",
          "2020-07-11",
          "2020-07-18",
          "2020-07-25",
          "2020-08-01",
          "2020-08-08",
          "2020-08-15",
          "2020-08-22",
          "2020-08-29",
          "2020-09-05",
          "2020-09-12",
          "2020-09-19",
          "2020-09-26",
          "2020-10-03",
          "2020-10-10",
          "2020-10-17",
          "2020-10-24",
          "2020-10-31",
          "2020-11-07",
          "2020-11-14",
          "2020-11-21",
          "2020-11-28",
          "2020-12-05",
          "2020-12-12",
          "2020-12-19",
          "2020-12-26",
          "2021-01-02",
          "2021-01-09",
          "2021-01-16",
          "2021-01-23",
          "2021-01-30",
          "2021-02-06",
          "2021-02-13",
          "2021-02-20",
          "2021-02-27",
          "2021-03-06",
          "2021-03-13"
         ],
         "xaxis": "x",
         "y": [
          0,
          0,
          0,
          0,
          0,
          0,
          0,
          0,
          0,
          0,
          0,
          0,
          0,
          0,
          0,
          0,
          0,
          0,
          0,
          0,
          0,
          0,
          0,
          0,
          0,
          0,
          0,
          0,
          0,
          0,
          0,
          0,
          0,
          0,
          0,
          0,
          0,
          0,
          0,
          0,
          0,
          0,
          0,
          0,
          0,
          0,
          0,
          0,
          0,
          0,
          0,
          0,
          0,
          0,
          0,
          0,
          0,
          0,
          0,
          0,
          0,
          0,
          0
         ],
         "yaxis": "y"
        },
        {
         "customdata": [
          [
           "AIRTRAIN 30-D",
           0,
           "2020-01-04"
          ],
          [
           "AIRTRAIN 30-D",
           0,
           "2020-01-11"
          ],
          [
           "AIRTRAIN 30-D",
           0,
           "2020-01-18"
          ],
          [
           "AIRTRAIN 30-D",
           0,
           "2020-01-25"
          ],
          [
           "AIRTRAIN 30-D",
           0,
           "2020-02-01"
          ],
          [
           "AIRTRAIN 30-D",
           0,
           "2020-02-08"
          ],
          [
           "AIRTRAIN 30-D",
           0,
           "2020-02-15"
          ],
          [
           "AIRTRAIN 30-D",
           0,
           "2020-02-22"
          ],
          [
           "AIRTRAIN 30-D",
           0,
           "2020-02-29"
          ],
          [
           "AIRTRAIN 30-D",
           0,
           "2020-03-07"
          ],
          [
           "AIRTRAIN 30-D",
           0,
           "2020-03-14"
          ],
          [
           "AIRTRAIN 30-D",
           0,
           "2020-03-21"
          ],
          [
           "AIRTRAIN 30-D",
           0,
           "2020-03-28"
          ],
          [
           "AIRTRAIN 30-D",
           0,
           "2020-04-04"
          ],
          [
           "AIRTRAIN 30-D",
           0,
           "2020-04-11"
          ],
          [
           "AIRTRAIN 30-D",
           0,
           "2020-04-18"
          ],
          [
           "AIRTRAIN 30-D",
           0,
           "2020-04-25"
          ],
          [
           "AIRTRAIN 30-D",
           0,
           "2020-05-02"
          ],
          [
           "AIRTRAIN 30-D",
           0,
           "2020-05-09"
          ],
          [
           "AIRTRAIN 30-D",
           0,
           "2020-05-16"
          ],
          [
           "AIRTRAIN 30-D",
           0,
           "2020-05-23"
          ],
          [
           "AIRTRAIN 30-D",
           0,
           "2020-05-30"
          ],
          [
           "AIRTRAIN 30-D",
           0,
           "2020-06-06"
          ],
          [
           "AIRTRAIN 30-D",
           0,
           "2020-06-13"
          ],
          [
           "AIRTRAIN 30-D",
           0,
           "2020-06-20"
          ],
          [
           "AIRTRAIN 30-D",
           0,
           "2020-06-27"
          ],
          [
           "AIRTRAIN 30-D",
           0,
           "2020-07-04"
          ],
          [
           "AIRTRAIN 30-D",
           0,
           "2020-07-11"
          ],
          [
           "AIRTRAIN 30-D",
           0,
           "2020-07-18"
          ],
          [
           "AIRTRAIN 30-D",
           0,
           "2020-07-25"
          ],
          [
           "AIRTRAIN 30-D",
           0,
           "2020-08-01"
          ],
          [
           "AIRTRAIN 30-D",
           0,
           "2020-08-08"
          ],
          [
           "AIRTRAIN 30-D",
           0,
           "2020-08-15"
          ],
          [
           "AIRTRAIN 30-D",
           0,
           "2020-08-22"
          ],
          [
           "AIRTRAIN 30-D",
           0,
           "2020-08-29"
          ],
          [
           "AIRTRAIN 30-D",
           0,
           "2020-09-05"
          ],
          [
           "AIRTRAIN 30-D",
           0,
           "2020-09-12"
          ],
          [
           "AIRTRAIN 30-D",
           0,
           "2020-09-19"
          ],
          [
           "AIRTRAIN 30-D",
           0,
           "2020-09-26"
          ],
          [
           "AIRTRAIN 30-D",
           0,
           "2020-10-03"
          ],
          [
           "AIRTRAIN 30-D",
           0,
           "2020-10-10"
          ],
          [
           "AIRTRAIN 30-D",
           0,
           "2020-10-17"
          ],
          [
           "AIRTRAIN 30-D",
           0,
           "2020-10-24"
          ],
          [
           "AIRTRAIN 30-D",
           0,
           "2020-10-31"
          ],
          [
           "AIRTRAIN 30-D",
           0,
           "2020-11-07"
          ],
          [
           "AIRTRAIN 30-D",
           0,
           "2020-11-14"
          ],
          [
           "AIRTRAIN 30-D",
           0,
           "2020-11-21"
          ],
          [
           "AIRTRAIN 30-D",
           0,
           "2020-11-28"
          ],
          [
           "AIRTRAIN 30-D",
           0,
           "2020-12-05"
          ],
          [
           "AIRTRAIN 30-D",
           0,
           "2020-12-12"
          ],
          [
           "AIRTRAIN 30-D",
           0,
           "2020-12-19"
          ],
          [
           "AIRTRAIN 30-D",
           0,
           "2020-12-26"
          ],
          [
           "AIRTRAIN 30-D",
           0,
           "2021-01-02"
          ],
          [
           "AIRTRAIN 30-D",
           0,
           "2021-01-09"
          ],
          [
           "AIRTRAIN 30-D",
           0,
           "2021-01-16"
          ],
          [
           "AIRTRAIN 30-D",
           0,
           "2021-01-23"
          ],
          [
           "AIRTRAIN 30-D",
           0,
           "2021-01-30"
          ],
          [
           "AIRTRAIN 30-D",
           0,
           "2021-02-06"
          ],
          [
           "AIRTRAIN 30-D",
           0,
           "2021-02-13"
          ],
          [
           "AIRTRAIN 30-D",
           0,
           "2021-02-20"
          ],
          [
           "AIRTRAIN 30-D",
           0,
           "2021-02-27"
          ],
          [
           "AIRTRAIN 30-D",
           0,
           "2021-03-06"
          ],
          [
           "AIRTRAIN 30-D",
           0,
           "2021-03-13"
          ]
         ],
         "hovertemplate": "<b>MetroCard Type: %{customdata[0]}</b> <br>MetroCard Swipes: %{customdata[1]:,} <br>Week Ending: %{customdata[2]}<extra></extra>",
         "legendgroup": "AIRTRAIN 30-D",
         "line": {
          "color": "rgb(218,139,195)"
         },
         "mode": "lines",
         "name": "AIRTRAIN 30-D",
         "orientation": "v",
         "showlegend": true,
         "stackgroup": "1",
         "type": "scatter",
         "x": [
          "2020-01-04",
          "2020-01-11",
          "2020-01-18",
          "2020-01-25",
          "2020-02-01",
          "2020-02-08",
          "2020-02-15",
          "2020-02-22",
          "2020-02-29",
          "2020-03-07",
          "2020-03-14",
          "2020-03-21",
          "2020-03-28",
          "2020-04-04",
          "2020-04-11",
          "2020-04-18",
          "2020-04-25",
          "2020-05-02",
          "2020-05-09",
          "2020-05-16",
          "2020-05-23",
          "2020-05-30",
          "2020-06-06",
          "2020-06-13",
          "2020-06-20",
          "2020-06-27",
          "2020-07-04",
          "2020-07-11",
          "2020-07-18",
          "2020-07-25",
          "2020-08-01",
          "2020-08-08",
          "2020-08-15",
          "2020-08-22",
          "2020-08-29",
          "2020-09-05",
          "2020-09-12",
          "2020-09-19",
          "2020-09-26",
          "2020-10-03",
          "2020-10-10",
          "2020-10-17",
          "2020-10-24",
          "2020-10-31",
          "2020-11-07",
          "2020-11-14",
          "2020-11-21",
          "2020-11-28",
          "2020-12-05",
          "2020-12-12",
          "2020-12-19",
          "2020-12-26",
          "2021-01-02",
          "2021-01-09",
          "2021-01-16",
          "2021-01-23",
          "2021-01-30",
          "2021-02-06",
          "2021-02-13",
          "2021-02-20",
          "2021-02-27",
          "2021-03-06",
          "2021-03-13"
         ],
         "xaxis": "x",
         "y": [
          0,
          0,
          0,
          0,
          0,
          0,
          0,
          0,
          0,
          0,
          0,
          0,
          0,
          0,
          0,
          0,
          0,
          0,
          0,
          0,
          0,
          0,
          0,
          0,
          0,
          0,
          0,
          0,
          0,
          0,
          0,
          0,
          0,
          0,
          0,
          0,
          0,
          0,
          0,
          0,
          0,
          0,
          0,
          0,
          0,
          0,
          0,
          0,
          0,
          0,
          0,
          0,
          0,
          0,
          0,
          0,
          0,
          0,
          0,
          0,
          0,
          0,
          0
         ],
         "yaxis": "y"
        },
        {
         "customdata": [
          [
           "14-D RFM UNL",
           0,
           "2020-01-04"
          ],
          [
           "14-D RFM UNL",
           0,
           "2020-01-11"
          ],
          [
           "14-D RFM UNL",
           0,
           "2020-01-18"
          ],
          [
           "14-D RFM UNL",
           0,
           "2020-01-25"
          ],
          [
           "14-D RFM UNL",
           0,
           "2020-02-01"
          ],
          [
           "14-D RFM UNL",
           0,
           "2020-02-08"
          ],
          [
           "14-D RFM UNL",
           0,
           "2020-02-15"
          ],
          [
           "14-D RFM UNL",
           0,
           "2020-02-22"
          ],
          [
           "14-D RFM UNL",
           0,
           "2020-02-29"
          ],
          [
           "14-D RFM UNL",
           0,
           "2020-03-07"
          ],
          [
           "14-D RFM UNL",
           0,
           "2020-03-14"
          ],
          [
           "14-D RFM UNL",
           0,
           "2020-03-21"
          ],
          [
           "14-D RFM UNL",
           0,
           "2020-03-28"
          ],
          [
           "14-D RFM UNL",
           0,
           "2020-04-04"
          ],
          [
           "14-D RFM UNL",
           0,
           "2020-04-11"
          ],
          [
           "14-D RFM UNL",
           0,
           "2020-04-18"
          ],
          [
           "14-D RFM UNL",
           0,
           "2020-04-25"
          ],
          [
           "14-D RFM UNL",
           0,
           "2020-05-02"
          ],
          [
           "14-D RFM UNL",
           0,
           "2020-05-09"
          ],
          [
           "14-D RFM UNL",
           0,
           "2020-05-16"
          ],
          [
           "14-D RFM UNL",
           0,
           "2020-05-23"
          ],
          [
           "14-D RFM UNL",
           0,
           "2020-05-30"
          ],
          [
           "14-D RFM UNL",
           0,
           "2020-06-06"
          ],
          [
           "14-D RFM UNL",
           0,
           "2020-06-13"
          ],
          [
           "14-D RFM UNL",
           0,
           "2020-06-20"
          ],
          [
           "14-D RFM UNL",
           0,
           "2020-06-27"
          ],
          [
           "14-D RFM UNL",
           0,
           "2020-07-04"
          ],
          [
           "14-D RFM UNL",
           0,
           "2020-07-11"
          ],
          [
           "14-D RFM UNL",
           0,
           "2020-07-18"
          ],
          [
           "14-D RFM UNL",
           0,
           "2020-07-25"
          ],
          [
           "14-D RFM UNL",
           0,
           "2020-08-01"
          ],
          [
           "14-D RFM UNL",
           0,
           "2020-08-08"
          ],
          [
           "14-D RFM UNL",
           0,
           "2020-08-15"
          ],
          [
           "14-D RFM UNL",
           0,
           "2020-08-22"
          ],
          [
           "14-D RFM UNL",
           0,
           "2020-08-29"
          ],
          [
           "14-D RFM UNL",
           0,
           "2020-09-05"
          ],
          [
           "14-D RFM UNL",
           0,
           "2020-09-12"
          ],
          [
           "14-D RFM UNL",
           0,
           "2020-09-19"
          ],
          [
           "14-D RFM UNL",
           0,
           "2020-09-26"
          ],
          [
           "14-D RFM UNL",
           0,
           "2020-10-03"
          ],
          [
           "14-D RFM UNL",
           0,
           "2020-10-10"
          ],
          [
           "14-D RFM UNL",
           0,
           "2020-10-17"
          ],
          [
           "14-D RFM UNL",
           0,
           "2020-10-24"
          ],
          [
           "14-D RFM UNL",
           0,
           "2020-10-31"
          ],
          [
           "14-D RFM UNL",
           0,
           "2020-11-07"
          ],
          [
           "14-D RFM UNL",
           0,
           "2020-11-14"
          ],
          [
           "14-D RFM UNL",
           0,
           "2020-11-21"
          ],
          [
           "14-D RFM UNL",
           0,
           "2020-11-28"
          ],
          [
           "14-D RFM UNL",
           0,
           "2020-12-05"
          ],
          [
           "14-D RFM UNL",
           0,
           "2020-12-12"
          ],
          [
           "14-D RFM UNL",
           0,
           "2020-12-19"
          ],
          [
           "14-D RFM UNL",
           0,
           "2020-12-26"
          ],
          [
           "14-D RFM UNL",
           0,
           "2021-01-02"
          ],
          [
           "14-D RFM UNL",
           0,
           "2021-01-09"
          ],
          [
           "14-D RFM UNL",
           0,
           "2021-01-16"
          ],
          [
           "14-D RFM UNL",
           0,
           "2021-01-23"
          ],
          [
           "14-D RFM UNL",
           0,
           "2021-01-30"
          ],
          [
           "14-D RFM UNL",
           0,
           "2021-02-06"
          ],
          [
           "14-D RFM UNL",
           0,
           "2021-02-13"
          ],
          [
           "14-D RFM UNL",
           0,
           "2021-02-20"
          ],
          [
           "14-D RFM UNL",
           0,
           "2021-02-27"
          ],
          [
           "14-D RFM UNL",
           0,
           "2021-03-06"
          ],
          [
           "14-D RFM UNL",
           0,
           "2021-03-13"
          ]
         ],
         "hovertemplate": "<b>MetroCard Type: %{customdata[0]}</b> <br>MetroCard Swipes: %{customdata[1]:,} <br>Week Ending: %{customdata[2]}<extra></extra>",
         "legendgroup": "14-D RFM UNL",
         "line": {
          "color": "rgb(140,140,140)"
         },
         "mode": "lines",
         "name": "14-D RFM UNL",
         "orientation": "v",
         "showlegend": true,
         "stackgroup": "1",
         "type": "scatter",
         "x": [
          "2020-01-04",
          "2020-01-11",
          "2020-01-18",
          "2020-01-25",
          "2020-02-01",
          "2020-02-08",
          "2020-02-15",
          "2020-02-22",
          "2020-02-29",
          "2020-03-07",
          "2020-03-14",
          "2020-03-21",
          "2020-03-28",
          "2020-04-04",
          "2020-04-11",
          "2020-04-18",
          "2020-04-25",
          "2020-05-02",
          "2020-05-09",
          "2020-05-16",
          "2020-05-23",
          "2020-05-30",
          "2020-06-06",
          "2020-06-13",
          "2020-06-20",
          "2020-06-27",
          "2020-07-04",
          "2020-07-11",
          "2020-07-18",
          "2020-07-25",
          "2020-08-01",
          "2020-08-08",
          "2020-08-15",
          "2020-08-22",
          "2020-08-29",
          "2020-09-05",
          "2020-09-12",
          "2020-09-19",
          "2020-09-26",
          "2020-10-03",
          "2020-10-10",
          "2020-10-17",
          "2020-10-24",
          "2020-10-31",
          "2020-11-07",
          "2020-11-14",
          "2020-11-21",
          "2020-11-28",
          "2020-12-05",
          "2020-12-12",
          "2020-12-19",
          "2020-12-26",
          "2021-01-02",
          "2021-01-09",
          "2021-01-16",
          "2021-01-23",
          "2021-01-30",
          "2021-02-06",
          "2021-02-13",
          "2021-02-20",
          "2021-02-27",
          "2021-03-06",
          "2021-03-13"
         ],
         "xaxis": "x",
         "y": [
          0,
          0,
          0,
          0,
          0,
          0,
          0,
          0,
          0,
          0,
          0,
          0,
          0,
          0,
          0,
          0,
          0,
          0,
          0,
          0,
          0,
          0,
          0,
          0,
          0,
          0,
          0,
          0,
          0,
          0,
          0,
          0,
          0,
          0,
          0,
          0,
          0,
          0,
          0,
          0,
          0,
          0,
          0,
          0,
          0,
          0,
          0,
          0,
          0,
          0,
          0,
          0,
          0,
          0,
          0,
          0,
          0,
          0,
          0,
          0,
          0,
          0,
          0
         ],
         "yaxis": "y"
        },
        {
         "customdata": [
          [
           "1-D UNL",
           0,
           "2020-01-04"
          ],
          [
           "1-D UNL",
           0,
           "2020-01-11"
          ],
          [
           "1-D UNL",
           0,
           "2020-01-18"
          ],
          [
           "1-D UNL",
           0,
           "2020-01-25"
          ],
          [
           "1-D UNL",
           0,
           "2020-02-01"
          ],
          [
           "1-D UNL",
           0,
           "2020-02-08"
          ],
          [
           "1-D UNL",
           0,
           "2020-02-15"
          ],
          [
           "1-D UNL",
           0,
           "2020-02-22"
          ],
          [
           "1-D UNL",
           0,
           "2020-02-29"
          ],
          [
           "1-D UNL",
           0,
           "2020-03-07"
          ],
          [
           "1-D UNL",
           0,
           "2020-03-14"
          ],
          [
           "1-D UNL",
           0,
           "2020-03-21"
          ],
          [
           "1-D UNL",
           0,
           "2020-03-28"
          ],
          [
           "1-D UNL",
           0,
           "2020-04-04"
          ],
          [
           "1-D UNL",
           0,
           "2020-04-11"
          ],
          [
           "1-D UNL",
           0,
           "2020-04-18"
          ],
          [
           "1-D UNL",
           0,
           "2020-04-25"
          ],
          [
           "1-D UNL",
           0,
           "2020-05-02"
          ],
          [
           "1-D UNL",
           0,
           "2020-05-09"
          ],
          [
           "1-D UNL",
           0,
           "2020-05-16"
          ],
          [
           "1-D UNL",
           0,
           "2020-05-23"
          ],
          [
           "1-D UNL",
           0,
           "2020-05-30"
          ],
          [
           "1-D UNL",
           0,
           "2020-06-06"
          ],
          [
           "1-D UNL",
           0,
           "2020-06-13"
          ],
          [
           "1-D UNL",
           0,
           "2020-06-20"
          ],
          [
           "1-D UNL",
           0,
           "2020-06-27"
          ],
          [
           "1-D UNL",
           0,
           "2020-07-04"
          ],
          [
           "1-D UNL",
           0,
           "2020-07-11"
          ],
          [
           "1-D UNL",
           0,
           "2020-07-18"
          ],
          [
           "1-D UNL",
           0,
           "2020-07-25"
          ],
          [
           "1-D UNL",
           0,
           "2020-08-01"
          ],
          [
           "1-D UNL",
           0,
           "2020-08-08"
          ],
          [
           "1-D UNL",
           0,
           "2020-08-15"
          ],
          [
           "1-D UNL",
           0,
           "2020-08-22"
          ],
          [
           "1-D UNL",
           0,
           "2020-08-29"
          ],
          [
           "1-D UNL",
           0,
           "2020-09-05"
          ],
          [
           "1-D UNL",
           0,
           "2020-09-12"
          ],
          [
           "1-D UNL",
           0,
           "2020-09-19"
          ],
          [
           "1-D UNL",
           0,
           "2020-09-26"
          ],
          [
           "1-D UNL",
           0,
           "2020-10-03"
          ],
          [
           "1-D UNL",
           0,
           "2020-10-10"
          ],
          [
           "1-D UNL",
           0,
           "2020-10-17"
          ],
          [
           "1-D UNL",
           0,
           "2020-10-24"
          ],
          [
           "1-D UNL",
           0,
           "2020-10-31"
          ],
          [
           "1-D UNL",
           0,
           "2020-11-07"
          ],
          [
           "1-D UNL",
           0,
           "2020-11-14"
          ],
          [
           "1-D UNL",
           0,
           "2020-11-21"
          ],
          [
           "1-D UNL",
           0,
           "2020-11-28"
          ],
          [
           "1-D UNL",
           0,
           "2020-12-05"
          ],
          [
           "1-D UNL",
           0,
           "2020-12-12"
          ],
          [
           "1-D UNL",
           0,
           "2020-12-19"
          ],
          [
           "1-D UNL",
           0,
           "2020-12-26"
          ],
          [
           "1-D UNL",
           0,
           "2021-01-02"
          ],
          [
           "1-D UNL",
           0,
           "2021-01-09"
          ],
          [
           "1-D UNL",
           0,
           "2021-01-16"
          ],
          [
           "1-D UNL",
           0,
           "2021-01-23"
          ],
          [
           "1-D UNL",
           0,
           "2021-01-30"
          ],
          [
           "1-D UNL",
           0,
           "2021-02-06"
          ],
          [
           "1-D UNL",
           0,
           "2021-02-13"
          ],
          [
           "1-D UNL",
           0,
           "2021-02-20"
          ],
          [
           "1-D UNL",
           0,
           "2021-02-27"
          ],
          [
           "1-D UNL",
           0,
           "2021-03-06"
          ],
          [
           "1-D UNL",
           0,
           "2021-03-13"
          ]
         ],
         "hovertemplate": "<b>MetroCard Type: %{customdata[0]}</b> <br>MetroCard Swipes: %{customdata[1]:,} <br>Week Ending: %{customdata[2]}<extra></extra>",
         "legendgroup": "1-D UNL",
         "line": {
          "color": "rgb(204,185,116)"
         },
         "mode": "lines",
         "name": "1-D UNL",
         "orientation": "v",
         "showlegend": true,
         "stackgroup": "1",
         "type": "scatter",
         "x": [
          "2020-01-04",
          "2020-01-11",
          "2020-01-18",
          "2020-01-25",
          "2020-02-01",
          "2020-02-08",
          "2020-02-15",
          "2020-02-22",
          "2020-02-29",
          "2020-03-07",
          "2020-03-14",
          "2020-03-21",
          "2020-03-28",
          "2020-04-04",
          "2020-04-11",
          "2020-04-18",
          "2020-04-25",
          "2020-05-02",
          "2020-05-09",
          "2020-05-16",
          "2020-05-23",
          "2020-05-30",
          "2020-06-06",
          "2020-06-13",
          "2020-06-20",
          "2020-06-27",
          "2020-07-04",
          "2020-07-11",
          "2020-07-18",
          "2020-07-25",
          "2020-08-01",
          "2020-08-08",
          "2020-08-15",
          "2020-08-22",
          "2020-08-29",
          "2020-09-05",
          "2020-09-12",
          "2020-09-19",
          "2020-09-26",
          "2020-10-03",
          "2020-10-10",
          "2020-10-17",
          "2020-10-24",
          "2020-10-31",
          "2020-11-07",
          "2020-11-14",
          "2020-11-21",
          "2020-11-28",
          "2020-12-05",
          "2020-12-12",
          "2020-12-19",
          "2020-12-26",
          "2021-01-02",
          "2021-01-09",
          "2021-01-16",
          "2021-01-23",
          "2021-01-30",
          "2021-02-06",
          "2021-02-13",
          "2021-02-20",
          "2021-02-27",
          "2021-03-06",
          "2021-03-13"
         ],
         "xaxis": "x",
         "y": [
          0,
          0,
          0,
          0,
          0,
          0,
          0,
          0,
          0,
          0,
          0,
          0,
          0,
          0,
          0,
          0,
          0,
          0,
          0,
          0,
          0,
          0,
          0,
          0,
          0,
          0,
          0,
          0,
          0,
          0,
          0,
          0,
          0,
          0,
          0,
          0,
          0,
          0,
          0,
          0,
          0,
          0,
          0,
          0,
          0,
          0,
          0,
          0,
          0,
          0,
          0,
          0,
          0,
          0,
          0,
          0,
          0,
          0,
          0,
          0,
          0,
          0,
          0
         ],
         "yaxis": "y"
        }
       ],
       "layout": {
        "hoverdistance": -1,
        "legend": {
         "title": {
          "text": "MetroCard Type"
         },
         "tracegroupgap": 0
        },
        "margin": {
         "t": 60
        },
        "template": {
         "data": {
          "bar": [
           {
            "error_x": {
             "color": "rgb(36,36,36)"
            },
            "error_y": {
             "color": "rgb(36,36,36)"
            },
            "marker": {
             "line": {
              "color": "rgb(234,234,242)",
              "width": 0.5
             }
            },
            "type": "bar"
           }
          ],
          "barpolar": [
           {
            "marker": {
             "line": {
              "color": "rgb(234,234,242)",
              "width": 0.5
             }
            },
            "type": "barpolar"
           }
          ],
          "carpet": [
           {
            "aaxis": {
             "endlinecolor": "rgb(36,36,36)",
             "gridcolor": "white",
             "linecolor": "white",
             "minorgridcolor": "white",
             "startlinecolor": "rgb(36,36,36)"
            },
            "baxis": {
             "endlinecolor": "rgb(36,36,36)",
             "gridcolor": "white",
             "linecolor": "white",
             "minorgridcolor": "white",
             "startlinecolor": "rgb(36,36,36)"
            },
            "type": "carpet"
           }
          ],
          "choropleth": [
           {
            "colorbar": {
             "outlinewidth": 0,
             "tickcolor": "rgb(36,36,36)",
             "ticklen": 8,
             "ticks": "outside",
             "tickwidth": 2
            },
            "type": "choropleth"
           }
          ],
          "contour": [
           {
            "colorbar": {
             "outlinewidth": 0,
             "tickcolor": "rgb(36,36,36)",
             "ticklen": 8,
             "ticks": "outside",
             "tickwidth": 2
            },
            "colorscale": [
             [
              0,
              "rgb(2,4,25)"
             ],
             [
              0.06274509803921569,
              "rgb(24,15,41)"
             ],
             [
              0.12549019607843137,
              "rgb(47,23,57)"
             ],
             [
              0.18823529411764706,
              "rgb(71,28,72)"
             ],
             [
              0.25098039215686274,
              "rgb(97,30,82)"
             ],
             [
              0.3137254901960784,
              "rgb(123,30,89)"
             ],
             [
              0.3764705882352941,
              "rgb(150,27,91)"
             ],
             [
              0.4392156862745098,
              "rgb(177,22,88)"
             ],
             [
              0.5019607843137255,
              "rgb(203,26,79)"
             ],
             [
              0.5647058823529412,
              "rgb(223,47,67)"
             ],
             [
              0.6274509803921569,
              "rgb(236,76,61)"
             ],
             [
              0.6901960784313725,
              "rgb(242,107,73)"
             ],
             [
              0.7529411764705882,
              "rgb(244,135,95)"
             ],
             [
              0.8156862745098039,
              "rgb(245,162,122)"
             ],
             [
              0.8784313725490196,
              "rgb(246,188,153)"
             ],
             [
              0.9411764705882353,
              "rgb(247,212,187)"
             ],
             [
              1,
              "rgb(250,234,220)"
             ]
            ],
            "type": "contour"
           }
          ],
          "contourcarpet": [
           {
            "colorbar": {
             "outlinewidth": 0,
             "tickcolor": "rgb(36,36,36)",
             "ticklen": 8,
             "ticks": "outside",
             "tickwidth": 2
            },
            "type": "contourcarpet"
           }
          ],
          "heatmap": [
           {
            "colorbar": {
             "outlinewidth": 0,
             "tickcolor": "rgb(36,36,36)",
             "ticklen": 8,
             "ticks": "outside",
             "tickwidth": 2
            },
            "colorscale": [
             [
              0,
              "rgb(2,4,25)"
             ],
             [
              0.06274509803921569,
              "rgb(24,15,41)"
             ],
             [
              0.12549019607843137,
              "rgb(47,23,57)"
             ],
             [
              0.18823529411764706,
              "rgb(71,28,72)"
             ],
             [
              0.25098039215686274,
              "rgb(97,30,82)"
             ],
             [
              0.3137254901960784,
              "rgb(123,30,89)"
             ],
             [
              0.3764705882352941,
              "rgb(150,27,91)"
             ],
             [
              0.4392156862745098,
              "rgb(177,22,88)"
             ],
             [
              0.5019607843137255,
              "rgb(203,26,79)"
             ],
             [
              0.5647058823529412,
              "rgb(223,47,67)"
             ],
             [
              0.6274509803921569,
              "rgb(236,76,61)"
             ],
             [
              0.6901960784313725,
              "rgb(242,107,73)"
             ],
             [
              0.7529411764705882,
              "rgb(244,135,95)"
             ],
             [
              0.8156862745098039,
              "rgb(245,162,122)"
             ],
             [
              0.8784313725490196,
              "rgb(246,188,153)"
             ],
             [
              0.9411764705882353,
              "rgb(247,212,187)"
             ],
             [
              1,
              "rgb(250,234,220)"
             ]
            ],
            "type": "heatmap"
           }
          ],
          "heatmapgl": [
           {
            "colorbar": {
             "outlinewidth": 0,
             "tickcolor": "rgb(36,36,36)",
             "ticklen": 8,
             "ticks": "outside",
             "tickwidth": 2
            },
            "colorscale": [
             [
              0,
              "rgb(2,4,25)"
             ],
             [
              0.06274509803921569,
              "rgb(24,15,41)"
             ],
             [
              0.12549019607843137,
              "rgb(47,23,57)"
             ],
             [
              0.18823529411764706,
              "rgb(71,28,72)"
             ],
             [
              0.25098039215686274,
              "rgb(97,30,82)"
             ],
             [
              0.3137254901960784,
              "rgb(123,30,89)"
             ],
             [
              0.3764705882352941,
              "rgb(150,27,91)"
             ],
             [
              0.4392156862745098,
              "rgb(177,22,88)"
             ],
             [
              0.5019607843137255,
              "rgb(203,26,79)"
             ],
             [
              0.5647058823529412,
              "rgb(223,47,67)"
             ],
             [
              0.6274509803921569,
              "rgb(236,76,61)"
             ],
             [
              0.6901960784313725,
              "rgb(242,107,73)"
             ],
             [
              0.7529411764705882,
              "rgb(244,135,95)"
             ],
             [
              0.8156862745098039,
              "rgb(245,162,122)"
             ],
             [
              0.8784313725490196,
              "rgb(246,188,153)"
             ],
             [
              0.9411764705882353,
              "rgb(247,212,187)"
             ],
             [
              1,
              "rgb(250,234,220)"
             ]
            ],
            "type": "heatmapgl"
           }
          ],
          "histogram": [
           {
            "marker": {
             "colorbar": {
              "outlinewidth": 0,
              "tickcolor": "rgb(36,36,36)",
              "ticklen": 8,
              "ticks": "outside",
              "tickwidth": 2
             }
            },
            "type": "histogram"
           }
          ],
          "histogram2d": [
           {
            "colorbar": {
             "outlinewidth": 0,
             "tickcolor": "rgb(36,36,36)",
             "ticklen": 8,
             "ticks": "outside",
             "tickwidth": 2
            },
            "colorscale": [
             [
              0,
              "rgb(2,4,25)"
             ],
             [
              0.06274509803921569,
              "rgb(24,15,41)"
             ],
             [
              0.12549019607843137,
              "rgb(47,23,57)"
             ],
             [
              0.18823529411764706,
              "rgb(71,28,72)"
             ],
             [
              0.25098039215686274,
              "rgb(97,30,82)"
             ],
             [
              0.3137254901960784,
              "rgb(123,30,89)"
             ],
             [
              0.3764705882352941,
              "rgb(150,27,91)"
             ],
             [
              0.4392156862745098,
              "rgb(177,22,88)"
             ],
             [
              0.5019607843137255,
              "rgb(203,26,79)"
             ],
             [
              0.5647058823529412,
              "rgb(223,47,67)"
             ],
             [
              0.6274509803921569,
              "rgb(236,76,61)"
             ],
             [
              0.6901960784313725,
              "rgb(242,107,73)"
             ],
             [
              0.7529411764705882,
              "rgb(244,135,95)"
             ],
             [
              0.8156862745098039,
              "rgb(245,162,122)"
             ],
             [
              0.8784313725490196,
              "rgb(246,188,153)"
             ],
             [
              0.9411764705882353,
              "rgb(247,212,187)"
             ],
             [
              1,
              "rgb(250,234,220)"
             ]
            ],
            "type": "histogram2d"
           }
          ],
          "histogram2dcontour": [
           {
            "colorbar": {
             "outlinewidth": 0,
             "tickcolor": "rgb(36,36,36)",
             "ticklen": 8,
             "ticks": "outside",
             "tickwidth": 2
            },
            "colorscale": [
             [
              0,
              "rgb(2,4,25)"
             ],
             [
              0.06274509803921569,
              "rgb(24,15,41)"
             ],
             [
              0.12549019607843137,
              "rgb(47,23,57)"
             ],
             [
              0.18823529411764706,
              "rgb(71,28,72)"
             ],
             [
              0.25098039215686274,
              "rgb(97,30,82)"
             ],
             [
              0.3137254901960784,
              "rgb(123,30,89)"
             ],
             [
              0.3764705882352941,
              "rgb(150,27,91)"
             ],
             [
              0.4392156862745098,
              "rgb(177,22,88)"
             ],
             [
              0.5019607843137255,
              "rgb(203,26,79)"
             ],
             [
              0.5647058823529412,
              "rgb(223,47,67)"
             ],
             [
              0.6274509803921569,
              "rgb(236,76,61)"
             ],
             [
              0.6901960784313725,
              "rgb(242,107,73)"
             ],
             [
              0.7529411764705882,
              "rgb(244,135,95)"
             ],
             [
              0.8156862745098039,
              "rgb(245,162,122)"
             ],
             [
              0.8784313725490196,
              "rgb(246,188,153)"
             ],
             [
              0.9411764705882353,
              "rgb(247,212,187)"
             ],
             [
              1,
              "rgb(250,234,220)"
             ]
            ],
            "type": "histogram2dcontour"
           }
          ],
          "mesh3d": [
           {
            "colorbar": {
             "outlinewidth": 0,
             "tickcolor": "rgb(36,36,36)",
             "ticklen": 8,
             "ticks": "outside",
             "tickwidth": 2
            },
            "type": "mesh3d"
           }
          ],
          "parcoords": [
           {
            "line": {
             "colorbar": {
              "outlinewidth": 0,
              "tickcolor": "rgb(36,36,36)",
              "ticklen": 8,
              "ticks": "outside",
              "tickwidth": 2
             }
            },
            "type": "parcoords"
           }
          ],
          "pie": [
           {
            "automargin": true,
            "type": "pie"
           }
          ],
          "scatter": [
           {
            "marker": {
             "colorbar": {
              "outlinewidth": 0,
              "tickcolor": "rgb(36,36,36)",
              "ticklen": 8,
              "ticks": "outside",
              "tickwidth": 2
             }
            },
            "type": "scatter"
           }
          ],
          "scatter3d": [
           {
            "line": {
             "colorbar": {
              "outlinewidth": 0,
              "tickcolor": "rgb(36,36,36)",
              "ticklen": 8,
              "ticks": "outside",
              "tickwidth": 2
             }
            },
            "marker": {
             "colorbar": {
              "outlinewidth": 0,
              "tickcolor": "rgb(36,36,36)",
              "ticklen": 8,
              "ticks": "outside",
              "tickwidth": 2
             }
            },
            "type": "scatter3d"
           }
          ],
          "scattercarpet": [
           {
            "marker": {
             "colorbar": {
              "outlinewidth": 0,
              "tickcolor": "rgb(36,36,36)",
              "ticklen": 8,
              "ticks": "outside",
              "tickwidth": 2
             }
            },
            "type": "scattercarpet"
           }
          ],
          "scattergeo": [
           {
            "marker": {
             "colorbar": {
              "outlinewidth": 0,
              "tickcolor": "rgb(36,36,36)",
              "ticklen": 8,
              "ticks": "outside",
              "tickwidth": 2
             }
            },
            "type": "scattergeo"
           }
          ],
          "scattergl": [
           {
            "marker": {
             "colorbar": {
              "outlinewidth": 0,
              "tickcolor": "rgb(36,36,36)",
              "ticklen": 8,
              "ticks": "outside",
              "tickwidth": 2
             }
            },
            "type": "scattergl"
           }
          ],
          "scattermapbox": [
           {
            "marker": {
             "colorbar": {
              "outlinewidth": 0,
              "tickcolor": "rgb(36,36,36)",
              "ticklen": 8,
              "ticks": "outside",
              "tickwidth": 2
             }
            },
            "type": "scattermapbox"
           }
          ],
          "scatterpolar": [
           {
            "marker": {
             "colorbar": {
              "outlinewidth": 0,
              "tickcolor": "rgb(36,36,36)",
              "ticklen": 8,
              "ticks": "outside",
              "tickwidth": 2
             }
            },
            "type": "scatterpolar"
           }
          ],
          "scatterpolargl": [
           {
            "marker": {
             "colorbar": {
              "outlinewidth": 0,
              "tickcolor": "rgb(36,36,36)",
              "ticklen": 8,
              "ticks": "outside",
              "tickwidth": 2
             }
            },
            "type": "scatterpolargl"
           }
          ],
          "scatterternary": [
           {
            "marker": {
             "colorbar": {
              "outlinewidth": 0,
              "tickcolor": "rgb(36,36,36)",
              "ticklen": 8,
              "ticks": "outside",
              "tickwidth": 2
             }
            },
            "type": "scatterternary"
           }
          ],
          "surface": [
           {
            "colorbar": {
             "outlinewidth": 0,
             "tickcolor": "rgb(36,36,36)",
             "ticklen": 8,
             "ticks": "outside",
             "tickwidth": 2
            },
            "colorscale": [
             [
              0,
              "rgb(2,4,25)"
             ],
             [
              0.06274509803921569,
              "rgb(24,15,41)"
             ],
             [
              0.12549019607843137,
              "rgb(47,23,57)"
             ],
             [
              0.18823529411764706,
              "rgb(71,28,72)"
             ],
             [
              0.25098039215686274,
              "rgb(97,30,82)"
             ],
             [
              0.3137254901960784,
              "rgb(123,30,89)"
             ],
             [
              0.3764705882352941,
              "rgb(150,27,91)"
             ],
             [
              0.4392156862745098,
              "rgb(177,22,88)"
             ],
             [
              0.5019607843137255,
              "rgb(203,26,79)"
             ],
             [
              0.5647058823529412,
              "rgb(223,47,67)"
             ],
             [
              0.6274509803921569,
              "rgb(236,76,61)"
             ],
             [
              0.6901960784313725,
              "rgb(242,107,73)"
             ],
             [
              0.7529411764705882,
              "rgb(244,135,95)"
             ],
             [
              0.8156862745098039,
              "rgb(245,162,122)"
             ],
             [
              0.8784313725490196,
              "rgb(246,188,153)"
             ],
             [
              0.9411764705882353,
              "rgb(247,212,187)"
             ],
             [
              1,
              "rgb(250,234,220)"
             ]
            ],
            "type": "surface"
           }
          ],
          "table": [
           {
            "cells": {
             "fill": {
              "color": "rgb(231,231,240)"
             },
             "line": {
              "color": "white"
             }
            },
            "header": {
             "fill": {
              "color": "rgb(183,183,191)"
             },
             "line": {
              "color": "white"
             }
            },
            "type": "table"
           }
          ]
         },
         "layout": {
          "annotationdefaults": {
           "arrowcolor": "rgb(67,103,167)"
          },
          "coloraxis": {
           "colorbar": {
            "outlinewidth": 0,
            "tickcolor": "rgb(36,36,36)",
            "ticklen": 8,
            "ticks": "outside",
            "tickwidth": 2
           }
          },
          "colorscale": {
           "sequential": [
            [
             0,
             "rgb(2,4,25)"
            ],
            [
             0.06274509803921569,
             "rgb(24,15,41)"
            ],
            [
             0.12549019607843137,
             "rgb(47,23,57)"
            ],
            [
             0.18823529411764706,
             "rgb(71,28,72)"
            ],
            [
             0.25098039215686274,
             "rgb(97,30,82)"
            ],
            [
             0.3137254901960784,
             "rgb(123,30,89)"
            ],
            [
             0.3764705882352941,
             "rgb(150,27,91)"
            ],
            [
             0.4392156862745098,
             "rgb(177,22,88)"
            ],
            [
             0.5019607843137255,
             "rgb(203,26,79)"
            ],
            [
             0.5647058823529412,
             "rgb(223,47,67)"
            ],
            [
             0.6274509803921569,
             "rgb(236,76,61)"
            ],
            [
             0.6901960784313725,
             "rgb(242,107,73)"
            ],
            [
             0.7529411764705882,
             "rgb(244,135,95)"
            ],
            [
             0.8156862745098039,
             "rgb(245,162,122)"
            ],
            [
             0.8784313725490196,
             "rgb(246,188,153)"
            ],
            [
             0.9411764705882353,
             "rgb(247,212,187)"
            ],
            [
             1,
             "rgb(250,234,220)"
            ]
           ],
           "sequentialminus": [
            [
             0,
             "rgb(2,4,25)"
            ],
            [
             0.06274509803921569,
             "rgb(24,15,41)"
            ],
            [
             0.12549019607843137,
             "rgb(47,23,57)"
            ],
            [
             0.18823529411764706,
             "rgb(71,28,72)"
            ],
            [
             0.25098039215686274,
             "rgb(97,30,82)"
            ],
            [
             0.3137254901960784,
             "rgb(123,30,89)"
            ],
            [
             0.3764705882352941,
             "rgb(150,27,91)"
            ],
            [
             0.4392156862745098,
             "rgb(177,22,88)"
            ],
            [
             0.5019607843137255,
             "rgb(203,26,79)"
            ],
            [
             0.5647058823529412,
             "rgb(223,47,67)"
            ],
            [
             0.6274509803921569,
             "rgb(236,76,61)"
            ],
            [
             0.6901960784313725,
             "rgb(242,107,73)"
            ],
            [
             0.7529411764705882,
             "rgb(244,135,95)"
            ],
            [
             0.8156862745098039,
             "rgb(245,162,122)"
            ],
            [
             0.8784313725490196,
             "rgb(246,188,153)"
            ],
            [
             0.9411764705882353,
             "rgb(247,212,187)"
            ],
            [
             1,
             "rgb(250,234,220)"
            ]
           ]
          },
          "colorway": [
           "rgb(76,114,176)",
           "rgb(221,132,82)",
           "rgb(85,168,104)",
           "rgb(196,78,82)",
           "rgb(129,114,179)",
           "rgb(147,120,96)",
           "rgb(218,139,195)",
           "rgb(140,140,140)",
           "rgb(204,185,116)",
           "rgb(100,181,205)"
          ],
          "font": {
           "color": "rgb(36,36,36)"
          },
          "geo": {
           "bgcolor": "white",
           "lakecolor": "white",
           "landcolor": "rgb(234,234,242)",
           "showlakes": true,
           "showland": true,
           "subunitcolor": "white"
          },
          "hoverlabel": {
           "align": "left"
          },
          "hovermode": "closest",
          "paper_bgcolor": "white",
          "plot_bgcolor": "rgb(234,234,242)",
          "polar": {
           "angularaxis": {
            "gridcolor": "white",
            "linecolor": "white",
            "showgrid": true,
            "ticks": ""
           },
           "bgcolor": "rgb(234,234,242)",
           "radialaxis": {
            "gridcolor": "white",
            "linecolor": "white",
            "showgrid": true,
            "ticks": ""
           }
          },
          "scene": {
           "xaxis": {
            "backgroundcolor": "rgb(234,234,242)",
            "gridcolor": "white",
            "gridwidth": 2,
            "linecolor": "white",
            "showbackground": true,
            "showgrid": true,
            "ticks": "",
            "zerolinecolor": "white"
           },
           "yaxis": {
            "backgroundcolor": "rgb(234,234,242)",
            "gridcolor": "white",
            "gridwidth": 2,
            "linecolor": "white",
            "showbackground": true,
            "showgrid": true,
            "ticks": "",
            "zerolinecolor": "white"
           },
           "zaxis": {
            "backgroundcolor": "rgb(234,234,242)",
            "gridcolor": "white",
            "gridwidth": 2,
            "linecolor": "white",
            "showbackground": true,
            "showgrid": true,
            "ticks": "",
            "zerolinecolor": "white"
           }
          },
          "shapedefaults": {
           "fillcolor": "rgb(67,103,167)",
           "line": {
            "width": 0
           },
           "opacity": 0.5
          },
          "ternary": {
           "aaxis": {
            "gridcolor": "white",
            "linecolor": "white",
            "showgrid": true,
            "ticks": ""
           },
           "baxis": {
            "gridcolor": "white",
            "linecolor": "white",
            "showgrid": true,
            "ticks": ""
           },
           "bgcolor": "rgb(234,234,242)",
           "caxis": {
            "gridcolor": "white",
            "linecolor": "white",
            "showgrid": true,
            "ticks": ""
           }
          },
          "xaxis": {
           "automargin": true,
           "gridcolor": "white",
           "linecolor": "white",
           "showgrid": true,
           "ticks": "",
           "title": {
            "standoff": 15
           },
           "zerolinecolor": "white"
          },
          "yaxis": {
           "automargin": true,
           "gridcolor": "white",
           "linecolor": "white",
           "showgrid": true,
           "ticks": "",
           "title": {
            "standoff": 15
           },
           "zerolinecolor": "white"
          }
         }
        },
        "xaxis": {
         "anchor": "y",
         "domain": [
          0,
          1
         ],
         "spikemode": "across",
         "spikethickness": 1,
         "title": {
          "text": ""
         }
        },
        "yaxis": {
         "anchor": "x",
         "domain": [
          0,
          1
         ],
         "title": {
          "text": "MetroCard Weekly Swipes"
         }
        }
       }
      },
      "text/html": [
       "<div>\n",
       "        \n",
       "        \n",
       "            <div id=\"3369cdf3-eb42-486d-b356-73bc35230748\" class=\"plotly-graph-div\" style=\"height:525px; width:100%;\"></div>\n",
       "            <script type=\"text/javascript\">\n",
       "                require([\"plotly\"], function(Plotly) {\n",
       "                    window.PLOTLYENV=window.PLOTLYENV || {};\n",
       "                    \n",
       "                if (document.getElementById(\"3369cdf3-eb42-486d-b356-73bc35230748\")) {\n",
       "                    Plotly.newPlot(\n",
       "                        '3369cdf3-eb42-486d-b356-73bc35230748',\n",
       "                        [{\"customdata\": [[\"FF\", 65407.0, \"2020-01-04\"], [\"FF\", 60072.0, \"2020-01-11\"], [\"FF\", 59967.0, \"2020-01-18\"], [\"FF\", 51550.0, \"2020-01-25\"], [\"FF\", 54850.0, \"2020-02-01\"], [\"FF\", 54210.0, \"2020-02-08\"], [\"FF\", 55189.0, \"2020-02-15\"], [\"FF\", 54734.0, \"2020-02-22\"], [\"FF\", 53366.0, \"2020-02-29\"], [\"FF\", 49058.0, \"2020-03-07\"], [\"FF\", 39980.0, \"2020-03-14\"], [\"FF\", 12463.0, \"2020-03-21\"], [\"FF\", 6499.0, \"2020-03-28\"], [\"FF\", 4410.0, \"2020-04-04\"], [\"FF\", 3746.0, \"2020-04-11\"], [\"FF\", 4014.0, \"2020-04-18\"], [\"FF\", 4275.0, \"2020-04-25\"], [\"FF\", 4911.0, \"2020-05-02\"], [\"FF\", 5764.0, \"2020-05-09\"], [\"FF\", 6043.0, \"2020-05-16\"], [\"FF\", 6555.0, \"2020-05-23\"], [\"FF\", 6859.0, \"2020-05-30\"], [\"FF\", 8088.0, \"2020-06-06\"], [\"FF\", 9494.0, \"2020-06-13\"], [\"FF\", 10945.0, \"2020-06-20\"], [\"FF\", 12385.0, \"2020-06-27\"], [\"FF\", 12512.0, \"2020-07-04\"], [\"FF\", 14147.0, \"2020-07-11\"], [\"FF\", 15440.0, \"2020-07-18\"], [\"FF\", 15896.0, \"2020-07-25\"], [\"FF\", 16684.0, \"2020-08-01\"], [\"FF\", 16148.0, \"2020-08-08\"], [\"FF\", 17724.0, \"2020-08-15\"], [\"FF\", 19208.0, \"2020-08-22\"], [\"FF\", 20312.0, \"2020-08-29\"], [\"FF\", 15825.0, \"2020-09-05\"], [\"FF\", 15082.0, \"2020-09-12\"], [\"FF\", 14990.0, \"2020-09-19\"], [\"FF\", 14472.0, \"2020-09-26\"], [\"FF\", 14706.0, \"2020-10-03\"], [\"FF\", 15655.0, \"2020-10-10\"], [\"FF\", 13795.0, \"2020-10-17\"], [\"FF\", 14358.0, \"2020-10-24\"], [\"FF\", 13533.0, \"2020-10-31\"], [\"FF\", 13065.0, \"2020-11-07\"], [\"FF\", 13235.0, \"2020-11-14\"], [\"FF\", 12435.0, \"2020-11-21\"], [\"FF\", 9469.0, \"2020-11-28\"], [\"FF\", 10773.0, \"2020-12-05\"], [\"FF\", 11615.0, \"2020-12-12\"], [\"FF\", 10489.0, \"2020-12-19\"], [\"FF\", 10240.0, \"2020-12-26\"], [\"FF\", 11664.0, \"2021-01-02\"], [\"FF\", 11314.0, \"2021-01-09\"], [\"FF\", 10489.0, \"2021-01-16\"], [\"FF\", 10134.0, \"2021-01-23\"], [\"FF\", 10128.0, \"2021-01-30\"], [\"FF\", 8267.0, \"2021-02-06\"], [\"FF\", 10530.0, \"2021-02-13\"], [\"FF\", 9809.0, \"2021-02-20\"], [\"FF\", 11256.0, \"2021-02-27\"], [\"FF\", 11333.0, \"2021-03-06\"], [\"FF\", 12178.0, \"2021-03-13\"]], \"hovertemplate\": \"<b>MetroCard Type: %{customdata[0]}</b> <br>MetroCard Swipes: %{customdata[1]:,} <br>Week Ending: %{customdata[2]}<extra></extra>\", \"legendgroup\": \"FF\", \"line\": {\"color\": \"rgb(76,114,176)\"}, \"mode\": \"lines\", \"name\": \"FF\", \"orientation\": \"v\", \"showlegend\": true, \"stackgroup\": \"1\", \"type\": \"scatter\", \"x\": [\"2020-01-04\", \"2020-01-11\", \"2020-01-18\", \"2020-01-25\", \"2020-02-01\", \"2020-02-08\", \"2020-02-15\", \"2020-02-22\", \"2020-02-29\", \"2020-03-07\", \"2020-03-14\", \"2020-03-21\", \"2020-03-28\", \"2020-04-04\", \"2020-04-11\", \"2020-04-18\", \"2020-04-25\", \"2020-05-02\", \"2020-05-09\", \"2020-05-16\", \"2020-05-23\", \"2020-05-30\", \"2020-06-06\", \"2020-06-13\", \"2020-06-20\", \"2020-06-27\", \"2020-07-04\", \"2020-07-11\", \"2020-07-18\", \"2020-07-25\", \"2020-08-01\", \"2020-08-08\", \"2020-08-15\", \"2020-08-22\", \"2020-08-29\", \"2020-09-05\", \"2020-09-12\", \"2020-09-19\", \"2020-09-26\", \"2020-10-03\", \"2020-10-10\", \"2020-10-17\", \"2020-10-24\", \"2020-10-31\", \"2020-11-07\", \"2020-11-14\", \"2020-11-21\", \"2020-11-28\", \"2020-12-05\", \"2020-12-12\", \"2020-12-19\", \"2020-12-26\", \"2021-01-02\", \"2021-01-09\", \"2021-01-16\", \"2021-01-23\", \"2021-01-30\", \"2021-02-06\", \"2021-02-13\", \"2021-02-20\", \"2021-02-27\", \"2021-03-06\", \"2021-03-13\"], \"xaxis\": \"x\", \"y\": [65407.0, 60072.0, 59967.0, 51550.0, 54850.0, 54210.0, 55189.0, 54734.0, 53366.0, 49058.0, 39980.0, 12463.0, 6499.0, 4410.0, 3746.0, 4014.0, 4275.0, 4911.0, 5764.0, 6043.0, 6555.0, 6859.0, 8088.0, 9494.0, 10945.0, 12385.0, 12512.0, 14147.0, 15440.0, 15896.0, 16684.0, 16148.0, 17724.0, 19208.0, 20312.0, 15825.0, 15082.0, 14990.0, 14472.0, 14706.0, 15655.0, 13795.0, 14358.0, 13533.0, 13065.0, 13235.0, 12435.0, 9469.0, 10773.0, 11615.0, 10489.0, 10240.0, 11664.0, 11314.0, 10489.0, 10134.0, 10128.0, 8267.0, 10530.0, 9809.0, 11256.0, 11333.0, 12178.0], \"yaxis\": \"y\"}, {\"customdata\": [[\"30-D UNL\", 21404.0, \"2020-01-04\"], [\"30-D UNL\", 33907.0, \"2020-01-11\"], [\"30-D UNL\", 35442.0, \"2020-01-18\"], [\"30-D UNL\", 30622.0, \"2020-01-25\"], [\"30-D UNL\", 35863.0, \"2020-02-01\"], [\"30-D UNL\", 35818.0, \"2020-02-08\"], [\"30-D UNL\", 34937.0, \"2020-02-15\"], [\"30-D UNL\", 30947.0, \"2020-02-22\"], [\"30-D UNL\", 34548.0, \"2020-02-29\"], [\"30-D UNL\", 32255.0, \"2020-03-07\"], [\"30-D UNL\", 27409.0, \"2020-03-14\"], [\"30-D UNL\", 9268.0, \"2020-03-21\"], [\"30-D UNL\", 3140.0, \"2020-03-28\"], [\"30-D UNL\", 1950.0, \"2020-04-04\"], [\"30-D UNL\", 1320.0, \"2020-04-11\"], [\"30-D UNL\", 1202.0, \"2020-04-18\"], [\"30-D UNL\", 1166.0, \"2020-04-25\"], [\"30-D UNL\", 1204.0, \"2020-05-02\"], [\"30-D UNL\", 1240.0, \"2020-05-09\"], [\"30-D UNL\", 1294.0, \"2020-05-16\"], [\"30-D UNL\", 1329.0, \"2020-05-23\"], [\"30-D UNL\", 1230.0, \"2020-05-30\"], [\"30-D UNL\", 1426.0, \"2020-06-06\"], [\"30-D UNL\", 1554.0, \"2020-06-13\"], [\"30-D UNL\", 1715.0, \"2020-06-20\"], [\"30-D UNL\", 1904.0, \"2020-06-27\"], [\"30-D UNL\", 2022.0, \"2020-07-04\"], [\"30-D UNL\", 2387.0, \"2020-07-11\"], [\"30-D UNL\", 2639.0, \"2020-07-18\"], [\"30-D UNL\", 2820.0, \"2020-07-25\"], [\"30-D UNL\", 2842.0, \"2020-08-01\"], [\"30-D UNL\", 2806.0, \"2020-08-08\"], [\"30-D UNL\", 2980.0, \"2020-08-15\"], [\"30-D UNL\", 3167.0, \"2020-08-22\"], [\"30-D UNL\", 3428.0, \"2020-08-29\"], [\"30-D UNL\", 3572.0, \"2020-09-05\"], [\"30-D UNL\", 3633.0, \"2020-09-12\"], [\"30-D UNL\", 4271.0, \"2020-09-19\"], [\"30-D UNL\", 4609.0, \"2020-09-26\"], [\"30-D UNL\", 4612.0, \"2020-10-03\"], [\"30-D UNL\", 4721.0, \"2020-10-10\"], [\"30-D UNL\", 4465.0, \"2020-10-17\"], [\"30-D UNL\", 4823.0, \"2020-10-24\"], [\"30-D UNL\", 4810.0, \"2020-10-31\"], [\"30-D UNL\", 4650.0, \"2020-11-07\"], [\"30-D UNL\", 4688.0, \"2020-11-14\"], [\"30-D UNL\", 4676.0, \"2020-11-21\"], [\"30-D UNL\", 3356.0, \"2020-11-28\"], [\"30-D UNL\", 4095.0, \"2020-12-05\"], [\"30-D UNL\", 4318.0, \"2020-12-12\"], [\"30-D UNL\", 3815.0, \"2020-12-19\"], [\"30-D UNL\", 3251.0, \"2020-12-26\"], [\"30-D UNL\", 3007.0, \"2021-01-02\"], [\"30-D UNL\", 3800.0, \"2021-01-09\"], [\"30-D UNL\", 4075.0, \"2021-01-16\"], [\"30-D UNL\", 3939.0, \"2021-01-23\"], [\"30-D UNL\", 4249.0, \"2021-01-30\"], [\"30-D UNL\", 3428.0, \"2021-02-06\"], [\"30-D UNL\", 4102.0, \"2021-02-13\"], [\"30-D UNL\", 3657.0, \"2021-02-20\"], [\"30-D UNL\", 4264.0, \"2021-02-27\"], [\"30-D UNL\", 4508.0, \"2021-03-06\"], [\"30-D UNL\", 4479.0, \"2021-03-13\"]], \"hovertemplate\": \"<b>MetroCard Type: %{customdata[0]}</b> <br>MetroCard Swipes: %{customdata[1]:,} <br>Week Ending: %{customdata[2]}<extra></extra>\", \"legendgroup\": \"30-D UNL\", \"line\": {\"color\": \"rgb(221,132,82)\"}, \"mode\": \"lines\", \"name\": \"30-D UNL\", \"orientation\": \"v\", \"showlegend\": true, \"stackgroup\": \"1\", \"type\": \"scatter\", \"x\": [\"2020-01-04\", \"2020-01-11\", \"2020-01-18\", \"2020-01-25\", \"2020-02-01\", \"2020-02-08\", \"2020-02-15\", \"2020-02-22\", \"2020-02-29\", \"2020-03-07\", \"2020-03-14\", \"2020-03-21\", \"2020-03-28\", \"2020-04-04\", \"2020-04-11\", \"2020-04-18\", \"2020-04-25\", \"2020-05-02\", \"2020-05-09\", \"2020-05-16\", \"2020-05-23\", \"2020-05-30\", \"2020-06-06\", \"2020-06-13\", \"2020-06-20\", \"2020-06-27\", \"2020-07-04\", \"2020-07-11\", \"2020-07-18\", \"2020-07-25\", \"2020-08-01\", \"2020-08-08\", \"2020-08-15\", \"2020-08-22\", \"2020-08-29\", \"2020-09-05\", \"2020-09-12\", \"2020-09-19\", \"2020-09-26\", \"2020-10-03\", \"2020-10-10\", \"2020-10-17\", \"2020-10-24\", \"2020-10-31\", \"2020-11-07\", \"2020-11-14\", \"2020-11-21\", \"2020-11-28\", \"2020-12-05\", \"2020-12-12\", \"2020-12-19\", \"2020-12-26\", \"2021-01-02\", \"2021-01-09\", \"2021-01-16\", \"2021-01-23\", \"2021-01-30\", \"2021-02-06\", \"2021-02-13\", \"2021-02-20\", \"2021-02-27\", \"2021-03-06\", \"2021-03-13\"], \"xaxis\": \"x\", \"y\": [21404.0, 33907.0, 35442.0, 30622.0, 35863.0, 35818.0, 34937.0, 30947.0, 34548.0, 32255.0, 27409.0, 9268.0, 3140.0, 1950.0, 1320.0, 1202.0, 1166.0, 1204.0, 1240.0, 1294.0, 1329.0, 1230.0, 1426.0, 1554.0, 1715.0, 1904.0, 2022.0, 2387.0, 2639.0, 2820.0, 2842.0, 2806.0, 2980.0, 3167.0, 3428.0, 3572.0, 3633.0, 4271.0, 4609.0, 4612.0, 4721.0, 4465.0, 4823.0, 4810.0, 4650.0, 4688.0, 4676.0, 3356.0, 4095.0, 4318.0, 3815.0, 3251.0, 3007.0, 3800.0, 4075.0, 3939.0, 4249.0, 3428.0, 4102.0, 3657.0, 4264.0, 4508.0, 4479.0], \"yaxis\": \"y\"}, {\"customdata\": [[\"7-D UNL\", 42118.0, \"2020-01-04\"], [\"7-D UNL\", 26437.0, \"2020-01-11\"], [\"7-D UNL\", 25739.0, \"2020-01-18\"], [\"7-D UNL\", 22842.0, \"2020-01-25\"], [\"7-D UNL\", 24680.0, \"2020-02-01\"], [\"7-D UNL\", 25230.0, \"2020-02-08\"], [\"7-D UNL\", 26533.0, \"2020-02-15\"], [\"7-D UNL\", 29231.0, \"2020-02-22\"], [\"7-D UNL\", 26336.0, \"2020-02-29\"], [\"7-D UNL\", 24675.0, \"2020-03-07\"], [\"7-D UNL\", 25517.0, \"2020-03-14\"], [\"7-D UNL\", 10415.0, \"2020-03-21\"], [\"7-D UNL\", 3414.0, \"2020-03-28\"], [\"7-D UNL\", 1953.0, \"2020-04-04\"], [\"7-D UNL\", 1514.0, \"2020-04-11\"], [\"7-D UNL\", 1447.0, \"2020-04-18\"], [\"7-D UNL\", 1504.0, \"2020-04-25\"], [\"7-D UNL\", 1519.0, \"2020-05-02\"], [\"7-D UNL\", 1629.0, \"2020-05-09\"], [\"7-D UNL\", 1644.0, \"2020-05-16\"], [\"7-D UNL\", 1678.0, \"2020-05-23\"], [\"7-D UNL\", 1455.0, \"2020-05-30\"], [\"7-D UNL\", 1778.0, \"2020-06-06\"], [\"7-D UNL\", 2088.0, \"2020-06-13\"], [\"7-D UNL\", 2374.0, \"2020-06-20\"], [\"7-D UNL\", 2649.0, \"2020-06-27\"], [\"7-D UNL\", 2659.0, \"2020-07-04\"], [\"7-D UNL\", 2921.0, \"2020-07-11\"], [\"7-D UNL\", 3280.0, \"2020-07-18\"], [\"7-D UNL\", 3294.0, \"2020-07-25\"], [\"7-D UNL\", 3191.0, \"2020-08-01\"], [\"7-D UNL\", 3240.0, \"2020-08-08\"], [\"7-D UNL\", 3502.0, \"2020-08-15\"], [\"7-D UNL\", 3844.0, \"2020-08-22\"], [\"7-D UNL\", 3974.0, \"2020-08-29\"], [\"7-D UNL\", 4918.0, \"2020-09-05\"], [\"7-D UNL\", 5027.0, \"2020-09-12\"], [\"7-D UNL\", 5768.0, \"2020-09-19\"], [\"7-D UNL\", 6154.0, \"2020-09-26\"], [\"7-D UNL\", 6084.0, \"2020-10-03\"], [\"7-D UNL\", 6338.0, \"2020-10-10\"], [\"7-D UNL\", 5970.0, \"2020-10-17\"], [\"7-D UNL\", 6420.0, \"2020-10-24\"], [\"7-D UNL\", 6402.0, \"2020-10-31\"], [\"7-D UNL\", 6086.0, \"2020-11-07\"], [\"7-D UNL\", 6294.0, \"2020-11-14\"], [\"7-D UNL\", 6294.0, \"2020-11-21\"], [\"7-D UNL\", 4698.0, \"2020-11-28\"], [\"7-D UNL\", 5480.0, \"2020-12-05\"], [\"7-D UNL\", 6068.0, \"2020-12-12\"], [\"7-D UNL\", 5442.0, \"2020-12-19\"], [\"7-D UNL\", 4814.0, \"2020-12-26\"], [\"7-D UNL\", 5298.0, \"2021-01-02\"], [\"7-D UNL\", 5402.0, \"2021-01-09\"], [\"7-D UNL\", 5189.0, \"2021-01-16\"], [\"7-D UNL\", 4961.0, \"2021-01-23\"], [\"7-D UNL\", 5263.0, \"2021-01-30\"], [\"7-D UNL\", 4060.0, \"2021-02-06\"], [\"7-D UNL\", 5114.0, \"2021-02-13\"], [\"7-D UNL\", 4718.0, \"2021-02-20\"], [\"7-D UNL\", 5353.0, \"2021-02-27\"], [\"7-D UNL\", 5496.0, \"2021-03-06\"], [\"7-D UNL\", 5813.0, \"2021-03-13\"]], \"hovertemplate\": \"<b>MetroCard Type: %{customdata[0]}</b> <br>MetroCard Swipes: %{customdata[1]:,} <br>Week Ending: %{customdata[2]}<extra></extra>\", \"legendgroup\": \"7-D UNL\", \"line\": {\"color\": \"rgb(85,168,104)\"}, \"mode\": \"lines\", \"name\": \"7-D UNL\", \"orientation\": \"v\", \"showlegend\": true, \"stackgroup\": \"1\", \"type\": \"scatter\", \"x\": [\"2020-01-04\", \"2020-01-11\", \"2020-01-18\", \"2020-01-25\", \"2020-02-01\", \"2020-02-08\", \"2020-02-15\", \"2020-02-22\", \"2020-02-29\", \"2020-03-07\", \"2020-03-14\", \"2020-03-21\", \"2020-03-28\", \"2020-04-04\", \"2020-04-11\", \"2020-04-18\", \"2020-04-25\", \"2020-05-02\", \"2020-05-09\", \"2020-05-16\", \"2020-05-23\", \"2020-05-30\", \"2020-06-06\", \"2020-06-13\", \"2020-06-20\", \"2020-06-27\", \"2020-07-04\", \"2020-07-11\", \"2020-07-18\", \"2020-07-25\", \"2020-08-01\", \"2020-08-08\", \"2020-08-15\", \"2020-08-22\", \"2020-08-29\", \"2020-09-05\", \"2020-09-12\", \"2020-09-19\", \"2020-09-26\", \"2020-10-03\", \"2020-10-10\", \"2020-10-17\", \"2020-10-24\", \"2020-10-31\", \"2020-11-07\", \"2020-11-14\", \"2020-11-21\", \"2020-11-28\", \"2020-12-05\", \"2020-12-12\", \"2020-12-19\", \"2020-12-26\", \"2021-01-02\", \"2021-01-09\", \"2021-01-16\", \"2021-01-23\", \"2021-01-30\", \"2021-02-06\", \"2021-02-13\", \"2021-02-20\", \"2021-02-27\", \"2021-03-06\", \"2021-03-13\"], \"xaxis\": \"x\", \"y\": [42118.0, 26437.0, 25739.0, 22842.0, 24680.0, 25230.0, 26533.0, 29231.0, 26336.0, 24675.0, 25517.0, 10415.0, 3414.0, 1953.0, 1514.0, 1447.0, 1504.0, 1519.0, 1629.0, 1644.0, 1678.0, 1455.0, 1778.0, 2088.0, 2374.0, 2649.0, 2659.0, 2921.0, 3280.0, 3294.0, 3191.0, 3240.0, 3502.0, 3844.0, 3974.0, 4918.0, 5027.0, 5768.0, 6154.0, 6084.0, 6338.0, 5970.0, 6420.0, 6402.0, 6086.0, 6294.0, 6294.0, 4698.0, 5480.0, 6068.0, 5442.0, 4814.0, 5298.0, 5402.0, 5189.0, 4961.0, 5263.0, 4060.0, 5114.0, 4718.0, 5353.0, 5496.0, 5813.0], \"yaxis\": \"y\"}, {\"customdata\": [[\"TCMC ANNUAL MC\", 3472.0, \"2020-01-04\"], [\"TCMC ANNUAL MC\", 6268.0, \"2020-01-11\"], [\"TCMC ANNUAL MC\", 6472.0, \"2020-01-18\"], [\"TCMC ANNUAL MC\", 5308.0, \"2020-01-25\"], [\"TCMC ANNUAL MC\", 6325.0, \"2020-02-01\"], [\"TCMC ANNUAL MC\", 6208.0, \"2020-02-08\"], [\"TCMC ANNUAL MC\", 6047.0, \"2020-02-15\"], [\"TCMC ANNUAL MC\", 5009.0, \"2020-02-22\"], [\"TCMC ANNUAL MC\", 5964.0, \"2020-02-29\"], [\"TCMC ANNUAL MC\", 5661.0, \"2020-03-07\"], [\"TCMC ANNUAL MC\", 4379.0, \"2020-03-14\"], [\"TCMC ANNUAL MC\", 919.0, \"2020-03-21\"], [\"TCMC ANNUAL MC\", 255.0, \"2020-03-28\"], [\"TCMC ANNUAL MC\", 171.0, \"2020-04-04\"], [\"TCMC ANNUAL MC\", 146.0, \"2020-04-11\"], [\"TCMC ANNUAL MC\", 163.0, \"2020-04-18\"], [\"TCMC ANNUAL MC\", 154.0, \"2020-04-25\"], [\"TCMC ANNUAL MC\", 159.0, \"2020-05-02\"], [\"TCMC ANNUAL MC\", 140.0, \"2020-05-09\"], [\"TCMC ANNUAL MC\", 174.0, \"2020-05-16\"], [\"TCMC ANNUAL MC\", 185.0, \"2020-05-23\"], [\"TCMC ANNUAL MC\", 208.0, \"2020-05-30\"], [\"TCMC ANNUAL MC\", 221.0, \"2020-06-06\"], [\"TCMC ANNUAL MC\", 223.0, \"2020-06-13\"], [\"TCMC ANNUAL MC\", 263.0, \"2020-06-20\"], [\"TCMC ANNUAL MC\", 291.0, \"2020-06-27\"], [\"TCMC ANNUAL MC\", 249.0, \"2020-07-04\"], [\"TCMC ANNUAL MC\", 331.0, \"2020-07-11\"], [\"TCMC ANNUAL MC\", 349.0, \"2020-07-18\"], [\"TCMC ANNUAL MC\", 399.0, \"2020-07-25\"], [\"TCMC ANNUAL MC\", 368.0, \"2020-08-01\"], [\"TCMC ANNUAL MC\", 355.0, \"2020-08-08\"], [\"TCMC ANNUAL MC\", 370.0, \"2020-08-15\"], [\"TCMC ANNUAL MC\", 436.0, \"2020-08-22\"], [\"TCMC ANNUAL MC\", 436.0, \"2020-08-29\"], [\"TCMC ANNUAL MC\", 413.0, \"2020-09-05\"], [\"TCMC ANNUAL MC\", 412.0, \"2020-09-12\"], [\"TCMC ANNUAL MC\", 444.0, \"2020-09-19\"], [\"TCMC ANNUAL MC\", 437.0, \"2020-09-26\"], [\"TCMC ANNUAL MC\", 428.0, \"2020-10-03\"], [\"TCMC ANNUAL MC\", 448.0, \"2020-10-10\"], [\"TCMC ANNUAL MC\", 435.0, \"2020-10-17\"], [\"TCMC ANNUAL MC\", 424.0, \"2020-10-24\"], [\"TCMC ANNUAL MC\", 436.0, \"2020-10-31\"], [\"TCMC ANNUAL MC\", 398.0, \"2020-11-07\"], [\"TCMC ANNUAL MC\", 424.0, \"2020-11-14\"], [\"TCMC ANNUAL MC\", 400.0, \"2020-11-21\"], [\"TCMC ANNUAL MC\", 273.0, \"2020-11-28\"], [\"TCMC ANNUAL MC\", 350.0, \"2020-12-05\"], [\"TCMC ANNUAL MC\", 375.0, \"2020-12-12\"], [\"TCMC ANNUAL MC\", 329.0, \"2020-12-19\"], [\"TCMC ANNUAL MC\", 270.0, \"2020-12-26\"], [\"TCMC ANNUAL MC\", 241.0, \"2021-01-02\"], [\"TCMC ANNUAL MC\", 301.0, \"2021-01-09\"], [\"TCMC ANNUAL MC\", 340.0, \"2021-01-16\"], [\"TCMC ANNUAL MC\", 288.0, \"2021-01-23\"], [\"TCMC ANNUAL MC\", 336.0, \"2021-01-30\"], [\"TCMC ANNUAL MC\", 249.0, \"2021-02-06\"], [\"TCMC ANNUAL MC\", 345.0, \"2021-02-13\"], [\"TCMC ANNUAL MC\", 257.0, \"2021-02-20\"], [\"TCMC ANNUAL MC\", 338.0, \"2021-02-27\"], [\"TCMC ANNUAL MC\", 321.0, \"2021-03-06\"], [\"TCMC ANNUAL MC\", 360.0, \"2021-03-13\"]], \"hovertemplate\": \"<b>MetroCard Type: %{customdata[0]}</b> <br>MetroCard Swipes: %{customdata[1]:,} <br>Week Ending: %{customdata[2]}<extra></extra>\", \"legendgroup\": \"TCMC ANNUAL MC\", \"line\": {\"color\": \"rgb(196,78,82)\"}, \"mode\": \"lines\", \"name\": \"TCMC ANNUAL MC\", \"orientation\": \"v\", \"showlegend\": true, \"stackgroup\": \"1\", \"type\": \"scatter\", \"x\": [\"2020-01-04\", \"2020-01-11\", \"2020-01-18\", \"2020-01-25\", \"2020-02-01\", \"2020-02-08\", \"2020-02-15\", \"2020-02-22\", \"2020-02-29\", \"2020-03-07\", \"2020-03-14\", \"2020-03-21\", \"2020-03-28\", \"2020-04-04\", \"2020-04-11\", \"2020-04-18\", \"2020-04-25\", \"2020-05-02\", \"2020-05-09\", \"2020-05-16\", \"2020-05-23\", \"2020-05-30\", \"2020-06-06\", \"2020-06-13\", \"2020-06-20\", \"2020-06-27\", \"2020-07-04\", \"2020-07-11\", \"2020-07-18\", \"2020-07-25\", \"2020-08-01\", \"2020-08-08\", \"2020-08-15\", \"2020-08-22\", \"2020-08-29\", \"2020-09-05\", \"2020-09-12\", \"2020-09-19\", \"2020-09-26\", \"2020-10-03\", \"2020-10-10\", \"2020-10-17\", \"2020-10-24\", \"2020-10-31\", \"2020-11-07\", \"2020-11-14\", \"2020-11-21\", \"2020-11-28\", \"2020-12-05\", \"2020-12-12\", \"2020-12-19\", \"2020-12-26\", \"2021-01-02\", \"2021-01-09\", \"2021-01-16\", \"2021-01-23\", \"2021-01-30\", \"2021-02-06\", \"2021-02-13\", \"2021-02-20\", \"2021-02-27\", \"2021-03-06\", \"2021-03-13\"], \"xaxis\": \"x\", \"y\": [3472.0, 6268.0, 6472.0, 5308.0, 6325.0, 6208.0, 6047.0, 5009.0, 5964.0, 5661.0, 4379.0, 919.0, 255.0, 171.0, 146.0, 163.0, 154.0, 159.0, 140.0, 174.0, 185.0, 208.0, 221.0, 223.0, 263.0, 291.0, 249.0, 331.0, 349.0, 399.0, 368.0, 355.0, 370.0, 436.0, 436.0, 413.0, 412.0, 444.0, 437.0, 428.0, 448.0, 435.0, 424.0, 436.0, 398.0, 424.0, 400.0, 273.0, 350.0, 375.0, 329.0, 270.0, 241.0, 301.0, 340.0, 288.0, 336.0, 249.0, 345.0, 257.0, 338.0, 321.0, 360.0], \"yaxis\": \"y\"}, {\"customdata\": [[\"SEN/DIS\", 2538.0, \"2020-01-04\"], [\"SEN/DIS\", 3135.0, \"2020-01-11\"], [\"SEN/DIS\", 3323.0, \"2020-01-18\"], [\"SEN/DIS\", 2721.0, \"2020-01-25\"], [\"SEN/DIS\", 3097.0, \"2020-02-01\"], [\"SEN/DIS\", 3049.0, \"2020-02-08\"], [\"SEN/DIS\", 2929.0, \"2020-02-15\"], [\"SEN/DIS\", 2797.0, \"2020-02-22\"], [\"SEN/DIS\", 2890.0, \"2020-02-29\"], [\"SEN/DIS\", 2820.0, \"2020-03-07\"], [\"SEN/DIS\", 2240.0, \"2020-03-14\"], [\"SEN/DIS\", 849.0, \"2020-03-21\"], [\"SEN/DIS\", 490.0, \"2020-03-28\"], [\"SEN/DIS\", 447.0, \"2020-04-04\"], [\"SEN/DIS\", 396.0, \"2020-04-11\"], [\"SEN/DIS\", 386.0, \"2020-04-18\"], [\"SEN/DIS\", 337.0, \"2020-04-25\"], [\"SEN/DIS\", 398.0, \"2020-05-02\"], [\"SEN/DIS\", 443.0, \"2020-05-09\"], [\"SEN/DIS\", 483.0, \"2020-05-16\"], [\"SEN/DIS\", 523.0, \"2020-05-23\"], [\"SEN/DIS\", 530.0, \"2020-05-30\"], [\"SEN/DIS\", 571.0, \"2020-06-06\"], [\"SEN/DIS\", 697.0, \"2020-06-13\"], [\"SEN/DIS\", 745.0, \"2020-06-20\"], [\"SEN/DIS\", 856.0, \"2020-06-27\"], [\"SEN/DIS\", 912.0, \"2020-07-04\"], [\"SEN/DIS\", 1074.0, \"2020-07-11\"], [\"SEN/DIS\", 1150.0, \"2020-07-18\"], [\"SEN/DIS\", 1130.0, \"2020-07-25\"], [\"SEN/DIS\", 1198.0, \"2020-08-01\"], [\"SEN/DIS\", 1162.0, \"2020-08-08\"], [\"SEN/DIS\", 1310.0, \"2020-08-15\"], [\"SEN/DIS\", 1496.0, \"2020-08-22\"], [\"SEN/DIS\", 1523.0, \"2020-08-29\"], [\"SEN/DIS\", 1144.0, \"2020-09-05\"], [\"SEN/DIS\", 1103.0, \"2020-09-12\"], [\"SEN/DIS\", 1115.0, \"2020-09-19\"], [\"SEN/DIS\", 1168.0, \"2020-09-26\"], [\"SEN/DIS\", 1125.0, \"2020-10-03\"], [\"SEN/DIS\", 1173.0, \"2020-10-10\"], [\"SEN/DIS\", 1079.0, \"2020-10-17\"], [\"SEN/DIS\", 1113.0, \"2020-10-24\"], [\"SEN/DIS\", 1024.0, \"2020-10-31\"], [\"SEN/DIS\", 1037.0, \"2020-11-07\"], [\"SEN/DIS\", 1059.0, \"2020-11-14\"], [\"SEN/DIS\", 960.0, \"2020-11-21\"], [\"SEN/DIS\", 643.0, \"2020-11-28\"], [\"SEN/DIS\", 877.0, \"2020-12-05\"], [\"SEN/DIS\", 828.0, \"2020-12-12\"], [\"SEN/DIS\", 695.0, \"2020-12-19\"], [\"SEN/DIS\", 738.0, \"2020-12-26\"], [\"SEN/DIS\", 668.0, \"2021-01-02\"], [\"SEN/DIS\", 762.0, \"2021-01-09\"], [\"SEN/DIS\", 819.0, \"2021-01-16\"], [\"SEN/DIS\", 753.0, \"2021-01-23\"], [\"SEN/DIS\", 747.0, \"2021-01-30\"], [\"SEN/DIS\", 615.0, \"2021-02-06\"], [\"SEN/DIS\", 754.0, \"2021-02-13\"], [\"SEN/DIS\", 722.0, \"2021-02-20\"], [\"SEN/DIS\", 950.0, \"2021-02-27\"], [\"SEN/DIS\", 913.0, \"2021-03-06\"], [\"SEN/DIS\", 1011.0, \"2021-03-13\"]], \"hovertemplate\": \"<b>MetroCard Type: %{customdata[0]}</b> <br>MetroCard Swipes: %{customdata[1]:,} <br>Week Ending: %{customdata[2]}<extra></extra>\", \"legendgroup\": \"SEN/DIS\", \"line\": {\"color\": \"rgb(129,114,179)\"}, \"mode\": \"lines\", \"name\": \"SEN/DIS\", \"orientation\": \"v\", \"showlegend\": true, \"stackgroup\": \"1\", \"type\": \"scatter\", \"x\": [\"2020-01-04\", \"2020-01-11\", \"2020-01-18\", \"2020-01-25\", \"2020-02-01\", \"2020-02-08\", \"2020-02-15\", \"2020-02-22\", \"2020-02-29\", \"2020-03-07\", \"2020-03-14\", \"2020-03-21\", \"2020-03-28\", \"2020-04-04\", \"2020-04-11\", \"2020-04-18\", \"2020-04-25\", \"2020-05-02\", \"2020-05-09\", \"2020-05-16\", \"2020-05-23\", \"2020-05-30\", \"2020-06-06\", \"2020-06-13\", \"2020-06-20\", \"2020-06-27\", \"2020-07-04\", \"2020-07-11\", \"2020-07-18\", \"2020-07-25\", \"2020-08-01\", \"2020-08-08\", \"2020-08-15\", \"2020-08-22\", \"2020-08-29\", \"2020-09-05\", \"2020-09-12\", \"2020-09-19\", \"2020-09-26\", \"2020-10-03\", \"2020-10-10\", \"2020-10-17\", \"2020-10-24\", \"2020-10-31\", \"2020-11-07\", \"2020-11-14\", \"2020-11-21\", \"2020-11-28\", \"2020-12-05\", \"2020-12-12\", \"2020-12-19\", \"2020-12-26\", \"2021-01-02\", \"2021-01-09\", \"2021-01-16\", \"2021-01-23\", \"2021-01-30\", \"2021-02-06\", \"2021-02-13\", \"2021-02-20\", \"2021-02-27\", \"2021-03-06\", \"2021-03-13\"], \"xaxis\": \"x\", \"y\": [2538.0, 3135.0, 3323.0, 2721.0, 3097.0, 3049.0, 2929.0, 2797.0, 2890.0, 2820.0, 2240.0, 849.0, 490.0, 447.0, 396.0, 386.0, 337.0, 398.0, 443.0, 483.0, 523.0, 530.0, 571.0, 697.0, 745.0, 856.0, 912.0, 1074.0, 1150.0, 1130.0, 1198.0, 1162.0, 1310.0, 1496.0, 1523.0, 1144.0, 1103.0, 1115.0, 1168.0, 1125.0, 1173.0, 1079.0, 1113.0, 1024.0, 1037.0, 1059.0, 960.0, 643.0, 877.0, 828.0, 695.0, 738.0, 668.0, 762.0, 819.0, 753.0, 747.0, 615.0, 754.0, 722.0, 950.0, 913.0, 1011.0], \"yaxis\": \"y\"}, {\"customdata\": [[\"STUDENTS\", 1855.0, \"2020-01-04\"], [\"STUDENTS\", 3756.0, \"2020-01-11\"], [\"STUDENTS\", 4090.0, \"2020-01-18\"], [\"STUDENTS\", 2309.0, \"2020-01-25\"], [\"STUDENTS\", 3514.0, \"2020-02-01\"], [\"STUDENTS\", 3794.0, \"2020-02-08\"], [\"STUDENTS\", 3947.0, \"2020-02-15\"], [\"STUDENTS\", 1585.0, \"2020-02-22\"], [\"STUDENTS\", 4025.0, \"2020-02-29\"], [\"STUDENTS\", 3899.0, \"2020-03-07\"], [\"STUDENTS\", 3439.0, \"2020-03-14\"], [\"STUDENTS\", 304.0, \"2020-03-21\"], [\"STUDENTS\", 167.0, \"2020-03-28\"], [\"STUDENTS\", 139.0, \"2020-04-04\"], [\"STUDENTS\", 110.0, \"2020-04-11\"], [\"STUDENTS\", 123.0, \"2020-04-18\"], [\"STUDENTS\", 121.0, \"2020-04-25\"], [\"STUDENTS\", 153.0, \"2020-05-02\"], [\"STUDENTS\", 165.0, \"2020-05-09\"], [\"STUDENTS\", 189.0, \"2020-05-16\"], [\"STUDENTS\", 200.0, \"2020-05-23\"], [\"STUDENTS\", 244.0, \"2020-05-30\"], [\"STUDENTS\", 255.0, \"2020-06-06\"], [\"STUDENTS\", 332.0, \"2020-06-13\"], [\"STUDENTS\", 332.0, \"2020-06-20\"], [\"STUDENTS\", 365.0, \"2020-06-27\"], [\"STUDENTS\", 150.0, \"2020-07-04\"], [\"STUDENTS\", 0.0, \"2020-07-11\"], [\"STUDENTS\", 0.0, \"2020-07-18\"], [\"STUDENTS\", 0.0, \"2020-07-25\"], [\"STUDENTS\", 0.0, \"2020-08-01\"], [\"STUDENTS\", 0.0, \"2020-08-08\"], [\"STUDENTS\", 0.0, \"2020-08-15\"], [\"STUDENTS\", 0.0, \"2020-08-22\"], [\"STUDENTS\", 0.0, \"2020-08-29\"], [\"STUDENTS\", 1.0, \"2020-09-05\"], [\"STUDENTS\", 12.0, \"2020-09-12\"], [\"STUDENTS\", 51.0, \"2020-09-19\"], [\"STUDENTS\", 69.0, \"2020-09-26\"], [\"STUDENTS\", 159.0, \"2020-10-03\"], [\"STUDENTS\", 392.0, \"2020-10-10\"], [\"STUDENTS\", 337.0, \"2020-10-17\"], [\"STUDENTS\", 397.0, \"2020-10-24\"], [\"STUDENTS\", 366.0, \"2020-10-31\"], [\"STUDENTS\", 324.0, \"2020-11-07\"], [\"STUDENTS\", 312.0, \"2020-11-14\"], [\"STUDENTS\", 307.0, \"2020-11-21\"], [\"STUDENTS\", 180.0, \"2020-11-28\"], [\"STUDENTS\", 193.0, \"2020-12-05\"], [\"STUDENTS\", 240.0, \"2020-12-12\"], [\"STUDENTS\", 175.0, \"2020-12-19\"], [\"STUDENTS\", 160.0, \"2020-12-26\"], [\"STUDENTS\", 200.0, \"2021-01-02\"], [\"STUDENTS\", 164.0, \"2021-01-09\"], [\"STUDENTS\", 144.0, \"2021-01-16\"], [\"STUDENTS\", 188.0, \"2021-01-23\"], [\"STUDENTS\", 193.0, \"2021-01-30\"], [\"STUDENTS\", 16.0, \"2021-02-06\"], [\"STUDENTS\", 41.0, \"2021-02-13\"], [\"STUDENTS\", 44.0, \"2021-02-20\"], [\"STUDENTS\", 83.0, \"2021-02-27\"], [\"STUDENTS\", 132.0, \"2021-03-06\"], [\"STUDENTS\", 144.0, \"2021-03-13\"]], \"hovertemplate\": \"<b>MetroCard Type: %{customdata[0]}</b> <br>MetroCard Swipes: %{customdata[1]:,} <br>Week Ending: %{customdata[2]}<extra></extra>\", \"legendgroup\": \"STUDENTS\", \"line\": {\"color\": \"rgb(147,120,96)\"}, \"mode\": \"lines\", \"name\": \"STUDENTS\", \"orientation\": \"v\", \"showlegend\": true, \"stackgroup\": \"1\", \"type\": \"scatter\", \"x\": [\"2020-01-04\", \"2020-01-11\", \"2020-01-18\", \"2020-01-25\", \"2020-02-01\", \"2020-02-08\", \"2020-02-15\", \"2020-02-22\", \"2020-02-29\", \"2020-03-07\", \"2020-03-14\", \"2020-03-21\", \"2020-03-28\", \"2020-04-04\", \"2020-04-11\", \"2020-04-18\", \"2020-04-25\", \"2020-05-02\", \"2020-05-09\", \"2020-05-16\", \"2020-05-23\", \"2020-05-30\", \"2020-06-06\", \"2020-06-13\", \"2020-06-20\", \"2020-06-27\", \"2020-07-04\", \"2020-07-11\", \"2020-07-18\", \"2020-07-25\", \"2020-08-01\", \"2020-08-08\", \"2020-08-15\", \"2020-08-22\", \"2020-08-29\", \"2020-09-05\", \"2020-09-12\", \"2020-09-19\", \"2020-09-26\", \"2020-10-03\", \"2020-10-10\", \"2020-10-17\", \"2020-10-24\", \"2020-10-31\", \"2020-11-07\", \"2020-11-14\", \"2020-11-21\", \"2020-11-28\", \"2020-12-05\", \"2020-12-12\", \"2020-12-19\", \"2020-12-26\", \"2021-01-02\", \"2021-01-09\", \"2021-01-16\", \"2021-01-23\", \"2021-01-30\", \"2021-02-06\", \"2021-02-13\", \"2021-02-20\", \"2021-02-27\", \"2021-03-06\", \"2021-03-13\"], \"xaxis\": \"x\", \"y\": [1855.0, 3756.0, 4090.0, 2309.0, 3514.0, 3794.0, 3947.0, 1585.0, 4025.0, 3899.0, 3439.0, 304.0, 167.0, 139.0, 110.0, 123.0, 121.0, 153.0, 165.0, 189.0, 200.0, 244.0, 255.0, 332.0, 332.0, 365.0, 150.0, 0.0, 0.0, 0.0, 0.0, 0.0, 0.0, 0.0, 0.0, 1.0, 12.0, 51.0, 69.0, 159.0, 392.0, 337.0, 397.0, 366.0, 324.0, 312.0, 307.0, 180.0, 193.0, 240.0, 175.0, 160.0, 200.0, 164.0, 144.0, 188.0, 193.0, 16.0, 41.0, 44.0, 83.0, 132.0, 144.0], \"yaxis\": \"y\"}, {\"customdata\": [[\"MR EZPAY EXP\", 1388.0, \"2020-01-04\"], [\"MR EZPAY EXP\", 2400.0, \"2020-01-11\"], [\"MR EZPAY EXP\", 2382.0, \"2020-01-18\"], [\"MR EZPAY EXP\", 2030.0, \"2020-01-25\"], [\"MR EZPAY EXP\", 2353.0, \"2020-02-01\"], [\"MR EZPAY EXP\", 2183.0, \"2020-02-08\"], [\"MR EZPAY EXP\", 2214.0, \"2020-02-15\"], [\"MR EZPAY EXP\", 1771.0, \"2020-02-22\"], [\"MR EZPAY EXP\", 2220.0, \"2020-02-29\"], [\"MR EZPAY EXP\", 2020.0, \"2020-03-07\"], [\"MR EZPAY EXP\", 1367.0, \"2020-03-14\"], [\"MR EZPAY EXP\", 260.0, \"2020-03-21\"], [\"MR EZPAY EXP\", 100.0, \"2020-03-28\"], [\"MR EZPAY EXP\", 62.0, \"2020-04-04\"], [\"MR EZPAY EXP\", 34.0, \"2020-04-11\"], [\"MR EZPAY EXP\", 24.0, \"2020-04-18\"], [\"MR EZPAY EXP\", 34.0, \"2020-04-25\"], [\"MR EZPAY EXP\", 40.0, \"2020-05-02\"], [\"MR EZPAY EXP\", 39.0, \"2020-05-09\"], [\"MR EZPAY EXP\", 46.0, \"2020-05-16\"], [\"MR EZPAY EXP\", 46.0, \"2020-05-23\"], [\"MR EZPAY EXP\", 49.0, \"2020-05-30\"], [\"MR EZPAY EXP\", 57.0, \"2020-06-06\"], [\"MR EZPAY EXP\", 78.0, \"2020-06-13\"], [\"MR EZPAY EXP\", 84.0, \"2020-06-20\"], [\"MR EZPAY EXP\", 143.0, \"2020-06-27\"], [\"MR EZPAY EXP\", 131.0, \"2020-07-04\"], [\"MR EZPAY EXP\", 149.0, \"2020-07-11\"], [\"MR EZPAY EXP\", 176.0, \"2020-07-18\"], [\"MR EZPAY EXP\", 218.0, \"2020-07-25\"], [\"MR EZPAY EXP\", 224.0, \"2020-08-01\"], [\"MR EZPAY EXP\", 253.0, \"2020-08-08\"], [\"MR EZPAY EXP\", 255.0, \"2020-08-15\"], [\"MR EZPAY EXP\", 269.0, \"2020-08-22\"], [\"MR EZPAY EXP\", 287.0, \"2020-08-29\"], [\"MR EZPAY EXP\", 221.0, \"2020-09-05\"], [\"MR EZPAY EXP\", 284.0, \"2020-09-12\"], [\"MR EZPAY EXP\", 269.0, \"2020-09-19\"], [\"MR EZPAY EXP\", 278.0, \"2020-09-26\"], [\"MR EZPAY EXP\", 300.0, \"2020-10-03\"], [\"MR EZPAY EXP\", 342.0, \"2020-10-10\"], [\"MR EZPAY EXP\", 279.0, \"2020-10-17\"], [\"MR EZPAY EXP\", 272.0, \"2020-10-24\"], [\"MR EZPAY EXP\", 292.0, \"2020-10-31\"], [\"MR EZPAY EXP\", 260.0, \"2020-11-07\"], [\"MR EZPAY EXP\", 290.0, \"2020-11-14\"], [\"MR EZPAY EXP\", 278.0, \"2020-11-21\"], [\"MR EZPAY EXP\", 132.0, \"2020-11-28\"], [\"MR EZPAY EXP\", 190.0, \"2020-12-05\"], [\"MR EZPAY EXP\", 207.0, \"2020-12-12\"], [\"MR EZPAY EXP\", 216.0, \"2020-12-19\"], [\"MR EZPAY EXP\", 169.0, \"2020-12-26\"], [\"MR EZPAY EXP\", 143.0, \"2021-01-02\"], [\"MR EZPAY EXP\", 186.0, \"2021-01-09\"], [\"MR EZPAY EXP\", 203.0, \"2021-01-16\"], [\"MR EZPAY EXP\", 201.0, \"2021-01-23\"], [\"MR EZPAY EXP\", 205.0, \"2021-01-30\"], [\"MR EZPAY EXP\", 149.0, \"2021-02-06\"], [\"MR EZPAY EXP\", 216.0, \"2021-02-13\"], [\"MR EZPAY EXP\", 171.0, \"2021-02-20\"], [\"MR EZPAY EXP\", 212.0, \"2021-02-27\"], [\"MR EZPAY EXP\", 237.0, \"2021-03-06\"], [\"MR EZPAY EXP\", 212.0, \"2021-03-13\"]], \"hovertemplate\": \"<b>MetroCard Type: %{customdata[0]}</b> <br>MetroCard Swipes: %{customdata[1]:,} <br>Week Ending: %{customdata[2]}<extra></extra>\", \"legendgroup\": \"MR EZPAY EXP\", \"line\": {\"color\": \"rgb(218,139,195)\"}, \"mode\": \"lines\", \"name\": \"MR EZPAY EXP\", \"orientation\": \"v\", \"showlegend\": true, \"stackgroup\": \"1\", \"type\": \"scatter\", \"x\": [\"2020-01-04\", \"2020-01-11\", \"2020-01-18\", \"2020-01-25\", \"2020-02-01\", \"2020-02-08\", \"2020-02-15\", \"2020-02-22\", \"2020-02-29\", \"2020-03-07\", \"2020-03-14\", \"2020-03-21\", \"2020-03-28\", \"2020-04-04\", \"2020-04-11\", \"2020-04-18\", \"2020-04-25\", \"2020-05-02\", \"2020-05-09\", \"2020-05-16\", \"2020-05-23\", \"2020-05-30\", \"2020-06-06\", \"2020-06-13\", \"2020-06-20\", \"2020-06-27\", \"2020-07-04\", \"2020-07-11\", \"2020-07-18\", \"2020-07-25\", \"2020-08-01\", \"2020-08-08\", \"2020-08-15\", \"2020-08-22\", \"2020-08-29\", \"2020-09-05\", \"2020-09-12\", \"2020-09-19\", \"2020-09-26\", \"2020-10-03\", \"2020-10-10\", \"2020-10-17\", \"2020-10-24\", \"2020-10-31\", \"2020-11-07\", \"2020-11-14\", \"2020-11-21\", \"2020-11-28\", \"2020-12-05\", \"2020-12-12\", \"2020-12-19\", \"2020-12-26\", \"2021-01-02\", \"2021-01-09\", \"2021-01-16\", \"2021-01-23\", \"2021-01-30\", \"2021-02-06\", \"2021-02-13\", \"2021-02-20\", \"2021-02-27\", \"2021-03-06\", \"2021-03-13\"], \"xaxis\": \"x\", \"y\": [1388.0, 2400.0, 2382.0, 2030.0, 2353.0, 2183.0, 2214.0, 1771.0, 2220.0, 2020.0, 1367.0, 260.0, 100.0, 62.0, 34.0, 24.0, 34.0, 40.0, 39.0, 46.0, 46.0, 49.0, 57.0, 78.0, 84.0, 143.0, 131.0, 149.0, 176.0, 218.0, 224.0, 253.0, 255.0, 269.0, 287.0, 221.0, 284.0, 269.0, 278.0, 300.0, 342.0, 279.0, 272.0, 292.0, 260.0, 290.0, 278.0, 132.0, 190.0, 207.0, 216.0, 169.0, 143.0, 186.0, 203.0, 201.0, 205.0, 149.0, 216.0, 171.0, 212.0, 237.0, 212.0], \"yaxis\": \"y\"}, {\"customdata\": [[\"FF VALUE\", 296.0, \"2020-01-04\"], [\"FF VALUE\", 373.0, \"2020-01-11\"], [\"FF VALUE\", 357.0, \"2020-01-18\"], [\"FF VALUE\", 324.0, \"2020-01-25\"], [\"FF VALUE\", 389.0, \"2020-02-01\"], [\"FF VALUE\", 369.0, \"2020-02-08\"], [\"FF VALUE\", 379.0, \"2020-02-15\"], [\"FF VALUE\", 412.0, \"2020-02-22\"], [\"FF VALUE\", 421.0, \"2020-02-29\"], [\"FF VALUE\", 468.0, \"2020-03-07\"], [\"FF VALUE\", 444.0, \"2020-03-14\"], [\"FF VALUE\", 251.0, \"2020-03-21\"], [\"FF VALUE\", 205.0, \"2020-03-28\"], [\"FF VALUE\", 195.0, \"2020-04-04\"], [\"FF VALUE\", 159.0, \"2020-04-11\"], [\"FF VALUE\", 177.0, \"2020-04-18\"], [\"FF VALUE\", 192.0, \"2020-04-25\"], [\"FF VALUE\", 201.0, \"2020-05-02\"], [\"FF VALUE\", 234.0, \"2020-05-09\"], [\"FF VALUE\", 269.0, \"2020-05-16\"], [\"FF VALUE\", 275.0, \"2020-05-23\"], [\"FF VALUE\", 298.0, \"2020-05-30\"], [\"FF VALUE\", 297.0, \"2020-06-06\"], [\"FF VALUE\", 387.0, \"2020-06-13\"], [\"FF VALUE\", 442.0, \"2020-06-20\"], [\"FF VALUE\", 464.0, \"2020-06-27\"], [\"FF VALUE\", 493.0, \"2020-07-04\"], [\"FF VALUE\", 539.0, \"2020-07-11\"], [\"FF VALUE\", 590.0, \"2020-07-18\"], [\"FF VALUE\", 552.0, \"2020-07-25\"], [\"FF VALUE\", 646.0, \"2020-08-01\"], [\"FF VALUE\", 630.0, \"2020-08-08\"], [\"FF VALUE\", 640.0, \"2020-08-15\"], [\"FF VALUE\", 736.0, \"2020-08-22\"], [\"FF VALUE\", 820.0, \"2020-08-29\"], [\"FF VALUE\", 549.0, \"2020-09-05\"], [\"FF VALUE\", 391.0, \"2020-09-12\"], [\"FF VALUE\", 417.0, \"2020-09-19\"], [\"FF VALUE\", 451.0, \"2020-09-26\"], [\"FF VALUE\", 426.0, \"2020-10-03\"], [\"FF VALUE\", 480.0, \"2020-10-10\"], [\"FF VALUE\", 371.0, \"2020-10-17\"], [\"FF VALUE\", 374.0, \"2020-10-24\"], [\"FF VALUE\", 380.0, \"2020-10-31\"], [\"FF VALUE\", 406.0, \"2020-11-07\"], [\"FF VALUE\", 399.0, \"2020-11-14\"], [\"FF VALUE\", 425.0, \"2020-11-21\"], [\"FF VALUE\", 323.0, \"2020-11-28\"], [\"FF VALUE\", 383.0, \"2020-12-05\"], [\"FF VALUE\", 412.0, \"2020-12-12\"], [\"FF VALUE\", 370.0, \"2020-12-19\"], [\"FF VALUE\", 385.0, \"2020-12-26\"], [\"FF VALUE\", 326.0, \"2021-01-02\"], [\"FF VALUE\", 384.0, \"2021-01-09\"], [\"FF VALUE\", 375.0, \"2021-01-16\"], [\"FF VALUE\", 383.0, \"2021-01-23\"], [\"FF VALUE\", 418.0, \"2021-01-30\"], [\"FF VALUE\", 371.0, \"2021-02-06\"], [\"FF VALUE\", 481.0, \"2021-02-13\"], [\"FF VALUE\", 432.0, \"2021-02-20\"], [\"FF VALUE\", 512.0, \"2021-02-27\"], [\"FF VALUE\", 461.0, \"2021-03-06\"], [\"FF VALUE\", 494.0, \"2021-03-13\"]], \"hovertemplate\": \"<b>MetroCard Type: %{customdata[0]}</b> <br>MetroCard Swipes: %{customdata[1]:,} <br>Week Ending: %{customdata[2]}<extra></extra>\", \"legendgroup\": \"FF VALUE\", \"line\": {\"color\": \"rgb(140,140,140)\"}, \"mode\": \"lines\", \"name\": \"FF VALUE\", \"orientation\": \"v\", \"showlegend\": true, \"stackgroup\": \"1\", \"type\": \"scatter\", \"x\": [\"2020-01-04\", \"2020-01-11\", \"2020-01-18\", \"2020-01-25\", \"2020-02-01\", \"2020-02-08\", \"2020-02-15\", \"2020-02-22\", \"2020-02-29\", \"2020-03-07\", \"2020-03-14\", \"2020-03-21\", \"2020-03-28\", \"2020-04-04\", \"2020-04-11\", \"2020-04-18\", \"2020-04-25\", \"2020-05-02\", \"2020-05-09\", \"2020-05-16\", \"2020-05-23\", \"2020-05-30\", \"2020-06-06\", \"2020-06-13\", \"2020-06-20\", \"2020-06-27\", \"2020-07-04\", \"2020-07-11\", \"2020-07-18\", \"2020-07-25\", \"2020-08-01\", \"2020-08-08\", \"2020-08-15\", \"2020-08-22\", \"2020-08-29\", \"2020-09-05\", \"2020-09-12\", \"2020-09-19\", \"2020-09-26\", \"2020-10-03\", \"2020-10-10\", \"2020-10-17\", \"2020-10-24\", \"2020-10-31\", \"2020-11-07\", \"2020-11-14\", \"2020-11-21\", \"2020-11-28\", \"2020-12-05\", \"2020-12-12\", \"2020-12-19\", \"2020-12-26\", \"2021-01-02\", \"2021-01-09\", \"2021-01-16\", \"2021-01-23\", \"2021-01-30\", \"2021-02-06\", \"2021-02-13\", \"2021-02-20\", \"2021-02-27\", \"2021-03-06\", \"2021-03-13\"], \"xaxis\": \"x\", \"y\": [296.0, 373.0, 357.0, 324.0, 389.0, 369.0, 379.0, 412.0, 421.0, 468.0, 444.0, 251.0, 205.0, 195.0, 159.0, 177.0, 192.0, 201.0, 234.0, 269.0, 275.0, 298.0, 297.0, 387.0, 442.0, 464.0, 493.0, 539.0, 590.0, 552.0, 646.0, 630.0, 640.0, 736.0, 820.0, 549.0, 391.0, 417.0, 451.0, 426.0, 480.0, 371.0, 374.0, 380.0, 406.0, 399.0, 425.0, 323.0, 383.0, 412.0, 370.0, 385.0, 326.0, 384.0, 375.0, 383.0, 418.0, 371.0, 481.0, 432.0, 512.0, 461.0, 494.0], \"yaxis\": \"y\"}, {\"customdata\": [[\"30-D AFAS/RMF UNL\", 979.0, \"2020-01-04\"], [\"30-D AFAS/RMF UNL\", 1212.0, \"2020-01-11\"], [\"30-D AFAS/RMF UNL\", 1273.0, \"2020-01-18\"], [\"30-D AFAS/RMF UNL\", 1091.0, \"2020-01-25\"], [\"30-D AFAS/RMF UNL\", 1207.0, \"2020-02-01\"], [\"30-D AFAS/RMF UNL\", 1199.0, \"2020-02-08\"], [\"30-D AFAS/RMF UNL\", 1152.0, \"2020-02-15\"], [\"30-D AFAS/RMF UNL\", 1112.0, \"2020-02-22\"], [\"30-D AFAS/RMF UNL\", 1121.0, \"2020-02-29\"], [\"30-D AFAS/RMF UNL\", 1129.0, \"2020-03-07\"], [\"30-D AFAS/RMF UNL\", 1078.0, \"2020-03-14\"], [\"30-D AFAS/RMF UNL\", 643.0, \"2020-03-21\"], [\"30-D AFAS/RMF UNL\", 359.0, \"2020-03-28\"], [\"30-D AFAS/RMF UNL\", 254.0, \"2020-04-04\"], [\"30-D AFAS/RMF UNL\", 161.0, \"2020-04-11\"], [\"30-D AFAS/RMF UNL\", 151.0, \"2020-04-18\"], [\"30-D AFAS/RMF UNL\", 131.0, \"2020-04-25\"], [\"30-D AFAS/RMF UNL\", 120.0, \"2020-05-02\"], [\"30-D AFAS/RMF UNL\", 102.0, \"2020-05-09\"], [\"30-D AFAS/RMF UNL\", 80.0, \"2020-05-16\"], [\"30-D AFAS/RMF UNL\", 95.0, \"2020-05-23\"], [\"30-D AFAS/RMF UNL\", 92.0, \"2020-05-30\"], [\"30-D AFAS/RMF UNL\", 98.0, \"2020-06-06\"], [\"30-D AFAS/RMF UNL\", 101.0, \"2020-06-13\"], [\"30-D AFAS/RMF UNL\", 110.0, \"2020-06-20\"], [\"30-D AFAS/RMF UNL\", 112.0, \"2020-06-27\"], [\"30-D AFAS/RMF UNL\", 127.0, \"2020-07-04\"], [\"30-D AFAS/RMF UNL\", 161.0, \"2020-07-11\"], [\"30-D AFAS/RMF UNL\", 149.0, \"2020-07-18\"], [\"30-D AFAS/RMF UNL\", 156.0, \"2020-07-25\"], [\"30-D AFAS/RMF UNL\", 165.0, \"2020-08-01\"], [\"30-D AFAS/RMF UNL\", 184.0, \"2020-08-08\"], [\"30-D AFAS/RMF UNL\", 183.0, \"2020-08-15\"], [\"30-D AFAS/RMF UNL\", 202.0, \"2020-08-22\"], [\"30-D AFAS/RMF UNL\", 180.0, \"2020-08-29\"], [\"30-D AFAS/RMF UNL\", 232.0, \"2020-09-05\"], [\"30-D AFAS/RMF UNL\", 268.0, \"2020-09-12\"], [\"30-D AFAS/RMF UNL\", 285.0, \"2020-09-19\"], [\"30-D AFAS/RMF UNL\", 307.0, \"2020-09-26\"], [\"30-D AFAS/RMF UNL\", 308.0, \"2020-10-03\"], [\"30-D AFAS/RMF UNL\", 287.0, \"2020-10-10\"], [\"30-D AFAS/RMF UNL\", 313.0, \"2020-10-17\"], [\"30-D AFAS/RMF UNL\", 304.0, \"2020-10-24\"], [\"30-D AFAS/RMF UNL\", 337.0, \"2020-10-31\"], [\"30-D AFAS/RMF UNL\", 291.0, \"2020-11-07\"], [\"30-D AFAS/RMF UNL\", 318.0, \"2020-11-14\"], [\"30-D AFAS/RMF UNL\", 302.0, \"2020-11-21\"], [\"30-D AFAS/RMF UNL\", 278.0, \"2020-11-28\"], [\"30-D AFAS/RMF UNL\", 317.0, \"2020-12-05\"], [\"30-D AFAS/RMF UNL\", 342.0, \"2020-12-12\"], [\"30-D AFAS/RMF UNL\", 294.0, \"2020-12-19\"], [\"30-D AFAS/RMF UNL\", 231.0, \"2020-12-26\"], [\"30-D AFAS/RMF UNL\", 234.0, \"2021-01-02\"], [\"30-D AFAS/RMF UNL\", 303.0, \"2021-01-09\"], [\"30-D AFAS/RMF UNL\", 294.0, \"2021-01-16\"], [\"30-D AFAS/RMF UNL\", 303.0, \"2021-01-23\"], [\"30-D AFAS/RMF UNL\", 318.0, \"2021-01-30\"], [\"30-D AFAS/RMF UNL\", 224.0, \"2021-02-06\"], [\"30-D AFAS/RMF UNL\", 250.0, \"2021-02-13\"], [\"30-D AFAS/RMF UNL\", 243.0, \"2021-02-20\"], [\"30-D AFAS/RMF UNL\", 302.0, \"2021-02-27\"], [\"30-D AFAS/RMF UNL\", 291.0, \"2021-03-06\"], [\"30-D AFAS/RMF UNL\", 303.0, \"2021-03-13\"]], \"hovertemplate\": \"<b>MetroCard Type: %{customdata[0]}</b> <br>MetroCard Swipes: %{customdata[1]:,} <br>Week Ending: %{customdata[2]}<extra></extra>\", \"legendgroup\": \"30-D AFAS/RMF UNL\", \"line\": {\"color\": \"rgb(204,185,116)\"}, \"mode\": \"lines\", \"name\": \"30-D AFAS/RMF UNL\", \"orientation\": \"v\", \"showlegend\": true, \"stackgroup\": \"1\", \"type\": \"scatter\", \"x\": [\"2020-01-04\", \"2020-01-11\", \"2020-01-18\", \"2020-01-25\", \"2020-02-01\", \"2020-02-08\", \"2020-02-15\", \"2020-02-22\", \"2020-02-29\", \"2020-03-07\", \"2020-03-14\", \"2020-03-21\", \"2020-03-28\", \"2020-04-04\", \"2020-04-11\", \"2020-04-18\", \"2020-04-25\", \"2020-05-02\", \"2020-05-09\", \"2020-05-16\", \"2020-05-23\", \"2020-05-30\", \"2020-06-06\", \"2020-06-13\", \"2020-06-20\", \"2020-06-27\", \"2020-07-04\", \"2020-07-11\", \"2020-07-18\", \"2020-07-25\", \"2020-08-01\", \"2020-08-08\", \"2020-08-15\", \"2020-08-22\", \"2020-08-29\", \"2020-09-05\", \"2020-09-12\", \"2020-09-19\", \"2020-09-26\", \"2020-10-03\", \"2020-10-10\", \"2020-10-17\", \"2020-10-24\", \"2020-10-31\", \"2020-11-07\", \"2020-11-14\", \"2020-11-21\", \"2020-11-28\", \"2020-12-05\", \"2020-12-12\", \"2020-12-19\", \"2020-12-26\", \"2021-01-02\", \"2021-01-09\", \"2021-01-16\", \"2021-01-23\", \"2021-01-30\", \"2021-02-06\", \"2021-02-13\", \"2021-02-20\", \"2021-02-27\", \"2021-03-06\", \"2021-03-13\"], \"xaxis\": \"x\", \"y\": [979.0, 1212.0, 1273.0, 1091.0, 1207.0, 1199.0, 1152.0, 1112.0, 1121.0, 1129.0, 1078.0, 643.0, 359.0, 254.0, 161.0, 151.0, 131.0, 120.0, 102.0, 80.0, 95.0, 92.0, 98.0, 101.0, 110.0, 112.0, 127.0, 161.0, 149.0, 156.0, 165.0, 184.0, 183.0, 202.0, 180.0, 232.0, 268.0, 285.0, 307.0, 308.0, 287.0, 313.0, 304.0, 337.0, 291.0, 318.0, 302.0, 278.0, 317.0, 342.0, 294.0, 231.0, 234.0, 303.0, 294.0, 303.0, 318.0, 224.0, 250.0, 243.0, 302.0, 291.0, 303.0], \"yaxis\": \"y\"}, {\"customdata\": [[\"AIRTRAIN FF\", 2075.0, \"2020-01-04\"], [\"AIRTRAIN FF\", 1251.0, \"2020-01-11\"], [\"AIRTRAIN FF\", 1457.0, \"2020-01-18\"], [\"AIRTRAIN FF\", 1197.0, \"2020-01-25\"], [\"AIRTRAIN FF\", 1219.0, \"2020-02-01\"], [\"AIRTRAIN FF\", 1222.0, \"2020-02-08\"], [\"AIRTRAIN FF\", 1326.0, \"2020-02-15\"], [\"AIRTRAIN FF\", 1743.0, \"2020-02-22\"], [\"AIRTRAIN FF\", 1395.0, \"2020-02-29\"], [\"AIRTRAIN FF\", 1403.0, \"2020-03-07\"], [\"AIRTRAIN FF\", 1115.0, \"2020-03-14\"], [\"AIRTRAIN FF\", 373.0, \"2020-03-21\"], [\"AIRTRAIN FF\", 41.0, \"2020-03-28\"], [\"AIRTRAIN FF\", 21.0, \"2020-04-04\"], [\"AIRTRAIN FF\", 12.0, \"2020-04-11\"], [\"AIRTRAIN FF\", 19.0, \"2020-04-18\"], [\"AIRTRAIN FF\", 33.0, \"2020-04-25\"], [\"AIRTRAIN FF\", 23.0, \"2020-05-02\"], [\"AIRTRAIN FF\", 46.0, \"2020-05-09\"], [\"AIRTRAIN FF\", 42.0, \"2020-05-16\"], [\"AIRTRAIN FF\", 42.0, \"2020-05-23\"], [\"AIRTRAIN FF\", 22.0, \"2020-05-30\"], [\"AIRTRAIN FF\", 31.0, \"2020-06-06\"], [\"AIRTRAIN FF\", 45.0, \"2020-06-13\"], [\"AIRTRAIN FF\", 65.0, \"2020-06-20\"], [\"AIRTRAIN FF\", 68.0, \"2020-06-27\"], [\"AIRTRAIN FF\", 58.0, \"2020-07-04\"], [\"AIRTRAIN FF\", 83.0, \"2020-07-11\"], [\"AIRTRAIN FF\", 104.0, \"2020-07-18\"], [\"AIRTRAIN FF\", 118.0, \"2020-07-25\"], [\"AIRTRAIN FF\", 112.0, \"2020-08-01\"], [\"AIRTRAIN FF\", 120.0, \"2020-08-08\"], [\"AIRTRAIN FF\", 128.0, \"2020-08-15\"], [\"AIRTRAIN FF\", 141.0, \"2020-08-22\"], [\"AIRTRAIN FF\", 169.0, \"2020-08-29\"], [\"AIRTRAIN FF\", 163.0, \"2020-09-05\"], [\"AIRTRAIN FF\", 155.0, \"2020-09-12\"], [\"AIRTRAIN FF\", 164.0, \"2020-09-19\"], [\"AIRTRAIN FF\", 159.0, \"2020-09-26\"], [\"AIRTRAIN FF\", 146.0, \"2020-10-03\"], [\"AIRTRAIN FF\", 143.0, \"2020-10-10\"], [\"AIRTRAIN FF\", 121.0, \"2020-10-17\"], [\"AIRTRAIN FF\", 130.0, \"2020-10-24\"], [\"AIRTRAIN FF\", 132.0, \"2020-10-31\"], [\"AIRTRAIN FF\", 107.0, \"2020-11-07\"], [\"AIRTRAIN FF\", 134.0, \"2020-11-14\"], [\"AIRTRAIN FF\", 111.0, \"2020-11-21\"], [\"AIRTRAIN FF\", 101.0, \"2020-11-28\"], [\"AIRTRAIN FF\", 76.0, \"2020-12-05\"], [\"AIRTRAIN FF\", 86.0, \"2020-12-12\"], [\"AIRTRAIN FF\", 97.0, \"2020-12-19\"], [\"AIRTRAIN FF\", 91.0, \"2020-12-26\"], [\"AIRTRAIN FF\", 191.0, \"2021-01-02\"], [\"AIRTRAIN FF\", 98.0, \"2021-01-09\"], [\"AIRTRAIN FF\", 98.0, \"2021-01-16\"], [\"AIRTRAIN FF\", 115.0, \"2021-01-23\"], [\"AIRTRAIN FF\", 112.0, \"2021-01-30\"], [\"AIRTRAIN FF\", 76.0, \"2021-02-06\"], [\"AIRTRAIN FF\", 91.0, \"2021-02-13\"], [\"AIRTRAIN FF\", 97.0, \"2021-02-20\"], [\"AIRTRAIN FF\", 97.0, \"2021-02-27\"], [\"AIRTRAIN FF\", 100.0, \"2021-03-06\"], [\"AIRTRAIN FF\", 128.0, \"2021-03-13\"]], \"hovertemplate\": \"<b>MetroCard Type: %{customdata[0]}</b> <br>MetroCard Swipes: %{customdata[1]:,} <br>Week Ending: %{customdata[2]}<extra></extra>\", \"legendgroup\": \"AIRTRAIN FF\", \"line\": {\"color\": \"rgb(100,181,205)\"}, \"mode\": \"lines\", \"name\": \"AIRTRAIN FF\", \"orientation\": \"v\", \"showlegend\": true, \"stackgroup\": \"1\", \"type\": \"scatter\", \"x\": [\"2020-01-04\", \"2020-01-11\", \"2020-01-18\", \"2020-01-25\", \"2020-02-01\", \"2020-02-08\", \"2020-02-15\", \"2020-02-22\", \"2020-02-29\", \"2020-03-07\", \"2020-03-14\", \"2020-03-21\", \"2020-03-28\", \"2020-04-04\", \"2020-04-11\", \"2020-04-18\", \"2020-04-25\", \"2020-05-02\", \"2020-05-09\", \"2020-05-16\", \"2020-05-23\", \"2020-05-30\", \"2020-06-06\", \"2020-06-13\", \"2020-06-20\", \"2020-06-27\", \"2020-07-04\", \"2020-07-11\", \"2020-07-18\", \"2020-07-25\", \"2020-08-01\", \"2020-08-08\", \"2020-08-15\", \"2020-08-22\", \"2020-08-29\", \"2020-09-05\", \"2020-09-12\", \"2020-09-19\", \"2020-09-26\", \"2020-10-03\", \"2020-10-10\", \"2020-10-17\", \"2020-10-24\", \"2020-10-31\", \"2020-11-07\", \"2020-11-14\", \"2020-11-21\", \"2020-11-28\", \"2020-12-05\", \"2020-12-12\", \"2020-12-19\", \"2020-12-26\", \"2021-01-02\", \"2021-01-09\", \"2021-01-16\", \"2021-01-23\", \"2021-01-30\", \"2021-02-06\", \"2021-02-13\", \"2021-02-20\", \"2021-02-27\", \"2021-03-06\", \"2021-03-13\"], \"xaxis\": \"x\", \"y\": [2075.0, 1251.0, 1457.0, 1197.0, 1219.0, 1222.0, 1326.0, 1743.0, 1395.0, 1403.0, 1115.0, 373.0, 41.0, 21.0, 12.0, 19.0, 33.0, 23.0, 46.0, 42.0, 42.0, 22.0, 31.0, 45.0, 65.0, 68.0, 58.0, 83.0, 104.0, 118.0, 112.0, 120.0, 128.0, 141.0, 169.0, 163.0, 155.0, 164.0, 159.0, 146.0, 143.0, 121.0, 130.0, 132.0, 107.0, 134.0, 111.0, 101.0, 76.0, 86.0, 97.0, 91.0, 191.0, 98.0, 98.0, 115.0, 112.0, 76.0, 91.0, 97.0, 97.0, 100.0, 128.0], \"yaxis\": \"y\"}, {\"customdata\": [[\"FF 7-DAY\", 271.0, \"2020-01-04\"], [\"FF 7-DAY\", 331.0, \"2020-01-11\"], [\"FF 7-DAY\", 345.0, \"2020-01-18\"], [\"FF 7-DAY\", 303.0, \"2020-01-25\"], [\"FF 7-DAY\", 390.0, \"2020-02-01\"], [\"FF 7-DAY\", 407.0, \"2020-02-08\"], [\"FF 7-DAY\", 394.0, \"2020-02-15\"], [\"FF 7-DAY\", 393.0, \"2020-02-22\"], [\"FF 7-DAY\", 406.0, \"2020-02-29\"], [\"FF 7-DAY\", 421.0, \"2020-03-07\"], [\"FF 7-DAY\", 430.0, \"2020-03-14\"], [\"FF 7-DAY\", 278.0, \"2020-03-21\"], [\"FF 7-DAY\", 145.0, \"2020-03-28\"], [\"FF 7-DAY\", 78.0, \"2020-04-04\"], [\"FF 7-DAY\", 79.0, \"2020-04-11\"], [\"FF 7-DAY\", 81.0, \"2020-04-18\"], [\"FF 7-DAY\", 85.0, \"2020-04-25\"], [\"FF 7-DAY\", 87.0, \"2020-05-02\"], [\"FF 7-DAY\", 97.0, \"2020-05-09\"], [\"FF 7-DAY\", 93.0, \"2020-05-16\"], [\"FF 7-DAY\", 80.0, \"2020-05-23\"], [\"FF 7-DAY\", 76.0, \"2020-05-30\"], [\"FF 7-DAY\", 112.0, \"2020-06-06\"], [\"FF 7-DAY\", 105.0, \"2020-06-13\"], [\"FF 7-DAY\", 110.0, \"2020-06-20\"], [\"FF 7-DAY\", 122.0, \"2020-06-27\"], [\"FF 7-DAY\", 122.0, \"2020-07-04\"], [\"FF 7-DAY\", 134.0, \"2020-07-11\"], [\"FF 7-DAY\", 129.0, \"2020-07-18\"], [\"FF 7-DAY\", 153.0, \"2020-07-25\"], [\"FF 7-DAY\", 124.0, \"2020-08-01\"], [\"FF 7-DAY\", 145.0, \"2020-08-08\"], [\"FF 7-DAY\", 163.0, \"2020-08-15\"], [\"FF 7-DAY\", 193.0, \"2020-08-22\"], [\"FF 7-DAY\", 176.0, \"2020-08-29\"], [\"FF 7-DAY\", 171.0, \"2020-09-05\"], [\"FF 7-DAY\", 163.0, \"2020-09-12\"], [\"FF 7-DAY\", 191.0, \"2020-09-19\"], [\"FF 7-DAY\", 192.0, \"2020-09-26\"], [\"FF 7-DAY\", 204.0, \"2020-10-03\"], [\"FF 7-DAY\", 239.0, \"2020-10-10\"], [\"FF 7-DAY\", 197.0, \"2020-10-17\"], [\"FF 7-DAY\", 248.0, \"2020-10-24\"], [\"FF 7-DAY\", 234.0, \"2020-10-31\"], [\"FF 7-DAY\", 229.0, \"2020-11-07\"], [\"FF 7-DAY\", 238.0, \"2020-11-14\"], [\"FF 7-DAY\", 267.0, \"2020-11-21\"], [\"FF 7-DAY\", 176.0, \"2020-11-28\"], [\"FF 7-DAY\", 260.0, \"2020-12-05\"], [\"FF 7-DAY\", 250.0, \"2020-12-12\"], [\"FF 7-DAY\", 238.0, \"2020-12-19\"], [\"FF 7-DAY\", 262.0, \"2020-12-26\"], [\"FF 7-DAY\", 218.0, \"2021-01-02\"], [\"FF 7-DAY\", 236.0, \"2021-01-09\"], [\"FF 7-DAY\", 306.0, \"2021-01-16\"], [\"FF 7-DAY\", 260.0, \"2021-01-23\"], [\"FF 7-DAY\", 251.0, \"2021-01-30\"], [\"FF 7-DAY\", 189.0, \"2021-02-06\"], [\"FF 7-DAY\", 266.0, \"2021-02-13\"], [\"FF 7-DAY\", 255.0, \"2021-02-20\"], [\"FF 7-DAY\", 230.0, \"2021-02-27\"], [\"FF 7-DAY\", 220.0, \"2021-03-06\"], [\"FF 7-DAY\", 222.0, \"2021-03-13\"]], \"hovertemplate\": \"<b>MetroCard Type: %{customdata[0]}</b> <br>MetroCard Swipes: %{customdata[1]:,} <br>Week Ending: %{customdata[2]}<extra></extra>\", \"legendgroup\": \"FF 7-DAY\", \"line\": {\"color\": \"rgb(76,114,176)\"}, \"mode\": \"lines\", \"name\": \"FF 7-DAY\", \"orientation\": \"v\", \"showlegend\": true, \"stackgroup\": \"1\", \"type\": \"scatter\", \"x\": [\"2020-01-04\", \"2020-01-11\", \"2020-01-18\", \"2020-01-25\", \"2020-02-01\", \"2020-02-08\", \"2020-02-15\", \"2020-02-22\", \"2020-02-29\", \"2020-03-07\", \"2020-03-14\", \"2020-03-21\", \"2020-03-28\", \"2020-04-04\", \"2020-04-11\", \"2020-04-18\", \"2020-04-25\", \"2020-05-02\", \"2020-05-09\", \"2020-05-16\", \"2020-05-23\", \"2020-05-30\", \"2020-06-06\", \"2020-06-13\", \"2020-06-20\", \"2020-06-27\", \"2020-07-04\", \"2020-07-11\", \"2020-07-18\", \"2020-07-25\", \"2020-08-01\", \"2020-08-08\", \"2020-08-15\", \"2020-08-22\", \"2020-08-29\", \"2020-09-05\", \"2020-09-12\", \"2020-09-19\", \"2020-09-26\", \"2020-10-03\", \"2020-10-10\", \"2020-10-17\", \"2020-10-24\", \"2020-10-31\", \"2020-11-07\", \"2020-11-14\", \"2020-11-21\", \"2020-11-28\", \"2020-12-05\", \"2020-12-12\", \"2020-12-19\", \"2020-12-26\", \"2021-01-02\", \"2021-01-09\", \"2021-01-16\", \"2021-01-23\", \"2021-01-30\", \"2021-02-06\", \"2021-02-13\", \"2021-02-20\", \"2021-02-27\", \"2021-03-06\", \"2021-03-13\"], \"xaxis\": \"x\", \"y\": [271.0, 331.0, 345.0, 303.0, 390.0, 407.0, 394.0, 393.0, 406.0, 421.0, 430.0, 278.0, 145.0, 78.0, 79.0, 81.0, 85.0, 87.0, 97.0, 93.0, 80.0, 76.0, 112.0, 105.0, 110.0, 122.0, 122.0, 134.0, 129.0, 153.0, 124.0, 145.0, 163.0, 193.0, 176.0, 171.0, 163.0, 191.0, 192.0, 204.0, 239.0, 197.0, 248.0, 234.0, 229.0, 238.0, 267.0, 176.0, 260.0, 250.0, 238.0, 262.0, 218.0, 236.0, 306.0, 260.0, 251.0, 189.0, 266.0, 255.0, 230.0, 220.0, 222.0], \"yaxis\": \"y\"}, {\"customdata\": [[\"MR EZPAY UNL\", 461.0, \"2020-01-04\"], [\"MR EZPAY UNL\", 877.0, \"2020-01-11\"], [\"MR EZPAY UNL\", 883.0, \"2020-01-18\"], [\"MR EZPAY UNL\", 728.0, \"2020-01-25\"], [\"MR EZPAY UNL\", 848.0, \"2020-02-01\"], [\"MR EZPAY UNL\", 871.0, \"2020-02-08\"], [\"MR EZPAY UNL\", 856.0, \"2020-02-15\"], [\"MR EZPAY UNL\", 745.0, \"2020-02-22\"], [\"MR EZPAY UNL\", 839.0, \"2020-02-29\"], [\"MR EZPAY UNL\", 783.0, \"2020-03-07\"], [\"MR EZPAY UNL\", 687.0, \"2020-03-14\"], [\"MR EZPAY UNL\", 207.0, \"2020-03-21\"], [\"MR EZPAY UNL\", 80.0, \"2020-03-28\"], [\"MR EZPAY UNL\", 50.0, \"2020-04-04\"], [\"MR EZPAY UNL\", 45.0, \"2020-04-11\"], [\"MR EZPAY UNL\", 31.0, \"2020-04-18\"], [\"MR EZPAY UNL\", 30.0, \"2020-04-25\"], [\"MR EZPAY UNL\", 36.0, \"2020-05-02\"], [\"MR EZPAY UNL\", 44.0, \"2020-05-09\"], [\"MR EZPAY UNL\", 44.0, \"2020-05-16\"], [\"MR EZPAY UNL\", 53.0, \"2020-05-23\"], [\"MR EZPAY UNL\", 51.0, \"2020-05-30\"], [\"MR EZPAY UNL\", 52.0, \"2020-06-06\"], [\"MR EZPAY UNL\", 77.0, \"2020-06-13\"], [\"MR EZPAY UNL\", 88.0, \"2020-06-20\"], [\"MR EZPAY UNL\", 96.0, \"2020-06-27\"], [\"MR EZPAY UNL\", 69.0, \"2020-07-04\"], [\"MR EZPAY UNL\", 89.0, \"2020-07-11\"], [\"MR EZPAY UNL\", 84.0, \"2020-07-18\"], [\"MR EZPAY UNL\", 111.0, \"2020-07-25\"], [\"MR EZPAY UNL\", 124.0, \"2020-08-01\"], [\"MR EZPAY UNL\", 119.0, \"2020-08-08\"], [\"MR EZPAY UNL\", 124.0, \"2020-08-15\"], [\"MR EZPAY UNL\", 143.0, \"2020-08-22\"], [\"MR EZPAY UNL\", 136.0, \"2020-08-29\"], [\"MR EZPAY UNL\", 114.0, \"2020-09-05\"], [\"MR EZPAY UNL\", 108.0, \"2020-09-12\"], [\"MR EZPAY UNL\", 97.0, \"2020-09-19\"], [\"MR EZPAY UNL\", 126.0, \"2020-09-26\"], [\"MR EZPAY UNL\", 139.0, \"2020-10-03\"], [\"MR EZPAY UNL\", 118.0, \"2020-10-10\"], [\"MR EZPAY UNL\", 108.0, \"2020-10-17\"], [\"MR EZPAY UNL\", 123.0, \"2020-10-24\"], [\"MR EZPAY UNL\", 111.0, \"2020-10-31\"], [\"MR EZPAY UNL\", 104.0, \"2020-11-07\"], [\"MR EZPAY UNL\", 115.0, \"2020-11-14\"], [\"MR EZPAY UNL\", 114.0, \"2020-11-21\"], [\"MR EZPAY UNL\", 62.0, \"2020-11-28\"], [\"MR EZPAY UNL\", 86.0, \"2020-12-05\"], [\"MR EZPAY UNL\", 85.0, \"2020-12-12\"], [\"MR EZPAY UNL\", 78.0, \"2020-12-19\"], [\"MR EZPAY UNL\", 65.0, \"2020-12-26\"], [\"MR EZPAY UNL\", 64.0, \"2021-01-02\"], [\"MR EZPAY UNL\", 88.0, \"2021-01-09\"], [\"MR EZPAY UNL\", 101.0, \"2021-01-16\"], [\"MR EZPAY UNL\", 94.0, \"2021-01-23\"], [\"MR EZPAY UNL\", 80.0, \"2021-01-30\"], [\"MR EZPAY UNL\", 79.0, \"2021-02-06\"], [\"MR EZPAY UNL\", 91.0, \"2021-02-13\"], [\"MR EZPAY UNL\", 76.0, \"2021-02-20\"], [\"MR EZPAY UNL\", 100.0, \"2021-02-27\"], [\"MR EZPAY UNL\", 98.0, \"2021-03-06\"], [\"MR EZPAY UNL\", 110.0, \"2021-03-13\"]], \"hovertemplate\": \"<b>MetroCard Type: %{customdata[0]}</b> <br>MetroCard Swipes: %{customdata[1]:,} <br>Week Ending: %{customdata[2]}<extra></extra>\", \"legendgroup\": \"MR EZPAY UNL\", \"line\": {\"color\": \"rgb(221,132,82)\"}, \"mode\": \"lines\", \"name\": \"MR EZPAY UNL\", \"orientation\": \"v\", \"showlegend\": true, \"stackgroup\": \"1\", \"type\": \"scatter\", \"x\": [\"2020-01-04\", \"2020-01-11\", \"2020-01-18\", \"2020-01-25\", \"2020-02-01\", \"2020-02-08\", \"2020-02-15\", \"2020-02-22\", \"2020-02-29\", \"2020-03-07\", \"2020-03-14\", \"2020-03-21\", \"2020-03-28\", \"2020-04-04\", \"2020-04-11\", \"2020-04-18\", \"2020-04-25\", \"2020-05-02\", \"2020-05-09\", \"2020-05-16\", \"2020-05-23\", \"2020-05-30\", \"2020-06-06\", \"2020-06-13\", \"2020-06-20\", \"2020-06-27\", \"2020-07-04\", \"2020-07-11\", \"2020-07-18\", \"2020-07-25\", \"2020-08-01\", \"2020-08-08\", \"2020-08-15\", \"2020-08-22\", \"2020-08-29\", \"2020-09-05\", \"2020-09-12\", \"2020-09-19\", \"2020-09-26\", \"2020-10-03\", \"2020-10-10\", \"2020-10-17\", \"2020-10-24\", \"2020-10-31\", \"2020-11-07\", \"2020-11-14\", \"2020-11-21\", \"2020-11-28\", \"2020-12-05\", \"2020-12-12\", \"2020-12-19\", \"2020-12-26\", \"2021-01-02\", \"2021-01-09\", \"2021-01-16\", \"2021-01-23\", \"2021-01-30\", \"2021-02-06\", \"2021-02-13\", \"2021-02-20\", \"2021-02-27\", \"2021-03-06\", \"2021-03-13\"], \"xaxis\": \"x\", \"y\": [461.0, 877.0, 883.0, 728.0, 848.0, 871.0, 856.0, 745.0, 839.0, 783.0, 687.0, 207.0, 80.0, 50.0, 45.0, 31.0, 30.0, 36.0, 44.0, 44.0, 53.0, 51.0, 52.0, 77.0, 88.0, 96.0, 69.0, 89.0, 84.0, 111.0, 124.0, 119.0, 124.0, 143.0, 136.0, 114.0, 108.0, 97.0, 126.0, 139.0, 118.0, 108.0, 123.0, 111.0, 104.0, 115.0, 114.0, 62.0, 86.0, 85.0, 78.0, 65.0, 64.0, 88.0, 101.0, 94.0, 80.0, 79.0, 91.0, 76.0, 100.0, 98.0, 110.0], \"yaxis\": \"y\"}, {\"customdata\": [[\"7-D AFAS UNL\", 408.0, \"2020-01-04\"], [\"7-D AFAS UNL\", 489.0, \"2020-01-11\"], [\"7-D AFAS UNL\", 489.0, \"2020-01-18\"], [\"7-D AFAS UNL\", 435.0, \"2020-01-25\"], [\"7-D AFAS UNL\", 492.0, \"2020-02-01\"], [\"7-D AFAS UNL\", 499.0, \"2020-02-08\"], [\"7-D AFAS UNL\", 475.0, \"2020-02-15\"], [\"7-D AFAS UNL\", 433.0, \"2020-02-22\"], [\"7-D AFAS UNL\", 474.0, \"2020-02-29\"], [\"7-D AFAS UNL\", 463.0, \"2020-03-07\"], [\"7-D AFAS UNL\", 496.0, \"2020-03-14\"], [\"7-D AFAS UNL\", 246.0, \"2020-03-21\"], [\"7-D AFAS UNL\", 130.0, \"2020-03-28\"], [\"7-D AFAS UNL\", 89.0, \"2020-04-04\"], [\"7-D AFAS UNL\", 74.0, \"2020-04-11\"], [\"7-D AFAS UNL\", 52.0, \"2020-04-18\"], [\"7-D AFAS UNL\", 63.0, \"2020-04-25\"], [\"7-D AFAS UNL\", 59.0, \"2020-05-02\"], [\"7-D AFAS UNL\", 59.0, \"2020-05-09\"], [\"7-D AFAS UNL\", 68.0, \"2020-05-16\"], [\"7-D AFAS UNL\", 66.0, \"2020-05-23\"], [\"7-D AFAS UNL\", 71.0, \"2020-05-30\"], [\"7-D AFAS UNL\", 58.0, \"2020-06-06\"], [\"7-D AFAS UNL\", 56.0, \"2020-06-13\"], [\"7-D AFAS UNL\", 92.0, \"2020-06-20\"], [\"7-D AFAS UNL\", 61.0, \"2020-06-27\"], [\"7-D AFAS UNL\", 62.0, \"2020-07-04\"], [\"7-D AFAS UNL\", 100.0, \"2020-07-11\"], [\"7-D AFAS UNL\", 106.0, \"2020-07-18\"], [\"7-D AFAS UNL\", 111.0, \"2020-07-25\"], [\"7-D AFAS UNL\", 112.0, \"2020-08-01\"], [\"7-D AFAS UNL\", 98.0, \"2020-08-08\"], [\"7-D AFAS UNL\", 103.0, \"2020-08-15\"], [\"7-D AFAS UNL\", 100.0, \"2020-08-22\"], [\"7-D AFAS UNL\", 122.0, \"2020-08-29\"], [\"7-D AFAS UNL\", 179.0, \"2020-09-05\"], [\"7-D AFAS UNL\", 198.0, \"2020-09-12\"], [\"7-D AFAS UNL\", 208.0, \"2020-09-19\"], [\"7-D AFAS UNL\", 207.0, \"2020-09-26\"], [\"7-D AFAS UNL\", 208.0, \"2020-10-03\"], [\"7-D AFAS UNL\", 230.0, \"2020-10-10\"], [\"7-D AFAS UNL\", 211.0, \"2020-10-17\"], [\"7-D AFAS UNL\", 206.0, \"2020-10-24\"], [\"7-D AFAS UNL\", 194.0, \"2020-10-31\"], [\"7-D AFAS UNL\", 200.0, \"2020-11-07\"], [\"7-D AFAS UNL\", 193.0, \"2020-11-14\"], [\"7-D AFAS UNL\", 202.0, \"2020-11-21\"], [\"7-D AFAS UNL\", 153.0, \"2020-11-28\"], [\"7-D AFAS UNL\", 213.0, \"2020-12-05\"], [\"7-D AFAS UNL\", 231.0, \"2020-12-12\"], [\"7-D AFAS UNL\", 188.0, \"2020-12-19\"], [\"7-D AFAS UNL\", 199.0, \"2020-12-26\"], [\"7-D AFAS UNL\", 201.0, \"2021-01-02\"], [\"7-D AFAS UNL\", 203.0, \"2021-01-09\"], [\"7-D AFAS UNL\", 209.0, \"2021-01-16\"], [\"7-D AFAS UNL\", 196.0, \"2021-01-23\"], [\"7-D AFAS UNL\", 182.0, \"2021-01-30\"], [\"7-D AFAS UNL\", 147.0, \"2021-02-06\"], [\"7-D AFAS UNL\", 198.0, \"2021-02-13\"], [\"7-D AFAS UNL\", 184.0, \"2021-02-20\"], [\"7-D AFAS UNL\", 190.0, \"2021-02-27\"], [\"7-D AFAS UNL\", 188.0, \"2021-03-06\"], [\"7-D AFAS UNL\", 232.0, \"2021-03-13\"]], \"hovertemplate\": \"<b>MetroCard Type: %{customdata[0]}</b> <br>MetroCard Swipes: %{customdata[1]:,} <br>Week Ending: %{customdata[2]}<extra></extra>\", \"legendgroup\": \"7-D AFAS UNL\", \"line\": {\"color\": \"rgb(85,168,104)\"}, \"mode\": \"lines\", \"name\": \"7-D AFAS UNL\", \"orientation\": \"v\", \"showlegend\": true, \"stackgroup\": \"1\", \"type\": \"scatter\", \"x\": [\"2020-01-04\", \"2020-01-11\", \"2020-01-18\", \"2020-01-25\", \"2020-02-01\", \"2020-02-08\", \"2020-02-15\", \"2020-02-22\", \"2020-02-29\", \"2020-03-07\", \"2020-03-14\", \"2020-03-21\", \"2020-03-28\", \"2020-04-04\", \"2020-04-11\", \"2020-04-18\", \"2020-04-25\", \"2020-05-02\", \"2020-05-09\", \"2020-05-16\", \"2020-05-23\", \"2020-05-30\", \"2020-06-06\", \"2020-06-13\", \"2020-06-20\", \"2020-06-27\", \"2020-07-04\", \"2020-07-11\", \"2020-07-18\", \"2020-07-25\", \"2020-08-01\", \"2020-08-08\", \"2020-08-15\", \"2020-08-22\", \"2020-08-29\", \"2020-09-05\", \"2020-09-12\", \"2020-09-19\", \"2020-09-26\", \"2020-10-03\", \"2020-10-10\", \"2020-10-17\", \"2020-10-24\", \"2020-10-31\", \"2020-11-07\", \"2020-11-14\", \"2020-11-21\", \"2020-11-28\", \"2020-12-05\", \"2020-12-12\", \"2020-12-19\", \"2020-12-26\", \"2021-01-02\", \"2021-01-09\", \"2021-01-16\", \"2021-01-23\", \"2021-01-30\", \"2021-02-06\", \"2021-02-13\", \"2021-02-20\", \"2021-02-27\", \"2021-03-06\", \"2021-03-13\"], \"xaxis\": \"x\", \"y\": [408.0, 489.0, 489.0, 435.0, 492.0, 499.0, 475.0, 433.0, 474.0, 463.0, 496.0, 246.0, 130.0, 89.0, 74.0, 52.0, 63.0, 59.0, 59.0, 68.0, 66.0, 71.0, 58.0, 56.0, 92.0, 61.0, 62.0, 100.0, 106.0, 111.0, 112.0, 98.0, 103.0, 100.0, 122.0, 179.0, 198.0, 208.0, 207.0, 208.0, 230.0, 211.0, 206.0, 194.0, 200.0, 193.0, 202.0, 153.0, 213.0, 231.0, 188.0, 199.0, 201.0, 203.0, 209.0, 196.0, 182.0, 147.0, 198.0, 184.0, 190.0, 188.0, 232.0], \"yaxis\": \"y\"}, {\"customdata\": [[\"TCMC\", 491.0, \"2020-01-04\"], [\"TCMC\", 858.0, \"2020-01-11\"], [\"TCMC\", 875.0, \"2020-01-18\"], [\"TCMC\", 679.0, \"2020-01-25\"], [\"TCMC\", 791.0, \"2020-02-01\"], [\"TCMC\", 816.0, \"2020-02-08\"], [\"TCMC\", 817.0, \"2020-02-15\"], [\"TCMC\", 633.0, \"2020-02-22\"], [\"TCMC\", 824.0, \"2020-02-29\"], [\"TCMC\", 755.0, \"2020-03-07\"], [\"TCMC\", 555.0, \"2020-03-14\"], [\"TCMC\", 109.0, \"2020-03-21\"], [\"TCMC\", 37.0, \"2020-03-28\"], [\"TCMC\", 23.0, \"2020-04-04\"], [\"TCMC\", 15.0, \"2020-04-11\"], [\"TCMC\", 14.0, \"2020-04-18\"], [\"TCMC\", 19.0, \"2020-04-25\"], [\"TCMC\", 19.0, \"2020-05-02\"], [\"TCMC\", 20.0, \"2020-05-09\"], [\"TCMC\", 39.0, \"2020-05-16\"], [\"TCMC\", 33.0, \"2020-05-23\"], [\"TCMC\", 29.0, \"2020-05-30\"], [\"TCMC\", 26.0, \"2020-06-06\"], [\"TCMC\", 37.0, \"2020-06-13\"], [\"TCMC\", 45.0, \"2020-06-20\"], [\"TCMC\", 58.0, \"2020-06-27\"], [\"TCMC\", 57.0, \"2020-07-04\"], [\"TCMC\", 63.0, \"2020-07-11\"], [\"TCMC\", 67.0, \"2020-07-18\"], [\"TCMC\", 99.0, \"2020-07-25\"], [\"TCMC\", 86.0, \"2020-08-01\"], [\"TCMC\", 92.0, \"2020-08-08\"], [\"TCMC\", 102.0, \"2020-08-15\"], [\"TCMC\", 102.0, \"2020-08-22\"], [\"TCMC\", 130.0, \"2020-08-29\"], [\"TCMC\", 101.0, \"2020-09-05\"], [\"TCMC\", 101.0, \"2020-09-12\"], [\"TCMC\", 104.0, \"2020-09-19\"], [\"TCMC\", 93.0, \"2020-09-26\"], [\"TCMC\", 80.0, \"2020-10-03\"], [\"TCMC\", 93.0, \"2020-10-10\"], [\"TCMC\", 100.0, \"2020-10-17\"], [\"TCMC\", 101.0, \"2020-10-24\"], [\"TCMC\", 111.0, \"2020-10-31\"], [\"TCMC\", 83.0, \"2020-11-07\"], [\"TCMC\", 102.0, \"2020-11-14\"], [\"TCMC\", 106.0, \"2020-11-21\"], [\"TCMC\", 57.0, \"2020-11-28\"], [\"TCMC\", 99.0, \"2020-12-05\"], [\"TCMC\", 91.0, \"2020-12-12\"], [\"TCMC\", 85.0, \"2020-12-19\"], [\"TCMC\", 69.0, \"2020-12-26\"], [\"TCMC\", 54.0, \"2021-01-02\"], [\"TCMC\", 80.0, \"2021-01-09\"], [\"TCMC\", 87.0, \"2021-01-16\"], [\"TCMC\", 79.0, \"2021-01-23\"], [\"TCMC\", 83.0, \"2021-01-30\"], [\"TCMC\", 61.0, \"2021-02-06\"], [\"TCMC\", 93.0, \"2021-02-13\"], [\"TCMC\", 53.0, \"2021-02-20\"], [\"TCMC\", 87.0, \"2021-02-27\"], [\"TCMC\", 86.0, \"2021-03-06\"], [\"TCMC\", 81.0, \"2021-03-13\"]], \"hovertemplate\": \"<b>MetroCard Type: %{customdata[0]}</b> <br>MetroCard Swipes: %{customdata[1]:,} <br>Week Ending: %{customdata[2]}<extra></extra>\", \"legendgroup\": \"TCMC\", \"line\": {\"color\": \"rgb(196,78,82)\"}, \"mode\": \"lines\", \"name\": \"TCMC\", \"orientation\": \"v\", \"showlegend\": true, \"stackgroup\": \"1\", \"type\": \"scatter\", \"x\": [\"2020-01-04\", \"2020-01-11\", \"2020-01-18\", \"2020-01-25\", \"2020-02-01\", \"2020-02-08\", \"2020-02-15\", \"2020-02-22\", \"2020-02-29\", \"2020-03-07\", \"2020-03-14\", \"2020-03-21\", \"2020-03-28\", \"2020-04-04\", \"2020-04-11\", \"2020-04-18\", \"2020-04-25\", \"2020-05-02\", \"2020-05-09\", \"2020-05-16\", \"2020-05-23\", \"2020-05-30\", \"2020-06-06\", \"2020-06-13\", \"2020-06-20\", \"2020-06-27\", \"2020-07-04\", \"2020-07-11\", \"2020-07-18\", \"2020-07-25\", \"2020-08-01\", \"2020-08-08\", \"2020-08-15\", \"2020-08-22\", \"2020-08-29\", \"2020-09-05\", \"2020-09-12\", \"2020-09-19\", \"2020-09-26\", \"2020-10-03\", \"2020-10-10\", \"2020-10-17\", \"2020-10-24\", \"2020-10-31\", \"2020-11-07\", \"2020-11-14\", \"2020-11-21\", \"2020-11-28\", \"2020-12-05\", \"2020-12-12\", \"2020-12-19\", \"2020-12-26\", \"2021-01-02\", \"2021-01-09\", \"2021-01-16\", \"2021-01-23\", \"2021-01-30\", \"2021-02-06\", \"2021-02-13\", \"2021-02-20\", \"2021-02-27\", \"2021-03-06\", \"2021-03-13\"], \"xaxis\": \"x\", \"y\": [491.0, 858.0, 875.0, 679.0, 791.0, 816.0, 817.0, 633.0, 824.0, 755.0, 555.0, 109.0, 37.0, 23.0, 15.0, 14.0, 19.0, 19.0, 20.0, 39.0, 33.0, 29.0, 26.0, 37.0, 45.0, 58.0, 57.0, 63.0, 67.0, 99.0, 86.0, 92.0, 102.0, 102.0, 130.0, 101.0, 101.0, 104.0, 93.0, 80.0, 93.0, 100.0, 101.0, 111.0, 83.0, 102.0, 106.0, 57.0, 99.0, 91.0, 85.0, 69.0, 54.0, 80.0, 87.0, 79.0, 83.0, 61.0, 93.0, 53.0, 87.0, 86.0, 81.0], \"yaxis\": \"y\"}, {\"customdata\": [[\"FF 30-DAY\", 258.0, \"2020-01-04\"], [\"FF 30-DAY\", 345.0, \"2020-01-11\"], [\"FF 30-DAY\", 329.0, \"2020-01-18\"], [\"FF 30-DAY\", 315.0, \"2020-01-25\"], [\"FF 30-DAY\", 373.0, \"2020-02-01\"], [\"FF 30-DAY\", 405.0, \"2020-02-08\"], [\"FF 30-DAY\", 412.0, \"2020-02-15\"], [\"FF 30-DAY\", 431.0, \"2020-02-22\"], [\"FF 30-DAY\", 469.0, \"2020-02-29\"], [\"FF 30-DAY\", 488.0, \"2020-03-07\"], [\"FF 30-DAY\", 485.0, \"2020-03-14\"], [\"FF 30-DAY\", 249.0, \"2020-03-21\"], [\"FF 30-DAY\", 97.0, \"2020-03-28\"], [\"FF 30-DAY\", 67.0, \"2020-04-04\"], [\"FF 30-DAY\", 55.0, \"2020-04-11\"], [\"FF 30-DAY\", 51.0, \"2020-04-18\"], [\"FF 30-DAY\", 39.0, \"2020-04-25\"], [\"FF 30-DAY\", 56.0, \"2020-05-02\"], [\"FF 30-DAY\", 50.0, \"2020-05-09\"], [\"FF 30-DAY\", 45.0, \"2020-05-16\"], [\"FF 30-DAY\", 55.0, \"2020-05-23\"], [\"FF 30-DAY\", 65.0, \"2020-05-30\"], [\"FF 30-DAY\", 74.0, \"2020-06-06\"], [\"FF 30-DAY\", 78.0, \"2020-06-13\"], [\"FF 30-DAY\", 88.0, \"2020-06-20\"], [\"FF 30-DAY\", 107.0, \"2020-06-27\"], [\"FF 30-DAY\", 112.0, \"2020-07-04\"], [\"FF 30-DAY\", 123.0, \"2020-07-11\"], [\"FF 30-DAY\", 133.0, \"2020-07-18\"], [\"FF 30-DAY\", 139.0, \"2020-07-25\"], [\"FF 30-DAY\", 135.0, \"2020-08-01\"], [\"FF 30-DAY\", 135.0, \"2020-08-08\"], [\"FF 30-DAY\", 125.0, \"2020-08-15\"], [\"FF 30-DAY\", 121.0, \"2020-08-22\"], [\"FF 30-DAY\", 152.0, \"2020-08-29\"], [\"FF 30-DAY\", 144.0, \"2020-09-05\"], [\"FF 30-DAY\", 147.0, \"2020-09-12\"], [\"FF 30-DAY\", 162.0, \"2020-09-19\"], [\"FF 30-DAY\", 159.0, \"2020-09-26\"], [\"FF 30-DAY\", 166.0, \"2020-10-03\"], [\"FF 30-DAY\", 166.0, \"2020-10-10\"], [\"FF 30-DAY\", 140.0, \"2020-10-17\"], [\"FF 30-DAY\", 159.0, \"2020-10-24\"], [\"FF 30-DAY\", 157.0, \"2020-10-31\"], [\"FF 30-DAY\", 168.0, \"2020-11-07\"], [\"FF 30-DAY\", 173.0, \"2020-11-14\"], [\"FF 30-DAY\", 163.0, \"2020-11-21\"], [\"FF 30-DAY\", 142.0, \"2020-11-28\"], [\"FF 30-DAY\", 150.0, \"2020-12-05\"], [\"FF 30-DAY\", 157.0, \"2020-12-12\"], [\"FF 30-DAY\", 143.0, \"2020-12-19\"], [\"FF 30-DAY\", 125.0, \"2020-12-26\"], [\"FF 30-DAY\", 124.0, \"2021-01-02\"], [\"FF 30-DAY\", 142.0, \"2021-01-09\"], [\"FF 30-DAY\", 142.0, \"2021-01-16\"], [\"FF 30-DAY\", 139.0, \"2021-01-23\"], [\"FF 30-DAY\", 152.0, \"2021-01-30\"], [\"FF 30-DAY\", 104.0, \"2021-02-06\"], [\"FF 30-DAY\", 120.0, \"2021-02-13\"], [\"FF 30-DAY\", 123.0, \"2021-02-20\"], [\"FF 30-DAY\", 152.0, \"2021-02-27\"], [\"FF 30-DAY\", 183.0, \"2021-03-06\"], [\"FF 30-DAY\", 168.0, \"2021-03-13\"]], \"hovertemplate\": \"<b>MetroCard Type: %{customdata[0]}</b> <br>MetroCard Swipes: %{customdata[1]:,} <br>Week Ending: %{customdata[2]}<extra></extra>\", \"legendgroup\": \"FF 30-DAY\", \"line\": {\"color\": \"rgb(129,114,179)\"}, \"mode\": \"lines\", \"name\": \"FF 30-DAY\", \"orientation\": \"v\", \"showlegend\": true, \"stackgroup\": \"1\", \"type\": \"scatter\", \"x\": [\"2020-01-04\", \"2020-01-11\", \"2020-01-18\", \"2020-01-25\", \"2020-02-01\", \"2020-02-08\", \"2020-02-15\", \"2020-02-22\", \"2020-02-29\", \"2020-03-07\", \"2020-03-14\", \"2020-03-21\", \"2020-03-28\", \"2020-04-04\", \"2020-04-11\", \"2020-04-18\", \"2020-04-25\", \"2020-05-02\", \"2020-05-09\", \"2020-05-16\", \"2020-05-23\", \"2020-05-30\", \"2020-06-06\", \"2020-06-13\", \"2020-06-20\", \"2020-06-27\", \"2020-07-04\", \"2020-07-11\", \"2020-07-18\", \"2020-07-25\", \"2020-08-01\", \"2020-08-08\", \"2020-08-15\", \"2020-08-22\", \"2020-08-29\", \"2020-09-05\", \"2020-09-12\", \"2020-09-19\", \"2020-09-26\", \"2020-10-03\", \"2020-10-10\", \"2020-10-17\", \"2020-10-24\", \"2020-10-31\", \"2020-11-07\", \"2020-11-14\", \"2020-11-21\", \"2020-11-28\", \"2020-12-05\", \"2020-12-12\", \"2020-12-19\", \"2020-12-26\", \"2021-01-02\", \"2021-01-09\", \"2021-01-16\", \"2021-01-23\", \"2021-01-30\", \"2021-02-06\", \"2021-02-13\", \"2021-02-20\", \"2021-02-27\", \"2021-03-06\", \"2021-03-13\"], \"xaxis\": \"x\", \"y\": [258.0, 345.0, 329.0, 315.0, 373.0, 405.0, 412.0, 431.0, 469.0, 488.0, 485.0, 249.0, 97.0, 67.0, 55.0, 51.0, 39.0, 56.0, 50.0, 45.0, 55.0, 65.0, 74.0, 78.0, 88.0, 107.0, 112.0, 123.0, 133.0, 139.0, 135.0, 135.0, 125.0, 121.0, 152.0, 144.0, 147.0, 162.0, 159.0, 166.0, 166.0, 140.0, 159.0, 157.0, 168.0, 173.0, 163.0, 142.0, 150.0, 157.0, 143.0, 125.0, 124.0, 142.0, 142.0, 139.0, 152.0, 104.0, 120.0, 123.0, 152.0, 183.0, 168.0], \"yaxis\": \"y\"}, {\"customdata\": [[\"RF 2 TRIP\", 798.0, \"2020-01-04\"], [\"RF 2 TRIP\", 790.0, \"2020-01-11\"], [\"RF 2 TRIP\", 755.0, \"2020-01-18\"], [\"RF 2 TRIP\", 630.0, \"2020-01-25\"], [\"RF 2 TRIP\", 760.0, \"2020-02-01\"], [\"RF 2 TRIP\", 732.0, \"2020-02-08\"], [\"RF 2 TRIP\", 665.0, \"2020-02-15\"], [\"RF 2 TRIP\", 735.0, \"2020-02-22\"], [\"RF 2 TRIP\", 652.0, \"2020-02-29\"], [\"RF 2 TRIP\", 645.0, \"2020-03-07\"], [\"RF 2 TRIP\", 549.0, \"2020-03-14\"], [\"RF 2 TRIP\", 283.0, \"2020-03-21\"], [\"RF 2 TRIP\", 189.0, \"2020-03-28\"], [\"RF 2 TRIP\", 195.0, \"2020-04-04\"], [\"RF 2 TRIP\", 174.0, \"2020-04-11\"], [\"RF 2 TRIP\", 37.0, \"2020-04-18\"], [\"RF 2 TRIP\", 15.0, \"2020-04-25\"], [\"RF 2 TRIP\", 14.0, \"2020-05-02\"], [\"RF 2 TRIP\", 20.0, \"2020-05-09\"], [\"RF 2 TRIP\", 17.0, \"2020-05-16\"], [\"RF 2 TRIP\", 9.0, \"2020-05-23\"], [\"RF 2 TRIP\", 3.0, \"2020-05-30\"], [\"RF 2 TRIP\", 12.0, \"2020-06-06\"], [\"RF 2 TRIP\", 15.0, \"2020-06-13\"], [\"RF 2 TRIP\", 16.0, \"2020-06-20\"], [\"RF 2 TRIP\", 10.0, \"2020-06-27\"], [\"RF 2 TRIP\", 10.0, \"2020-07-04\"], [\"RF 2 TRIP\", 11.0, \"2020-07-11\"], [\"RF 2 TRIP\", 19.0, \"2020-07-18\"], [\"RF 2 TRIP\", 18.0, \"2020-07-25\"], [\"RF 2 TRIP\", 22.0, \"2020-08-01\"], [\"RF 2 TRIP\", 22.0, \"2020-08-08\"], [\"RF 2 TRIP\", 25.0, \"2020-08-15\"], [\"RF 2 TRIP\", 20.0, \"2020-08-22\"], [\"RF 2 TRIP\", 9.0, \"2020-08-29\"], [\"RF 2 TRIP\", 18.0, \"2020-09-05\"], [\"RF 2 TRIP\", 6.0, \"2020-09-12\"], [\"RF 2 TRIP\", 4.0, \"2020-09-19\"], [\"RF 2 TRIP\", 6.0, \"2020-09-26\"], [\"RF 2 TRIP\", 11.0, \"2020-10-03\"], [\"RF 2 TRIP\", 5.0, \"2020-10-10\"], [\"RF 2 TRIP\", 6.0, \"2020-10-17\"], [\"RF 2 TRIP\", 8.0, \"2020-10-24\"], [\"RF 2 TRIP\", 3.0, \"2020-10-31\"], [\"RF 2 TRIP\", 5.0, \"2020-11-07\"], [\"RF 2 TRIP\", 2.0, \"2020-11-14\"], [\"RF 2 TRIP\", 5.0, \"2020-11-21\"], [\"RF 2 TRIP\", 2.0, \"2020-11-28\"], [\"RF 2 TRIP\", 3.0, \"2020-12-05\"], [\"RF 2 TRIP\", 2.0, \"2020-12-12\"], [\"RF 2 TRIP\", 2.0, \"2020-12-19\"], [\"RF 2 TRIP\", 0.0, \"2020-12-26\"], [\"RF 2 TRIP\", 4.0, \"2021-01-02\"], [\"RF 2 TRIP\", 2.0, \"2021-01-09\"], [\"RF 2 TRIP\", 2.0, \"2021-01-16\"], [\"RF 2 TRIP\", 2.0, \"2021-01-23\"], [\"RF 2 TRIP\", 2.0, \"2021-01-30\"], [\"RF 2 TRIP\", 3.0, \"2021-02-06\"], [\"RF 2 TRIP\", 3.0, \"2021-02-13\"], [\"RF 2 TRIP\", 0.0, \"2021-02-20\"], [\"RF 2 TRIP\", 0.0, \"2021-02-27\"], [\"RF 2 TRIP\", 2.0, \"2021-03-06\"], [\"RF 2 TRIP\", 0.0, \"2021-03-13\"]], \"hovertemplate\": \"<b>MetroCard Type: %{customdata[0]}</b> <br>MetroCard Swipes: %{customdata[1]:,} <br>Week Ending: %{customdata[2]}<extra></extra>\", \"legendgroup\": \"RF 2 TRIP\", \"line\": {\"color\": \"rgb(147,120,96)\"}, \"mode\": \"lines\", \"name\": \"RF 2 TRIP\", \"orientation\": \"v\", \"showlegend\": true, \"stackgroup\": \"1\", \"type\": \"scatter\", \"x\": [\"2020-01-04\", \"2020-01-11\", \"2020-01-18\", \"2020-01-25\", \"2020-02-01\", \"2020-02-08\", \"2020-02-15\", \"2020-02-22\", \"2020-02-29\", \"2020-03-07\", \"2020-03-14\", \"2020-03-21\", \"2020-03-28\", \"2020-04-04\", \"2020-04-11\", \"2020-04-18\", \"2020-04-25\", \"2020-05-02\", \"2020-05-09\", \"2020-05-16\", \"2020-05-23\", \"2020-05-30\", \"2020-06-06\", \"2020-06-13\", \"2020-06-20\", \"2020-06-27\", \"2020-07-04\", \"2020-07-11\", \"2020-07-18\", \"2020-07-25\", \"2020-08-01\", \"2020-08-08\", \"2020-08-15\", \"2020-08-22\", \"2020-08-29\", \"2020-09-05\", \"2020-09-12\", \"2020-09-19\", \"2020-09-26\", \"2020-10-03\", \"2020-10-10\", \"2020-10-17\", \"2020-10-24\", \"2020-10-31\", \"2020-11-07\", \"2020-11-14\", \"2020-11-21\", \"2020-11-28\", \"2020-12-05\", \"2020-12-12\", \"2020-12-19\", \"2020-12-26\", \"2021-01-02\", \"2021-01-09\", \"2021-01-16\", \"2021-01-23\", \"2021-01-30\", \"2021-02-06\", \"2021-02-13\", \"2021-02-20\", \"2021-02-27\", \"2021-03-06\", \"2021-03-13\"], \"xaxis\": \"x\", \"y\": [798.0, 790.0, 755.0, 630.0, 760.0, 732.0, 665.0, 735.0, 652.0, 645.0, 549.0, 283.0, 189.0, 195.0, 174.0, 37.0, 15.0, 14.0, 20.0, 17.0, 9.0, 3.0, 12.0, 15.0, 16.0, 10.0, 10.0, 11.0, 19.0, 18.0, 22.0, 22.0, 25.0, 20.0, 9.0, 18.0, 6.0, 4.0, 6.0, 11.0, 5.0, 6.0, 8.0, 3.0, 5.0, 2.0, 5.0, 2.0, 3.0, 2.0, 2.0, 0.0, 4.0, 2.0, 2.0, 2.0, 2.0, 3.0, 3.0, 0.0, 0.0, 2.0, 0.0], \"yaxis\": \"y\"}, {\"customdata\": [[\"7D-XBUS PASS\", 249.0, \"2020-01-04\"], [\"7D-XBUS PASS\", 481.0, \"2020-01-11\"], [\"7D-XBUS PASS\", 519.0, \"2020-01-18\"], [\"7D-XBUS PASS\", 458.0, \"2020-01-25\"], [\"7D-XBUS PASS\", 474.0, \"2020-02-01\"], [\"7D-XBUS PASS\", 524.0, \"2020-02-08\"], [\"7D-XBUS PASS\", 454.0, \"2020-02-15\"], [\"7D-XBUS PASS\", 405.0, \"2020-02-22\"], [\"7D-XBUS PASS\", 456.0, \"2020-02-29\"], [\"7D-XBUS PASS\", 440.0, \"2020-03-07\"], [\"7D-XBUS PASS\", 354.0, \"2020-03-14\"], [\"7D-XBUS PASS\", 113.0, \"2020-03-21\"], [\"7D-XBUS PASS\", 42.0, \"2020-03-28\"], [\"7D-XBUS PASS\", 26.0, \"2020-04-04\"], [\"7D-XBUS PASS\", 20.0, \"2020-04-11\"], [\"7D-XBUS PASS\", 17.0, \"2020-04-18\"], [\"7D-XBUS PASS\", 19.0, \"2020-04-25\"], [\"7D-XBUS PASS\", 20.0, \"2020-05-02\"], [\"7D-XBUS PASS\", 18.0, \"2020-05-09\"], [\"7D-XBUS PASS\", 15.0, \"2020-05-16\"], [\"7D-XBUS PASS\", 14.0, \"2020-05-23\"], [\"7D-XBUS PASS\", 7.0, \"2020-05-30\"], [\"7D-XBUS PASS\", 39.0, \"2020-06-06\"], [\"7D-XBUS PASS\", 28.0, \"2020-06-13\"], [\"7D-XBUS PASS\", 39.0, \"2020-06-20\"], [\"7D-XBUS PASS\", 52.0, \"2020-06-27\"], [\"7D-XBUS PASS\", 24.0, \"2020-07-04\"], [\"7D-XBUS PASS\", 36.0, \"2020-07-11\"], [\"7D-XBUS PASS\", 42.0, \"2020-07-18\"], [\"7D-XBUS PASS\", 38.0, \"2020-07-25\"], [\"7D-XBUS PASS\", 35.0, \"2020-08-01\"], [\"7D-XBUS PASS\", 43.0, \"2020-08-08\"], [\"7D-XBUS PASS\", 42.0, \"2020-08-15\"], [\"7D-XBUS PASS\", 57.0, \"2020-08-22\"], [\"7D-XBUS PASS\", 60.0, \"2020-08-29\"], [\"7D-XBUS PASS\", 57.0, \"2020-09-05\"], [\"7D-XBUS PASS\", 62.0, \"2020-09-12\"], [\"7D-XBUS PASS\", 77.0, \"2020-09-19\"], [\"7D-XBUS PASS\", 90.0, \"2020-09-26\"], [\"7D-XBUS PASS\", 67.0, \"2020-10-03\"], [\"7D-XBUS PASS\", 74.0, \"2020-10-10\"], [\"7D-XBUS PASS\", 69.0, \"2020-10-17\"], [\"7D-XBUS PASS\", 68.0, \"2020-10-24\"], [\"7D-XBUS PASS\", 59.0, \"2020-10-31\"], [\"7D-XBUS PASS\", 57.0, \"2020-11-07\"], [\"7D-XBUS PASS\", 64.0, \"2020-11-14\"], [\"7D-XBUS PASS\", 54.0, \"2020-11-21\"], [\"7D-XBUS PASS\", 33.0, \"2020-11-28\"], [\"7D-XBUS PASS\", 56.0, \"2020-12-05\"], [\"7D-XBUS PASS\", 80.0, \"2020-12-12\"], [\"7D-XBUS PASS\", 87.0, \"2020-12-19\"], [\"7D-XBUS PASS\", 38.0, \"2020-12-26\"], [\"7D-XBUS PASS\", 30.0, \"2021-01-02\"], [\"7D-XBUS PASS\", 56.0, \"2021-01-09\"], [\"7D-XBUS PASS\", 65.0, \"2021-01-16\"], [\"7D-XBUS PASS\", 63.0, \"2021-01-23\"], [\"7D-XBUS PASS\", 77.0, \"2021-01-30\"], [\"7D-XBUS PASS\", 60.0, \"2021-02-06\"], [\"7D-XBUS PASS\", 50.0, \"2021-02-13\"], [\"7D-XBUS PASS\", 48.0, \"2021-02-20\"], [\"7D-XBUS PASS\", 69.0, \"2021-02-27\"], [\"7D-XBUS PASS\", 61.0, \"2021-03-06\"], [\"7D-XBUS PASS\", 72.0, \"2021-03-13\"]], \"hovertemplate\": \"<b>MetroCard Type: %{customdata[0]}</b> <br>MetroCard Swipes: %{customdata[1]:,} <br>Week Ending: %{customdata[2]}<extra></extra>\", \"legendgroup\": \"7D-XBUS PASS\", \"line\": {\"color\": \"rgb(218,139,195)\"}, \"mode\": \"lines\", \"name\": \"7D-XBUS PASS\", \"orientation\": \"v\", \"showlegend\": true, \"stackgroup\": \"1\", \"type\": \"scatter\", \"x\": [\"2020-01-04\", \"2020-01-11\", \"2020-01-18\", \"2020-01-25\", \"2020-02-01\", \"2020-02-08\", \"2020-02-15\", \"2020-02-22\", \"2020-02-29\", \"2020-03-07\", \"2020-03-14\", \"2020-03-21\", \"2020-03-28\", \"2020-04-04\", \"2020-04-11\", \"2020-04-18\", \"2020-04-25\", \"2020-05-02\", \"2020-05-09\", \"2020-05-16\", \"2020-05-23\", \"2020-05-30\", \"2020-06-06\", \"2020-06-13\", \"2020-06-20\", \"2020-06-27\", \"2020-07-04\", \"2020-07-11\", \"2020-07-18\", \"2020-07-25\", \"2020-08-01\", \"2020-08-08\", \"2020-08-15\", \"2020-08-22\", \"2020-08-29\", \"2020-09-05\", \"2020-09-12\", \"2020-09-19\", \"2020-09-26\", \"2020-10-03\", \"2020-10-10\", \"2020-10-17\", \"2020-10-24\", \"2020-10-31\", \"2020-11-07\", \"2020-11-14\", \"2020-11-21\", \"2020-11-28\", \"2020-12-05\", \"2020-12-12\", \"2020-12-19\", \"2020-12-26\", \"2021-01-02\", \"2021-01-09\", \"2021-01-16\", \"2021-01-23\", \"2021-01-30\", \"2021-02-06\", \"2021-02-13\", \"2021-02-20\", \"2021-02-27\", \"2021-03-06\", \"2021-03-13\"], \"xaxis\": \"x\", \"y\": [249.0, 481.0, 519.0, 458.0, 474.0, 524.0, 454.0, 405.0, 456.0, 440.0, 354.0, 113.0, 42.0, 26.0, 20.0, 17.0, 19.0, 20.0, 18.0, 15.0, 14.0, 7.0, 39.0, 28.0, 39.0, 52.0, 24.0, 36.0, 42.0, 38.0, 35.0, 43.0, 42.0, 57.0, 60.0, 57.0, 62.0, 77.0, 90.0, 67.0, 74.0, 69.0, 68.0, 59.0, 57.0, 64.0, 54.0, 33.0, 56.0, 80.0, 87.0, 38.0, 30.0, 56.0, 65.0, 63.0, 77.0, 60.0, 50.0, 48.0, 69.0, 61.0, 72.0], \"yaxis\": \"y\"}, {\"customdata\": [[\"CUNY-120\", 55.0, \"2020-01-04\"], [\"CUNY-120\", 37.0, \"2020-01-11\"], [\"CUNY-120\", 0.0, \"2020-01-18\"], [\"CUNY-120\", 0.0, \"2020-01-25\"], [\"CUNY-120\", 455.0, \"2020-02-01\"], [\"CUNY-120\", 643.0, \"2020-02-08\"], [\"CUNY-120\", 651.0, \"2020-02-15\"], [\"CUNY-120\", 631.0, \"2020-02-22\"], [\"CUNY-120\", 716.0, \"2020-02-29\"], [\"CUNY-120\", 722.0, \"2020-03-07\"], [\"CUNY-120\", 545.0, \"2020-03-14\"], [\"CUNY-120\", 141.0, \"2020-03-21\"], [\"CUNY-120\", 84.0, \"2020-03-28\"], [\"CUNY-120\", 57.0, \"2020-04-04\"], [\"CUNY-120\", 47.0, \"2020-04-11\"], [\"CUNY-120\", 45.0, \"2020-04-18\"], [\"CUNY-120\", 57.0, \"2020-04-25\"], [\"CUNY-120\", 58.0, \"2020-05-02\"], [\"CUNY-120\", 56.0, \"2020-05-09\"], [\"CUNY-120\", 53.0, \"2020-05-16\"], [\"CUNY-120\", 75.0, \"2020-05-23\"], [\"CUNY-120\", 32.0, \"2020-05-30\"], [\"CUNY-120\", 12.0, \"2020-06-06\"], [\"CUNY-120\", 16.0, \"2020-06-13\"], [\"CUNY-120\", 12.0, \"2020-06-20\"], [\"CUNY-120\", 6.0, \"2020-06-27\"], [\"CUNY-120\", 10.0, \"2020-07-04\"], [\"CUNY-120\", 0.0, \"2020-07-11\"], [\"CUNY-120\", 0.0, \"2020-07-18\"], [\"CUNY-120\", 0.0, \"2020-07-25\"], [\"CUNY-120\", 0.0, \"2020-08-01\"], [\"CUNY-120\", 0.0, \"2020-08-08\"], [\"CUNY-120\", 0.0, \"2020-08-15\"], [\"CUNY-120\", 0.0, \"2020-08-22\"], [\"CUNY-120\", 0.0, \"2020-08-29\"], [\"CUNY-120\", 0.0, \"2020-09-05\"], [\"CUNY-120\", 0.0, \"2020-09-12\"], [\"CUNY-120\", 0.0, \"2020-09-19\"], [\"CUNY-120\", 0.0, \"2020-09-26\"], [\"CUNY-120\", 0.0, \"2020-10-03\"], [\"CUNY-120\", 0.0, \"2020-10-10\"], [\"CUNY-120\", 0.0, \"2020-10-17\"], [\"CUNY-120\", 0.0, \"2020-10-24\"], [\"CUNY-120\", 0.0, \"2020-10-31\"], [\"CUNY-120\", 0.0, \"2020-11-07\"], [\"CUNY-120\", 0.0, \"2020-11-14\"], [\"CUNY-120\", 0.0, \"2020-11-21\"], [\"CUNY-120\", 0.0, \"2020-11-28\"], [\"CUNY-120\", 0.0, \"2020-12-05\"], [\"CUNY-120\", 0.0, \"2020-12-12\"], [\"CUNY-120\", 0.0, \"2020-12-19\"], [\"CUNY-120\", 0.0, \"2020-12-26\"], [\"CUNY-120\", 0.0, \"2021-01-02\"], [\"CUNY-120\", 0.0, \"2021-01-09\"], [\"CUNY-120\", 0.0, \"2021-01-16\"], [\"CUNY-120\", 0.0, \"2021-01-23\"], [\"CUNY-120\", 0.0, \"2021-01-30\"], [\"CUNY-120\", 0.0, \"2021-02-06\"], [\"CUNY-120\", 0.0, \"2021-02-13\"], [\"CUNY-120\", 0.0, \"2021-02-20\"], [\"CUNY-120\", 0.0, \"2021-02-27\"], [\"CUNY-120\", 0.0, \"2021-03-06\"], [\"CUNY-120\", 0.0, \"2021-03-13\"]], \"hovertemplate\": \"<b>MetroCard Type: %{customdata[0]}</b> <br>MetroCard Swipes: %{customdata[1]:,} <br>Week Ending: %{customdata[2]}<extra></extra>\", \"legendgroup\": \"CUNY-120\", \"line\": {\"color\": \"rgb(140,140,140)\"}, \"mode\": \"lines\", \"name\": \"CUNY-120\", \"orientation\": \"v\", \"showlegend\": true, \"stackgroup\": \"1\", \"type\": \"scatter\", \"x\": [\"2020-01-04\", \"2020-01-11\", \"2020-01-18\", \"2020-01-25\", \"2020-02-01\", \"2020-02-08\", \"2020-02-15\", \"2020-02-22\", \"2020-02-29\", \"2020-03-07\", \"2020-03-14\", \"2020-03-21\", \"2020-03-28\", \"2020-04-04\", \"2020-04-11\", \"2020-04-18\", \"2020-04-25\", \"2020-05-02\", \"2020-05-09\", \"2020-05-16\", \"2020-05-23\", \"2020-05-30\", \"2020-06-06\", \"2020-06-13\", \"2020-06-20\", \"2020-06-27\", \"2020-07-04\", \"2020-07-11\", \"2020-07-18\", \"2020-07-25\", \"2020-08-01\", \"2020-08-08\", \"2020-08-15\", \"2020-08-22\", \"2020-08-29\", \"2020-09-05\", \"2020-09-12\", \"2020-09-19\", \"2020-09-26\", \"2020-10-03\", \"2020-10-10\", \"2020-10-17\", \"2020-10-24\", \"2020-10-31\", \"2020-11-07\", \"2020-11-14\", \"2020-11-21\", \"2020-11-28\", \"2020-12-05\", \"2020-12-12\", \"2020-12-19\", \"2020-12-26\", \"2021-01-02\", \"2021-01-09\", \"2021-01-16\", \"2021-01-23\", \"2021-01-30\", \"2021-02-06\", \"2021-02-13\", \"2021-02-20\", \"2021-02-27\", \"2021-03-06\", \"2021-03-13\"], \"xaxis\": \"x\", \"y\": [55.0, 37.0, 0.0, 0.0, 455.0, 643.0, 651.0, 631.0, 716.0, 722.0, 545.0, 141.0, 84.0, 57.0, 47.0, 45.0, 57.0, 58.0, 56.0, 53.0, 75.0, 32.0, 12.0, 16.0, 12.0, 6.0, 10.0, 0.0, 0.0, 0.0, 0.0, 0.0, 0.0, 0.0, 0.0, 0.0, 0.0, 0.0, 0.0, 0.0, 0.0, 0.0, 0.0, 0.0, 0.0, 0.0, 0.0, 0.0, 0.0, 0.0, 0.0, 0.0, 0.0, 0.0, 0.0, 0.0, 0.0, 0.0, 0.0, 0.0, 0.0, 0.0, 0.0], \"yaxis\": \"y\"}, {\"customdata\": [[\"RR UNL NO TRADE\", 211.0, \"2020-01-04\"], [\"RR UNL NO TRADE\", 380.0, \"2020-01-11\"], [\"RR UNL NO TRADE\", 390.0, \"2020-01-18\"], [\"RR UNL NO TRADE\", 319.0, \"2020-01-25\"], [\"RR UNL NO TRADE\", 391.0, \"2020-02-01\"], [\"RR UNL NO TRADE\", 362.0, \"2020-02-08\"], [\"RR UNL NO TRADE\", 381.0, \"2020-02-15\"], [\"RR UNL NO TRADE\", 288.0, \"2020-02-22\"], [\"RR UNL NO TRADE\", 386.0, \"2020-02-29\"], [\"RR UNL NO TRADE\", 365.0, \"2020-03-07\"], [\"RR UNL NO TRADE\", 270.0, \"2020-03-14\"], [\"RR UNL NO TRADE\", 51.0, \"2020-03-21\"], [\"RR UNL NO TRADE\", 9.0, \"2020-03-28\"], [\"RR UNL NO TRADE\", 0.0, \"2020-04-04\"], [\"RR UNL NO TRADE\", 1.0, \"2020-04-11\"], [\"RR UNL NO TRADE\", 0.0, \"2020-04-18\"], [\"RR UNL NO TRADE\", 0.0, \"2020-04-25\"], [\"RR UNL NO TRADE\", 1.0, \"2020-05-02\"], [\"RR UNL NO TRADE\", 0.0, \"2020-05-09\"], [\"RR UNL NO TRADE\", 2.0, \"2020-05-16\"], [\"RR UNL NO TRADE\", 1.0, \"2020-05-23\"], [\"RR UNL NO TRADE\", 2.0, \"2020-05-30\"], [\"RR UNL NO TRADE\", 1.0, \"2020-06-06\"], [\"RR UNL NO TRADE\", 5.0, \"2020-06-13\"], [\"RR UNL NO TRADE\", 6.0, \"2020-06-20\"], [\"RR UNL NO TRADE\", 7.0, \"2020-06-27\"], [\"RR UNL NO TRADE\", 5.0, \"2020-07-04\"], [\"RR UNL NO TRADE\", 5.0, \"2020-07-11\"], [\"RR UNL NO TRADE\", 5.0, \"2020-07-18\"], [\"RR UNL NO TRADE\", 9.0, \"2020-07-25\"], [\"RR UNL NO TRADE\", 2.0, \"2020-08-01\"], [\"RR UNL NO TRADE\", 10.0, \"2020-08-08\"], [\"RR UNL NO TRADE\", 8.0, \"2020-08-15\"], [\"RR UNL NO TRADE\", 7.0, \"2020-08-22\"], [\"RR UNL NO TRADE\", 8.0, \"2020-08-29\"], [\"RR UNL NO TRADE\", 10.0, \"2020-09-05\"], [\"RR UNL NO TRADE\", 8.0, \"2020-09-12\"], [\"RR UNL NO TRADE\", 13.0, \"2020-09-19\"], [\"RR UNL NO TRADE\", 14.0, \"2020-09-26\"], [\"RR UNL NO TRADE\", 11.0, \"2020-10-03\"], [\"RR UNL NO TRADE\", 12.0, \"2020-10-10\"], [\"RR UNL NO TRADE\", 11.0, \"2020-10-17\"], [\"RR UNL NO TRADE\", 14.0, \"2020-10-24\"], [\"RR UNL NO TRADE\", 14.0, \"2020-10-31\"], [\"RR UNL NO TRADE\", 14.0, \"2020-11-07\"], [\"RR UNL NO TRADE\", 11.0, \"2020-11-14\"], [\"RR UNL NO TRADE\", 13.0, \"2020-11-21\"], [\"RR UNL NO TRADE\", 9.0, \"2020-11-28\"], [\"RR UNL NO TRADE\", 8.0, \"2020-12-05\"], [\"RR UNL NO TRADE\", 9.0, \"2020-12-12\"], [\"RR UNL NO TRADE\", 7.0, \"2020-12-19\"], [\"RR UNL NO TRADE\", 5.0, \"2020-12-26\"], [\"RR UNL NO TRADE\", 8.0, \"2021-01-02\"], [\"RR UNL NO TRADE\", 7.0, \"2021-01-09\"], [\"RR UNL NO TRADE\", 14.0, \"2021-01-16\"], [\"RR UNL NO TRADE\", 7.0, \"2021-01-23\"], [\"RR UNL NO TRADE\", 7.0, \"2021-01-30\"], [\"RR UNL NO TRADE\", 8.0, \"2021-02-06\"], [\"RR UNL NO TRADE\", 6.0, \"2021-02-13\"], [\"RR UNL NO TRADE\", 3.0, \"2021-02-20\"], [\"RR UNL NO TRADE\", 6.0, \"2021-02-27\"], [\"RR UNL NO TRADE\", 7.0, \"2021-03-06\"], [\"RR UNL NO TRADE\", 13.0, \"2021-03-13\"]], \"hovertemplate\": \"<b>MetroCard Type: %{customdata[0]}</b> <br>MetroCard Swipes: %{customdata[1]:,} <br>Week Ending: %{customdata[2]}<extra></extra>\", \"legendgroup\": \"RR UNL NO TRADE\", \"line\": {\"color\": \"rgb(204,185,116)\"}, \"mode\": \"lines\", \"name\": \"RR UNL NO TRADE\", \"orientation\": \"v\", \"showlegend\": true, \"stackgroup\": \"1\", \"type\": \"scatter\", \"x\": [\"2020-01-04\", \"2020-01-11\", \"2020-01-18\", \"2020-01-25\", \"2020-02-01\", \"2020-02-08\", \"2020-02-15\", \"2020-02-22\", \"2020-02-29\", \"2020-03-07\", \"2020-03-14\", \"2020-03-21\", \"2020-03-28\", \"2020-04-04\", \"2020-04-11\", \"2020-04-18\", \"2020-04-25\", \"2020-05-02\", \"2020-05-09\", \"2020-05-16\", \"2020-05-23\", \"2020-05-30\", \"2020-06-06\", \"2020-06-13\", \"2020-06-20\", \"2020-06-27\", \"2020-07-04\", \"2020-07-11\", \"2020-07-18\", \"2020-07-25\", \"2020-08-01\", \"2020-08-08\", \"2020-08-15\", \"2020-08-22\", \"2020-08-29\", \"2020-09-05\", \"2020-09-12\", \"2020-09-19\", \"2020-09-26\", \"2020-10-03\", \"2020-10-10\", \"2020-10-17\", \"2020-10-24\", \"2020-10-31\", \"2020-11-07\", \"2020-11-14\", \"2020-11-21\", \"2020-11-28\", \"2020-12-05\", \"2020-12-12\", \"2020-12-19\", \"2020-12-26\", \"2021-01-02\", \"2021-01-09\", \"2021-01-16\", \"2021-01-23\", \"2021-01-30\", \"2021-02-06\", \"2021-02-13\", \"2021-02-20\", \"2021-02-27\", \"2021-03-06\", \"2021-03-13\"], \"xaxis\": \"x\", \"y\": [211.0, 380.0, 390.0, 319.0, 391.0, 362.0, 381.0, 288.0, 386.0, 365.0, 270.0, 51.0, 9.0, 0.0, 1.0, 0.0, 0.0, 1.0, 0.0, 2.0, 1.0, 2.0, 1.0, 5.0, 6.0, 7.0, 5.0, 5.0, 5.0, 9.0, 2.0, 10.0, 8.0, 7.0, 8.0, 10.0, 8.0, 13.0, 14.0, 11.0, 12.0, 11.0, 14.0, 14.0, 14.0, 11.0, 13.0, 9.0, 8.0, 9.0, 7.0, 5.0, 8.0, 7.0, 14.0, 7.0, 7.0, 8.0, 6.0, 3.0, 6.0, 7.0, 13.0], \"yaxis\": \"y\"}, {\"customdata\": [[\"CUNY-60\", 0.0, \"2020-01-04\"], [\"CUNY-60\", 0.0, \"2020-01-11\"], [\"CUNY-60\", 0.0, \"2020-01-18\"], [\"CUNY-60\", 0.0, \"2020-01-25\"], [\"CUNY-60\", 0.0, \"2020-02-01\"], [\"CUNY-60\", 0.0, \"2020-02-08\"], [\"CUNY-60\", 0.0, \"2020-02-15\"], [\"CUNY-60\", 0.0, \"2020-02-22\"], [\"CUNY-60\", 0.0, \"2020-02-29\"], [\"CUNY-60\", 0.0, \"2020-03-07\"], [\"CUNY-60\", 0.0, \"2020-03-14\"], [\"CUNY-60\", 0.0, \"2020-03-21\"], [\"CUNY-60\", 0.0, \"2020-03-28\"], [\"CUNY-60\", 0.0, \"2020-04-04\"], [\"CUNY-60\", 0.0, \"2020-04-11\"], [\"CUNY-60\", 0.0, \"2020-04-18\"], [\"CUNY-60\", 0.0, \"2020-04-25\"], [\"CUNY-60\", 0.0, \"2020-05-02\"], [\"CUNY-60\", 0.0, \"2020-05-09\"], [\"CUNY-60\", 0.0, \"2020-05-16\"], [\"CUNY-60\", 0.0, \"2020-05-23\"], [\"CUNY-60\", 0.0, \"2020-05-30\"], [\"CUNY-60\", 0.0, \"2020-06-06\"], [\"CUNY-60\", 0.0, \"2020-06-13\"], [\"CUNY-60\", 0.0, \"2020-06-20\"], [\"CUNY-60\", 0.0, \"2020-06-27\"], [\"CUNY-60\", 0.0, \"2020-07-04\"], [\"CUNY-60\", 0.0, \"2020-07-11\"], [\"CUNY-60\", 0.0, \"2020-07-18\"], [\"CUNY-60\", 0.0, \"2020-07-25\"], [\"CUNY-60\", 0.0, \"2020-08-01\"], [\"CUNY-60\", 0.0, \"2020-08-08\"], [\"CUNY-60\", 0.0, \"2020-08-15\"], [\"CUNY-60\", 0.0, \"2020-08-22\"], [\"CUNY-60\", 0.0, \"2020-08-29\"], [\"CUNY-60\", 0.0, \"2020-09-05\"], [\"CUNY-60\", 0.0, \"2020-09-12\"], [\"CUNY-60\", 0.0, \"2020-09-19\"], [\"CUNY-60\", 0.0, \"2020-09-26\"], [\"CUNY-60\", 36.0, \"2020-10-03\"], [\"CUNY-60\", 191.0, \"2020-10-10\"], [\"CUNY-60\", 205.0, \"2020-10-17\"], [\"CUNY-60\", 228.0, \"2020-10-24\"], [\"CUNY-60\", 226.0, \"2020-10-31\"], [\"CUNY-60\", 197.0, \"2020-11-07\"], [\"CUNY-60\", 208.0, \"2020-11-14\"], [\"CUNY-60\", 195.0, \"2020-11-21\"], [\"CUNY-60\", 169.0, \"2020-11-28\"], [\"CUNY-60\", 26.0, \"2020-12-05\"], [\"CUNY-60\", 0.0, \"2020-12-12\"], [\"CUNY-60\", 0.0, \"2020-12-19\"], [\"CUNY-60\", 0.0, \"2020-12-26\"], [\"CUNY-60\", 0.0, \"2021-01-02\"], [\"CUNY-60\", 0.0, \"2021-01-09\"], [\"CUNY-60\", 0.0, \"2021-01-16\"], [\"CUNY-60\", 0.0, \"2021-01-23\"], [\"CUNY-60\", 0.0, \"2021-01-30\"], [\"CUNY-60\", 0.0, \"2021-02-06\"], [\"CUNY-60\", 0.0, \"2021-02-13\"], [\"CUNY-60\", 0.0, \"2021-02-20\"], [\"CUNY-60\", 0.0, \"2021-02-27\"], [\"CUNY-60\", 88.0, \"2021-03-06\"], [\"CUNY-60\", 140.0, \"2021-03-13\"]], \"hovertemplate\": \"<b>MetroCard Type: %{customdata[0]}</b> <br>MetroCard Swipes: %{customdata[1]:,} <br>Week Ending: %{customdata[2]}<extra></extra>\", \"legendgroup\": \"CUNY-60\", \"line\": {\"color\": \"rgb(100,181,205)\"}, \"mode\": \"lines\", \"name\": \"CUNY-60\", \"orientation\": \"v\", \"showlegend\": true, \"stackgroup\": \"1\", \"type\": \"scatter\", \"x\": [\"2020-01-04\", \"2020-01-11\", \"2020-01-18\", \"2020-01-25\", \"2020-02-01\", \"2020-02-08\", \"2020-02-15\", \"2020-02-22\", \"2020-02-29\", \"2020-03-07\", \"2020-03-14\", \"2020-03-21\", \"2020-03-28\", \"2020-04-04\", \"2020-04-11\", \"2020-04-18\", \"2020-04-25\", \"2020-05-02\", \"2020-05-09\", \"2020-05-16\", \"2020-05-23\", \"2020-05-30\", \"2020-06-06\", \"2020-06-13\", \"2020-06-20\", \"2020-06-27\", \"2020-07-04\", \"2020-07-11\", \"2020-07-18\", \"2020-07-25\", \"2020-08-01\", \"2020-08-08\", \"2020-08-15\", \"2020-08-22\", \"2020-08-29\", \"2020-09-05\", \"2020-09-12\", \"2020-09-19\", \"2020-09-26\", \"2020-10-03\", \"2020-10-10\", \"2020-10-17\", \"2020-10-24\", \"2020-10-31\", \"2020-11-07\", \"2020-11-14\", \"2020-11-21\", \"2020-11-28\", \"2020-12-05\", \"2020-12-12\", \"2020-12-19\", \"2020-12-26\", \"2021-01-02\", \"2021-01-09\", \"2021-01-16\", \"2021-01-23\", \"2021-01-30\", \"2021-02-06\", \"2021-02-13\", \"2021-02-20\", \"2021-02-27\", \"2021-03-06\", \"2021-03-13\"], \"xaxis\": \"x\", \"y\": [0.0, 0.0, 0.0, 0.0, 0.0, 0.0, 0.0, 0.0, 0.0, 0.0, 0.0, 0.0, 0.0, 0.0, 0.0, 0.0, 0.0, 0.0, 0.0, 0.0, 0.0, 0.0, 0.0, 0.0, 0.0, 0.0, 0.0, 0.0, 0.0, 0.0, 0.0, 0.0, 0.0, 0.0, 0.0, 0.0, 0.0, 0.0, 0.0, 36.0, 191.0, 205.0, 228.0, 226.0, 197.0, 208.0, 195.0, 169.0, 26.0, 0.0, 0.0, 0.0, 0.0, 0.0, 0.0, 0.0, 0.0, 0.0, 0.0, 0.0, 0.0, 88.0, 140.0], \"yaxis\": \"y\"}, {\"customdata\": [[\"JOINT RR TKT\", 66.0, \"2020-01-04\"], [\"JOINT RR TKT\", 171.0, \"2020-01-11\"], [\"JOINT RR TKT\", 142.0, \"2020-01-18\"], [\"JOINT RR TKT\", 94.0, \"2020-01-25\"], [\"JOINT RR TKT\", 138.0, \"2020-02-01\"], [\"JOINT RR TKT\", 129.0, \"2020-02-08\"], [\"JOINT RR TKT\", 117.0, \"2020-02-15\"], [\"JOINT RR TKT\", 90.0, \"2020-02-22\"], [\"JOINT RR TKT\", 109.0, \"2020-02-29\"], [\"JOINT RR TKT\", 127.0, \"2020-03-07\"], [\"JOINT RR TKT\", 75.0, \"2020-03-14\"], [\"JOINT RR TKT\", 15.0, \"2020-03-21\"], [\"JOINT RR TKT\", 2.0, \"2020-03-28\"], [\"JOINT RR TKT\", 3.0, \"2020-04-04\"], [\"JOINT RR TKT\", 3.0, \"2020-04-11\"], [\"JOINT RR TKT\", 3.0, \"2020-04-18\"], [\"JOINT RR TKT\", 2.0, \"2020-04-25\"], [\"JOINT RR TKT\", 1.0, \"2020-05-02\"], [\"JOINT RR TKT\", 6.0, \"2020-05-09\"], [\"JOINT RR TKT\", 6.0, \"2020-05-16\"], [\"JOINT RR TKT\", 6.0, \"2020-05-23\"], [\"JOINT RR TKT\", 7.0, \"2020-05-30\"], [\"JOINT RR TKT\", 6.0, \"2020-06-06\"], [\"JOINT RR TKT\", 6.0, \"2020-06-13\"], [\"JOINT RR TKT\", 8.0, \"2020-06-20\"], [\"JOINT RR TKT\", 8.0, \"2020-06-27\"], [\"JOINT RR TKT\", 8.0, \"2020-07-04\"], [\"JOINT RR TKT\", 1.0, \"2020-07-11\"], [\"JOINT RR TKT\", 1.0, \"2020-07-18\"], [\"JOINT RR TKT\", 12.0, \"2020-07-25\"], [\"JOINT RR TKT\", 10.0, \"2020-08-01\"], [\"JOINT RR TKT\", 8.0, \"2020-08-08\"], [\"JOINT RR TKT\", 6.0, \"2020-08-15\"], [\"JOINT RR TKT\", 12.0, \"2020-08-22\"], [\"JOINT RR TKT\", 12.0, \"2020-08-29\"], [\"JOINT RR TKT\", 9.0, \"2020-09-05\"], [\"JOINT RR TKT\", 7.0, \"2020-09-12\"], [\"JOINT RR TKT\", 10.0, \"2020-09-19\"], [\"JOINT RR TKT\", 4.0, \"2020-09-26\"], [\"JOINT RR TKT\", 8.0, \"2020-10-03\"], [\"JOINT RR TKT\", 8.0, \"2020-10-10\"], [\"JOINT RR TKT\", 7.0, \"2020-10-17\"], [\"JOINT RR TKT\", 8.0, \"2020-10-24\"], [\"JOINT RR TKT\", 6.0, \"2020-10-31\"], [\"JOINT RR TKT\", 6.0, \"2020-11-07\"], [\"JOINT RR TKT\", 6.0, \"2020-11-14\"], [\"JOINT RR TKT\", 6.0, \"2020-11-21\"], [\"JOINT RR TKT\", 3.0, \"2020-11-28\"], [\"JOINT RR TKT\", 6.0, \"2020-12-05\"], [\"JOINT RR TKT\", 6.0, \"2020-12-12\"], [\"JOINT RR TKT\", 5.0, \"2020-12-19\"], [\"JOINT RR TKT\", 1.0, \"2020-12-26\"], [\"JOINT RR TKT\", 3.0, \"2021-01-02\"], [\"JOINT RR TKT\", 1.0, \"2021-01-09\"], [\"JOINT RR TKT\", 5.0, \"2021-01-16\"], [\"JOINT RR TKT\", 5.0, \"2021-01-23\"], [\"JOINT RR TKT\", 3.0, \"2021-01-30\"], [\"JOINT RR TKT\", 4.0, \"2021-02-06\"], [\"JOINT RR TKT\", 5.0, \"2021-02-13\"], [\"JOINT RR TKT\", 10.0, \"2021-02-20\"], [\"JOINT RR TKT\", 5.0, \"2021-02-27\"], [\"JOINT RR TKT\", 10.0, \"2021-03-06\"], [\"JOINT RR TKT\", 6.0, \"2021-03-13\"]], \"hovertemplate\": \"<b>MetroCard Type: %{customdata[0]}</b> <br>MetroCard Swipes: %{customdata[1]:,} <br>Week Ending: %{customdata[2]}<extra></extra>\", \"legendgroup\": \"JOINT RR TKT\", \"line\": {\"color\": \"rgb(76,114,176)\"}, \"mode\": \"lines\", \"name\": \"JOINT RR TKT\", \"orientation\": \"v\", \"showlegend\": true, \"stackgroup\": \"1\", \"type\": \"scatter\", \"x\": [\"2020-01-04\", \"2020-01-11\", \"2020-01-18\", \"2020-01-25\", \"2020-02-01\", \"2020-02-08\", \"2020-02-15\", \"2020-02-22\", \"2020-02-29\", \"2020-03-07\", \"2020-03-14\", \"2020-03-21\", \"2020-03-28\", \"2020-04-04\", \"2020-04-11\", \"2020-04-18\", \"2020-04-25\", \"2020-05-02\", \"2020-05-09\", \"2020-05-16\", \"2020-05-23\", \"2020-05-30\", \"2020-06-06\", \"2020-06-13\", \"2020-06-20\", \"2020-06-27\", \"2020-07-04\", \"2020-07-11\", \"2020-07-18\", \"2020-07-25\", \"2020-08-01\", \"2020-08-08\", \"2020-08-15\", \"2020-08-22\", \"2020-08-29\", \"2020-09-05\", \"2020-09-12\", \"2020-09-19\", \"2020-09-26\", \"2020-10-03\", \"2020-10-10\", \"2020-10-17\", \"2020-10-24\", \"2020-10-31\", \"2020-11-07\", \"2020-11-14\", \"2020-11-21\", \"2020-11-28\", \"2020-12-05\", \"2020-12-12\", \"2020-12-19\", \"2020-12-26\", \"2021-01-02\", \"2021-01-09\", \"2021-01-16\", \"2021-01-23\", \"2021-01-30\", \"2021-02-06\", \"2021-02-13\", \"2021-02-20\", \"2021-02-27\", \"2021-03-06\", \"2021-03-13\"], \"xaxis\": \"x\", \"y\": [66.0, 171.0, 142.0, 94.0, 138.0, 129.0, 117.0, 90.0, 109.0, 127.0, 75.0, 15.0, 2.0, 3.0, 3.0, 3.0, 2.0, 1.0, 6.0, 6.0, 6.0, 7.0, 6.0, 6.0, 8.0, 8.0, 8.0, 1.0, 1.0, 12.0, 10.0, 8.0, 6.0, 12.0, 12.0, 9.0, 7.0, 10.0, 4.0, 8.0, 8.0, 7.0, 8.0, 6.0, 6.0, 6.0, 6.0, 3.0, 6.0, 6.0, 5.0, 1.0, 3.0, 1.0, 5.0, 5.0, 3.0, 4.0, 5.0, 10.0, 5.0, 10.0, 6.0], \"yaxis\": \"y\"}, {\"customdata\": [[\"AIRTRAIN 10-T\", 0.0, \"2020-01-04\"], [\"AIRTRAIN 10-T\", 0.0, \"2020-01-11\"], [\"AIRTRAIN 10-T\", 0.0, \"2020-01-18\"], [\"AIRTRAIN 10-T\", 0.0, \"2020-01-25\"], [\"AIRTRAIN 10-T\", 0.0, \"2020-02-01\"], [\"AIRTRAIN 10-T\", 0.0, \"2020-02-08\"], [\"AIRTRAIN 10-T\", 0.0, \"2020-02-15\"], [\"AIRTRAIN 10-T\", 0.0, \"2020-02-22\"], [\"AIRTRAIN 10-T\", 0.0, \"2020-02-29\"], [\"AIRTRAIN 10-T\", 0.0, \"2020-03-07\"], [\"AIRTRAIN 10-T\", 0.0, \"2020-03-14\"], [\"AIRTRAIN 10-T\", 0.0, \"2020-03-21\"], [\"AIRTRAIN 10-T\", 0.0, \"2020-03-28\"], [\"AIRTRAIN 10-T\", 0.0, \"2020-04-04\"], [\"AIRTRAIN 10-T\", 0.0, \"2020-04-11\"], [\"AIRTRAIN 10-T\", 0.0, \"2020-04-18\"], [\"AIRTRAIN 10-T\", 0.0, \"2020-04-25\"], [\"AIRTRAIN 10-T\", 0.0, \"2020-05-02\"], [\"AIRTRAIN 10-T\", 0.0, \"2020-05-09\"], [\"AIRTRAIN 10-T\", 0.0, \"2020-05-16\"], [\"AIRTRAIN 10-T\", 0.0, \"2020-05-23\"], [\"AIRTRAIN 10-T\", 2.0, \"2020-05-30\"], [\"AIRTRAIN 10-T\", 0.0, \"2020-06-06\"], [\"AIRTRAIN 10-T\", 0.0, \"2020-06-13\"], [\"AIRTRAIN 10-T\", 0.0, \"2020-06-20\"], [\"AIRTRAIN 10-T\", 0.0, \"2020-06-27\"], [\"AIRTRAIN 10-T\", 0.0, \"2020-07-04\"], [\"AIRTRAIN 10-T\", 0.0, \"2020-07-11\"], [\"AIRTRAIN 10-T\", 0.0, \"2020-07-18\"], [\"AIRTRAIN 10-T\", 0.0, \"2020-07-25\"], [\"AIRTRAIN 10-T\", 0.0, \"2020-08-01\"], [\"AIRTRAIN 10-T\", 0.0, \"2020-08-08\"], [\"AIRTRAIN 10-T\", 0.0, \"2020-08-15\"], [\"AIRTRAIN 10-T\", 0.0, \"2020-08-22\"], [\"AIRTRAIN 10-T\", 0.0, \"2020-08-29\"], [\"AIRTRAIN 10-T\", 0.0, \"2020-09-05\"], [\"AIRTRAIN 10-T\", 1.0, \"2020-09-12\"], [\"AIRTRAIN 10-T\", 0.0, \"2020-09-19\"], [\"AIRTRAIN 10-T\", 0.0, \"2020-09-26\"], [\"AIRTRAIN 10-T\", 0.0, \"2020-10-03\"], [\"AIRTRAIN 10-T\", 0.0, \"2020-10-10\"], [\"AIRTRAIN 10-T\", 0.0, \"2020-10-17\"], [\"AIRTRAIN 10-T\", 0.0, \"2020-10-24\"], [\"AIRTRAIN 10-T\", 0.0, \"2020-10-31\"], [\"AIRTRAIN 10-T\", 0.0, \"2020-11-07\"], [\"AIRTRAIN 10-T\", 0.0, \"2020-11-14\"], [\"AIRTRAIN 10-T\", 0.0, \"2020-11-21\"], [\"AIRTRAIN 10-T\", 0.0, \"2020-11-28\"], [\"AIRTRAIN 10-T\", 0.0, \"2020-12-05\"], [\"AIRTRAIN 10-T\", 0.0, \"2020-12-12\"], [\"AIRTRAIN 10-T\", 0.0, \"2020-12-19\"], [\"AIRTRAIN 10-T\", 0.0, \"2020-12-26\"], [\"AIRTRAIN 10-T\", 0.0, \"2021-01-02\"], [\"AIRTRAIN 10-T\", 0.0, \"2021-01-09\"], [\"AIRTRAIN 10-T\", 0.0, \"2021-01-16\"], [\"AIRTRAIN 10-T\", 0.0, \"2021-01-23\"], [\"AIRTRAIN 10-T\", 0.0, \"2021-01-30\"], [\"AIRTRAIN 10-T\", 0.0, \"2021-02-06\"], [\"AIRTRAIN 10-T\", 0.0, \"2021-02-13\"], [\"AIRTRAIN 10-T\", 0.0, \"2021-02-20\"], [\"AIRTRAIN 10-T\", 0.0, \"2021-02-27\"], [\"AIRTRAIN 10-T\", 0.0, \"2021-03-06\"], [\"AIRTRAIN 10-T\", 0.0, \"2021-03-13\"]], \"hovertemplate\": \"<b>MetroCard Type: %{customdata[0]}</b> <br>MetroCard Swipes: %{customdata[1]:,} <br>Week Ending: %{customdata[2]}<extra></extra>\", \"legendgroup\": \"AIRTRAIN 10-T\", \"line\": {\"color\": \"rgb(221,132,82)\"}, \"mode\": \"lines\", \"name\": \"AIRTRAIN 10-T\", \"orientation\": \"v\", \"showlegend\": true, \"stackgroup\": \"1\", \"type\": \"scatter\", \"x\": [\"2020-01-04\", \"2020-01-11\", \"2020-01-18\", \"2020-01-25\", \"2020-02-01\", \"2020-02-08\", \"2020-02-15\", \"2020-02-22\", \"2020-02-29\", \"2020-03-07\", \"2020-03-14\", \"2020-03-21\", \"2020-03-28\", \"2020-04-04\", \"2020-04-11\", \"2020-04-18\", \"2020-04-25\", \"2020-05-02\", \"2020-05-09\", \"2020-05-16\", \"2020-05-23\", \"2020-05-30\", \"2020-06-06\", \"2020-06-13\", \"2020-06-20\", \"2020-06-27\", \"2020-07-04\", \"2020-07-11\", \"2020-07-18\", \"2020-07-25\", \"2020-08-01\", \"2020-08-08\", \"2020-08-15\", \"2020-08-22\", \"2020-08-29\", \"2020-09-05\", \"2020-09-12\", \"2020-09-19\", \"2020-09-26\", \"2020-10-03\", \"2020-10-10\", \"2020-10-17\", \"2020-10-24\", \"2020-10-31\", \"2020-11-07\", \"2020-11-14\", \"2020-11-21\", \"2020-11-28\", \"2020-12-05\", \"2020-12-12\", \"2020-12-19\", \"2020-12-26\", \"2021-01-02\", \"2021-01-09\", \"2021-01-16\", \"2021-01-23\", \"2021-01-30\", \"2021-02-06\", \"2021-02-13\", \"2021-02-20\", \"2021-02-27\", \"2021-03-06\", \"2021-03-13\"], \"xaxis\": \"x\", \"y\": [0.0, 0.0, 0.0, 0.0, 0.0, 0.0, 0.0, 0.0, 0.0, 0.0, 0.0, 0.0, 0.0, 0.0, 0.0, 0.0, 0.0, 0.0, 0.0, 0.0, 0.0, 2.0, 0.0, 0.0, 0.0, 0.0, 0.0, 0.0, 0.0, 0.0, 0.0, 0.0, 0.0, 0.0, 0.0, 0.0, 1.0, 0.0, 0.0, 0.0, 0.0, 0.0, 0.0, 0.0, 0.0, 0.0, 0.0, 0.0, 0.0, 0.0, 0.0, 0.0, 0.0, 0.0, 0.0, 0.0, 0.0, 0.0, 0.0, 0.0, 0.0, 0.0, 0.0], \"yaxis\": \"y\"}, {\"customdata\": [[\"14-D UNL\", 0.0, \"2020-01-04\"], [\"14-D UNL\", 0.0, \"2020-01-11\"], [\"14-D UNL\", 0.0, \"2020-01-18\"], [\"14-D UNL\", 0.0, \"2020-01-25\"], [\"14-D UNL\", 0.0, \"2020-02-01\"], [\"14-D UNL\", 0.0, \"2020-02-08\"], [\"14-D UNL\", 0.0, \"2020-02-15\"], [\"14-D UNL\", 0.0, \"2020-02-22\"], [\"14-D UNL\", 0.0, \"2020-02-29\"], [\"14-D UNL\", 0.0, \"2020-03-07\"], [\"14-D UNL\", 0.0, \"2020-03-14\"], [\"14-D UNL\", 0.0, \"2020-03-21\"], [\"14-D UNL\", 0.0, \"2020-03-28\"], [\"14-D UNL\", 0.0, \"2020-04-04\"], [\"14-D UNL\", 0.0, \"2020-04-11\"], [\"14-D UNL\", 0.0, \"2020-04-18\"], [\"14-D UNL\", 0.0, \"2020-04-25\"], [\"14-D UNL\", 0.0, \"2020-05-02\"], [\"14-D UNL\", 0.0, \"2020-05-09\"], [\"14-D UNL\", 0.0, \"2020-05-16\"], [\"14-D UNL\", 0.0, \"2020-05-23\"], [\"14-D UNL\", 0.0, \"2020-05-30\"], [\"14-D UNL\", 0.0, \"2020-06-06\"], [\"14-D UNL\", 0.0, \"2020-06-13\"], [\"14-D UNL\", 0.0, \"2020-06-20\"], [\"14-D UNL\", 0.0, \"2020-06-27\"], [\"14-D UNL\", 0.0, \"2020-07-04\"], [\"14-D UNL\", 0.0, \"2020-07-11\"], [\"14-D UNL\", 0.0, \"2020-07-18\"], [\"14-D UNL\", 0.0, \"2020-07-25\"], [\"14-D UNL\", 0.0, \"2020-08-01\"], [\"14-D UNL\", 0.0, \"2020-08-08\"], [\"14-D UNL\", 0.0, \"2020-08-15\"], [\"14-D UNL\", 0.0, \"2020-08-22\"], [\"14-D UNL\", 0.0, \"2020-08-29\"], [\"14-D UNL\", 0.0, \"2020-09-05\"], [\"14-D UNL\", 0.0, \"2020-09-12\"], [\"14-D UNL\", 0.0, \"2020-09-19\"], [\"14-D UNL\", 0.0, \"2020-09-26\"], [\"14-D UNL\", 0.0, \"2020-10-03\"], [\"14-D UNL\", 0.0, \"2020-10-10\"], [\"14-D UNL\", 0.0, \"2020-10-17\"], [\"14-D UNL\", 0.0, \"2020-10-24\"], [\"14-D UNL\", 0.0, \"2020-10-31\"], [\"14-D UNL\", 0.0, \"2020-11-07\"], [\"14-D UNL\", 0.0, \"2020-11-14\"], [\"14-D UNL\", 0.0, \"2020-11-21\"], [\"14-D UNL\", 0.0, \"2020-11-28\"], [\"14-D UNL\", 0.0, \"2020-12-05\"], [\"14-D UNL\", 0.0, \"2020-12-12\"], [\"14-D UNL\", 0.0, \"2020-12-19\"], [\"14-D UNL\", 0.0, \"2020-12-26\"], [\"14-D UNL\", 0.0, \"2021-01-02\"], [\"14-D UNL\", 0.0, \"2021-01-09\"], [\"14-D UNL\", 0.0, \"2021-01-16\"], [\"14-D UNL\", 0.0, \"2021-01-23\"], [\"14-D UNL\", 0.0, \"2021-01-30\"], [\"14-D UNL\", 0.0, \"2021-02-06\"], [\"14-D UNL\", 0.0, \"2021-02-13\"], [\"14-D UNL\", 0.0, \"2021-02-20\"], [\"14-D UNL\", 0.0, \"2021-02-27\"], [\"14-D UNL\", 0.0, \"2021-03-06\"], [\"14-D UNL\", 0.0, \"2021-03-13\"]], \"hovertemplate\": \"<b>MetroCard Type: %{customdata[0]}</b> <br>MetroCard Swipes: %{customdata[1]:,} <br>Week Ending: %{customdata[2]}<extra></extra>\", \"legendgroup\": \"14-D UNL\", \"line\": {\"color\": \"rgb(85,168,104)\"}, \"mode\": \"lines\", \"name\": \"14-D UNL\", \"orientation\": \"v\", \"showlegend\": true, \"stackgroup\": \"1\", \"type\": \"scatter\", \"x\": [\"2020-01-04\", \"2020-01-11\", \"2020-01-18\", \"2020-01-25\", \"2020-02-01\", \"2020-02-08\", \"2020-02-15\", \"2020-02-22\", \"2020-02-29\", \"2020-03-07\", \"2020-03-14\", \"2020-03-21\", \"2020-03-28\", \"2020-04-04\", \"2020-04-11\", \"2020-04-18\", \"2020-04-25\", \"2020-05-02\", \"2020-05-09\", \"2020-05-16\", \"2020-05-23\", \"2020-05-30\", \"2020-06-06\", \"2020-06-13\", \"2020-06-20\", \"2020-06-27\", \"2020-07-04\", \"2020-07-11\", \"2020-07-18\", \"2020-07-25\", \"2020-08-01\", \"2020-08-08\", \"2020-08-15\", \"2020-08-22\", \"2020-08-29\", \"2020-09-05\", \"2020-09-12\", \"2020-09-19\", \"2020-09-26\", \"2020-10-03\", \"2020-10-10\", \"2020-10-17\", \"2020-10-24\", \"2020-10-31\", \"2020-11-07\", \"2020-11-14\", \"2020-11-21\", \"2020-11-28\", \"2020-12-05\", \"2020-12-12\", \"2020-12-19\", \"2020-12-26\", \"2021-01-02\", \"2021-01-09\", \"2021-01-16\", \"2021-01-23\", \"2021-01-30\", \"2021-02-06\", \"2021-02-13\", \"2021-02-20\", \"2021-02-27\", \"2021-03-06\", \"2021-03-13\"], \"xaxis\": \"x\", \"y\": [0.0, 0.0, 0.0, 0.0, 0.0, 0.0, 0.0, 0.0, 0.0, 0.0, 0.0, 0.0, 0.0, 0.0, 0.0, 0.0, 0.0, 0.0, 0.0, 0.0, 0.0, 0.0, 0.0, 0.0, 0.0, 0.0, 0.0, 0.0, 0.0, 0.0, 0.0, 0.0, 0.0, 0.0, 0.0, 0.0, 0.0, 0.0, 0.0, 0.0, 0.0, 0.0, 0.0, 0.0, 0.0, 0.0, 0.0, 0.0, 0.0, 0.0, 0.0, 0.0, 0.0, 0.0, 0.0, 0.0, 0.0, 0.0, 0.0, 0.0, 0.0, 0.0, 0.0], \"yaxis\": \"y\"}, {\"customdata\": [[\"AIRTRAIN MTHLY\", 0.0, \"2020-01-04\"], [\"AIRTRAIN MTHLY\", 0.0, \"2020-01-11\"], [\"AIRTRAIN MTHLY\", 0.0, \"2020-01-18\"], [\"AIRTRAIN MTHLY\", 0.0, \"2020-01-25\"], [\"AIRTRAIN MTHLY\", 0.0, \"2020-02-01\"], [\"AIRTRAIN MTHLY\", 0.0, \"2020-02-08\"], [\"AIRTRAIN MTHLY\", 0.0, \"2020-02-15\"], [\"AIRTRAIN MTHLY\", 0.0, \"2020-02-22\"], [\"AIRTRAIN MTHLY\", 0.0, \"2020-02-29\"], [\"AIRTRAIN MTHLY\", 0.0, \"2020-03-07\"], [\"AIRTRAIN MTHLY\", 0.0, \"2020-03-14\"], [\"AIRTRAIN MTHLY\", 0.0, \"2020-03-21\"], [\"AIRTRAIN MTHLY\", 0.0, \"2020-03-28\"], [\"AIRTRAIN MTHLY\", 0.0, \"2020-04-04\"], [\"AIRTRAIN MTHLY\", 0.0, \"2020-04-11\"], [\"AIRTRAIN MTHLY\", 0.0, \"2020-04-18\"], [\"AIRTRAIN MTHLY\", 0.0, \"2020-04-25\"], [\"AIRTRAIN MTHLY\", 0.0, \"2020-05-02\"], [\"AIRTRAIN MTHLY\", 0.0, \"2020-05-09\"], [\"AIRTRAIN MTHLY\", 0.0, \"2020-05-16\"], [\"AIRTRAIN MTHLY\", 0.0, \"2020-05-23\"], [\"AIRTRAIN MTHLY\", 0.0, \"2020-05-30\"], [\"AIRTRAIN MTHLY\", 0.0, \"2020-06-06\"], [\"AIRTRAIN MTHLY\", 0.0, \"2020-06-13\"], [\"AIRTRAIN MTHLY\", 0.0, \"2020-06-20\"], [\"AIRTRAIN MTHLY\", 0.0, \"2020-06-27\"], [\"AIRTRAIN MTHLY\", 0.0, \"2020-07-04\"], [\"AIRTRAIN MTHLY\", 0.0, \"2020-07-11\"], [\"AIRTRAIN MTHLY\", 0.0, \"2020-07-18\"], [\"AIRTRAIN MTHLY\", 0.0, \"2020-07-25\"], [\"AIRTRAIN MTHLY\", 0.0, \"2020-08-01\"], [\"AIRTRAIN MTHLY\", 0.0, \"2020-08-08\"], [\"AIRTRAIN MTHLY\", 0.0, \"2020-08-15\"], [\"AIRTRAIN MTHLY\", 0.0, \"2020-08-22\"], [\"AIRTRAIN MTHLY\", 0.0, \"2020-08-29\"], [\"AIRTRAIN MTHLY\", 0.0, \"2020-09-05\"], [\"AIRTRAIN MTHLY\", 0.0, \"2020-09-12\"], [\"AIRTRAIN MTHLY\", 0.0, \"2020-09-19\"], [\"AIRTRAIN MTHLY\", 0.0, \"2020-09-26\"], [\"AIRTRAIN MTHLY\", 0.0, \"2020-10-03\"], [\"AIRTRAIN MTHLY\", 0.0, \"2020-10-10\"], [\"AIRTRAIN MTHLY\", 0.0, \"2020-10-17\"], [\"AIRTRAIN MTHLY\", 0.0, \"2020-10-24\"], [\"AIRTRAIN MTHLY\", 0.0, \"2020-10-31\"], [\"AIRTRAIN MTHLY\", 0.0, \"2020-11-07\"], [\"AIRTRAIN MTHLY\", 0.0, \"2020-11-14\"], [\"AIRTRAIN MTHLY\", 0.0, \"2020-11-21\"], [\"AIRTRAIN MTHLY\", 0.0, \"2020-11-28\"], [\"AIRTRAIN MTHLY\", 0.0, \"2020-12-05\"], [\"AIRTRAIN MTHLY\", 0.0, \"2020-12-12\"], [\"AIRTRAIN MTHLY\", 0.0, \"2020-12-19\"], [\"AIRTRAIN MTHLY\", 0.0, \"2020-12-26\"], [\"AIRTRAIN MTHLY\", 0.0, \"2021-01-02\"], [\"AIRTRAIN MTHLY\", 0.0, \"2021-01-09\"], [\"AIRTRAIN MTHLY\", 0.0, \"2021-01-16\"], [\"AIRTRAIN MTHLY\", 0.0, \"2021-01-23\"], [\"AIRTRAIN MTHLY\", 0.0, \"2021-01-30\"], [\"AIRTRAIN MTHLY\", 0.0, \"2021-02-06\"], [\"AIRTRAIN MTHLY\", 0.0, \"2021-02-13\"], [\"AIRTRAIN MTHLY\", 0.0, \"2021-02-20\"], [\"AIRTRAIN MTHLY\", 0.0, \"2021-02-27\"], [\"AIRTRAIN MTHLY\", 0.0, \"2021-03-06\"], [\"AIRTRAIN MTHLY\", 0.0, \"2021-03-13\"]], \"hovertemplate\": \"<b>MetroCard Type: %{customdata[0]}</b> <br>MetroCard Swipes: %{customdata[1]:,} <br>Week Ending: %{customdata[2]}<extra></extra>\", \"legendgroup\": \"AIRTRAIN MTHLY\", \"line\": {\"color\": \"rgb(196,78,82)\"}, \"mode\": \"lines\", \"name\": \"AIRTRAIN MTHLY\", \"orientation\": \"v\", \"showlegend\": true, \"stackgroup\": \"1\", \"type\": \"scatter\", \"x\": [\"2020-01-04\", \"2020-01-11\", \"2020-01-18\", \"2020-01-25\", \"2020-02-01\", \"2020-02-08\", \"2020-02-15\", \"2020-02-22\", \"2020-02-29\", \"2020-03-07\", \"2020-03-14\", \"2020-03-21\", \"2020-03-28\", \"2020-04-04\", \"2020-04-11\", \"2020-04-18\", \"2020-04-25\", \"2020-05-02\", \"2020-05-09\", \"2020-05-16\", \"2020-05-23\", \"2020-05-30\", \"2020-06-06\", \"2020-06-13\", \"2020-06-20\", \"2020-06-27\", \"2020-07-04\", \"2020-07-11\", \"2020-07-18\", \"2020-07-25\", \"2020-08-01\", \"2020-08-08\", \"2020-08-15\", \"2020-08-22\", \"2020-08-29\", \"2020-09-05\", \"2020-09-12\", \"2020-09-19\", \"2020-09-26\", \"2020-10-03\", \"2020-10-10\", \"2020-10-17\", \"2020-10-24\", \"2020-10-31\", \"2020-11-07\", \"2020-11-14\", \"2020-11-21\", \"2020-11-28\", \"2020-12-05\", \"2020-12-12\", \"2020-12-19\", \"2020-12-26\", \"2021-01-02\", \"2021-01-09\", \"2021-01-16\", \"2021-01-23\", \"2021-01-30\", \"2021-02-06\", \"2021-02-13\", \"2021-02-20\", \"2021-02-27\", \"2021-03-06\", \"2021-03-13\"], \"xaxis\": \"x\", \"y\": [0.0, 0.0, 0.0, 0.0, 0.0, 0.0, 0.0, 0.0, 0.0, 0.0, 0.0, 0.0, 0.0, 0.0, 0.0, 0.0, 0.0, 0.0, 0.0, 0.0, 0.0, 0.0, 0.0, 0.0, 0.0, 0.0, 0.0, 0.0, 0.0, 0.0, 0.0, 0.0, 0.0, 0.0, 0.0, 0.0, 0.0, 0.0, 0.0, 0.0, 0.0, 0.0, 0.0, 0.0, 0.0, 0.0, 0.0, 0.0, 0.0, 0.0, 0.0, 0.0, 0.0, 0.0, 0.0, 0.0, 0.0, 0.0, 0.0, 0.0, 0.0, 0.0, 0.0], \"yaxis\": \"y\"}, {\"customdata\": [[\"PATH 2-T\", 0.0, \"2020-01-04\"], [\"PATH 2-T\", 0.0, \"2020-01-11\"], [\"PATH 2-T\", 0.0, \"2020-01-18\"], [\"PATH 2-T\", 0.0, \"2020-01-25\"], [\"PATH 2-T\", 0.0, \"2020-02-01\"], [\"PATH 2-T\", 0.0, \"2020-02-08\"], [\"PATH 2-T\", 0.0, \"2020-02-15\"], [\"PATH 2-T\", 0.0, \"2020-02-22\"], [\"PATH 2-T\", 0.0, \"2020-02-29\"], [\"PATH 2-T\", 0.0, \"2020-03-07\"], [\"PATH 2-T\", 0.0, \"2020-03-14\"], [\"PATH 2-T\", 0.0, \"2020-03-21\"], [\"PATH 2-T\", 0.0, \"2020-03-28\"], [\"PATH 2-T\", 0.0, \"2020-04-04\"], [\"PATH 2-T\", 0.0, \"2020-04-11\"], [\"PATH 2-T\", 0.0, \"2020-04-18\"], [\"PATH 2-T\", 0.0, \"2020-04-25\"], [\"PATH 2-T\", 0.0, \"2020-05-02\"], [\"PATH 2-T\", 0.0, \"2020-05-09\"], [\"PATH 2-T\", 0.0, \"2020-05-16\"], [\"PATH 2-T\", 0.0, \"2020-05-23\"], [\"PATH 2-T\", 0.0, \"2020-05-30\"], [\"PATH 2-T\", 0.0, \"2020-06-06\"], [\"PATH 2-T\", 0.0, \"2020-06-13\"], [\"PATH 2-T\", 0.0, \"2020-06-20\"], [\"PATH 2-T\", 0.0, \"2020-06-27\"], [\"PATH 2-T\", 0.0, \"2020-07-04\"], [\"PATH 2-T\", 0.0, \"2020-07-11\"], [\"PATH 2-T\", 0.0, \"2020-07-18\"], [\"PATH 2-T\", 0.0, \"2020-07-25\"], [\"PATH 2-T\", 0.0, \"2020-08-01\"], [\"PATH 2-T\", 0.0, \"2020-08-08\"], [\"PATH 2-T\", 0.0, \"2020-08-15\"], [\"PATH 2-T\", 0.0, \"2020-08-22\"], [\"PATH 2-T\", 0.0, \"2020-08-29\"], [\"PATH 2-T\", 0.0, \"2020-09-05\"], [\"PATH 2-T\", 0.0, \"2020-09-12\"], [\"PATH 2-T\", 0.0, \"2020-09-19\"], [\"PATH 2-T\", 0.0, \"2020-09-26\"], [\"PATH 2-T\", 0.0, \"2020-10-03\"], [\"PATH 2-T\", 0.0, \"2020-10-10\"], [\"PATH 2-T\", 0.0, \"2020-10-17\"], [\"PATH 2-T\", 0.0, \"2020-10-24\"], [\"PATH 2-T\", 0.0, \"2020-10-31\"], [\"PATH 2-T\", 0.0, \"2020-11-07\"], [\"PATH 2-T\", 0.0, \"2020-11-14\"], [\"PATH 2-T\", 0.0, \"2020-11-21\"], [\"PATH 2-T\", 0.0, \"2020-11-28\"], [\"PATH 2-T\", 0.0, \"2020-12-05\"], [\"PATH 2-T\", 0.0, \"2020-12-12\"], [\"PATH 2-T\", 0.0, \"2020-12-19\"], [\"PATH 2-T\", 0.0, \"2020-12-26\"], [\"PATH 2-T\", 0.0, \"2021-01-02\"], [\"PATH 2-T\", 0.0, \"2021-01-09\"], [\"PATH 2-T\", 0.0, \"2021-01-16\"], [\"PATH 2-T\", 0.0, \"2021-01-23\"], [\"PATH 2-T\", 0.0, \"2021-01-30\"], [\"PATH 2-T\", 0.0, \"2021-02-06\"], [\"PATH 2-T\", 0.0, \"2021-02-13\"], [\"PATH 2-T\", 0.0, \"2021-02-20\"], [\"PATH 2-T\", 0.0, \"2021-02-27\"], [\"PATH 2-T\", 0.0, \"2021-03-06\"], [\"PATH 2-T\", 0.0, \"2021-03-13\"]], \"hovertemplate\": \"<b>MetroCard Type: %{customdata[0]}</b> <br>MetroCard Swipes: %{customdata[1]:,} <br>Week Ending: %{customdata[2]}<extra></extra>\", \"legendgroup\": \"PATH 2-T\", \"line\": {\"color\": \"rgb(129,114,179)\"}, \"mode\": \"lines\", \"name\": \"PATH 2-T\", \"orientation\": \"v\", \"showlegend\": true, \"stackgroup\": \"1\", \"type\": \"scatter\", \"x\": [\"2020-01-04\", \"2020-01-11\", \"2020-01-18\", \"2020-01-25\", \"2020-02-01\", \"2020-02-08\", \"2020-02-15\", \"2020-02-22\", \"2020-02-29\", \"2020-03-07\", \"2020-03-14\", \"2020-03-21\", \"2020-03-28\", \"2020-04-04\", \"2020-04-11\", \"2020-04-18\", \"2020-04-25\", \"2020-05-02\", \"2020-05-09\", \"2020-05-16\", \"2020-05-23\", \"2020-05-30\", \"2020-06-06\", \"2020-06-13\", \"2020-06-20\", \"2020-06-27\", \"2020-07-04\", \"2020-07-11\", \"2020-07-18\", \"2020-07-25\", \"2020-08-01\", \"2020-08-08\", \"2020-08-15\", \"2020-08-22\", \"2020-08-29\", \"2020-09-05\", \"2020-09-12\", \"2020-09-19\", \"2020-09-26\", \"2020-10-03\", \"2020-10-10\", \"2020-10-17\", \"2020-10-24\", \"2020-10-31\", \"2020-11-07\", \"2020-11-14\", \"2020-11-21\", \"2020-11-28\", \"2020-12-05\", \"2020-12-12\", \"2020-12-19\", \"2020-12-26\", \"2021-01-02\", \"2021-01-09\", \"2021-01-16\", \"2021-01-23\", \"2021-01-30\", \"2021-02-06\", \"2021-02-13\", \"2021-02-20\", \"2021-02-27\", \"2021-03-06\", \"2021-03-13\"], \"xaxis\": \"x\", \"y\": [0.0, 0.0, 0.0, 0.0, 0.0, 0.0, 0.0, 0.0, 0.0, 0.0, 0.0, 0.0, 0.0, 0.0, 0.0, 0.0, 0.0, 0.0, 0.0, 0.0, 0.0, 0.0, 0.0, 0.0, 0.0, 0.0, 0.0, 0.0, 0.0, 0.0, 0.0, 0.0, 0.0, 0.0, 0.0, 0.0, 0.0, 0.0, 0.0, 0.0, 0.0, 0.0, 0.0, 0.0, 0.0, 0.0, 0.0, 0.0, 0.0, 0.0, 0.0, 0.0, 0.0, 0.0, 0.0, 0.0, 0.0, 0.0, 0.0, 0.0, 0.0, 0.0, 0.0], \"yaxis\": \"y\"}, {\"customdata\": [[\"NICE 2-T\", 0.0, \"2020-01-04\"], [\"NICE 2-T\", 0.0, \"2020-01-11\"], [\"NICE 2-T\", 0.0, \"2020-01-18\"], [\"NICE 2-T\", 0.0, \"2020-01-25\"], [\"NICE 2-T\", 0.0, \"2020-02-01\"], [\"NICE 2-T\", 0.0, \"2020-02-08\"], [\"NICE 2-T\", 0.0, \"2020-02-15\"], [\"NICE 2-T\", 0.0, \"2020-02-22\"], [\"NICE 2-T\", 0.0, \"2020-02-29\"], [\"NICE 2-T\", 0.0, \"2020-03-07\"], [\"NICE 2-T\", 0.0, \"2020-03-14\"], [\"NICE 2-T\", 0.0, \"2020-03-21\"], [\"NICE 2-T\", 0.0, \"2020-03-28\"], [\"NICE 2-T\", 0.0, \"2020-04-04\"], [\"NICE 2-T\", 0.0, \"2020-04-11\"], [\"NICE 2-T\", 0.0, \"2020-04-18\"], [\"NICE 2-T\", 0.0, \"2020-04-25\"], [\"NICE 2-T\", 0.0, \"2020-05-02\"], [\"NICE 2-T\", 0.0, \"2020-05-09\"], [\"NICE 2-T\", 0.0, \"2020-05-16\"], [\"NICE 2-T\", 0.0, \"2020-05-23\"], [\"NICE 2-T\", 0.0, \"2020-05-30\"], [\"NICE 2-T\", 0.0, \"2020-06-06\"], [\"NICE 2-T\", 0.0, \"2020-06-13\"], [\"NICE 2-T\", 0.0, \"2020-06-20\"], [\"NICE 2-T\", 0.0, \"2020-06-27\"], [\"NICE 2-T\", 0.0, \"2020-07-04\"], [\"NICE 2-T\", 0.0, \"2020-07-11\"], [\"NICE 2-T\", 0.0, \"2020-07-18\"], [\"NICE 2-T\", 0.0, \"2020-07-25\"], [\"NICE 2-T\", 0.0, \"2020-08-01\"], [\"NICE 2-T\", 0.0, \"2020-08-08\"], [\"NICE 2-T\", 0.0, \"2020-08-15\"], [\"NICE 2-T\", 0.0, \"2020-08-22\"], [\"NICE 2-T\", 0.0, \"2020-08-29\"], [\"NICE 2-T\", 0.0, \"2020-09-05\"], [\"NICE 2-T\", 0.0, \"2020-09-12\"], [\"NICE 2-T\", 0.0, \"2020-09-19\"], [\"NICE 2-T\", 0.0, \"2020-09-26\"], [\"NICE 2-T\", 0.0, \"2020-10-03\"], [\"NICE 2-T\", 0.0, \"2020-10-10\"], [\"NICE 2-T\", 0.0, \"2020-10-17\"], [\"NICE 2-T\", 0.0, \"2020-10-24\"], [\"NICE 2-T\", 0.0, \"2020-10-31\"], [\"NICE 2-T\", 0.0, \"2020-11-07\"], [\"NICE 2-T\", 0.0, \"2020-11-14\"], [\"NICE 2-T\", 0.0, \"2020-11-21\"], [\"NICE 2-T\", 0.0, \"2020-11-28\"], [\"NICE 2-T\", 0.0, \"2020-12-05\"], [\"NICE 2-T\", 0.0, \"2020-12-12\"], [\"NICE 2-T\", 0.0, \"2020-12-19\"], [\"NICE 2-T\", 0.0, \"2020-12-26\"], [\"NICE 2-T\", 0.0, \"2021-01-02\"], [\"NICE 2-T\", 0.0, \"2021-01-09\"], [\"NICE 2-T\", 0.0, \"2021-01-16\"], [\"NICE 2-T\", 0.0, \"2021-01-23\"], [\"NICE 2-T\", 0.0, \"2021-01-30\"], [\"NICE 2-T\", 0.0, \"2021-02-06\"], [\"NICE 2-T\", 0.0, \"2021-02-13\"], [\"NICE 2-T\", 0.0, \"2021-02-20\"], [\"NICE 2-T\", 0.0, \"2021-02-27\"], [\"NICE 2-T\", 0.0, \"2021-03-06\"], [\"NICE 2-T\", 0.0, \"2021-03-13\"]], \"hovertemplate\": \"<b>MetroCard Type: %{customdata[0]}</b> <br>MetroCard Swipes: %{customdata[1]:,} <br>Week Ending: %{customdata[2]}<extra></extra>\", \"legendgroup\": \"NICE 2-T\", \"line\": {\"color\": \"rgb(147,120,96)\"}, \"mode\": \"lines\", \"name\": \"NICE 2-T\", \"orientation\": \"v\", \"showlegend\": true, \"stackgroup\": \"1\", \"type\": \"scatter\", \"x\": [\"2020-01-04\", \"2020-01-11\", \"2020-01-18\", \"2020-01-25\", \"2020-02-01\", \"2020-02-08\", \"2020-02-15\", \"2020-02-22\", \"2020-02-29\", \"2020-03-07\", \"2020-03-14\", \"2020-03-21\", \"2020-03-28\", \"2020-04-04\", \"2020-04-11\", \"2020-04-18\", \"2020-04-25\", \"2020-05-02\", \"2020-05-09\", \"2020-05-16\", \"2020-05-23\", \"2020-05-30\", \"2020-06-06\", \"2020-06-13\", \"2020-06-20\", \"2020-06-27\", \"2020-07-04\", \"2020-07-11\", \"2020-07-18\", \"2020-07-25\", \"2020-08-01\", \"2020-08-08\", \"2020-08-15\", \"2020-08-22\", \"2020-08-29\", \"2020-09-05\", \"2020-09-12\", \"2020-09-19\", \"2020-09-26\", \"2020-10-03\", \"2020-10-10\", \"2020-10-17\", \"2020-10-24\", \"2020-10-31\", \"2020-11-07\", \"2020-11-14\", \"2020-11-21\", \"2020-11-28\", \"2020-12-05\", \"2020-12-12\", \"2020-12-19\", \"2020-12-26\", \"2021-01-02\", \"2021-01-09\", \"2021-01-16\", \"2021-01-23\", \"2021-01-30\", \"2021-02-06\", \"2021-02-13\", \"2021-02-20\", \"2021-02-27\", \"2021-03-06\", \"2021-03-13\"], \"xaxis\": \"x\", \"y\": [0.0, 0.0, 0.0, 0.0, 0.0, 0.0, 0.0, 0.0, 0.0, 0.0, 0.0, 0.0, 0.0, 0.0, 0.0, 0.0, 0.0, 0.0, 0.0, 0.0, 0.0, 0.0, 0.0, 0.0, 0.0, 0.0, 0.0, 0.0, 0.0, 0.0, 0.0, 0.0, 0.0, 0.0, 0.0, 0.0, 0.0, 0.0, 0.0, 0.0, 0.0, 0.0, 0.0, 0.0, 0.0, 0.0, 0.0, 0.0, 0.0, 0.0, 0.0, 0.0, 0.0, 0.0, 0.0, 0.0, 0.0, 0.0, 0.0, 0.0, 0.0, 0.0, 0.0], \"yaxis\": \"y\"}, {\"customdata\": [[\"AIRTRAIN 30-D\", 0.0, \"2020-01-04\"], [\"AIRTRAIN 30-D\", 0.0, \"2020-01-11\"], [\"AIRTRAIN 30-D\", 0.0, \"2020-01-18\"], [\"AIRTRAIN 30-D\", 0.0, \"2020-01-25\"], [\"AIRTRAIN 30-D\", 0.0, \"2020-02-01\"], [\"AIRTRAIN 30-D\", 0.0, \"2020-02-08\"], [\"AIRTRAIN 30-D\", 0.0, \"2020-02-15\"], [\"AIRTRAIN 30-D\", 0.0, \"2020-02-22\"], [\"AIRTRAIN 30-D\", 0.0, \"2020-02-29\"], [\"AIRTRAIN 30-D\", 0.0, \"2020-03-07\"], [\"AIRTRAIN 30-D\", 0.0, \"2020-03-14\"], [\"AIRTRAIN 30-D\", 0.0, \"2020-03-21\"], [\"AIRTRAIN 30-D\", 0.0, \"2020-03-28\"], [\"AIRTRAIN 30-D\", 0.0, \"2020-04-04\"], [\"AIRTRAIN 30-D\", 0.0, \"2020-04-11\"], [\"AIRTRAIN 30-D\", 0.0, \"2020-04-18\"], [\"AIRTRAIN 30-D\", 0.0, \"2020-04-25\"], [\"AIRTRAIN 30-D\", 0.0, \"2020-05-02\"], [\"AIRTRAIN 30-D\", 0.0, \"2020-05-09\"], [\"AIRTRAIN 30-D\", 0.0, \"2020-05-16\"], [\"AIRTRAIN 30-D\", 0.0, \"2020-05-23\"], [\"AIRTRAIN 30-D\", 0.0, \"2020-05-30\"], [\"AIRTRAIN 30-D\", 0.0, \"2020-06-06\"], [\"AIRTRAIN 30-D\", 0.0, \"2020-06-13\"], [\"AIRTRAIN 30-D\", 0.0, \"2020-06-20\"], [\"AIRTRAIN 30-D\", 0.0, \"2020-06-27\"], [\"AIRTRAIN 30-D\", 0.0, \"2020-07-04\"], [\"AIRTRAIN 30-D\", 0.0, \"2020-07-11\"], [\"AIRTRAIN 30-D\", 0.0, \"2020-07-18\"], [\"AIRTRAIN 30-D\", 0.0, \"2020-07-25\"], [\"AIRTRAIN 30-D\", 0.0, \"2020-08-01\"], [\"AIRTRAIN 30-D\", 0.0, \"2020-08-08\"], [\"AIRTRAIN 30-D\", 0.0, \"2020-08-15\"], [\"AIRTRAIN 30-D\", 0.0, \"2020-08-22\"], [\"AIRTRAIN 30-D\", 0.0, \"2020-08-29\"], [\"AIRTRAIN 30-D\", 0.0, \"2020-09-05\"], [\"AIRTRAIN 30-D\", 0.0, \"2020-09-12\"], [\"AIRTRAIN 30-D\", 0.0, \"2020-09-19\"], [\"AIRTRAIN 30-D\", 0.0, \"2020-09-26\"], [\"AIRTRAIN 30-D\", 0.0, \"2020-10-03\"], [\"AIRTRAIN 30-D\", 0.0, \"2020-10-10\"], [\"AIRTRAIN 30-D\", 0.0, \"2020-10-17\"], [\"AIRTRAIN 30-D\", 0.0, \"2020-10-24\"], [\"AIRTRAIN 30-D\", 0.0, \"2020-10-31\"], [\"AIRTRAIN 30-D\", 0.0, \"2020-11-07\"], [\"AIRTRAIN 30-D\", 0.0, \"2020-11-14\"], [\"AIRTRAIN 30-D\", 0.0, \"2020-11-21\"], [\"AIRTRAIN 30-D\", 0.0, \"2020-11-28\"], [\"AIRTRAIN 30-D\", 0.0, \"2020-12-05\"], [\"AIRTRAIN 30-D\", 0.0, \"2020-12-12\"], [\"AIRTRAIN 30-D\", 0.0, \"2020-12-19\"], [\"AIRTRAIN 30-D\", 0.0, \"2020-12-26\"], [\"AIRTRAIN 30-D\", 0.0, \"2021-01-02\"], [\"AIRTRAIN 30-D\", 0.0, \"2021-01-09\"], [\"AIRTRAIN 30-D\", 0.0, \"2021-01-16\"], [\"AIRTRAIN 30-D\", 0.0, \"2021-01-23\"], [\"AIRTRAIN 30-D\", 0.0, \"2021-01-30\"], [\"AIRTRAIN 30-D\", 0.0, \"2021-02-06\"], [\"AIRTRAIN 30-D\", 0.0, \"2021-02-13\"], [\"AIRTRAIN 30-D\", 0.0, \"2021-02-20\"], [\"AIRTRAIN 30-D\", 0.0, \"2021-02-27\"], [\"AIRTRAIN 30-D\", 0.0, \"2021-03-06\"], [\"AIRTRAIN 30-D\", 0.0, \"2021-03-13\"]], \"hovertemplate\": \"<b>MetroCard Type: %{customdata[0]}</b> <br>MetroCard Swipes: %{customdata[1]:,} <br>Week Ending: %{customdata[2]}<extra></extra>\", \"legendgroup\": \"AIRTRAIN 30-D\", \"line\": {\"color\": \"rgb(218,139,195)\"}, \"mode\": \"lines\", \"name\": \"AIRTRAIN 30-D\", \"orientation\": \"v\", \"showlegend\": true, \"stackgroup\": \"1\", \"type\": \"scatter\", \"x\": [\"2020-01-04\", \"2020-01-11\", \"2020-01-18\", \"2020-01-25\", \"2020-02-01\", \"2020-02-08\", \"2020-02-15\", \"2020-02-22\", \"2020-02-29\", \"2020-03-07\", \"2020-03-14\", \"2020-03-21\", \"2020-03-28\", \"2020-04-04\", \"2020-04-11\", \"2020-04-18\", \"2020-04-25\", \"2020-05-02\", \"2020-05-09\", \"2020-05-16\", \"2020-05-23\", \"2020-05-30\", \"2020-06-06\", \"2020-06-13\", \"2020-06-20\", \"2020-06-27\", \"2020-07-04\", \"2020-07-11\", \"2020-07-18\", \"2020-07-25\", \"2020-08-01\", \"2020-08-08\", \"2020-08-15\", \"2020-08-22\", \"2020-08-29\", \"2020-09-05\", \"2020-09-12\", \"2020-09-19\", \"2020-09-26\", \"2020-10-03\", \"2020-10-10\", \"2020-10-17\", \"2020-10-24\", \"2020-10-31\", \"2020-11-07\", \"2020-11-14\", \"2020-11-21\", \"2020-11-28\", \"2020-12-05\", \"2020-12-12\", \"2020-12-19\", \"2020-12-26\", \"2021-01-02\", \"2021-01-09\", \"2021-01-16\", \"2021-01-23\", \"2021-01-30\", \"2021-02-06\", \"2021-02-13\", \"2021-02-20\", \"2021-02-27\", \"2021-03-06\", \"2021-03-13\"], \"xaxis\": \"x\", \"y\": [0.0, 0.0, 0.0, 0.0, 0.0, 0.0, 0.0, 0.0, 0.0, 0.0, 0.0, 0.0, 0.0, 0.0, 0.0, 0.0, 0.0, 0.0, 0.0, 0.0, 0.0, 0.0, 0.0, 0.0, 0.0, 0.0, 0.0, 0.0, 0.0, 0.0, 0.0, 0.0, 0.0, 0.0, 0.0, 0.0, 0.0, 0.0, 0.0, 0.0, 0.0, 0.0, 0.0, 0.0, 0.0, 0.0, 0.0, 0.0, 0.0, 0.0, 0.0, 0.0, 0.0, 0.0, 0.0, 0.0, 0.0, 0.0, 0.0, 0.0, 0.0, 0.0, 0.0], \"yaxis\": \"y\"}, {\"customdata\": [[\"14-D RFM UNL\", 0.0, \"2020-01-04\"], [\"14-D RFM UNL\", 0.0, \"2020-01-11\"], [\"14-D RFM UNL\", 0.0, \"2020-01-18\"], [\"14-D RFM UNL\", 0.0, \"2020-01-25\"], [\"14-D RFM UNL\", 0.0, \"2020-02-01\"], [\"14-D RFM UNL\", 0.0, \"2020-02-08\"], [\"14-D RFM UNL\", 0.0, \"2020-02-15\"], [\"14-D RFM UNL\", 0.0, \"2020-02-22\"], [\"14-D RFM UNL\", 0.0, \"2020-02-29\"], [\"14-D RFM UNL\", 0.0, \"2020-03-07\"], [\"14-D RFM UNL\", 0.0, \"2020-03-14\"], [\"14-D RFM UNL\", 0.0, \"2020-03-21\"], [\"14-D RFM UNL\", 0.0, \"2020-03-28\"], [\"14-D RFM UNL\", 0.0, \"2020-04-04\"], [\"14-D RFM UNL\", 0.0, \"2020-04-11\"], [\"14-D RFM UNL\", 0.0, \"2020-04-18\"], [\"14-D RFM UNL\", 0.0, \"2020-04-25\"], [\"14-D RFM UNL\", 0.0, \"2020-05-02\"], [\"14-D RFM UNL\", 0.0, \"2020-05-09\"], [\"14-D RFM UNL\", 0.0, \"2020-05-16\"], [\"14-D RFM UNL\", 0.0, \"2020-05-23\"], [\"14-D RFM UNL\", 0.0, \"2020-05-30\"], [\"14-D RFM UNL\", 0.0, \"2020-06-06\"], [\"14-D RFM UNL\", 0.0, \"2020-06-13\"], [\"14-D RFM UNL\", 0.0, \"2020-06-20\"], [\"14-D RFM UNL\", 0.0, \"2020-06-27\"], [\"14-D RFM UNL\", 0.0, \"2020-07-04\"], [\"14-D RFM UNL\", 0.0, \"2020-07-11\"], [\"14-D RFM UNL\", 0.0, \"2020-07-18\"], [\"14-D RFM UNL\", 0.0, \"2020-07-25\"], [\"14-D RFM UNL\", 0.0, \"2020-08-01\"], [\"14-D RFM UNL\", 0.0, \"2020-08-08\"], [\"14-D RFM UNL\", 0.0, \"2020-08-15\"], [\"14-D RFM UNL\", 0.0, \"2020-08-22\"], [\"14-D RFM UNL\", 0.0, \"2020-08-29\"], [\"14-D RFM UNL\", 0.0, \"2020-09-05\"], [\"14-D RFM UNL\", 0.0, \"2020-09-12\"], [\"14-D RFM UNL\", 0.0, \"2020-09-19\"], [\"14-D RFM UNL\", 0.0, \"2020-09-26\"], [\"14-D RFM UNL\", 0.0, \"2020-10-03\"], [\"14-D RFM UNL\", 0.0, \"2020-10-10\"], [\"14-D RFM UNL\", 0.0, \"2020-10-17\"], [\"14-D RFM UNL\", 0.0, \"2020-10-24\"], [\"14-D RFM UNL\", 0.0, \"2020-10-31\"], [\"14-D RFM UNL\", 0.0, \"2020-11-07\"], [\"14-D RFM UNL\", 0.0, \"2020-11-14\"], [\"14-D RFM UNL\", 0.0, \"2020-11-21\"], [\"14-D RFM UNL\", 0.0, \"2020-11-28\"], [\"14-D RFM UNL\", 0.0, \"2020-12-05\"], [\"14-D RFM UNL\", 0.0, \"2020-12-12\"], [\"14-D RFM UNL\", 0.0, \"2020-12-19\"], [\"14-D RFM UNL\", 0.0, \"2020-12-26\"], [\"14-D RFM UNL\", 0.0, \"2021-01-02\"], [\"14-D RFM UNL\", 0.0, \"2021-01-09\"], [\"14-D RFM UNL\", 0.0, \"2021-01-16\"], [\"14-D RFM UNL\", 0.0, \"2021-01-23\"], [\"14-D RFM UNL\", 0.0, \"2021-01-30\"], [\"14-D RFM UNL\", 0.0, \"2021-02-06\"], [\"14-D RFM UNL\", 0.0, \"2021-02-13\"], [\"14-D RFM UNL\", 0.0, \"2021-02-20\"], [\"14-D RFM UNL\", 0.0, \"2021-02-27\"], [\"14-D RFM UNL\", 0.0, \"2021-03-06\"], [\"14-D RFM UNL\", 0.0, \"2021-03-13\"]], \"hovertemplate\": \"<b>MetroCard Type: %{customdata[0]}</b> <br>MetroCard Swipes: %{customdata[1]:,} <br>Week Ending: %{customdata[2]}<extra></extra>\", \"legendgroup\": \"14-D RFM UNL\", \"line\": {\"color\": \"rgb(140,140,140)\"}, \"mode\": \"lines\", \"name\": \"14-D RFM UNL\", \"orientation\": \"v\", \"showlegend\": true, \"stackgroup\": \"1\", \"type\": \"scatter\", \"x\": [\"2020-01-04\", \"2020-01-11\", \"2020-01-18\", \"2020-01-25\", \"2020-02-01\", \"2020-02-08\", \"2020-02-15\", \"2020-02-22\", \"2020-02-29\", \"2020-03-07\", \"2020-03-14\", \"2020-03-21\", \"2020-03-28\", \"2020-04-04\", \"2020-04-11\", \"2020-04-18\", \"2020-04-25\", \"2020-05-02\", \"2020-05-09\", \"2020-05-16\", \"2020-05-23\", \"2020-05-30\", \"2020-06-06\", \"2020-06-13\", \"2020-06-20\", \"2020-06-27\", \"2020-07-04\", \"2020-07-11\", \"2020-07-18\", \"2020-07-25\", \"2020-08-01\", \"2020-08-08\", \"2020-08-15\", \"2020-08-22\", \"2020-08-29\", \"2020-09-05\", \"2020-09-12\", \"2020-09-19\", \"2020-09-26\", \"2020-10-03\", \"2020-10-10\", \"2020-10-17\", \"2020-10-24\", \"2020-10-31\", \"2020-11-07\", \"2020-11-14\", \"2020-11-21\", \"2020-11-28\", \"2020-12-05\", \"2020-12-12\", \"2020-12-19\", \"2020-12-26\", \"2021-01-02\", \"2021-01-09\", \"2021-01-16\", \"2021-01-23\", \"2021-01-30\", \"2021-02-06\", \"2021-02-13\", \"2021-02-20\", \"2021-02-27\", \"2021-03-06\", \"2021-03-13\"], \"xaxis\": \"x\", \"y\": [0.0, 0.0, 0.0, 0.0, 0.0, 0.0, 0.0, 0.0, 0.0, 0.0, 0.0, 0.0, 0.0, 0.0, 0.0, 0.0, 0.0, 0.0, 0.0, 0.0, 0.0, 0.0, 0.0, 0.0, 0.0, 0.0, 0.0, 0.0, 0.0, 0.0, 0.0, 0.0, 0.0, 0.0, 0.0, 0.0, 0.0, 0.0, 0.0, 0.0, 0.0, 0.0, 0.0, 0.0, 0.0, 0.0, 0.0, 0.0, 0.0, 0.0, 0.0, 0.0, 0.0, 0.0, 0.0, 0.0, 0.0, 0.0, 0.0, 0.0, 0.0, 0.0, 0.0], \"yaxis\": \"y\"}, {\"customdata\": [[\"1-D UNL\", 0.0, \"2020-01-04\"], [\"1-D UNL\", 0.0, \"2020-01-11\"], [\"1-D UNL\", 0.0, \"2020-01-18\"], [\"1-D UNL\", 0.0, \"2020-01-25\"], [\"1-D UNL\", 0.0, \"2020-02-01\"], [\"1-D UNL\", 0.0, \"2020-02-08\"], [\"1-D UNL\", 0.0, \"2020-02-15\"], [\"1-D UNL\", 0.0, \"2020-02-22\"], [\"1-D UNL\", 0.0, \"2020-02-29\"], [\"1-D UNL\", 0.0, \"2020-03-07\"], [\"1-D UNL\", 0.0, \"2020-03-14\"], [\"1-D UNL\", 0.0, \"2020-03-21\"], [\"1-D UNL\", 0.0, \"2020-03-28\"], [\"1-D UNL\", 0.0, \"2020-04-04\"], [\"1-D UNL\", 0.0, \"2020-04-11\"], [\"1-D UNL\", 0.0, \"2020-04-18\"], [\"1-D UNL\", 0.0, \"2020-04-25\"], [\"1-D UNL\", 0.0, \"2020-05-02\"], [\"1-D UNL\", 0.0, \"2020-05-09\"], [\"1-D UNL\", 0.0, \"2020-05-16\"], [\"1-D UNL\", 0.0, \"2020-05-23\"], [\"1-D UNL\", 0.0, \"2020-05-30\"], [\"1-D UNL\", 0.0, \"2020-06-06\"], [\"1-D UNL\", 0.0, \"2020-06-13\"], [\"1-D UNL\", 0.0, \"2020-06-20\"], [\"1-D UNL\", 0.0, \"2020-06-27\"], [\"1-D UNL\", 0.0, \"2020-07-04\"], [\"1-D UNL\", 0.0, \"2020-07-11\"], [\"1-D UNL\", 0.0, \"2020-07-18\"], [\"1-D UNL\", 0.0, \"2020-07-25\"], [\"1-D UNL\", 0.0, \"2020-08-01\"], [\"1-D UNL\", 0.0, \"2020-08-08\"], [\"1-D UNL\", 0.0, \"2020-08-15\"], [\"1-D UNL\", 0.0, \"2020-08-22\"], [\"1-D UNL\", 0.0, \"2020-08-29\"], [\"1-D UNL\", 0.0, \"2020-09-05\"], [\"1-D UNL\", 0.0, \"2020-09-12\"], [\"1-D UNL\", 0.0, \"2020-09-19\"], [\"1-D UNL\", 0.0, \"2020-09-26\"], [\"1-D UNL\", 0.0, \"2020-10-03\"], [\"1-D UNL\", 0.0, \"2020-10-10\"], [\"1-D UNL\", 0.0, \"2020-10-17\"], [\"1-D UNL\", 0.0, \"2020-10-24\"], [\"1-D UNL\", 0.0, \"2020-10-31\"], [\"1-D UNL\", 0.0, \"2020-11-07\"], [\"1-D UNL\", 0.0, \"2020-11-14\"], [\"1-D UNL\", 0.0, \"2020-11-21\"], [\"1-D UNL\", 0.0, \"2020-11-28\"], [\"1-D UNL\", 0.0, \"2020-12-05\"], [\"1-D UNL\", 0.0, \"2020-12-12\"], [\"1-D UNL\", 0.0, \"2020-12-19\"], [\"1-D UNL\", 0.0, \"2020-12-26\"], [\"1-D UNL\", 0.0, \"2021-01-02\"], [\"1-D UNL\", 0.0, \"2021-01-09\"], [\"1-D UNL\", 0.0, \"2021-01-16\"], [\"1-D UNL\", 0.0, \"2021-01-23\"], [\"1-D UNL\", 0.0, \"2021-01-30\"], [\"1-D UNL\", 0.0, \"2021-02-06\"], [\"1-D UNL\", 0.0, \"2021-02-13\"], [\"1-D UNL\", 0.0, \"2021-02-20\"], [\"1-D UNL\", 0.0, \"2021-02-27\"], [\"1-D UNL\", 0.0, \"2021-03-06\"], [\"1-D UNL\", 0.0, \"2021-03-13\"]], \"hovertemplate\": \"<b>MetroCard Type: %{customdata[0]}</b> <br>MetroCard Swipes: %{customdata[1]:,} <br>Week Ending: %{customdata[2]}<extra></extra>\", \"legendgroup\": \"1-D UNL\", \"line\": {\"color\": \"rgb(204,185,116)\"}, \"mode\": \"lines\", \"name\": \"1-D UNL\", \"orientation\": \"v\", \"showlegend\": true, \"stackgroup\": \"1\", \"type\": \"scatter\", \"x\": [\"2020-01-04\", \"2020-01-11\", \"2020-01-18\", \"2020-01-25\", \"2020-02-01\", \"2020-02-08\", \"2020-02-15\", \"2020-02-22\", \"2020-02-29\", \"2020-03-07\", \"2020-03-14\", \"2020-03-21\", \"2020-03-28\", \"2020-04-04\", \"2020-04-11\", \"2020-04-18\", \"2020-04-25\", \"2020-05-02\", \"2020-05-09\", \"2020-05-16\", \"2020-05-23\", \"2020-05-30\", \"2020-06-06\", \"2020-06-13\", \"2020-06-20\", \"2020-06-27\", \"2020-07-04\", \"2020-07-11\", \"2020-07-18\", \"2020-07-25\", \"2020-08-01\", \"2020-08-08\", \"2020-08-15\", \"2020-08-22\", \"2020-08-29\", \"2020-09-05\", \"2020-09-12\", \"2020-09-19\", \"2020-09-26\", \"2020-10-03\", \"2020-10-10\", \"2020-10-17\", \"2020-10-24\", \"2020-10-31\", \"2020-11-07\", \"2020-11-14\", \"2020-11-21\", \"2020-11-28\", \"2020-12-05\", \"2020-12-12\", \"2020-12-19\", \"2020-12-26\", \"2021-01-02\", \"2021-01-09\", \"2021-01-16\", \"2021-01-23\", \"2021-01-30\", \"2021-02-06\", \"2021-02-13\", \"2021-02-20\", \"2021-02-27\", \"2021-03-06\", \"2021-03-13\"], \"xaxis\": \"x\", \"y\": [0.0, 0.0, 0.0, 0.0, 0.0, 0.0, 0.0, 0.0, 0.0, 0.0, 0.0, 0.0, 0.0, 0.0, 0.0, 0.0, 0.0, 0.0, 0.0, 0.0, 0.0, 0.0, 0.0, 0.0, 0.0, 0.0, 0.0, 0.0, 0.0, 0.0, 0.0, 0.0, 0.0, 0.0, 0.0, 0.0, 0.0, 0.0, 0.0, 0.0, 0.0, 0.0, 0.0, 0.0, 0.0, 0.0, 0.0, 0.0, 0.0, 0.0, 0.0, 0.0, 0.0, 0.0, 0.0, 0.0, 0.0, 0.0, 0.0, 0.0, 0.0, 0.0, 0.0], \"yaxis\": \"y\"}],\n",
       "                        {\"hoverdistance\": -1, \"legend\": {\"title\": {\"text\": \"MetroCard Type\"}, \"tracegroupgap\": 0}, \"margin\": {\"t\": 60}, \"template\": {\"data\": {\"bar\": [{\"error_x\": {\"color\": \"rgb(36,36,36)\"}, \"error_y\": {\"color\": \"rgb(36,36,36)\"}, \"marker\": {\"line\": {\"color\": \"rgb(234,234,242)\", \"width\": 0.5}}, \"type\": \"bar\"}], \"barpolar\": [{\"marker\": {\"line\": {\"color\": \"rgb(234,234,242)\", \"width\": 0.5}}, \"type\": \"barpolar\"}], \"carpet\": [{\"aaxis\": {\"endlinecolor\": \"rgb(36,36,36)\", \"gridcolor\": \"white\", \"linecolor\": \"white\", \"minorgridcolor\": \"white\", \"startlinecolor\": \"rgb(36,36,36)\"}, \"baxis\": {\"endlinecolor\": \"rgb(36,36,36)\", \"gridcolor\": \"white\", \"linecolor\": \"white\", \"minorgridcolor\": \"white\", \"startlinecolor\": \"rgb(36,36,36)\"}, \"type\": \"carpet\"}], \"choropleth\": [{\"colorbar\": {\"outlinewidth\": 0, \"tickcolor\": \"rgb(36,36,36)\", \"ticklen\": 8, \"ticks\": \"outside\", \"tickwidth\": 2}, \"type\": \"choropleth\"}], \"contour\": [{\"colorbar\": {\"outlinewidth\": 0, \"tickcolor\": \"rgb(36,36,36)\", \"ticklen\": 8, \"ticks\": \"outside\", \"tickwidth\": 2}, \"colorscale\": [[0.0, \"rgb(2,4,25)\"], [0.06274509803921569, \"rgb(24,15,41)\"], [0.12549019607843137, \"rgb(47,23,57)\"], [0.18823529411764706, \"rgb(71,28,72)\"], [0.25098039215686274, \"rgb(97,30,82)\"], [0.3137254901960784, \"rgb(123,30,89)\"], [0.3764705882352941, \"rgb(150,27,91)\"], [0.4392156862745098, \"rgb(177,22,88)\"], [0.5019607843137255, \"rgb(203,26,79)\"], [0.5647058823529412, \"rgb(223,47,67)\"], [0.6274509803921569, \"rgb(236,76,61)\"], [0.6901960784313725, \"rgb(242,107,73)\"], [0.7529411764705882, \"rgb(244,135,95)\"], [0.8156862745098039, \"rgb(245,162,122)\"], [0.8784313725490196, \"rgb(246,188,153)\"], [0.9411764705882353, \"rgb(247,212,187)\"], [1.0, \"rgb(250,234,220)\"]], \"type\": \"contour\"}], \"contourcarpet\": [{\"colorbar\": {\"outlinewidth\": 0, \"tickcolor\": \"rgb(36,36,36)\", \"ticklen\": 8, \"ticks\": \"outside\", \"tickwidth\": 2}, \"type\": \"contourcarpet\"}], \"heatmap\": [{\"colorbar\": {\"outlinewidth\": 0, \"tickcolor\": \"rgb(36,36,36)\", \"ticklen\": 8, \"ticks\": \"outside\", \"tickwidth\": 2}, \"colorscale\": [[0.0, \"rgb(2,4,25)\"], [0.06274509803921569, \"rgb(24,15,41)\"], [0.12549019607843137, \"rgb(47,23,57)\"], [0.18823529411764706, \"rgb(71,28,72)\"], [0.25098039215686274, \"rgb(97,30,82)\"], [0.3137254901960784, \"rgb(123,30,89)\"], [0.3764705882352941, \"rgb(150,27,91)\"], [0.4392156862745098, \"rgb(177,22,88)\"], [0.5019607843137255, \"rgb(203,26,79)\"], [0.5647058823529412, \"rgb(223,47,67)\"], [0.6274509803921569, \"rgb(236,76,61)\"], [0.6901960784313725, \"rgb(242,107,73)\"], [0.7529411764705882, \"rgb(244,135,95)\"], [0.8156862745098039, \"rgb(245,162,122)\"], [0.8784313725490196, \"rgb(246,188,153)\"], [0.9411764705882353, \"rgb(247,212,187)\"], [1.0, \"rgb(250,234,220)\"]], \"type\": \"heatmap\"}], \"heatmapgl\": [{\"colorbar\": {\"outlinewidth\": 0, \"tickcolor\": \"rgb(36,36,36)\", \"ticklen\": 8, \"ticks\": \"outside\", \"tickwidth\": 2}, \"colorscale\": [[0.0, \"rgb(2,4,25)\"], [0.06274509803921569, \"rgb(24,15,41)\"], [0.12549019607843137, \"rgb(47,23,57)\"], [0.18823529411764706, \"rgb(71,28,72)\"], [0.25098039215686274, \"rgb(97,30,82)\"], [0.3137254901960784, \"rgb(123,30,89)\"], [0.3764705882352941, \"rgb(150,27,91)\"], [0.4392156862745098, \"rgb(177,22,88)\"], [0.5019607843137255, \"rgb(203,26,79)\"], [0.5647058823529412, \"rgb(223,47,67)\"], [0.6274509803921569, \"rgb(236,76,61)\"], [0.6901960784313725, \"rgb(242,107,73)\"], [0.7529411764705882, \"rgb(244,135,95)\"], [0.8156862745098039, \"rgb(245,162,122)\"], [0.8784313725490196, \"rgb(246,188,153)\"], [0.9411764705882353, \"rgb(247,212,187)\"], [1.0, \"rgb(250,234,220)\"]], \"type\": \"heatmapgl\"}], \"histogram\": [{\"marker\": {\"colorbar\": {\"outlinewidth\": 0, \"tickcolor\": \"rgb(36,36,36)\", \"ticklen\": 8, \"ticks\": \"outside\", \"tickwidth\": 2}}, \"type\": \"histogram\"}], \"histogram2d\": [{\"colorbar\": {\"outlinewidth\": 0, \"tickcolor\": \"rgb(36,36,36)\", \"ticklen\": 8, \"ticks\": \"outside\", \"tickwidth\": 2}, \"colorscale\": [[0.0, \"rgb(2,4,25)\"], [0.06274509803921569, \"rgb(24,15,41)\"], [0.12549019607843137, \"rgb(47,23,57)\"], [0.18823529411764706, \"rgb(71,28,72)\"], [0.25098039215686274, \"rgb(97,30,82)\"], [0.3137254901960784, \"rgb(123,30,89)\"], [0.3764705882352941, \"rgb(150,27,91)\"], [0.4392156862745098, \"rgb(177,22,88)\"], [0.5019607843137255, \"rgb(203,26,79)\"], [0.5647058823529412, \"rgb(223,47,67)\"], [0.6274509803921569, \"rgb(236,76,61)\"], [0.6901960784313725, \"rgb(242,107,73)\"], [0.7529411764705882, \"rgb(244,135,95)\"], [0.8156862745098039, \"rgb(245,162,122)\"], [0.8784313725490196, \"rgb(246,188,153)\"], [0.9411764705882353, \"rgb(247,212,187)\"], [1.0, \"rgb(250,234,220)\"]], \"type\": \"histogram2d\"}], \"histogram2dcontour\": [{\"colorbar\": {\"outlinewidth\": 0, \"tickcolor\": \"rgb(36,36,36)\", \"ticklen\": 8, \"ticks\": \"outside\", \"tickwidth\": 2}, \"colorscale\": [[0.0, \"rgb(2,4,25)\"], [0.06274509803921569, \"rgb(24,15,41)\"], [0.12549019607843137, \"rgb(47,23,57)\"], [0.18823529411764706, \"rgb(71,28,72)\"], [0.25098039215686274, \"rgb(97,30,82)\"], [0.3137254901960784, \"rgb(123,30,89)\"], [0.3764705882352941, \"rgb(150,27,91)\"], [0.4392156862745098, \"rgb(177,22,88)\"], [0.5019607843137255, \"rgb(203,26,79)\"], [0.5647058823529412, \"rgb(223,47,67)\"], [0.6274509803921569, \"rgb(236,76,61)\"], [0.6901960784313725, \"rgb(242,107,73)\"], [0.7529411764705882, \"rgb(244,135,95)\"], [0.8156862745098039, \"rgb(245,162,122)\"], [0.8784313725490196, \"rgb(246,188,153)\"], [0.9411764705882353, \"rgb(247,212,187)\"], [1.0, \"rgb(250,234,220)\"]], \"type\": \"histogram2dcontour\"}], \"mesh3d\": [{\"colorbar\": {\"outlinewidth\": 0, \"tickcolor\": \"rgb(36,36,36)\", \"ticklen\": 8, \"ticks\": \"outside\", \"tickwidth\": 2}, \"type\": \"mesh3d\"}], \"parcoords\": [{\"line\": {\"colorbar\": {\"outlinewidth\": 0, \"tickcolor\": \"rgb(36,36,36)\", \"ticklen\": 8, \"ticks\": \"outside\", \"tickwidth\": 2}}, \"type\": \"parcoords\"}], \"pie\": [{\"automargin\": true, \"type\": \"pie\"}], \"scatter\": [{\"marker\": {\"colorbar\": {\"outlinewidth\": 0, \"tickcolor\": \"rgb(36,36,36)\", \"ticklen\": 8, \"ticks\": \"outside\", \"tickwidth\": 2}}, \"type\": \"scatter\"}], \"scatter3d\": [{\"line\": {\"colorbar\": {\"outlinewidth\": 0, \"tickcolor\": \"rgb(36,36,36)\", \"ticklen\": 8, \"ticks\": \"outside\", \"tickwidth\": 2}}, \"marker\": {\"colorbar\": {\"outlinewidth\": 0, \"tickcolor\": \"rgb(36,36,36)\", \"ticklen\": 8, \"ticks\": \"outside\", \"tickwidth\": 2}}, \"type\": \"scatter3d\"}], \"scattercarpet\": [{\"marker\": {\"colorbar\": {\"outlinewidth\": 0, \"tickcolor\": \"rgb(36,36,36)\", \"ticklen\": 8, \"ticks\": \"outside\", \"tickwidth\": 2}}, \"type\": \"scattercarpet\"}], \"scattergeo\": [{\"marker\": {\"colorbar\": {\"outlinewidth\": 0, \"tickcolor\": \"rgb(36,36,36)\", \"ticklen\": 8, \"ticks\": \"outside\", \"tickwidth\": 2}}, \"type\": \"scattergeo\"}], \"scattergl\": [{\"marker\": {\"colorbar\": {\"outlinewidth\": 0, \"tickcolor\": \"rgb(36,36,36)\", \"ticklen\": 8, \"ticks\": \"outside\", \"tickwidth\": 2}}, \"type\": \"scattergl\"}], \"scattermapbox\": [{\"marker\": {\"colorbar\": {\"outlinewidth\": 0, \"tickcolor\": \"rgb(36,36,36)\", \"ticklen\": 8, \"ticks\": \"outside\", \"tickwidth\": 2}}, \"type\": \"scattermapbox\"}], \"scatterpolar\": [{\"marker\": {\"colorbar\": {\"outlinewidth\": 0, \"tickcolor\": \"rgb(36,36,36)\", \"ticklen\": 8, \"ticks\": \"outside\", \"tickwidth\": 2}}, \"type\": \"scatterpolar\"}], \"scatterpolargl\": [{\"marker\": {\"colorbar\": {\"outlinewidth\": 0, \"tickcolor\": \"rgb(36,36,36)\", \"ticklen\": 8, \"ticks\": \"outside\", \"tickwidth\": 2}}, \"type\": \"scatterpolargl\"}], \"scatterternary\": [{\"marker\": {\"colorbar\": {\"outlinewidth\": 0, \"tickcolor\": \"rgb(36,36,36)\", \"ticklen\": 8, \"ticks\": \"outside\", \"tickwidth\": 2}}, \"type\": \"scatterternary\"}], \"surface\": [{\"colorbar\": {\"outlinewidth\": 0, \"tickcolor\": \"rgb(36,36,36)\", \"ticklen\": 8, \"ticks\": \"outside\", \"tickwidth\": 2}, \"colorscale\": [[0.0, \"rgb(2,4,25)\"], [0.06274509803921569, \"rgb(24,15,41)\"], [0.12549019607843137, \"rgb(47,23,57)\"], [0.18823529411764706, \"rgb(71,28,72)\"], [0.25098039215686274, \"rgb(97,30,82)\"], [0.3137254901960784, \"rgb(123,30,89)\"], [0.3764705882352941, \"rgb(150,27,91)\"], [0.4392156862745098, \"rgb(177,22,88)\"], [0.5019607843137255, \"rgb(203,26,79)\"], [0.5647058823529412, \"rgb(223,47,67)\"], [0.6274509803921569, \"rgb(236,76,61)\"], [0.6901960784313725, \"rgb(242,107,73)\"], [0.7529411764705882, \"rgb(244,135,95)\"], [0.8156862745098039, \"rgb(245,162,122)\"], [0.8784313725490196, \"rgb(246,188,153)\"], [0.9411764705882353, \"rgb(247,212,187)\"], [1.0, \"rgb(250,234,220)\"]], \"type\": \"surface\"}], \"table\": [{\"cells\": {\"fill\": {\"color\": \"rgb(231,231,240)\"}, \"line\": {\"color\": \"white\"}}, \"header\": {\"fill\": {\"color\": \"rgb(183,183,191)\"}, \"line\": {\"color\": \"white\"}}, \"type\": \"table\"}]}, \"layout\": {\"annotationdefaults\": {\"arrowcolor\": \"rgb(67,103,167)\"}, \"coloraxis\": {\"colorbar\": {\"outlinewidth\": 0, \"tickcolor\": \"rgb(36,36,36)\", \"ticklen\": 8, \"ticks\": \"outside\", \"tickwidth\": 2}}, \"colorscale\": {\"sequential\": [[0.0, \"rgb(2,4,25)\"], [0.06274509803921569, \"rgb(24,15,41)\"], [0.12549019607843137, \"rgb(47,23,57)\"], [0.18823529411764706, \"rgb(71,28,72)\"], [0.25098039215686274, \"rgb(97,30,82)\"], [0.3137254901960784, \"rgb(123,30,89)\"], [0.3764705882352941, \"rgb(150,27,91)\"], [0.4392156862745098, \"rgb(177,22,88)\"], [0.5019607843137255, \"rgb(203,26,79)\"], [0.5647058823529412, \"rgb(223,47,67)\"], [0.6274509803921569, \"rgb(236,76,61)\"], [0.6901960784313725, \"rgb(242,107,73)\"], [0.7529411764705882, \"rgb(244,135,95)\"], [0.8156862745098039, \"rgb(245,162,122)\"], [0.8784313725490196, \"rgb(246,188,153)\"], [0.9411764705882353, \"rgb(247,212,187)\"], [1.0, \"rgb(250,234,220)\"]], \"sequentialminus\": [[0.0, \"rgb(2,4,25)\"], [0.06274509803921569, \"rgb(24,15,41)\"], [0.12549019607843137, \"rgb(47,23,57)\"], [0.18823529411764706, \"rgb(71,28,72)\"], [0.25098039215686274, \"rgb(97,30,82)\"], [0.3137254901960784, \"rgb(123,30,89)\"], [0.3764705882352941, \"rgb(150,27,91)\"], [0.4392156862745098, \"rgb(177,22,88)\"], [0.5019607843137255, \"rgb(203,26,79)\"], [0.5647058823529412, \"rgb(223,47,67)\"], [0.6274509803921569, \"rgb(236,76,61)\"], [0.6901960784313725, \"rgb(242,107,73)\"], [0.7529411764705882, \"rgb(244,135,95)\"], [0.8156862745098039, \"rgb(245,162,122)\"], [0.8784313725490196, \"rgb(246,188,153)\"], [0.9411764705882353, \"rgb(247,212,187)\"], [1.0, \"rgb(250,234,220)\"]]}, \"colorway\": [\"rgb(76,114,176)\", \"rgb(221,132,82)\", \"rgb(85,168,104)\", \"rgb(196,78,82)\", \"rgb(129,114,179)\", \"rgb(147,120,96)\", \"rgb(218,139,195)\", \"rgb(140,140,140)\", \"rgb(204,185,116)\", \"rgb(100,181,205)\"], \"font\": {\"color\": \"rgb(36,36,36)\"}, \"geo\": {\"bgcolor\": \"white\", \"lakecolor\": \"white\", \"landcolor\": \"rgb(234,234,242)\", \"showlakes\": true, \"showland\": true, \"subunitcolor\": \"white\"}, \"hoverlabel\": {\"align\": \"left\"}, \"hovermode\": \"closest\", \"paper_bgcolor\": \"white\", \"plot_bgcolor\": \"rgb(234,234,242)\", \"polar\": {\"angularaxis\": {\"gridcolor\": \"white\", \"linecolor\": \"white\", \"showgrid\": true, \"ticks\": \"\"}, \"bgcolor\": \"rgb(234,234,242)\", \"radialaxis\": {\"gridcolor\": \"white\", \"linecolor\": \"white\", \"showgrid\": true, \"ticks\": \"\"}}, \"scene\": {\"xaxis\": {\"backgroundcolor\": \"rgb(234,234,242)\", \"gridcolor\": \"white\", \"gridwidth\": 2, \"linecolor\": \"white\", \"showbackground\": true, \"showgrid\": true, \"ticks\": \"\", \"zerolinecolor\": \"white\"}, \"yaxis\": {\"backgroundcolor\": \"rgb(234,234,242)\", \"gridcolor\": \"white\", \"gridwidth\": 2, \"linecolor\": \"white\", \"showbackground\": true, \"showgrid\": true, \"ticks\": \"\", \"zerolinecolor\": \"white\"}, \"zaxis\": {\"backgroundcolor\": \"rgb(234,234,242)\", \"gridcolor\": \"white\", \"gridwidth\": 2, \"linecolor\": \"white\", \"showbackground\": true, \"showgrid\": true, \"ticks\": \"\", \"zerolinecolor\": \"white\"}}, \"shapedefaults\": {\"fillcolor\": \"rgb(67,103,167)\", \"line\": {\"width\": 0}, \"opacity\": 0.5}, \"ternary\": {\"aaxis\": {\"gridcolor\": \"white\", \"linecolor\": \"white\", \"showgrid\": true, \"ticks\": \"\"}, \"baxis\": {\"gridcolor\": \"white\", \"linecolor\": \"white\", \"showgrid\": true, \"ticks\": \"\"}, \"bgcolor\": \"rgb(234,234,242)\", \"caxis\": {\"gridcolor\": \"white\", \"linecolor\": \"white\", \"showgrid\": true, \"ticks\": \"\"}}, \"xaxis\": {\"automargin\": true, \"gridcolor\": \"white\", \"linecolor\": \"white\", \"showgrid\": true, \"ticks\": \"\", \"title\": {\"standoff\": 15}, \"zerolinecolor\": \"white\"}, \"yaxis\": {\"automargin\": true, \"gridcolor\": \"white\", \"linecolor\": \"white\", \"showgrid\": true, \"ticks\": \"\", \"title\": {\"standoff\": 15}, \"zerolinecolor\": \"white\"}}}, \"xaxis\": {\"anchor\": \"y\", \"domain\": [0.0, 1.0], \"spikemode\": \"across\", \"spikethickness\": 1, \"title\": {\"text\": \"\"}}, \"yaxis\": {\"anchor\": \"x\", \"domain\": [0.0, 1.0], \"title\": {\"text\": \"MetroCard Weekly Swipes\"}}},\n",
       "                        {\"responsive\": true}\n",
       "                    ).then(function(){\n",
       "                            \n",
       "var gd = document.getElementById('3369cdf3-eb42-486d-b356-73bc35230748');\n",
       "var x = new MutationObserver(function (mutations, observer) {{\n",
       "        var display = window.getComputedStyle(gd).display;\n",
       "        if (!display || display === 'none') {{\n",
       "            console.log([gd, 'removed!']);\n",
       "            Plotly.purge(gd);\n",
       "            observer.disconnect();\n",
       "        }}\n",
       "}});\n",
       "\n",
       "// Listen for the removal of the full notebook cells\n",
       "var notebookContainer = gd.closest('#notebook-container');\n",
       "if (notebookContainer) {{\n",
       "    x.observe(notebookContainer, {childList: true});\n",
       "}}\n",
       "\n",
       "// Listen for the clearing of the current output cell\n",
       "var outputEl = gd.closest('.output');\n",
       "if (outputEl) {{\n",
       "    x.observe(outputEl, {childList: true});\n",
       "}}\n",
       "\n",
       "                        })\n",
       "                };\n",
       "                });\n",
       "            </script>\n",
       "        </div>"
      ]
     },
     "metadata": {},
     "output_type": "display_data"
    }
   ],
   "source": [
    "fig = px.area(\n",
    "    tmp, \n",
    "    x='WEEK', \n",
    "    y=\"swipes\", \n",
    "    labels={'card_type':'MetroCard Type', \n",
    "            'WEEK':'',\n",
    "            'swipes':'MetroCard Weekly Swipes'},\n",
    "    custom_data=['card_type', 'swipes', 'WEEK'],\n",
    "    color=\"card_type\", \n",
    "    template='seaborn'\n",
    "    )\n",
    "\n",
    "fig.update_layout(hoverdistance=-1)\n",
    "\n",
    "fig.update_xaxes(spikemode='across', spikethickness=1)\n",
    "fig.update_traces(\n",
    "    hovertemplate=\n",
    "    '<b>MetroCard Type: %{customdata[0]}</b> <br>' +\n",
    "    'MetroCard Swipes: %{customdata[1]:,} <br>' +\n",
    "    'Week Ending: %{customdata[2]}<extra></extra>'\n",
    "    )\n",
    "\n",
    "fig.show()"
   ]
  },
  {
   "cell_type": "code",
   "execution_count": 191,
   "metadata": {
    "scrolled": true
   },
   "outputs": [
    {
     "data": {
      "text/plain": [
       "Index(['FF', '30-D UNL', '7-D UNL', 'STUDENTS', 'SEN/DIS', 'TCMC ANNUAL MC',\n",
       "       'MR EZPAY EXP', 'AIRTRAIN FF', '30-D AFAS/RMF UNL', 'RF 2 TRIP',\n",
       "       'MR EZPAY UNL', 'FF VALUE', 'TCMC', 'FF 7-DAY', 'CUNY-120',\n",
       "       '7-D AFAS UNL', 'FF 30-DAY', 'RR UNL NO TRADE', 'AIRTRAIN 30-D',\n",
       "       '7D-XBUS PASS', 'JOINT RR TKT', 'PATH 2-T', 'AIRTRAIN 10-T', 'CUNY-60',\n",
       "       'AIRTRAIN MTHLY', 'NICE 2-T', '1-D UNL', '14-D UNL', '14-D RFM UNL'],\n",
       "      dtype='object')"
      ]
     },
     "execution_count": 191,
     "metadata": {},
     "output_type": "execute_result"
    }
   ],
   "source": [
    "df.drop(columns=['WEEK', 'REMOTE', 'STATION']).sum(axis=0).sort_values(ascending=False).index"
   ]
  },
  {
   "cell_type": "code",
   "execution_count": 209,
   "metadata": {},
   "outputs": [
    {
     "data": {
      "text/plain": [
       "REMOTE               R001R003R004R005R006R007R008R009R010R011R012R0...\n",
       "STATION              WHITEHALL STREETCYPRESS HILLS75TH STREET & ELD...\n",
       "FF                                                           960133715\n",
       "SEN/DIS                                                       66669461\n",
       "7-D AFAS UNL                                                   7206649\n",
       "30-D AFAS/RMF UNL                                             16909756\n",
       "JOINT RR TKT                                                   1763146\n",
       "7-D UNL                                                      455254087\n",
       "30-D UNL                                                     534878905\n",
       "14-D RFM UNL                                                        22\n",
       "1-D UNL                                                             74\n",
       "14-D UNL                                                            52\n",
       "7D-XBUS PASS                                                   2510411\n",
       "TCMC                                                           9667156\n",
       "RF 2 TRIP                                                     15337127\n",
       "RR UNL NO TRADE                                                3031700\n",
       "TCMC ANNUAL MC                                                63795646\n",
       "MR EZPAY EXP                                                  23987977\n",
       "MR EZPAY UNL                                                  14477004\n",
       "PATH 2-T                                                       1452826\n",
       "AIRTRAIN FF                                                   19974838\n",
       "AIRTRAIN 30-D                                                  2582012\n",
       "AIRTRAIN 10-T                                                   725610\n",
       "AIRTRAIN MTHLY                                                   70477\n",
       "STUDENTS                                                      71505111\n",
       "NICE 2-T                                                          3159\n",
       "CUNY-120                                                       7414604\n",
       "CUNY-60                                                         464249\n",
       "FF VALUE                                                   1.30348e+07\n",
       "FF 7-DAY                                                   7.72854e+06\n",
       "FF 30-DAY                                                  6.72977e+06\n",
       "dtype: object"
      ]
     },
     "execution_count": 209,
     "metadata": {},
     "output_type": "execute_result"
    }
   ],
   "source": [
    "df.sum(axis=0)"
   ]
  },
  {
   "cell_type": "code",
   "execution_count": 213,
   "metadata": {},
   "outputs": [
    {
     "data": {
      "text/plain": [
       "'169TH STREET & HILLSIDE AVE'"
      ]
     },
     "execution_count": 213,
     "metadata": {},
     "output_type": "execute_result"
    }
   ],
   "source": [
    "x = {'points': [{'curveNumber': 0, 'pointNumber': 45, 'pointIndex': 45, 'lon': -73.793063, 'lat': 40.710638, 'marker.size': 2287.8571428571427, 'marker.color': 0.3547, 'customdata': ['169TH STREET & HILLSIDE AVE', '6,450', '2,287', 0.3547]}, {'curveNumber': 0, 'pointNumber': 53, 'pointIndex': 53, 'lon': -73.78448, 'lat': 40.712459, 'marker.size': 4618.428571428572, 'marker.color': 0.3593, 'customdata': ['179TH STREET & HILLSIDE AVE', '12,855', '4,618', 0.3593]}], 'range': {'mapbox': [[-73.79658744065483, 40.71747915180609], [-73.77971673926686, 40.707514587029124]]}}\n",
    "x['points'][0]['customdata'][0]"
   ]
  },
  {
   "cell_type": "code",
   "execution_count": 214,
   "metadata": {},
   "outputs": [
    {
     "data": {
      "text/plain": [
       "2"
      ]
     },
     "execution_count": 214,
     "metadata": {},
     "output_type": "execute_result"
    }
   ],
   "source": [
    "len(x['points'])"
   ]
  },
  {
   "cell_type": "code",
   "execution_count": 216,
   "metadata": {},
   "outputs": [],
   "source": [
    "s = []\n",
    "for i in range(len(x['points'])):\n",
    "    s.append(x['points'][i]['customdata'][0])"
   ]
  },
  {
   "cell_type": "code",
   "execution_count": 218,
   "metadata": {},
   "outputs": [],
   "source": [
    "s =[x['points'][i]['customdata'][0] for i in range(len(x['points']))]"
   ]
  },
  {
   "cell_type": "code",
   "execution_count": null,
   "metadata": {},
   "outputs": [],
   "source": []
  }
 ],
 "metadata": {
  "kernelspec": {
   "display_name": "Python 3",
   "language": "python",
   "name": "python3"
  },
  "language_info": {
   "codemirror_mode": {
    "name": "ipython",
    "version": 3
   },
   "file_extension": ".py",
   "mimetype": "text/x-python",
   "name": "python",
   "nbconvert_exporter": "python",
   "pygments_lexer": "ipython3",
   "version": "3.7.6"
  }
 },
 "nbformat": 4,
 "nbformat_minor": 4
}
